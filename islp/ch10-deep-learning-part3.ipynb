{
 "cells": [
  {
   "cell_type": "markdown",
   "id": "8caadbef-5dd3-4054-bbea-66eec7b461a9",
   "metadata": {},
   "source": [
    "# Deep learning, part 3"
   ]
  },
  {
   "cell_type": "markdown",
   "id": "856ecfea-b063-4cf6-bc01-175236a73096",
   "metadata": {},
   "source": [
    "## Imports"
   ]
  },
  {
   "cell_type": "code",
   "execution_count": 1,
   "id": "4b1a5ad7-e6c2-43b6-982d-841d18395880",
   "metadata": {},
   "outputs": [
    {
     "name": "stderr",
     "output_type": "stream",
     "text": [
      "/Users/sf/miniforge/envs/islp/lib/python3.10/site-packages/lightning_fabric/__init__.py:41: pkg_resources is deprecated as an API. See https://setuptools.pypa.io/en/latest/pkg_resources.html. The pkg_resources package is slated for removal as early as 2025-11-30. Refrain from using this package or pin to Setuptools<81.\n",
      "Seed set to 0\n"
     ]
    }
   ],
   "source": [
    "from glob import glob\n",
    "import json\n",
    "from urllib.request import urlretrieve\n",
    "from zipfile import ZipFile\n",
    "\n",
    "import numpy as np\n",
    "import pandas as pd\n",
    "import matplotlib.pyplot as plt\n",
    "\n",
    "from sklearn.linear_model import (LinearRegression, LogisticRegression, Lasso)\n",
    "from sklearn.preprocessing import StandardScaler\n",
    "from sklearn.model_selection import KFold\n",
    "from sklearn.pipeline import Pipeline\n",
    "from sklearn.model_selection import (train_test_split, GridSearchCV)\n",
    "\n",
    "import torch\n",
    "from torch import nn\n",
    "from torch.optim import RMSprop\n",
    "from torch.utils.data import TensorDataset\n",
    "\n",
    "from torchmetrics import (MeanAbsoluteError, R2Score)\n",
    "from torchinfo import summary\n",
    "\n",
    "from pytorch_lightning import Trainer\n",
    "from pytorch_lightning.loggers import CSVLogger\n",
    "from pytorch_lightning import seed_everything\n",
    "\n",
    "from torchvision.io import read_image\n",
    "from torchvision.datasets import MNIST, CIFAR100\n",
    "from torchvision.models import (resnet50, ResNet50_Weights)\n",
    "from torchvision.transforms import (Resize, Normalize, CenterCrop, ToTensor)\n",
    "\n",
    "from ISLP import load_data\n",
    "from ISLP.models import ModelSpec as MS\n",
    "from ISLP.torch import (SimpleDataModule, SimpleModule, ErrorTracker, rec_num_workers)\n",
    "from ISLP.torch.imdb import (load_lookup, load_tensor, load_sparse, load_sequential)\n",
    "\n",
    "seed_everything(0, workers=True)\n",
    "torch.use_deterministic_algorithms(True, warn_only=True)"
   ]
  },
  {
   "cell_type": "code",
   "execution_count": 2,
   "id": "8decf6b4-30b3-44ab-9a1f-20fb084ba209",
   "metadata": {},
   "outputs": [
    {
     "data": {
      "text/plain": [
       "8"
      ]
     },
     "execution_count": 2,
     "metadata": {},
     "output_type": "execute_result"
    }
   ],
   "source": [
    "max_num_workers = rec_num_workers()\n",
    "max_num_workers"
   ]
  },
  {
   "cell_type": "code",
   "execution_count": 16,
   "id": "9ff45fa9-c71e-40a6-8d3f-45165bba54d0",
   "metadata": {},
   "outputs": [],
   "source": [
    "def summary_plot(results,\n",
    "                 ax,\n",
    "                 col='loss',\n",
    "                 valid_legend='Validation',\n",
    "                 training_legend='Training',\n",
    "                 ylabel='Loss',\n",
    "                 fontsize=20):\n",
    "    for (column, color, label) in zip([f'train_{col}_epoch', f'valid_{col}'],\n",
    "                       ['black', 'red'],[training_legend, valid_legend]):\n",
    "        results.plot(\n",
    "            x='epoch',\n",
    "            y=column,\n",
    "            label=label,\n",
    "            marker='o',\n",
    "            color=color,\n",
    "            ax=ax, alpha=.8,\n",
    "        )\n",
    "    ax.set_xlabel('Epoch')\n",
    "    ax.set_ylabel(ylabel)\n",
    "    return ax"
   ]
  },
  {
   "cell_type": "markdown",
   "id": "2d179480-64cd-4291-9c53-1d7076a2e291",
   "metadata": {},
   "source": [
    "## Recurrent neural networks"
   ]
  },
  {
   "cell_type": "markdown",
   "id": "416fa925-ba4a-44fd-a290-bbf797e18129",
   "metadata": {},
   "source": [
    "### Sequential models for document classification"
   ]
  },
  {
   "cell_type": "markdown",
   "id": "600e7ba2-4cd4-4af5-86d2-0f9fd8a8415a",
   "metadata": {},
   "source": [
    "#### Load data"
   ]
  },
  {
   "cell_type": "code",
   "execution_count": 3,
   "id": "f32de5c6-9225-445d-9b3f-6bbcc16d29e0",
   "metadata": {},
   "outputs": [],
   "source": [
    "(imdb_seq_train, imdb_seq_test) = load_sequential(root='data/IMDB')"
   ]
  },
  {
   "cell_type": "code",
   "execution_count": 8,
   "id": "f3e4e1c5-6833-473e-a844-9ef6cfaa8abb",
   "metadata": {},
   "outputs": [],
   "source": [
    "(\n",
    "    (X_train, Y_train),\n",
    "    (X_valid, Y_valid),\n",
    "    (X_test, Y_test),\n",
    ") = load_sparse(\n",
    "    validation=2000,\n",
    "    random_state=0,\n",
    "    root='data/IMDB',\n",
    ")"
   ]
  },
  {
   "cell_type": "markdown",
   "id": "f9b64b94-dd14-410c-91d5-5f9d26947846",
   "metadata": {},
   "source": [
    "#### Data module"
   ]
  },
  {
   "cell_type": "code",
   "execution_count": 6,
   "id": "b5f5c4eb-5b7a-4393-8c78-7a3dd20068ba",
   "metadata": {},
   "outputs": [],
   "source": [
    "imdb_seq_dm = SimpleDataModule(\n",
    "    imdb_seq_train,\n",
    "    imdb_seq_test,\n",
    "    validation=2000,\n",
    "    batch_size=300,\n",
    "    num_workers=min(6, max_num_workers),\n",
    ")"
   ]
  },
  {
   "cell_type": "markdown",
   "id": "9a293623-78e6-452e-8c02-f03b1cccc65b",
   "metadata": {},
   "source": [
    "#### LSTM model"
   ]
  },
  {
   "cell_type": "code",
   "execution_count": 7,
   "id": "81318161-96e6-4e67-911e-ae30cbd9f6ba",
   "metadata": {},
   "outputs": [],
   "source": [
    "class LSTMModel(nn.Module):\n",
    "    def __init__(self, input_size):\n",
    "        super(LSTMModel, self).__init__()\n",
    "        self.embedding = nn.Embedding(input_size, 32)\n",
    "        self.lstm = nn.LSTM(\n",
    "            input_size=32,\n",
    "            hidden_size=32,\n",
    "            batch_first=True,\n",
    "        )\n",
    "        self.dense = nn.Linear(32, 1)\n",
    "    def forward(self, x):\n",
    "        val, (h_n, c_n) = self.lstm(self.embedding(x))\n",
    "        return torch.flatten(self.dense(val[:,-1]))"
   ]
  },
  {
   "cell_type": "markdown",
   "id": "3aafb85e-f440-47b3-9559-69113a60bef2",
   "metadata": {},
   "source": [
    "Model summary."
   ]
  },
  {
   "cell_type": "code",
   "execution_count": 9,
   "id": "0e5e16d8-7f2e-4df1-9de0-b03e38b9d0be",
   "metadata": {},
   "outputs": [
    {
     "data": {
      "text/plain": [
       "10003"
      ]
     },
     "execution_count": 9,
     "metadata": {},
     "output_type": "execute_result"
    }
   ],
   "source": [
    "X_test.shape[-1]"
   ]
  },
  {
   "cell_type": "code",
   "execution_count": 10,
   "id": "151425f1-b256-48a2-be1e-214231c3118a",
   "metadata": {},
   "outputs": [
    {
     "data": {
      "text/plain": [
       "===================================================================================================================\n",
       "Layer (type:depth-idx)                   Input Shape               Output Shape              Param #\n",
       "===================================================================================================================\n",
       "LSTMModel                                [10, 500]                 [10]                      --\n",
       "├─Embedding: 1-1                         [10, 500]                 [10, 500, 32]             320,096\n",
       "├─LSTM: 1-2                              [10, 500, 32]             [10, 500, 32]             8,448\n",
       "├─Linear: 1-3                            [10, 32]                  [10, 1]                   33\n",
       "===================================================================================================================\n",
       "Total params: 328,577\n",
       "Trainable params: 328,577\n",
       "Non-trainable params: 0\n",
       "Total mult-adds (M): 45.44\n",
       "===================================================================================================================\n",
       "Input size (MB): 50.00\n",
       "Forward/backward pass size (MB): 2.56\n",
       "Params size (MB): 1.31\n",
       "Estimated Total Size (MB): 53.87\n",
       "==================================================================================================================="
      ]
     },
     "execution_count": 10,
     "metadata": {},
     "output_type": "execute_result"
    }
   ],
   "source": [
    "lstm_model = LSTMModel(X_test.shape[-1])\n",
    "summary(\n",
    "    lstm_model,\n",
    "    input_data=imdb_seq_train.tensors[0][:10],\n",
    "    col_names=[\n",
    "        'input_size',\n",
    "        'output_size',\n",
    "        'num_params',\n",
    "    ],\n",
    ")"
   ]
  },
  {
   "cell_type": "markdown",
   "id": "a6d2d478-834e-4d22-9501-145cd9e549e2",
   "metadata": {},
   "source": [
    "#### Training"
   ]
  },
  {
   "cell_type": "code",
   "execution_count": 11,
   "id": "50a188e1-bbbb-48ad-9c32-2375cf0aeb56",
   "metadata": {},
   "outputs": [],
   "source": [
    "lstm_module = SimpleModule.binary_classification(lstm_model)\n",
    "lstm_logger = CSVLogger('logs', name='IMDB_LSTM')"
   ]
  },
  {
   "cell_type": "code",
   "execution_count": null,
   "id": "323bf1cb-53b7-48d8-941e-d7e6e6957ad1",
   "metadata": {},
   "outputs": [],
   "source": [
    "lstm_trainer = Trainer(\n",
    "    deterministic=True,\n",
    "    max_epochs=20,\n",
    "    logger=lstm_logger,\n",
    "    callbacks=[ErrorTracker()],\n",
    ")\n",
    "lstm_trainer.fit(lstm_module, fdatamodule=imdb_seq_dm)"
   ]
  },
  {
   "cell_type": "markdown",
   "id": "be3722e5-1331-4d44-94ea-69b45a109c81",
   "metadata": {},
   "source": [
    "#### Test performance"
   ]
  },
  {
   "cell_type": "code",
   "execution_count": 13,
   "id": "f511f9da-0d67-4ffe-b541-70c86c64419a",
   "metadata": {},
   "outputs": [
    {
     "name": "stdout",
     "output_type": "stream",
     "text": [
      "Testing: |                                                                                                                                                                            | 0/? [00:00<?, ?it/s]"
     ]
    },
    {
     "name": "stderr",
     "output_type": "stream",
     "text": [
      "/Users/sf/miniforge/envs/islp/lib/python3.10/site-packages/lightning_fabric/__init__.py:41: pkg_resources is deprecated as an API. See https://setuptools.pypa.io/en/latest/pkg_resources.html. The pkg_resources package is slated for removal as early as 2025-11-30. Refrain from using this package or pin to Setuptools<81.\n",
      "/Users/sf/miniforge/envs/islp/lib/python3.10/site-packages/lightning_fabric/__init__.py:41: pkg_resources is deprecated as an API. See https://setuptools.pypa.io/en/latest/pkg_resources.html. The pkg_resources package is slated for removal as early as 2025-11-30. Refrain from using this package or pin to Setuptools<81.\n",
      "/Users/sf/miniforge/envs/islp/lib/python3.10/site-packages/lightning_fabric/__init__.py:41: pkg_resources is deprecated as an API. See https://setuptools.pypa.io/en/latest/pkg_resources.html. The pkg_resources package is slated for removal as early as 2025-11-30. Refrain from using this package or pin to Setuptools<81.\n",
      "/Users/sf/miniforge/envs/islp/lib/python3.10/site-packages/lightning_fabric/__init__.py:41: pkg_resources is deprecated as an API. See https://setuptools.pypa.io/en/latest/pkg_resources.html. The pkg_resources package is slated for removal as early as 2025-11-30. Refrain from using this package or pin to Setuptools<81.\n",
      "/Users/sf/miniforge/envs/islp/lib/python3.10/site-packages/lightning_fabric/__init__.py:41: pkg_resources is deprecated as an API. See https://setuptools.pypa.io/en/latest/pkg_resources.html. The pkg_resources package is slated for removal as early as 2025-11-30. Refrain from using this package or pin to Setuptools<81.\n",
      "/Users/sf/miniforge/envs/islp/lib/python3.10/site-packages/lightning_fabric/__init__.py:41: pkg_resources is deprecated as an API. See https://setuptools.pypa.io/en/latest/pkg_resources.html. The pkg_resources package is slated for removal as early as 2025-11-30. Refrain from using this package or pin to Setuptools<81.\n"
     ]
    },
    {
     "name": "stdout",
     "output_type": "stream",
     "text": [
      "Testing DataLoader 0: 100%|█████████████████████████████████████████████████████████████████████████████████████████████████████████████████████████████████████████████████| 84/84 [00:01<00:00, 44.49it/s]\n",
      "────────────────────────────────────────────────────────────────────────────────────────────────────────────────────────\n",
      "       Test metric             DataLoader 0\n",
      "────────────────────────────────────────────────────────────────────────────────────────────────────────────────────────\n",
      "      test_accuracy         0.6845999956130981\n",
      "        test_loss           0.5971724987030029\n",
      "────────────────────────────────────────────────────────────────────────────────────────────────────────────────────────\n"
     ]
    },
    {
     "data": {
      "text/plain": [
       "[{'test_loss': 0.5971724987030029, 'test_accuracy': 0.6845999956130981}]"
      ]
     },
     "execution_count": 13,
     "metadata": {},
     "output_type": "execute_result"
    }
   ],
   "source": [
    "lstm_trainer.test(lstm_module, datamodule=imdb_seq_dm)"
   ]
  },
  {
   "cell_type": "markdown",
   "id": "1a47ab54-eb27-40bd-ba30-38a933e3f9e9",
   "metadata": {},
   "source": [
    "#### Plots"
   ]
  },
  {
   "cell_type": "code",
   "execution_count": 17,
   "id": "5f2af62e-cb7c-4091-aef1-d93c0a26f172",
   "metadata": {},
   "outputs": [
    {
     "data": {
      "text/plain": [
       "(0.5, 1.0)"
      ]
     },
     "execution_count": 17,
     "metadata": {},
     "output_type": "execute_result"
    },
    {
     "data": {
      "image/png": "[encoded data removed]",
      "text/plain": [
       "<Figure size 600x600 with 1 Axes>"
      ]
     },
     "metadata": {},
     "output_type": "display_data"
    }
   ],
   "source": [
    "lstm_results = pd.read_csv(lstm_logger.experiment.metrics_file_path)\n",
    "fig, ax = plt.subplots(1, 1, figsize=(6, 6))\n",
    "summary_plot(\n",
    "    lstm_results,\n",
    "    ax, \n",
    "    col='accuracy',\n",
    "    ylabel='Accuracy',\n",
    ")\n",
    "ax.set_xticks(np.linspace(0, 20, 5).astype(int))\n",
    "ax.set_ylabel('Accuracy')\n",
    "ax.set_ylim([0.5, 1])"
   ]
  },
  {
   "cell_type": "markdown",
   "id": "4ea69420-f02e-4b26-9712-cb72e113208f",
   "metadata": {},
   "source": [
    "#### Cleanup"
   ]
  },
  {
   "cell_type": "code",
   "execution_count": 18,
   "id": "e165b237-2761-489d-9abb-5080d195c020",
   "metadata": {},
   "outputs": [],
   "source": [
    "del(lstm_model,\n",
    "    lstm_trainer,\n",
    "    lstm_logger,\n",
    "    imdb_seq_dm,\n",
    "    imdb_seq_train,\n",
    "    imdb_seq_test)"
   ]
  },
  {
   "cell_type": "markdown",
   "id": "6020b540-8f50-4d26-96ee-1d3bce15b5ac",
   "metadata": {},
   "source": [
    "### Time series prediction"
   ]
  },
  {
   "cell_type": "markdown",
   "id": "52001346-23be-4d55-9e29-6d3d27682020",
   "metadata": {},
   "source": [
    "#### NYSE data"
   ]
  },
  {
   "cell_type": "code",
   "execution_count": 19,
   "id": "d508cd45-5805-4467-b28f-9ca7b596565f",
   "metadata": {},
   "outputs": [],
   "source": [
    "NYSE = load_data('NYSE')\n",
    "cols = ['DJ_return', 'log_volume', 'log_volatility']"
   ]
  },
  {
   "cell_type": "code",
   "execution_count": 21,
   "id": "af295068-b655-4e23-8bc2-2a0432f3170d",
   "metadata": {},
   "outputs": [
    {
     "data": {
      "text/plain": [
       "Index(['DJ_return', 'log_volume', 'log_volatility'], dtype='object')"
      ]
     },
     "execution_count": 21,
     "metadata": {},
     "output_type": "execute_result"
    }
   ],
   "source": [
    "NYSE[cols].columns"
   ]
  },
  {
   "cell_type": "code",
   "execution_count": 22,
   "id": "ea54c063-7e2a-44bc-9770-4e40e2325531",
   "metadata": {},
   "outputs": [
    {
     "data": {
      "text/plain": [
       "(6051, 3)"
      ]
     },
     "execution_count": 22,
     "metadata": {},
     "output_type": "execute_result"
    }
   ],
   "source": [
    "NYSE_s = StandardScaler(\n",
    "    with_mean=True,\n",
    "    with_std=True,\n",
    ").fit_transform(NYSE[cols])\n",
    "\n",
    "X = pd.DataFrame(NYSE_s, columns=cols, index=NYSE.index)\n",
    "X.shape"
   ]
  },
  {
   "cell_type": "code",
   "execution_count": 23,
   "id": "238e9f4f-7969-45d3-ab6e-7598640c1f92",
   "metadata": {},
   "outputs": [
    {
     "data": {
      "text/plain": [
       "(6046, 19)"
      ]
     },
     "execution_count": 23,
     "metadata": {},
     "output_type": "execute_result"
    }
   ],
   "source": [
    "for lag in range(1, 6):\n",
    "    for col in cols:\n",
    "        newcol = np.zeros(X.shape[0]) * np.nan\n",
    "        newcol[lag:] = X[col].values[:-lag]\n",
    "        X.insert(len(X.columns), \"{0}_{1}\".format(col, lag), newcol)\n",
    "X.insert(len(X.columns), 'train', NYSE['train'])\n",
    "X = X.dropna()\n",
    "X.shape"
   ]
  },
  {
   "cell_type": "code",
   "execution_count": 24,
   "id": "cc5264f1-33ad-4a34-a726-d7b9ff0a9c5a",
   "metadata": {},
   "outputs": [
    {
     "data": {
      "text/html": [
       "<div>\n",
       "<style scoped>\n",
       "    .dataframe tbody tr th:only-of-type {\n",
       "        vertical-align: middle;\n",
       "    }\n",
       "\n",
       "    .dataframe tbody tr th {\n",
       "        vertical-align: top;\n",
       "    }\n",
       "\n",
       "    .dataframe thead th {\n",
       "        text-align: right;\n",
       "    }\n",
       "</style>\n",
       "<table border=\"1\" class=\"dataframe\">\n",
       "  <thead>\n",
       "    <tr style=\"text-align: right;\">\n",
       "      <th></th>\n",
       "      <th>DJ_return</th>\n",
       "      <th>log_volume</th>\n",
       "      <th>log_volatility</th>\n",
       "      <th>DJ_return_1</th>\n",
       "      <th>log_volume_1</th>\n",
       "      <th>log_volatility_1</th>\n",
       "      <th>DJ_return_2</th>\n",
       "      <th>log_volume_2</th>\n",
       "      <th>log_volatility_2</th>\n",
       "      <th>DJ_return_3</th>\n",
       "      <th>log_volume_3</th>\n",
       "      <th>log_volatility_3</th>\n",
       "      <th>DJ_return_4</th>\n",
       "      <th>log_volume_4</th>\n",
       "      <th>log_volatility_4</th>\n",
       "      <th>DJ_return_5</th>\n",
       "      <th>log_volume_5</th>\n",
       "      <th>log_volatility_5</th>\n",
       "      <th>train</th>\n",
       "    </tr>\n",
       "    <tr>\n",
       "      <th>date</th>\n",
       "      <th></th>\n",
       "      <th></th>\n",
       "      <th></th>\n",
       "      <th></th>\n",
       "      <th></th>\n",
       "      <th></th>\n",
       "      <th></th>\n",
       "      <th></th>\n",
       "      <th></th>\n",
       "      <th></th>\n",
       "      <th></th>\n",
       "      <th></th>\n",
       "      <th></th>\n",
       "      <th></th>\n",
       "      <th></th>\n",
       "      <th></th>\n",
       "      <th></th>\n",
       "      <th></th>\n",
       "      <th></th>\n",
       "    </tr>\n",
       "  </thead>\n",
       "  <tbody>\n",
       "    <tr>\n",
       "      <th>1962-12-10</th>\n",
       "      <td>-1.304126</td>\n",
       "      <td>0.605918</td>\n",
       "      <td>-1.366028</td>\n",
       "      <td>0.046340</td>\n",
       "      <td>0.224779</td>\n",
       "      <td>-2.500970</td>\n",
       "      <td>-0.431397</td>\n",
       "      <td>0.935176</td>\n",
       "      <td>-2.366521</td>\n",
       "      <td>0.434813</td>\n",
       "      <td>2.283789</td>\n",
       "      <td>-2.418037</td>\n",
       "      <td>0.905200</td>\n",
       "      <td>1.517291</td>\n",
       "      <td>-2.529058</td>\n",
       "      <td>-0.549823</td>\n",
       "      <td>0.175075</td>\n",
       "      <td>-4.357078</td>\n",
       "      <td>True</td>\n",
       "    </tr>\n",
       "    <tr>\n",
       "      <th>1962-12-11</th>\n",
       "      <td>-0.006294</td>\n",
       "      <td>-0.013661</td>\n",
       "      <td>-1.505667</td>\n",
       "      <td>-1.304126</td>\n",
       "      <td>0.605918</td>\n",
       "      <td>-1.366028</td>\n",
       "      <td>0.046340</td>\n",
       "      <td>0.224779</td>\n",
       "      <td>-2.500970</td>\n",
       "      <td>-0.431397</td>\n",
       "      <td>0.935176</td>\n",
       "      <td>-2.366521</td>\n",
       "      <td>0.434813</td>\n",
       "      <td>2.283789</td>\n",
       "      <td>-2.418037</td>\n",
       "      <td>0.905200</td>\n",
       "      <td>1.517291</td>\n",
       "      <td>-2.529058</td>\n",
       "      <td>True</td>\n",
       "    </tr>\n",
       "    <tr>\n",
       "      <th>1962-12-12</th>\n",
       "      <td>0.377081</td>\n",
       "      <td>0.042552</td>\n",
       "      <td>-1.551515</td>\n",
       "      <td>-0.006294</td>\n",
       "      <td>-0.013661</td>\n",
       "      <td>-1.505667</td>\n",
       "      <td>-1.304126</td>\n",
       "      <td>0.605918</td>\n",
       "      <td>-1.366028</td>\n",
       "      <td>0.046340</td>\n",
       "      <td>0.224779</td>\n",
       "      <td>-2.500970</td>\n",
       "      <td>-0.431397</td>\n",
       "      <td>0.935176</td>\n",
       "      <td>-2.366521</td>\n",
       "      <td>0.434813</td>\n",
       "      <td>2.283789</td>\n",
       "      <td>-2.418037</td>\n",
       "      <td>True</td>\n",
       "    </tr>\n",
       "    <tr>\n",
       "      <th>1962-12-13</th>\n",
       "      <td>-0.411718</td>\n",
       "      <td>-0.419836</td>\n",
       "      <td>-1.597607</td>\n",
       "      <td>0.377081</td>\n",
       "      <td>0.042552</td>\n",
       "      <td>-1.551515</td>\n",
       "      <td>-0.006294</td>\n",
       "      <td>-0.013661</td>\n",
       "      <td>-1.505667</td>\n",
       "      <td>-1.304126</td>\n",
       "      <td>0.605918</td>\n",
       "      <td>-1.366028</td>\n",
       "      <td>0.046340</td>\n",
       "      <td>0.224779</td>\n",
       "      <td>-2.500970</td>\n",
       "      <td>-0.431397</td>\n",
       "      <td>0.935176</td>\n",
       "      <td>-2.366521</td>\n",
       "      <td>True</td>\n",
       "    </tr>\n",
       "    <tr>\n",
       "      <th>1962-12-14</th>\n",
       "      <td>0.508785</td>\n",
       "      <td>-0.556065</td>\n",
       "      <td>-1.564386</td>\n",
       "      <td>-0.411718</td>\n",
       "      <td>-0.419836</td>\n",
       "      <td>-1.597607</td>\n",
       "      <td>0.377081</td>\n",
       "      <td>0.042552</td>\n",
       "      <td>-1.551515</td>\n",
       "      <td>-0.006294</td>\n",
       "      <td>-0.013661</td>\n",
       "      <td>-1.505667</td>\n",
       "      <td>-1.304126</td>\n",
       "      <td>0.605918</td>\n",
       "      <td>-1.366028</td>\n",
       "      <td>0.046340</td>\n",
       "      <td>0.224779</td>\n",
       "      <td>-2.500970</td>\n",
       "      <td>True</td>\n",
       "    </tr>\n",
       "  </tbody>\n",
       "</table>\n",
       "</div>"
      ],
      "text/plain": [
       "            DJ_return  log_volume  log_volatility  DJ_return_1  log_volume_1  \\\n",
       "date                                                                           \n",
       "1962-12-10  -1.304126    0.605918       -1.366028     0.046340      0.224779   \n",
       "1962-12-11  -0.006294   -0.013661       -1.505667    -1.304126      0.605918   \n",
       "1962-12-12   0.377081    0.042552       -1.551515    -0.006294     -0.013661   \n",
       "1962-12-13  -0.411718   -0.419836       -1.597607     0.377081      0.042552   \n",
       "1962-12-14   0.508785   -0.556065       -1.564386    -0.411718     -0.419836   \n",
       "\n",
       "            log_volatility_1  DJ_return_2  log_volume_2  log_volatility_2  \\\n",
       "date                                                                        \n",
       "1962-12-10         -2.500970    -0.431397      0.935176         -2.366521   \n",
       "1962-12-11         -1.366028     0.046340      0.224779         -2.500970   \n",
       "1962-12-12         -1.505667    -1.304126      0.605918         -1.366028   \n",
       "1962-12-13         -1.551515    -0.006294     -0.013661         -1.505667   \n",
       "1962-12-14         -1.597607     0.377081      0.042552         -1.551515   \n",
       "\n",
       "            DJ_return_3  log_volume_3  log_volatility_3  DJ_return_4  \\\n",
       "date                                                                   \n",
       "1962-12-10     0.434813      2.283789         -2.418037     0.905200   \n",
       "1962-12-11    -0.431397      0.935176         -2.366521     0.434813   \n",
       "1962-12-12     0.046340      0.224779         -2.500970    -0.431397   \n",
       "1962-12-13    -1.304126      0.605918         -1.366028     0.046340   \n",
       "1962-12-14    -0.006294     -0.013661         -1.505667    -1.304126   \n",
       "\n",
       "            log_volume_4  log_volatility_4  DJ_return_5  log_volume_5  \\\n",
       "date                                                                    \n",
       "1962-12-10      1.517291         -2.529058    -0.549823      0.175075   \n",
       "1962-12-11      2.283789         -2.418037     0.905200      1.517291   \n",
       "1962-12-12      0.935176         -2.366521     0.434813      2.283789   \n",
       "1962-12-13      0.224779         -2.500970    -0.431397      0.935176   \n",
       "1962-12-14      0.605918         -1.366028     0.046340      0.224779   \n",
       "\n",
       "            log_volatility_5  train  \n",
       "date                                 \n",
       "1962-12-10         -4.357078   True  \n",
       "1962-12-11         -2.529058   True  \n",
       "1962-12-12         -2.418037   True  \n",
       "1962-12-13         -2.366521   True  \n",
       "1962-12-14         -2.500970   True  "
      ]
     },
     "execution_count": 24,
     "metadata": {},
     "output_type": "execute_result"
    }
   ],
   "source": [
    "X.head()"
   ]
  },
  {
   "cell_type": "code",
   "execution_count": 25,
   "id": "aff05abd-3a54-4771-9a51-b28f73794e6a",
   "metadata": {},
   "outputs": [
    {
     "data": {
      "text/plain": [
       "Index(['DJ_return_1', 'log_volume_1', 'log_volatility_1', 'DJ_return_2',\n",
       "       'log_volume_2', 'log_volatility_2', 'DJ_return_3', 'log_volume_3',\n",
       "       'log_volatility_3', 'DJ_return_4', 'log_volume_4', 'log_volatility_4',\n",
       "       'DJ_return_5', 'log_volume_5', 'log_volatility_5'],\n",
       "      dtype='object')"
      ]
     },
     "execution_count": 25,
     "metadata": {},
     "output_type": "execute_result"
    }
   ],
   "source": [
    "Y, train = X['log_volume'], X['train']\n",
    "X = X.drop(columns=['train'] + cols)\n",
    "X.columns"
   ]
  },
  {
   "cell_type": "markdown",
   "id": "deb2a878-05f1-4c3f-a394-ef6ad0e95f22",
   "metadata": {},
   "source": [
    "#### Linear regression"
   ]
  },
  {
   "cell_type": "code",
   "execution_count": 26,
   "id": "3014524b-48d6-4ddb-bfd9-97910c61f5b8",
   "metadata": {},
   "outputs": [
    {
     "data": {
      "text/plain": [
       "0.4128912938562521"
      ]
     },
     "execution_count": 26,
     "metadata": {},
     "output_type": "execute_result"
    }
   ],
   "source": [
    "M = LinearRegression()\n",
    "M.fit(X[train], Y[train])\n",
    "M.score(X[~train], Y[~train])"
   ]
  },
  {
   "cell_type": "code",
   "execution_count": 28,
   "id": "078000bf-8fd3-4f6d-8fb0-dbd78d250595",
   "metadata": {},
   "outputs": [
    {
     "data": {
      "text/plain": [
       "Index(['DJ_return_1', 'log_volume_1', 'log_volatility_1', 'DJ_return_2',\n",
       "       'log_volume_2', 'log_volatility_2', 'DJ_return_3', 'log_volume_3',\n",
       "       'log_volatility_3', 'DJ_return_4', 'log_volume_4', 'log_volatility_4',\n",
       "       'DJ_return_5', 'log_volume_5', 'log_volatility_5', 'mon', 'tues', 'wed',\n",
       "       'thur', 'fri'],\n",
       "      dtype='object')"
      ]
     },
     "execution_count": 28,
     "metadata": {},
     "output_type": "execute_result"
    }
   ],
   "source": [
    "X_day = pd.merge(\n",
    "    X, \n",
    "    pd.get_dummies(NYSE['day_of_week']),\n",
    "    on='date',\n",
    ")\n",
    "X_day.columns"
   ]
  },
  {
   "cell_type": "code",
   "execution_count": 29,
   "id": "d9f2f20f-6aec-4c58-8940-866e574cc99c",
   "metadata": {},
   "outputs": [
    {
     "data": {
      "text/plain": [
       "0.4595563133053273"
      ]
     },
     "execution_count": 29,
     "metadata": {},
     "output_type": "execute_result"
    }
   ],
   "source": [
    "M.fit(X_day[train], Y[train])\n",
    "M.score(X_day[~train], Y[~train])"
   ]
  },
  {
   "cell_type": "markdown",
   "id": "3c1e02a3-c461-47b1-b522-6f843da7f8d0",
   "metadata": {},
   "source": [
    "#### Setup NYSE data for NN"
   ]
  },
  {
   "cell_type": "code",
   "execution_count": 30,
   "id": "141a8614-09ba-4b8f-921e-5c59f6820844",
   "metadata": {},
   "outputs": [
    {
     "data": {
      "text/plain": [
       "Index(['DJ_return_5', 'log_volume_5', 'log_volatility_5', 'DJ_return_4',\n",
       "       'log_volume_4', 'log_volatility_4', 'DJ_return_3', 'log_volume_3',\n",
       "       'log_volatility_3', 'DJ_return_2', 'log_volume_2', 'log_volatility_2',\n",
       "       'DJ_return_1', 'log_volume_1', 'log_volatility_1'],\n",
       "      dtype='object')"
      ]
     },
     "execution_count": 30,
     "metadata": {},
     "output_type": "execute_result"
    }
   ],
   "source": [
    "ordered_cols = []\n",
    "for lag in range(5,0,-1):\n",
    "    for col in cols:\n",
    "        ordered_cols.append('{0}_{1}'.format(col, lag))\n",
    "X = X.reindex(columns=ordered_cols)\n",
    "X.columns"
   ]
  },
  {
   "cell_type": "code",
   "execution_count": 31,
   "id": "5339f1a5-f86c-4de4-a638-38fc0ca2addf",
   "metadata": {},
   "outputs": [
    {
     "data": {
      "text/plain": [
       "(6046, 5, 3)"
      ]
     },
     "execution_count": 31,
     "metadata": {},
     "output_type": "execute_result"
    }
   ],
   "source": [
    "X_rnn = X.to_numpy().reshape((-1,5,3))\n",
    "X_rnn.shape"
   ]
  },
  {
   "cell_type": "markdown",
   "id": "c7db23a8-0ea3-4f12-a485-76110fd3c512",
   "metadata": {},
   "source": [
    "#### NYSE NN model"
   ]
  },
  {
   "cell_type": "code",
   "execution_count": 33,
   "id": "75fc8489-5770-4db2-9db6-0e4ffd4853bc",
   "metadata": {},
   "outputs": [],
   "source": [
    "class NYSEModel(nn.Module):\n",
    "    def __init__(self):\n",
    "        super(NYSEModel, self).__init__()\n",
    "        self.rnn = nn.RNN(3, 12, batch_first=True)\n",
    "        self.dense = nn.Linear(12, 1)\n",
    "        self.dropout = nn.Dropout(0.1)\n",
    "    def forward(self, x):\n",
    "        val, h_n = self.rnn(x)\n",
    "        val = self.dense(self.dropout(val[:,-1]))\n",
    "        return torch.flatten(val)"
   ]
  },
  {
   "cell_type": "code",
   "execution_count": 34,
   "id": "014650e6-3ee9-4e48-8acf-06822db5601a",
   "metadata": {},
   "outputs": [],
   "source": [
    "nyse_model = NYSEModel()"
   ]
  },
  {
   "cell_type": "code",
   "execution_count": 35,
   "id": "618a7e45-2470-4d24-b294-f8566d05a5f1",
   "metadata": {},
   "outputs": [
    {
     "name": "stderr",
     "output_type": "stream",
     "text": [
      "/var/folders/cr/qs1xtj294pj5sj1y0055bt6m0000gn/T/ipykernel_3164/1918349690.py:4: FutureWarning: Series.__getitem__ treating keys as positions is deprecated. In a future version, integer keys will always be treated as labels (consistent with DataFrame behavior). To access a value by position, use `ser.iloc[pos]`\n",
      "  Y_t = torch.tensor(Y[mask].astype(np.float32))\n",
      "/var/folders/cr/qs1xtj294pj5sj1y0055bt6m0000gn/T/ipykernel_3164/1918349690.py:4: FutureWarning: Series.__getitem__ treating keys as positions is deprecated. In a future version, integer keys will always be treated as labels (consistent with DataFrame behavior). To access a value by position, use `ser.iloc[pos]`\n",
      "  Y_t = torch.tensor(Y[mask].astype(np.float32))\n"
     ]
    }
   ],
   "source": [
    "datasets = []\n",
    "for mask in [train, ~train]:\n",
    "    X_rnn_t = torch.tensor(X_rnn[mask].astype(np.float32))\n",
    "    Y_t = torch.tensor(Y[mask].astype(np.float32))\n",
    "    datasets.append(TensorDataset(X_rnn_t, Y_t))"
   ]
  },
  {
   "cell_type": "code",
   "execution_count": 36,
   "id": "192864e4-b8fe-421a-8982-e5c785674ed0",
   "metadata": {},
   "outputs": [],
   "source": [
    "nyse_train, nyse_test = datasets"
   ]
  },
  {
   "cell_type": "markdown",
   "id": "c10b3667-491d-4c64-bd29-926a04dd2cdc",
   "metadata": {},
   "source": [
    "Model summary."
   ]
  },
  {
   "cell_type": "code",
   "execution_count": 37,
   "id": "44b21632-6d3e-42c9-b69b-1a7bad8f4e98",
   "metadata": {},
   "outputs": [
    {
     "data": {
      "text/plain": [
       "===================================================================================================================\n",
       "Layer (type:depth-idx)                   Input Shape               Output Shape              Param #\n",
       "===================================================================================================================\n",
       "NYSEModel                                [1770, 5, 3]              [1770]                    --\n",
       "├─RNN: 1-1                               [1770, 5, 3]              [1770, 5, 12]             204\n",
       "├─Dropout: 1-2                           [1770, 12]                [1770, 12]                --\n",
       "├─Linear: 1-3                            [1770, 12]                [1770, 1]                 13\n",
       "===================================================================================================================\n",
       "Total params: 217\n",
       "Trainable params: 217\n",
       "Non-trainable params: 0\n",
       "Total mult-adds (M): 1.83\n",
       "===================================================================================================================\n",
       "Input size (MB): 0.11\n",
       "Forward/backward pass size (MB): 0.86\n",
       "Params size (MB): 0.00\n",
       "Estimated Total Size (MB): 0.97\n",
       "==================================================================================================================="
      ]
     },
     "execution_count": 37,
     "metadata": {},
     "output_type": "execute_result"
    }
   ],
   "source": [
    "summary(\n",
    "    nyse_model,\n",
    "    input_data=X_rnn_t,\n",
    "    col_names=[\n",
    "        'input_size',\n",
    "        'output_size',\n",
    "        'num_params',\n",
    "    ],\n",
    ")"
   ]
  },
  {
   "cell_type": "markdown",
   "id": "c634bdcb-14ff-4f58-9de1-33aa1dbac730",
   "metadata": {},
   "source": [
    "#### NYSE data module"
   ]
  },
  {
   "cell_type": "code",
   "execution_count": 38,
   "id": "f248a91c-d9dc-4bb4-a8d3-a1344552e606",
   "metadata": {},
   "outputs": [],
   "source": [
    "nyse_dm = SimpleDataModule(\n",
    "    nyse_train,\n",
    "    nyse_test,\n",
    "    num_workers=min(4, max_num_workers),\n",
    "    validation=nyse_test,\n",
    "    batch_size=64,\n",
    ")"
   ]
  },
  {
   "cell_type": "code",
   "execution_count": 39,
   "id": "fc79072b-82cf-4914-b2e1-66b892c39203",
   "metadata": {},
   "outputs": [
    {
     "name": "stdout",
     "output_type": "stream",
     "text": [
      "torch.Size([64]) torch.Size([64])\n",
      "torch.Size([64]) torch.Size([64])\n",
      "torch.Size([64]) torch.Size([64])\n"
     ]
    }
   ],
   "source": [
    "for idx, (x, y) in enumerate(nyse_dm.train_dataloader()):\n",
    "    out = nyse_model(x)\n",
    "    print(y.size(), out.size())\n",
    "    if idx >= 2:\n",
    "        break"
   ]
  },
  {
   "cell_type": "markdown",
   "id": "57cb51c5-5fbb-46c6-83ad-f61c9b82feb0",
   "metadata": {},
   "source": [
    "#### NYSE model training"
   ]
  },
  {
   "cell_type": "code",
   "execution_count": 40,
   "id": "b742bca5-f97e-471c-958d-b99ff27a933d",
   "metadata": {},
   "outputs": [],
   "source": [
    "nyse_optimizer = RMSprop(nyse_model.parameters(), lr=0.001)\n",
    "nyse_module = SimpleModule.regression(\n",
    "    nyse_model,\n",
    "    optimizer=nyse_optimizer,\n",
    "    metrics={'r2':R2Score()},\n",
    ")"
   ]
  },
  {
   "cell_type": "code",
   "execution_count": null,
   "id": "c80f83e3-f587-47d7-b8cd-8af472f92cd6",
   "metadata": {},
   "outputs": [],
   "source": [
    "nyse_trainer = Trainer(\n",
    "    deterministic=True,\n",
    "    max_epochs=200,\n",
    "    callbacks=[ErrorTracker()],\n",
    ")\n",
    "nyse_trainer.fit(nyse_module, datamodule=nyse_dm)"
   ]
  },
  {
   "cell_type": "code",
   "execution_count": 42,
   "id": "0da8b68a-1395-4c19-ad3c-5a729473ba51",
   "metadata": {},
   "outputs": [
    {
     "name": "stdout",
     "output_type": "stream",
     "text": [
      "Testing: |                                                                                                                                                                            | 0/? [00:00<?, ?it/s]"
     ]
    },
    {
     "name": "stderr",
     "output_type": "stream",
     "text": [
      "/Users/sf/miniforge/envs/islp/lib/python3.10/site-packages/lightning_fabric/__init__.py:41: pkg_resources is deprecated as an API. See https://setuptools.pypa.io/en/latest/pkg_resources.html. The pkg_resources package is slated for removal as early as 2025-11-30. Refrain from using this package or pin to Setuptools<81.\n",
      "/Users/sf/miniforge/envs/islp/lib/python3.10/site-packages/lightning_fabric/__init__.py:41: pkg_resources is deprecated as an API. See https://setuptools.pypa.io/en/latest/pkg_resources.html. The pkg_resources package is slated for removal as early as 2025-11-30. Refrain from using this package or pin to Setuptools<81.\n",
      "/Users/sf/miniforge/envs/islp/lib/python3.10/site-packages/lightning_fabric/__init__.py:41: pkg_resources is deprecated as an API. See https://setuptools.pypa.io/en/latest/pkg_resources.html. The pkg_resources package is slated for removal as early as 2025-11-30. Refrain from using this package or pin to Setuptools<81.\n",
      "/Users/sf/miniforge/envs/islp/lib/python3.10/site-packages/lightning_fabric/__init__.py:41: pkg_resources is deprecated as an API. See https://setuptools.pypa.io/en/latest/pkg_resources.html. The pkg_resources package is slated for removal as early as 2025-11-30. Refrain from using this package or pin to Setuptools<81.\n"
     ]
    },
    {
     "name": "stdout",
     "output_type": "stream",
     "text": [
      "Testing DataLoader 0: 100%|████████████████████████████████████████████████████████████████████████████████████████████████████████████████████████████████████████████████| 28/28 [00:00<00:00, 351.46it/s]\n",
      "────────────────────────────────────────────────────────────────────────────────────────────────────────────────────────\n",
      "       Test metric             DataLoader 0\n",
      "────────────────────────────────────────────────────────────────────────────────────────────────────────────────────────\n",
      "        test_loss           0.6156298518180847\n",
      "         test_r2            0.4157372713088989\n",
      "────────────────────────────────────────────────────────────────────────────────────────────────────────────────────────\n"
     ]
    },
    {
     "data": {
      "text/plain": [
       "[{'test_loss': 0.6156298518180847, 'test_r2': 0.4157372713088989}]"
      ]
     },
     "execution_count": 42,
     "metadata": {},
     "output_type": "execute_result"
    }
   ],
   "source": [
    "nyse_trainer.test(nyse_module,\n",
    "                  datamodule=nyse_dm)"
   ]
  },
  {
   "cell_type": "markdown",
   "id": "365b4b6c-9e1c-432a-9db2-fd7266bf8e83",
   "metadata": {},
   "source": [
    "#### Non-linear autoregressive (AR) model"
   ]
  },
  {
   "cell_type": "code",
   "execution_count": 43,
   "id": "bb0130c6-72bf-4b76-b41a-e4e6f56a41d2",
   "metadata": {},
   "outputs": [],
   "source": [
    "datasets = []\n",
    "for mask in [train, ~train]:\n",
    "    X_day_t = torch.tensor(np.asarray(X_day[mask]).astype(np.float32))\n",
    "    Y_t = torch.tensor(np.asarray(Y[mask]).astype(np.float32))\n",
    "    datasets.append(TensorDataset(X_day_t, Y_t))"
   ]
  },
  {
   "cell_type": "code",
   "execution_count": 44,
   "id": "ddcc3ef1-f3d4-4a14-849b-d803f65d4bed",
   "metadata": {},
   "outputs": [],
   "source": [
    "day_train, day_test = datasets"
   ]
  },
  {
   "cell_type": "code",
   "execution_count": 45,
   "id": "834143d1-449d-4390-a9ed-3659554adfcf",
   "metadata": {},
   "outputs": [],
   "source": [
    "day_dm = SimpleDataModule(\n",
    "    day_train,\n",
    "    day_test,\n",
    "    num_workers=min(4, max_num_workers),\n",
    "    validation=day_test,\n",
    "    batch_size=64,\n",
    ")"
   ]
  },
  {
   "cell_type": "code",
   "execution_count": 46,
   "id": "e4e54a80-fc16-472d-964f-951600c00c1d",
   "metadata": {},
   "outputs": [],
   "source": [
    "class NonLinearARModel(nn.Module):\n",
    "    def __init__(self):\n",
    "        super(NonLinearARModel, self).__init__()\n",
    "        self._forward = nn.Sequential(\n",
    "            nn.Flatten(),\n",
    "            nn.Linear(20, 32),\n",
    "            nn.ReLU(),\n",
    "            nn.Dropout(0.5),\n",
    "            nn.Linear(32, 1),\n",
    "        )\n",
    "    def forward(self, x):\n",
    "        return torch.flatten(self._forward(x))"
   ]
  },
  {
   "cell_type": "code",
   "execution_count": 47,
   "id": "c0342693-effe-4500-b610-99e1f2340e7b",
   "metadata": {},
   "outputs": [],
   "source": [
    "nl_model = NonLinearARModel()\n",
    "nl_optimizer = RMSprop(nl_model.parameters(), lr=0.001)\n",
    "nl_module = SimpleModule.regression(\n",
    "    nl_model,\n",
    "    optimizer=nl_optimizer,\n",
    "    metrics={'r2':R2Score()},\n",
    ")"
   ]
  },
  {
   "cell_type": "code",
   "execution_count": null,
   "id": "f7a49031-efc4-4281-87b1-1d2172439f5b",
   "metadata": {},
   "outputs": [],
   "source": [
    "nl_trainer = Trainer(deterministic=True,\n",
    "                         max_epochs=20,\n",
    "                         callbacks=[ErrorTracker()])\n",
    "nl_trainer.fit(nl_module, datamodule=day_dm)"
   ]
  },
  {
   "cell_type": "code",
   "execution_count": 49,
   "id": "c10575aa-f528-4ba9-8103-1dc478ab9a6d",
   "metadata": {},
   "outputs": [
    {
     "name": "stdout",
     "output_type": "stream",
     "text": [
      "Testing: |                                                                                                                                                                            | 0/? [00:00<?, ?it/s]"
     ]
    },
    {
     "name": "stderr",
     "output_type": "stream",
     "text": [
      "/Users/sf/miniforge/envs/islp/lib/python3.10/site-packages/lightning_fabric/__init__.py:41: pkg_resources is deprecated as an API. See https://setuptools.pypa.io/en/latest/pkg_resources.html. The pkg_resources package is slated for removal as early as 2025-11-30. Refrain from using this package or pin to Setuptools<81.\n",
      "/Users/sf/miniforge/envs/islp/lib/python3.10/site-packages/lightning_fabric/__init__.py:41: pkg_resources is deprecated as an API. See https://setuptools.pypa.io/en/latest/pkg_resources.html. The pkg_resources package is slated for removal as early as 2025-11-30. Refrain from using this package or pin to Setuptools<81.\n",
      "/Users/sf/miniforge/envs/islp/lib/python3.10/site-packages/lightning_fabric/__init__.py:41: pkg_resources is deprecated as an API. See https://setuptools.pypa.io/en/latest/pkg_resources.html. The pkg_resources package is slated for removal as early as 2025-11-30. Refrain from using this package or pin to Setuptools<81.\n",
      "/Users/sf/miniforge/envs/islp/lib/python3.10/site-packages/lightning_fabric/__init__.py:41: pkg_resources is deprecated as an API. See https://setuptools.pypa.io/en/latest/pkg_resources.html. The pkg_resources package is slated for removal as early as 2025-11-30. Refrain from using this package or pin to Setuptools<81.\n"
     ]
    },
    {
     "name": "stdout",
     "output_type": "stream",
     "text": [
      "Testing DataLoader 0: 100%|████████████████████████████████████████████████████████████████████████████████████████████████████████████████████████████████████████████████| 28/28 [00:00<00:00, 599.94it/s]\n",
      "────────────────────────────────────────────────────────────────────────────────────────────────────────────────────────\n",
      "       Test metric             DataLoader 0\n",
      "────────────────────────────────────────────────────────────────────────────────────────────────────────────────────────\n",
      "        test_loss           0.5648418664932251\n",
      "         test_r2            0.46393752098083496\n",
      "────────────────────────────────────────────────────────────────────────────────────────────────────────────────────────\n"
     ]
    },
    {
     "data": {
      "text/plain": [
       "[{'test_loss': 0.5648418664932251, 'test_r2': 0.46393752098083496}]"
      ]
     },
     "execution_count": 49,
     "metadata": {},
     "output_type": "execute_result"
    }
   ],
   "source": [
    "nl_trainer.test(nl_module, datamodule=day_dm) "
   ]
  },
  {
   "cell_type": "code",
   "execution_count": null,
   "id": "caa7a2bb-033f-4501-96b1-20770abd5aef",
   "metadata": {},
   "outputs": [],
   "source": []
  }
 ],
 "metadata": {
  "kernelspec": {
   "display_name": "Python 3 (ipykernel)",
   "language": "python",
   "name": "python3"
  },
  "language_info": {
   "codemirror_mode": {
    "name": "ipython",
    "version": 3
   },
   "file_extension": ".py",
   "mimetype": "text/x-python",
   "name": "python",
   "nbconvert_exporter": "python",
   "pygments_lexer": "ipython3",
   "version": "3.10.18"
  }
 },
 "nbformat": 4,
 "nbformat_minor": 5
}
