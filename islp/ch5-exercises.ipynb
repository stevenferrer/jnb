{
 "cells": [
  {
   "cell_type": "code",
   "execution_count": 72,
   "id": "713e9045-59cb-46ff-aa71-196660af51c6",
   "metadata": {},
   "outputs": [],
   "source": [
    "from functools import partial\n",
    "\n",
    "import numpy as np\n",
    "import pandas as pd\n",
    "import matplotlib.pyplot as plt\n",
    "\n",
    "import statsmodels.api as sm\n",
    "\n",
    "from ISLP import (load_data, confusion_table)\n",
    "from ISLP.models import (ModelSpec as MS, summarize, poly, sklearn_sm)\n",
    "\n",
    "from sklearn.model_selection import (train_test_split, LeaveOneOut, cross_validate, KFold, ShuffleSplit)\n",
    "from sklearn.base import clone\n",
    "from sklearn.metrics import mean_squared_error as mse\n",
    "from sklearn.utils import resample"
   ]
  },
  {
   "cell_type": "code",
   "execution_count": 2,
   "id": "92e61d21-bfc0-4e95-b932-fbfd3b326400",
   "metadata": {},
   "outputs": [],
   "source": [
    "rng = np.random. default_rng(1)"
   ]
  },
  {
   "cell_type": "markdown",
   "id": "b9691b3b-c2e4-4075-9306-3624ca7c38cf",
   "metadata": {},
   "source": [
    "### Logistic regression model with Default data set"
   ]
  },
  {
   "cell_type": "code",
   "execution_count": 3,
   "id": "153c9c94-463b-450d-9947-df3095769778",
   "metadata": {},
   "outputs": [
    {
     "data": {
      "text/html": [
       "<div>\n",
       "<style scoped>\n",
       "    .dataframe tbody tr th:only-of-type {\n",
       "        vertical-align: middle;\n",
       "    }\n",
       "\n",
       "    .dataframe tbody tr th {\n",
       "        vertical-align: top;\n",
       "    }\n",
       "\n",
       "    .dataframe thead th {\n",
       "        text-align: right;\n",
       "    }\n",
       "</style>\n",
       "<table border=\"1\" class=\"dataframe\">\n",
       "  <thead>\n",
       "    <tr style=\"text-align: right;\">\n",
       "      <th></th>\n",
       "      <th>default</th>\n",
       "      <th>student</th>\n",
       "      <th>balance</th>\n",
       "      <th>income</th>\n",
       "    </tr>\n",
       "  </thead>\n",
       "  <tbody>\n",
       "    <tr>\n",
       "      <th>0</th>\n",
       "      <td>No</td>\n",
       "      <td>No</td>\n",
       "      <td>729.526495</td>\n",
       "      <td>44361.625074</td>\n",
       "    </tr>\n",
       "    <tr>\n",
       "      <th>1</th>\n",
       "      <td>No</td>\n",
       "      <td>Yes</td>\n",
       "      <td>817.180407</td>\n",
       "      <td>12106.134700</td>\n",
       "    </tr>\n",
       "    <tr>\n",
       "      <th>2</th>\n",
       "      <td>No</td>\n",
       "      <td>No</td>\n",
       "      <td>1073.549164</td>\n",
       "      <td>31767.138947</td>\n",
       "    </tr>\n",
       "    <tr>\n",
       "      <th>3</th>\n",
       "      <td>No</td>\n",
       "      <td>No</td>\n",
       "      <td>529.250605</td>\n",
       "      <td>35704.493935</td>\n",
       "    </tr>\n",
       "    <tr>\n",
       "      <th>4</th>\n",
       "      <td>No</td>\n",
       "      <td>No</td>\n",
       "      <td>785.655883</td>\n",
       "      <td>38463.495879</td>\n",
       "    </tr>\n",
       "  </tbody>\n",
       "</table>\n",
       "</div>"
      ],
      "text/plain": [
       "  default student      balance        income\n",
       "0      No      No   729.526495  44361.625074\n",
       "1      No     Yes   817.180407  12106.134700\n",
       "2      No      No  1073.549164  31767.138947\n",
       "3      No      No   529.250605  35704.493935\n",
       "4      No      No   785.655883  38463.495879"
      ]
     },
     "execution_count": 3,
     "metadata": {},
     "output_type": "execute_result"
    }
   ],
   "source": [
    "Default = load_data('Default')\n",
    "Default.head()"
   ]
  },
  {
   "cell_type": "code",
   "execution_count": 4,
   "id": "cdfca41f-09d5-4318-94b5-2cf17619b2d1",
   "metadata": {},
   "outputs": [
    {
     "data": {
      "text/plain": [
       "['No', 'Yes']\n",
       "Categories (2, object): ['No', 'Yes']"
      ]
     },
     "execution_count": 4,
     "metadata": {},
     "output_type": "execute_result"
    }
   ],
   "source": [
    "Default['default'].unique()"
   ]
  },
  {
   "cell_type": "code",
   "execution_count": 5,
   "id": "c243d763-01ae-4835-9b85-fdba539a9fb9",
   "metadata": {},
   "outputs": [
    {
     "data": {
      "text/plain": [
       "default    category\n",
       "student    category\n",
       "balance     float64\n",
       "income      float64\n",
       "dtype: object"
      ]
     },
     "execution_count": 5,
     "metadata": {},
     "output_type": "execute_result"
    }
   ],
   "source": [
    "Default.dtypes"
   ]
  },
  {
   "cell_type": "code",
   "execution_count": 6,
   "id": "fa35fa41-7aeb-48fb-8869-cc573f591188",
   "metadata": {},
   "outputs": [],
   "source": [
    "ms1 = MS(['income', 'balance'])\n",
    "X = ms1.fit_transform(Default)\n",
    "y = Default['default'] == 'Yes'"
   ]
  },
  {
   "cell_type": "code",
   "execution_count": 7,
   "id": "3eca932e-3764-4d30-b42f-106660cb4164",
   "metadata": {},
   "outputs": [
    {
     "data": {
      "text/plain": [
       "0    False\n",
       "1    False\n",
       "2    False\n",
       "3    False\n",
       "4    False\n",
       "Name: default, dtype: bool"
      ]
     },
     "execution_count": 7,
     "metadata": {},
     "output_type": "execute_result"
    }
   ],
   "source": [
    "y.head()"
   ]
  },
  {
   "cell_type": "code",
   "execution_count": 8,
   "id": "bddaa865-41eb-4133-8963-45557ed5c482",
   "metadata": {},
   "outputs": [
    {
     "data": {
      "text/html": [
       "<div>\n",
       "<style scoped>\n",
       "    .dataframe tbody tr th:only-of-type {\n",
       "        vertical-align: middle;\n",
       "    }\n",
       "\n",
       "    .dataframe tbody tr th {\n",
       "        vertical-align: top;\n",
       "    }\n",
       "\n",
       "    .dataframe thead th {\n",
       "        text-align: right;\n",
       "    }\n",
       "</style>\n",
       "<table border=\"1\" class=\"dataframe\">\n",
       "  <thead>\n",
       "    <tr style=\"text-align: right;\">\n",
       "      <th></th>\n",
       "      <th>coef</th>\n",
       "      <th>std err</th>\n",
       "      <th>z</th>\n",
       "      <th>P&gt;|z|</th>\n",
       "    </tr>\n",
       "  </thead>\n",
       "  <tbody>\n",
       "    <tr>\n",
       "      <th>intercept</th>\n",
       "      <td>-11.540500</td>\n",
       "      <td>0.435000</td>\n",
       "      <td>-26.544</td>\n",
       "      <td>0.0</td>\n",
       "    </tr>\n",
       "    <tr>\n",
       "      <th>income</th>\n",
       "      <td>0.000021</td>\n",
       "      <td>0.000005</td>\n",
       "      <td>4.174</td>\n",
       "      <td>0.0</td>\n",
       "    </tr>\n",
       "    <tr>\n",
       "      <th>balance</th>\n",
       "      <td>0.005600</td>\n",
       "      <td>0.000000</td>\n",
       "      <td>24.835</td>\n",
       "      <td>0.0</td>\n",
       "    </tr>\n",
       "  </tbody>\n",
       "</table>\n",
       "</div>"
      ],
      "text/plain": [
       "                coef   std err       z  P>|z|\n",
       "intercept -11.540500  0.435000 -26.544    0.0\n",
       "income      0.000021  0.000005   4.174    0.0\n",
       "balance     0.005600  0.000000  24.835    0.0"
      ]
     },
     "execution_count": 8,
     "metadata": {},
     "output_type": "execute_result"
    }
   ],
   "source": [
    "glm1 = sm.GLM(y, X, family=sm.families.Binomial())\n",
    "results1 = glm1.fit()\n",
    "summarize(results1)"
   ]
  },
  {
   "cell_type": "markdown",
   "id": "d5bed4e4-7952-4f46-9b3c-7a0a18a8ba30",
   "metadata": {},
   "source": [
    "### Validation set approach"
   ]
  },
  {
   "cell_type": "markdown",
   "id": "2be9eb05-dd90-4e80-8a64-b8c59c425a9d",
   "metadata": {},
   "source": [
    "Split data into training and validation set."
   ]
  },
  {
   "cell_type": "code",
   "execution_count": 9,
   "id": "78e2db5c-5c55-4188-ba06-2d645b71bc98",
   "metadata": {},
   "outputs": [
    {
     "data": {
      "text/plain": [
       "((8000, 4), (2000, 4))"
      ]
     },
     "execution_count": 9,
     "metadata": {},
     "output_type": "execute_result"
    }
   ],
   "source": [
    "Default_train, Default_valid = train_test_split(Default, test_size=.2, random_state=1)\n",
    "Default_train.shape, Default_valid.shape"
   ]
  },
  {
   "cell_type": "code",
   "execution_count": 10,
   "id": "393527e2-64d0-4971-b748-534ebe62f593",
   "metadata": {},
   "outputs": [
    {
     "data": {
      "text/html": [
       "<div>\n",
       "<style scoped>\n",
       "    .dataframe tbody tr th:only-of-type {\n",
       "        vertical-align: middle;\n",
       "    }\n",
       "\n",
       "    .dataframe tbody tr th {\n",
       "        vertical-align: top;\n",
       "    }\n",
       "\n",
       "    .dataframe thead th {\n",
       "        text-align: right;\n",
       "    }\n",
       "</style>\n",
       "<table border=\"1\" class=\"dataframe\">\n",
       "  <thead>\n",
       "    <tr style=\"text-align: right;\">\n",
       "      <th></th>\n",
       "      <th>coef</th>\n",
       "      <th>std err</th>\n",
       "      <th>z</th>\n",
       "      <th>P&gt;|z|</th>\n",
       "    </tr>\n",
       "  </thead>\n",
       "  <tbody>\n",
       "    <tr>\n",
       "      <th>intercept</th>\n",
       "      <td>-12.060600</td>\n",
       "      <td>0.507000</td>\n",
       "      <td>-23.793</td>\n",
       "      <td>0.0</td>\n",
       "    </tr>\n",
       "    <tr>\n",
       "      <th>income</th>\n",
       "      <td>0.000024</td>\n",
       "      <td>0.000006</td>\n",
       "      <td>4.257</td>\n",
       "      <td>0.0</td>\n",
       "    </tr>\n",
       "    <tr>\n",
       "      <th>balance</th>\n",
       "      <td>0.005900</td>\n",
       "      <td>0.000000</td>\n",
       "      <td>22.329</td>\n",
       "      <td>0.0</td>\n",
       "    </tr>\n",
       "  </tbody>\n",
       "</table>\n",
       "</div>"
      ],
      "text/plain": [
       "                coef   std err       z  P>|z|\n",
       "intercept -12.060600  0.507000 -23.793    0.0\n",
       "income      0.000024  0.000006   4.257    0.0\n",
       "balance     0.005900  0.000000  22.329    0.0"
      ]
     },
     "execution_count": 10,
     "metadata": {},
     "output_type": "execute_result"
    }
   ],
   "source": [
    "ms2 = MS(['income', 'balance'])\n",
    "X_train = ms2.fit_transform(Default_train)\n",
    "y_train = Default_train['default'] == 'Yes'\n",
    "glm2 = sm.GLM(y_train, X_train, family=sm.families.Binomial())\n",
    "results2 = glm2.fit()\n",
    "summarize(results2)"
   ]
  },
  {
   "cell_type": "code",
   "execution_count": 11,
   "id": "6969eb92-5cfb-4690-a9de-b3e282c1d826",
   "metadata": {},
   "outputs": [
    {
     "data": {
      "text/plain": [
       "9953    0.000813\n",
       "3850    0.008082\n",
       "4962    0.000732\n",
       "3886    0.002791\n",
       "5437    0.087643\n",
       "          ...   \n",
       "3919    0.028626\n",
       "162     0.006463\n",
       "7903    0.033496\n",
       "2242    0.006310\n",
       "2745    0.004214\n",
       "Length: 2000, dtype: float64"
      ]
     },
     "execution_count": 11,
     "metadata": {},
     "output_type": "execute_result"
    }
   ],
   "source": [
    "X_valid = ms2.fit_transform(Default_valid)\n",
    "y_valid = Default_valid['default'] == 'Yes'\n",
    "y_valid_ = results2.predict(X_valid)\n",
    "y_valid_"
   ]
  },
  {
   "cell_type": "code",
   "execution_count": 12,
   "id": "6cf20bad-f97c-42be-9369-3cfa9d4b3004",
   "metadata": {},
   "outputs": [
    {
     "data": {
      "text/plain": [
       "((8000,), (2000,))"
      ]
     },
     "execution_count": 12,
     "metadata": {},
     "output_type": "execute_result"
    }
   ],
   "source": [
    "L_train, L_valid = Default_train['default'], Default_valid['default']\n",
    "L_train.shape, L_valid.shape"
   ]
  },
  {
   "cell_type": "code",
   "execution_count": 13,
   "id": "dc684398-ccaa-459a-a044-4fed306d06da",
   "metadata": {},
   "outputs": [
    {
     "data": {
      "text/html": [
       "<div>\n",
       "<style scoped>\n",
       "    .dataframe tbody tr th:only-of-type {\n",
       "        vertical-align: middle;\n",
       "    }\n",
       "\n",
       "    .dataframe tbody tr th {\n",
       "        vertical-align: top;\n",
       "    }\n",
       "\n",
       "    .dataframe thead th {\n",
       "        text-align: right;\n",
       "    }\n",
       "</style>\n",
       "<table border=\"1\" class=\"dataframe\">\n",
       "  <thead>\n",
       "    <tr style=\"text-align: right;\">\n",
       "      <th>Truth</th>\n",
       "      <th>No</th>\n",
       "      <th>Yes</th>\n",
       "    </tr>\n",
       "    <tr>\n",
       "      <th>Predicted</th>\n",
       "      <th></th>\n",
       "      <th></th>\n",
       "    </tr>\n",
       "  </thead>\n",
       "  <tbody>\n",
       "    <tr>\n",
       "      <th>No</th>\n",
       "      <td>1928</td>\n",
       "      <td>13</td>\n",
       "    </tr>\n",
       "    <tr>\n",
       "      <th>Yes</th>\n",
       "      <td>41</td>\n",
       "      <td>18</td>\n",
       "    </tr>\n",
       "  </tbody>\n",
       "</table>\n",
       "</div>"
      ],
      "text/plain": [
       "Truth        No  Yes\n",
       "Predicted           \n",
       "No         1928   13\n",
       "Yes          41   18"
      ]
     },
     "execution_count": 13,
     "metadata": {},
     "output_type": "execute_result"
    }
   ],
   "source": [
    "L_valid_ = np.array(['Yes'] * Default_valid.shape[0])\n",
    "L_valid_[y_valid_<.5] = 'No'\n",
    "confusion_table(L_valid, L_valid_)"
   ]
  },
  {
   "cell_type": "code",
   "execution_count": 14,
   "id": "a352dfd5-6076-45e0-a3ad-616e46eaac00",
   "metadata": {},
   "outputs": [
    {
     "data": {
      "text/plain": [
       "(0.973, 0.027)"
      ]
     },
     "execution_count": 14,
     "metadata": {},
     "output_type": "execute_result"
    }
   ],
   "source": [
    "np.mean(L_valid_ == L_valid), np.mean(L_valid_ != L_valid)"
   ]
  },
  {
   "cell_type": "code",
   "execution_count": 15,
   "id": "11b9a624-e2b8-4feb-85cf-8dd2617215a5",
   "metadata": {},
   "outputs": [
    {
     "data": {
      "text/html": [
       "<div>\n",
       "<style scoped>\n",
       "    .dataframe tbody tr th:only-of-type {\n",
       "        vertical-align: middle;\n",
       "    }\n",
       "\n",
       "    .dataframe tbody tr th {\n",
       "        vertical-align: top;\n",
       "    }\n",
       "\n",
       "    .dataframe thead th {\n",
       "        text-align: right;\n",
       "    }\n",
       "</style>\n",
       "<table border=\"1\" class=\"dataframe\">\n",
       "  <thead>\n",
       "    <tr style=\"text-align: right;\">\n",
       "      <th></th>\n",
       "      <th>intercept</th>\n",
       "      <th>income</th>\n",
       "      <th>balance</th>\n",
       "      <th>student[Yes]</th>\n",
       "    </tr>\n",
       "  </thead>\n",
       "  <tbody>\n",
       "    <tr>\n",
       "      <th>2694</th>\n",
       "      <td>1.0</td>\n",
       "      <td>31318.296026</td>\n",
       "      <td>1804.036475</td>\n",
       "      <td>0.0</td>\n",
       "    </tr>\n",
       "    <tr>\n",
       "      <th>5140</th>\n",
       "      <td>1.0</td>\n",
       "      <td>35533.484519</td>\n",
       "      <td>1174.194909</td>\n",
       "      <td>0.0</td>\n",
       "    </tr>\n",
       "    <tr>\n",
       "      <th>2568</th>\n",
       "      <td>1.0</td>\n",
       "      <td>25742.119731</td>\n",
       "      <td>978.652180</td>\n",
       "      <td>0.0</td>\n",
       "    </tr>\n",
       "    <tr>\n",
       "      <th>3671</th>\n",
       "      <td>1.0</td>\n",
       "      <td>19501.341068</td>\n",
       "      <td>548.136289</td>\n",
       "      <td>1.0</td>\n",
       "    </tr>\n",
       "    <tr>\n",
       "      <th>7427</th>\n",
       "      <td>1.0</td>\n",
       "      <td>36833.645138</td>\n",
       "      <td>270.072593</td>\n",
       "      <td>0.0</td>\n",
       "    </tr>\n",
       "  </tbody>\n",
       "</table>\n",
       "</div>"
      ],
      "text/plain": [
       "      intercept        income      balance  student[Yes]\n",
       "2694        1.0  31318.296026  1804.036475           0.0\n",
       "5140        1.0  35533.484519  1174.194909           0.0\n",
       "2568        1.0  25742.119731   978.652180           0.0\n",
       "3671        1.0  19501.341068   548.136289           1.0\n",
       "7427        1.0  36833.645138   270.072593           0.0"
      ]
     },
     "execution_count": 15,
     "metadata": {},
     "output_type": "execute_result"
    }
   ],
   "source": [
    "ms3 = MS(['income', 'balance', 'student'])\n",
    "X_train = ms3.fit_transform(Default_train)\n",
    "X_train.head()"
   ]
  },
  {
   "cell_type": "code",
   "execution_count": 16,
   "id": "aa19ffad-ba00-4be1-a54b-79bbaaa27d3c",
   "metadata": {},
   "outputs": [
    {
     "data": {
      "text/html": [
       "<div>\n",
       "<style scoped>\n",
       "    .dataframe tbody tr th:only-of-type {\n",
       "        vertical-align: middle;\n",
       "    }\n",
       "\n",
       "    .dataframe tbody tr th {\n",
       "        vertical-align: top;\n",
       "    }\n",
       "\n",
       "    .dataframe thead th {\n",
       "        text-align: right;\n",
       "    }\n",
       "</style>\n",
       "<table border=\"1\" class=\"dataframe\">\n",
       "  <thead>\n",
       "    <tr style=\"text-align: right;\">\n",
       "      <th></th>\n",
       "      <th>coef</th>\n",
       "      <th>std err</th>\n",
       "      <th>z</th>\n",
       "      <th>P&gt;|z|</th>\n",
       "    </tr>\n",
       "  </thead>\n",
       "  <tbody>\n",
       "    <tr>\n",
       "      <th>intercept</th>\n",
       "      <td>-11.418000</td>\n",
       "      <td>0.572000</td>\n",
       "      <td>-19.977</td>\n",
       "      <td>0.000</td>\n",
       "    </tr>\n",
       "    <tr>\n",
       "      <th>income</th>\n",
       "      <td>0.000007</td>\n",
       "      <td>0.000009</td>\n",
       "      <td>0.794</td>\n",
       "      <td>0.427</td>\n",
       "    </tr>\n",
       "    <tr>\n",
       "      <th>balance</th>\n",
       "      <td>0.006000</td>\n",
       "      <td>0.000000</td>\n",
       "      <td>22.274</td>\n",
       "      <td>0.000</td>\n",
       "    </tr>\n",
       "    <tr>\n",
       "      <th>student[Yes]</th>\n",
       "      <td>-0.610000</td>\n",
       "      <td>0.267000</td>\n",
       "      <td>-2.286</td>\n",
       "      <td>0.022</td>\n",
       "    </tr>\n",
       "  </tbody>\n",
       "</table>\n",
       "</div>"
      ],
      "text/plain": [
       "                   coef   std err       z  P>|z|\n",
       "intercept    -11.418000  0.572000 -19.977  0.000\n",
       "income         0.000007  0.000009   0.794  0.427\n",
       "balance        0.006000  0.000000  22.274  0.000\n",
       "student[Yes]  -0.610000  0.267000  -2.286  0.022"
      ]
     },
     "execution_count": 16,
     "metadata": {},
     "output_type": "execute_result"
    }
   ],
   "source": [
    "glm3 = sm.GLM(y_train, X_train, family=sm.families.Binomial())\n",
    "results3 = glm3.fit()\n",
    "summarize(results3)"
   ]
  },
  {
   "cell_type": "code",
   "execution_count": 17,
   "id": "153f401f-3de8-4415-9f79-cb820b35b5d3",
   "metadata": {},
   "outputs": [
    {
     "data": {
      "text/plain": [
       "9953    0.000702\n",
       "3850    0.007044\n",
       "4962    0.000841\n",
       "3886    0.002301\n",
       "5437    0.079754\n",
       "          ...   \n",
       "3919    0.032297\n",
       "162     0.005894\n",
       "7903    0.029583\n",
       "2242    0.005545\n",
       "2745    0.003844\n",
       "Length: 2000, dtype: float64"
      ]
     },
     "execution_count": 17,
     "metadata": {},
     "output_type": "execute_result"
    }
   ],
   "source": [
    "X_valid = ms3.fit_transform(Default_valid)\n",
    "y_valid = Default_valid['default'] == 'Yes'\n",
    "y_valid_ = results3.predict(X_valid)\n",
    "y_valid_"
   ]
  },
  {
   "cell_type": "code",
   "execution_count": 18,
   "id": "263d93a1-8915-47dc-8b6c-b795928643da",
   "metadata": {},
   "outputs": [
    {
     "data": {
      "text/html": [
       "<div>\n",
       "<style scoped>\n",
       "    .dataframe tbody tr th:only-of-type {\n",
       "        vertical-align: middle;\n",
       "    }\n",
       "\n",
       "    .dataframe tbody tr th {\n",
       "        vertical-align: top;\n",
       "    }\n",
       "\n",
       "    .dataframe thead th {\n",
       "        text-align: right;\n",
       "    }\n",
       "</style>\n",
       "<table border=\"1\" class=\"dataframe\">\n",
       "  <thead>\n",
       "    <tr style=\"text-align: right;\">\n",
       "      <th>Truth</th>\n",
       "      <th>No</th>\n",
       "      <th>Yes</th>\n",
       "    </tr>\n",
       "    <tr>\n",
       "      <th>Predicted</th>\n",
       "      <th></th>\n",
       "      <th></th>\n",
       "    </tr>\n",
       "  </thead>\n",
       "  <tbody>\n",
       "    <tr>\n",
       "      <th>No</th>\n",
       "      <td>1930</td>\n",
       "      <td>11</td>\n",
       "    </tr>\n",
       "    <tr>\n",
       "      <th>Yes</th>\n",
       "      <td>41</td>\n",
       "      <td>18</td>\n",
       "    </tr>\n",
       "  </tbody>\n",
       "</table>\n",
       "</div>"
      ],
      "text/plain": [
       "Truth        No  Yes\n",
       "Predicted           \n",
       "No         1930   11\n",
       "Yes          41   18"
      ]
     },
     "execution_count": 18,
     "metadata": {},
     "output_type": "execute_result"
    }
   ],
   "source": [
    "L_valid_ = np.array(['Yes'] * Default_valid.shape[0])\n",
    "L_valid_[y_valid_<=.5] = 'No'\n",
    "confusion_table(L_valid, L_valid_)"
   ]
  },
  {
   "cell_type": "markdown",
   "id": "9469a80d-06c3-4c45-9c68-e5eedef566be",
   "metadata": {},
   "source": [
    "There is no significant improvement when `student` is added."
   ]
  },
  {
   "cell_type": "code",
   "execution_count": 19,
   "id": "737b3841-42b4-4a06-8ac1-ec41de52eb69",
   "metadata": {},
   "outputs": [
    {
     "data": {
      "text/plain": [
       "(0.974, 0.026)"
      ]
     },
     "execution_count": 19,
     "metadata": {},
     "output_type": "execute_result"
    }
   ],
   "source": [
    "np.mean(L_valid_ == L_valid), np.mean(L_valid_ != L_valid)"
   ]
  },
  {
   "cell_type": "markdown",
   "id": "363deb54-1453-4518-aece-a65027618590",
   "metadata": {},
   "source": [
    "### Bootstrap function"
   ]
  },
  {
   "cell_type": "code",
   "execution_count": 20,
   "id": "d0b2bc9e-d88c-4434-b186-56ede165f9f5",
   "metadata": {},
   "outputs": [],
   "source": [
    "def boot_fn(Default, index):\n",
    "    ms = MS(['income', 'balance'])\n",
    "    X = ms.fit_transform(Default.loc[index])\n",
    "    y = Default.loc[index, 'default'] == 'Yes'\n",
    "\n",
    "    results = sm.GLM(y, X, family=sm.families.Binomial()).fit()\n",
    "    return results.params"
   ]
  },
  {
   "cell_type": "code",
   "execution_count": 21,
   "id": "5e491531-9211-42c3-b477-29d6fcb7d71c",
   "metadata": {},
   "outputs": [
    {
     "data": {
      "text/plain": [
       "intercept   -10.192116\n",
       "income        0.000003\n",
       "balance       0.005082\n",
       "dtype: float64"
      ]
     },
     "execution_count": 21,
     "metadata": {},
     "output_type": "execute_result"
    }
   ],
   "source": [
    "boot_fn(Default, rng.choice(Default.index, 1000, replace=True))"
   ]
  },
  {
   "cell_type": "code",
   "execution_count": 22,
   "id": "9b83e01f-58b6-4676-9691-60bc769a22cd",
   "metadata": {},
   "outputs": [],
   "source": [
    "def boot_SE(func, df, n=None, B=10, seed=1):\n",
    "    rng = np.random.default_rng(seed)\n",
    "    first_, second_ = 0, 0\n",
    "    n = n or df.shape[0]\n",
    "\n",
    "    for _ in range(B):\n",
    "        i = rng.choice(df.index, n, replace=True)\n",
    "        value = func(df, i)\n",
    "        first_ += value\n",
    "        second_ += value**2\n",
    "\n",
    "    return np.sqrt(second_ / B - (first_ / B)**2)"
   ]
  },
  {
   "cell_type": "markdown",
   "id": "38bab2f1-d7ca-43ed-95fd-3129903e6194",
   "metadata": {},
   "source": [
    "Estimating the standard error of coefficient estimates for `income` and `balance`"
   ]
  },
  {
   "cell_type": "code",
   "execution_count": 23,
   "id": "7e8c9ecb-3dc1-4498-b1dd-9e8aa9eacd90",
   "metadata": {},
   "outputs": [
    {
     "data": {
      "text/plain": [
       "intercept    0.437427\n",
       "income       0.000006\n",
       "balance      0.000200\n",
       "dtype: float64"
      ]
     },
     "execution_count": 23,
     "metadata": {},
     "output_type": "execute_result"
    }
   ],
   "source": [
    "boot_SE(boot_fn, Default, B=10, seed=1)"
   ]
  },
  {
   "cell_type": "markdown",
   "id": "8c6353e2-2ebc-4db1-ac9d-d499d67e05e6",
   "metadata": {},
   "source": [
    "Using a bigger value for `B` such as `100` can be slow, but using a small value like `10` is usually good enough."
   ]
  },
  {
   "cell_type": "markdown",
   "id": "8d271a0c-11d2-43d4-9e17-bec4eb2398f4",
   "metadata": {},
   "source": [
    "### LOOCV"
   ]
  },
  {
   "cell_type": "code",
   "execution_count": 24,
   "id": "b1ff81e2-5135-47f1-9dc2-b875c1400542",
   "metadata": {},
   "outputs": [
    {
     "data": {
      "text/html": [
       "<div>\n",
       "<style scoped>\n",
       "    .dataframe tbody tr th:only-of-type {\n",
       "        vertical-align: middle;\n",
       "    }\n",
       "\n",
       "    .dataframe tbody tr th {\n",
       "        vertical-align: top;\n",
       "    }\n",
       "\n",
       "    .dataframe thead th {\n",
       "        text-align: right;\n",
       "    }\n",
       "</style>\n",
       "<table border=\"1\" class=\"dataframe\">\n",
       "  <thead>\n",
       "    <tr style=\"text-align: right;\">\n",
       "      <th></th>\n",
       "      <th>Year</th>\n",
       "      <th>Lag1</th>\n",
       "      <th>Lag2</th>\n",
       "      <th>Lag3</th>\n",
       "      <th>Lag4</th>\n",
       "      <th>Lag5</th>\n",
       "      <th>Volume</th>\n",
       "      <th>Today</th>\n",
       "      <th>Direction</th>\n",
       "    </tr>\n",
       "  </thead>\n",
       "  <tbody>\n",
       "    <tr>\n",
       "      <th>0</th>\n",
       "      <td>1990</td>\n",
       "      <td>0.816</td>\n",
       "      <td>1.572</td>\n",
       "      <td>-3.936</td>\n",
       "      <td>-0.229</td>\n",
       "      <td>-3.484</td>\n",
       "      <td>0.154976</td>\n",
       "      <td>-0.270</td>\n",
       "      <td>Down</td>\n",
       "    </tr>\n",
       "    <tr>\n",
       "      <th>1</th>\n",
       "      <td>1990</td>\n",
       "      <td>-0.270</td>\n",
       "      <td>0.816</td>\n",
       "      <td>1.572</td>\n",
       "      <td>-3.936</td>\n",
       "      <td>-0.229</td>\n",
       "      <td>0.148574</td>\n",
       "      <td>-2.576</td>\n",
       "      <td>Down</td>\n",
       "    </tr>\n",
       "    <tr>\n",
       "      <th>2</th>\n",
       "      <td>1990</td>\n",
       "      <td>-2.576</td>\n",
       "      <td>-0.270</td>\n",
       "      <td>0.816</td>\n",
       "      <td>1.572</td>\n",
       "      <td>-3.936</td>\n",
       "      <td>0.159837</td>\n",
       "      <td>3.514</td>\n",
       "      <td>Up</td>\n",
       "    </tr>\n",
       "    <tr>\n",
       "      <th>3</th>\n",
       "      <td>1990</td>\n",
       "      <td>3.514</td>\n",
       "      <td>-2.576</td>\n",
       "      <td>-0.270</td>\n",
       "      <td>0.816</td>\n",
       "      <td>1.572</td>\n",
       "      <td>0.161630</td>\n",
       "      <td>0.712</td>\n",
       "      <td>Up</td>\n",
       "    </tr>\n",
       "    <tr>\n",
       "      <th>4</th>\n",
       "      <td>1990</td>\n",
       "      <td>0.712</td>\n",
       "      <td>3.514</td>\n",
       "      <td>-2.576</td>\n",
       "      <td>-0.270</td>\n",
       "      <td>0.816</td>\n",
       "      <td>0.153728</td>\n",
       "      <td>1.178</td>\n",
       "      <td>Up</td>\n",
       "    </tr>\n",
       "  </tbody>\n",
       "</table>\n",
       "</div>"
      ],
      "text/plain": [
       "   Year   Lag1   Lag2   Lag3   Lag4   Lag5    Volume  Today Direction\n",
       "0  1990  0.816  1.572 -3.936 -0.229 -3.484  0.154976 -0.270      Down\n",
       "1  1990 -0.270  0.816  1.572 -3.936 -0.229  0.148574 -2.576      Down\n",
       "2  1990 -2.576 -0.270  0.816  1.572 -3.936  0.159837  3.514        Up\n",
       "3  1990  3.514 -2.576 -0.270  0.816  1.572  0.161630  0.712        Up\n",
       "4  1990  0.712  3.514 -2.576 -0.270  0.816  0.153728  1.178        Up"
      ]
     },
     "execution_count": 24,
     "metadata": {},
     "output_type": "execute_result"
    }
   ],
   "source": [
    "Weekly = load_data('Weekly')\n",
    "Weekly.head()"
   ]
  },
  {
   "cell_type": "code",
   "execution_count": 25,
   "id": "be9fda25-7e82-484b-a4fc-1bf76e6db287",
   "metadata": {},
   "outputs": [],
   "source": [
    "ms1 = MS(['Lag1', 'Lag2'])\n",
    "X = ms1.fit_transform(Weekly)\n",
    "y = Weekly['Direction'] == 'Up'"
   ]
  },
  {
   "cell_type": "code",
   "execution_count": 26,
   "id": "d94a4242-626a-4464-93a6-7ca79a3b40c4",
   "metadata": {},
   "outputs": [
    {
     "data": {
      "text/html": [
       "<div>\n",
       "<style scoped>\n",
       "    .dataframe tbody tr th:only-of-type {\n",
       "        vertical-align: middle;\n",
       "    }\n",
       "\n",
       "    .dataframe tbody tr th {\n",
       "        vertical-align: top;\n",
       "    }\n",
       "\n",
       "    .dataframe thead th {\n",
       "        text-align: right;\n",
       "    }\n",
       "</style>\n",
       "<table border=\"1\" class=\"dataframe\">\n",
       "  <thead>\n",
       "    <tr style=\"text-align: right;\">\n",
       "      <th></th>\n",
       "      <th>intercept</th>\n",
       "      <th>Lag1</th>\n",
       "      <th>Lag2</th>\n",
       "    </tr>\n",
       "  </thead>\n",
       "  <tbody>\n",
       "    <tr>\n",
       "      <th>0</th>\n",
       "      <td>1.0</td>\n",
       "      <td>0.816</td>\n",
       "      <td>1.572</td>\n",
       "    </tr>\n",
       "    <tr>\n",
       "      <th>1</th>\n",
       "      <td>1.0</td>\n",
       "      <td>-0.270</td>\n",
       "      <td>0.816</td>\n",
       "    </tr>\n",
       "    <tr>\n",
       "      <th>2</th>\n",
       "      <td>1.0</td>\n",
       "      <td>-2.576</td>\n",
       "      <td>-0.270</td>\n",
       "    </tr>\n",
       "    <tr>\n",
       "      <th>3</th>\n",
       "      <td>1.0</td>\n",
       "      <td>3.514</td>\n",
       "      <td>-2.576</td>\n",
       "    </tr>\n",
       "    <tr>\n",
       "      <th>4</th>\n",
       "      <td>1.0</td>\n",
       "      <td>0.712</td>\n",
       "      <td>3.514</td>\n",
       "    </tr>\n",
       "  </tbody>\n",
       "</table>\n",
       "</div>"
      ],
      "text/plain": [
       "   intercept   Lag1   Lag2\n",
       "0        1.0  0.816  1.572\n",
       "1        1.0 -0.270  0.816\n",
       "2        1.0 -2.576 -0.270\n",
       "3        1.0  3.514 -2.576\n",
       "4        1.0  0.712  3.514"
      ]
     },
     "execution_count": 26,
     "metadata": {},
     "output_type": "execute_result"
    }
   ],
   "source": [
    "X.head()"
   ]
  },
  {
   "cell_type": "code",
   "execution_count": 27,
   "id": "d7e82501-fd54-497f-8a25-ba808e7b9f6b",
   "metadata": {},
   "outputs": [
    {
     "data": {
      "text/plain": [
       "0    False\n",
       "1    False\n",
       "2     True\n",
       "3     True\n",
       "4     True\n",
       "Name: Direction, dtype: bool"
      ]
     },
     "execution_count": 27,
     "metadata": {},
     "output_type": "execute_result"
    }
   ],
   "source": [
    "y.head()"
   ]
  },
  {
   "cell_type": "code",
   "execution_count": 28,
   "id": "2f7e593d-436a-4df9-8851-acda8408980c",
   "metadata": {},
   "outputs": [
    {
     "data": {
      "text/html": [
       "<div>\n",
       "<style scoped>\n",
       "    .dataframe tbody tr th:only-of-type {\n",
       "        vertical-align: middle;\n",
       "    }\n",
       "\n",
       "    .dataframe tbody tr th {\n",
       "        vertical-align: top;\n",
       "    }\n",
       "\n",
       "    .dataframe thead th {\n",
       "        text-align: right;\n",
       "    }\n",
       "</style>\n",
       "<table border=\"1\" class=\"dataframe\">\n",
       "  <thead>\n",
       "    <tr style=\"text-align: right;\">\n",
       "      <th></th>\n",
       "      <th>coef</th>\n",
       "      <th>std err</th>\n",
       "      <th>z</th>\n",
       "      <th>P&gt;|z|</th>\n",
       "    </tr>\n",
       "  </thead>\n",
       "  <tbody>\n",
       "    <tr>\n",
       "      <th>intercept</th>\n",
       "      <td>0.2212</td>\n",
       "      <td>0.061</td>\n",
       "      <td>3.599</td>\n",
       "      <td>0.000</td>\n",
       "    </tr>\n",
       "    <tr>\n",
       "      <th>Lag1</th>\n",
       "      <td>-0.0387</td>\n",
       "      <td>0.026</td>\n",
       "      <td>-1.477</td>\n",
       "      <td>0.140</td>\n",
       "    </tr>\n",
       "    <tr>\n",
       "      <th>Lag2</th>\n",
       "      <td>0.0602</td>\n",
       "      <td>0.027</td>\n",
       "      <td>2.270</td>\n",
       "      <td>0.023</td>\n",
       "    </tr>\n",
       "  </tbody>\n",
       "</table>\n",
       "</div>"
      ],
      "text/plain": [
       "             coef  std err      z  P>|z|\n",
       "intercept  0.2212    0.061  3.599  0.000\n",
       "Lag1      -0.0387    0.026 -1.477  0.140\n",
       "Lag2       0.0602    0.027  2.270  0.023"
      ]
     },
     "execution_count": 28,
     "metadata": {},
     "output_type": "execute_result"
    }
   ],
   "source": [
    "glm1 = sm.GLM(y, X, family=sm.families.Binomial())\n",
    "results1 = glm1.fit()\n",
    "summarize(results1)"
   ]
  },
  {
   "cell_type": "markdown",
   "id": "c873fbbd-7c10-4954-830f-a33b630da5b7",
   "metadata": {},
   "source": [
    "Leaving the first observation out"
   ]
  },
  {
   "cell_type": "code",
   "execution_count": 29,
   "id": "65ad0618-470c-49dd-9407-00bb54e3cf4c",
   "metadata": {},
   "outputs": [
    {
     "data": {
      "text/html": [
       "<div>\n",
       "<style scoped>\n",
       "    .dataframe tbody tr th:only-of-type {\n",
       "        vertical-align: middle;\n",
       "    }\n",
       "\n",
       "    .dataframe tbody tr th {\n",
       "        vertical-align: top;\n",
       "    }\n",
       "\n",
       "    .dataframe thead th {\n",
       "        text-align: right;\n",
       "    }\n",
       "</style>\n",
       "<table border=\"1\" class=\"dataframe\">\n",
       "  <thead>\n",
       "    <tr style=\"text-align: right;\">\n",
       "      <th></th>\n",
       "      <th>coef</th>\n",
       "      <th>std err</th>\n",
       "      <th>z</th>\n",
       "      <th>P&gt;|z|</th>\n",
       "    </tr>\n",
       "  </thead>\n",
       "  <tbody>\n",
       "    <tr>\n",
       "      <th>intercept</th>\n",
       "      <td>0.2232</td>\n",
       "      <td>0.061</td>\n",
       "      <td>3.630</td>\n",
       "      <td>0.000</td>\n",
       "    </tr>\n",
       "    <tr>\n",
       "      <th>Lag1</th>\n",
       "      <td>-0.0384</td>\n",
       "      <td>0.026</td>\n",
       "      <td>-1.466</td>\n",
       "      <td>0.143</td>\n",
       "    </tr>\n",
       "    <tr>\n",
       "      <th>Lag2</th>\n",
       "      <td>0.0608</td>\n",
       "      <td>0.027</td>\n",
       "      <td>2.291</td>\n",
       "      <td>0.022</td>\n",
       "    </tr>\n",
       "  </tbody>\n",
       "</table>\n",
       "</div>"
      ],
      "text/plain": [
       "             coef  std err      z  P>|z|\n",
       "intercept  0.2232    0.061  3.630  0.000\n",
       "Lag1      -0.0384    0.026 -1.466  0.143\n",
       "Lag2       0.0608    0.027  2.291  0.022"
      ]
     },
     "execution_count": 29,
     "metadata": {},
     "output_type": "execute_result"
    }
   ],
   "source": [
    "glm2 = sm.GLM(y.iloc[1:], X.iloc[1:], family=sm.families.Binomial())\n",
    "results2 = glm2.fit()\n",
    "summarize(results2)"
   ]
  },
  {
   "cell_type": "code",
   "execution_count": 30,
   "id": "4f7185ab-b041-4eea-85f3-58df331114ff",
   "metadata": {},
   "outputs": [
    {
     "data": {
      "text/plain": [
       "0    0.571392\n",
       "dtype: float64"
      ]
     },
     "execution_count": 30,
     "metadata": {},
     "output_type": "execute_result"
    }
   ],
   "source": [
    "prob = results2.predict(X.iloc[0:1])\n",
    "prob"
   ]
  },
  {
   "cell_type": "markdown",
   "id": "cd33ee82-e5c2-4699-a719-3790bb79db56",
   "metadata": {},
   "source": [
    "It seems the first observation was incorrectly classified."
   ]
  },
  {
   "cell_type": "code",
   "execution_count": 31,
   "id": "0602d81d-2096-424e-9672-2185482724cc",
   "metadata": {},
   "outputs": [],
   "source": [
    "def up_down(is_up):\n",
    "    return 'Up' if is_up else 'Down'"
   ]
  },
  {
   "cell_type": "code",
   "execution_count": 32,
   "id": "4bb7834a-95d4-4a5e-8dd6-93bc0c945f26",
   "metadata": {},
   "outputs": [
    {
     "data": {
      "text/plain": [
       "('Up', 'Down')"
      ]
     },
     "execution_count": 32,
     "metadata": {},
     "output_type": "execute_result"
    }
   ],
   "source": [
    "up_down(prob[0] > .5), up_down(y[0])"
   ]
  },
  {
   "cell_type": "code",
   "execution_count": 33,
   "id": "27e7b80d-283d-4515-992d-d7d44fd25d1a",
   "metadata": {},
   "outputs": [
    {
     "data": {
      "text/plain": [
       "(1089, 3)"
      ]
     },
     "execution_count": 33,
     "metadata": {},
     "output_type": "execute_result"
    }
   ],
   "source": [
    "X.shape"
   ]
  },
  {
   "cell_type": "code",
   "execution_count": 34,
   "id": "410a5e07-72cc-43e5-96f5-58d754c010df",
   "metadata": {},
   "outputs": [
    {
     "data": {
      "text/html": [
       "<div>\n",
       "<style scoped>\n",
       "    .dataframe tbody tr th:only-of-type {\n",
       "        vertical-align: middle;\n",
       "    }\n",
       "\n",
       "    .dataframe tbody tr th {\n",
       "        vertical-align: top;\n",
       "    }\n",
       "\n",
       "    .dataframe thead th {\n",
       "        text-align: right;\n",
       "    }\n",
       "</style>\n",
       "<table border=\"1\" class=\"dataframe\">\n",
       "  <thead>\n",
       "    <tr style=\"text-align: right;\">\n",
       "      <th></th>\n",
       "      <th>intercept</th>\n",
       "      <th>Lag1</th>\n",
       "      <th>Lag2</th>\n",
       "    </tr>\n",
       "  </thead>\n",
       "  <tbody>\n",
       "    <tr>\n",
       "      <th>1</th>\n",
       "      <td>1.0</td>\n",
       "      <td>-0.27</td>\n",
       "      <td>0.816</td>\n",
       "    </tr>\n",
       "  </tbody>\n",
       "</table>\n",
       "</div>"
      ],
      "text/plain": [
       "   intercept  Lag1   Lag2\n",
       "1        1.0 -0.27  0.816"
      ]
     },
     "execution_count": 34,
     "metadata": {},
     "output_type": "execute_result"
    }
   ],
   "source": [
    "X.loc[X.index.isin([1])]"
   ]
  },
  {
   "cell_type": "code",
   "execution_count": 35,
   "id": "ec3367e7-b8ed-4dcf-b6ee-8d5c66a7f79c",
   "metadata": {},
   "outputs": [
    {
     "data": {
      "text/plain": [
       "array([0., 0., 0., 0., 0., 0., 0., 0., 0., 0.])"
      ]
     },
     "execution_count": 35,
     "metadata": {},
     "output_type": "execute_result"
    }
   ],
   "source": [
    "np.zeros(10)"
   ]
  },
  {
   "cell_type": "code",
   "execution_count": 36,
   "id": "a9d8de03-abdb-4320-90b9-3b6cb0b64d66",
   "metadata": {},
   "outputs": [
    {
     "name": "stdout",
     "output_type": "stream",
     "text": [
      "................................................................................................................................................................................................................................................................................................................................................................................................................................................................................................................................................................................................................................................................................................................................................................................................................................................................................................................................................................................................................................................................................................................................."
     ]
    }
   ],
   "source": [
    "n = X.shape[0]\n",
    "misclassified = np.zeros(n)\n",
    "\n",
    "for i in range(0, n):\n",
    "    print('.', end='')\n",
    "    # exclude ith index\n",
    "    idx = X.index.isin([i])\n",
    "    glm = sm.GLM(y.loc[~idx], X.loc[~idx], family=sm.families.Binomial())\n",
    "    results = glm.fit()\n",
    "    prob = results.predict(X.loc[idx])\n",
    "\n",
    "    misclassified[i] = up_down(prob[i] > .5) == up_down(y[i])"
   ]
  },
  {
   "cell_type": "code",
   "execution_count": 37,
   "id": "034b50ed-b347-4097-aab2-e85d3bc44e8c",
   "metadata": {},
   "outputs": [
    {
     "data": {
      "text/plain": [
       "55.00459136822773"
      ]
     },
     "execution_count": 37,
     "metadata": {},
     "output_type": "execute_result"
    }
   ],
   "source": [
    "np.mean(misclassified) * 100"
   ]
  },
  {
   "cell_type": "markdown",
   "id": "88acd6af-cb4e-4f19-a072-84b10218d6ee",
   "metadata": {},
   "source": [
    "The error rate is 55%, which is worst than random guessing!"
   ]
  },
  {
   "cell_type": "markdown",
   "id": "5649e3e1-3d42-403b-b7fb-4b2dabf1fed3",
   "metadata": {},
   "source": [
    "### Cross-validation on simulated data"
   ]
  },
  {
   "cell_type": "code",
   "execution_count": 38,
   "id": "54b1777f-05e5-407d-98fb-a446035cfd32",
   "metadata": {},
   "outputs": [
    {
     "data": {
      "text/html": [
       "<div>\n",
       "<style scoped>\n",
       "    .dataframe tbody tr th:only-of-type {\n",
       "        vertical-align: middle;\n",
       "    }\n",
       "\n",
       "    .dataframe tbody tr th {\n",
       "        vertical-align: top;\n",
       "    }\n",
       "\n",
       "    .dataframe thead th {\n",
       "        text-align: right;\n",
       "    }\n",
       "</style>\n",
       "<table border=\"1\" class=\"dataframe\">\n",
       "  <thead>\n",
       "    <tr style=\"text-align: right;\">\n",
       "      <th></th>\n",
       "      <th>x</th>\n",
       "      <th>y</th>\n",
       "    </tr>\n",
       "  </thead>\n",
       "  <tbody>\n",
       "    <tr>\n",
       "      <th>0</th>\n",
       "      <td>0.345584</td>\n",
       "      <td>-0.544554</td>\n",
       "    </tr>\n",
       "    <tr>\n",
       "      <th>1</th>\n",
       "      <td>0.821618</td>\n",
       "      <td>0.333950</td>\n",
       "    </tr>\n",
       "    <tr>\n",
       "      <th>2</th>\n",
       "      <td>0.330437</td>\n",
       "      <td>-0.013532</td>\n",
       "    </tr>\n",
       "    <tr>\n",
       "      <th>3</th>\n",
       "      <td>-1.303157</td>\n",
       "      <td>-4.030442</td>\n",
       "    </tr>\n",
       "    <tr>\n",
       "      <th>4</th>\n",
       "      <td>0.905356</td>\n",
       "      <td>0.484861</td>\n",
       "    </tr>\n",
       "  </tbody>\n",
       "</table>\n",
       "</div>"
      ],
      "text/plain": [
       "          x         y\n",
       "0  0.345584 -0.544554\n",
       "1  0.821618  0.333950\n",
       "2  0.330437 -0.013532\n",
       "3 -1.303157 -4.030442\n",
       "4  0.905356  0.484861"
      ]
     },
     "execution_count": 38,
     "metadata": {},
     "output_type": "execute_result"
    }
   ],
   "source": [
    "rng = np.random.default_rng(1)\n",
    "n = 100\n",
    "x = rng.normal(size=n)\n",
    "y = x - 2 * x**2 + rng.normal(size=n)\n",
    "\n",
    "Sim = pd.DataFrame({'x': x, 'y': y})\n",
    "Sim.head()"
   ]
  },
  {
   "cell_type": "code",
   "execution_count": 39,
   "id": "bde67873-c388-4849-a965-1e7e4c8f0db3",
   "metadata": {},
   "outputs": [
    {
     "data": {
      "image/png": "[encoded data removed]",
      "text/plain": [
       "<Figure size 600x600 with 1 Axes>"
      ]
     },
     "metadata": {},
     "output_type": "display_data"
    }
   ],
   "source": [
    "_, ax = plt.subplots(figsize=(6, 6))\n",
    "ax.set_xlabel('x')\n",
    "ax.set_ylabel('y')\n",
    "ax.scatter(x, y);"
   ]
  },
  {
   "cell_type": "markdown",
   "id": "e3b87347-8b1e-4013-ae2b-f2be2a784786",
   "metadata": {},
   "source": [
    "The data shows a non-linear pattern."
   ]
  },
  {
   "cell_type": "code",
   "execution_count": 40,
   "id": "938c2df9-8d02-4f5e-a786-956b7e001d2f",
   "metadata": {},
   "outputs": [],
   "source": [
    "# random index from Sim data\n",
    "# Sim.loc[rng.choice(Sim.index, 1)]"
   ]
  },
  {
   "cell_type": "markdown",
   "id": "6a748e01-4a92-4078-9826-3bbb9801b055",
   "metadata": {},
   "source": [
    "We use [sklearn_sm](https://islp.readthedocs.io/en/latest/api/generated/ISLP.models.sklearn_wrap.html#ISLP.models.sklearn_wrap.sklearn_sm.score) to wrap `sm.OLS`. As per `sklearn_sm`, the [score](https://github.com/intro-stat-learning/ISLP/blob/main/ISLP/models/sklearn_wrap.py#L116) method uses MSE scoring."
   ]
  },
  {
   "cell_type": "code",
   "execution_count": 50,
   "id": "4e2b11aa-e04a-4ff1-9d42-37f4c51eac75",
   "metadata": {},
   "outputs": [
    {
     "data": {
      "text/plain": [
       "array([6.63302984, 1.12293686, 1.30179655, 1.33239427])"
      ]
     },
     "execution_count": 50,
     "metadata": {},
     "output_type": "execute_result"
    }
   ],
   "source": [
    "cv_error = np.zeros(4)\n",
    "x = np.array(Sim['x'])\n",
    "\n",
    "# wraps sm.OLS for sklearn, scoring uses MSE.\n",
    "sk_ols = sklearn_sm(sm.OLS)\n",
    "y = Sim['y']\n",
    "\n",
    "for i, degree in enumerate(range(1, 5)):\n",
    "    # add polynomial degree\n",
    "    X = np.power.outer(x, np.arange(degree+1))\n",
    "    score = cross_validate(sk_ols, X, y, cv=Sim.shape[0])\n",
    "    # take the mean of all scores\n",
    "    cv_error[i] = np.mean(score['test_score'])\n",
    "\n",
    "cv_error"
   ]
  },
  {
   "cell_type": "code",
   "execution_count": 42,
   "id": "17483d5e-5e6e-4e0b-bcb5-a88f2864f76a",
   "metadata": {},
   "outputs": [
    {
     "data": {
      "text/html": [
       "<div>\n",
       "<style scoped>\n",
       "    .dataframe tbody tr th:only-of-type {\n",
       "        vertical-align: middle;\n",
       "    }\n",
       "\n",
       "    .dataframe tbody tr th {\n",
       "        vertical-align: top;\n",
       "    }\n",
       "\n",
       "    .dataframe thead th {\n",
       "        text-align: right;\n",
       "    }\n",
       "</style>\n",
       "<table border=\"1\" class=\"dataframe\">\n",
       "  <thead>\n",
       "    <tr style=\"text-align: right;\">\n",
       "      <th></th>\n",
       "      <th>x</th>\n",
       "      <th>y</th>\n",
       "    </tr>\n",
       "  </thead>\n",
       "  <tbody>\n",
       "    <tr>\n",
       "      <th>0</th>\n",
       "      <td>2.040919</td>\n",
       "      <td>-6.606938</td>\n",
       "    </tr>\n",
       "    <tr>\n",
       "      <th>1</th>\n",
       "      <td>-2.555665</td>\n",
       "      <td>-15.325279</td>\n",
       "    </tr>\n",
       "    <tr>\n",
       "      <th>2</th>\n",
       "      <td>0.418099</td>\n",
       "      <td>-0.174850</td>\n",
       "    </tr>\n",
       "    <tr>\n",
       "      <th>3</th>\n",
       "      <td>-0.567770</td>\n",
       "      <td>-0.395288</td>\n",
       "    </tr>\n",
       "    <tr>\n",
       "      <th>4</th>\n",
       "      <td>-0.452649</td>\n",
       "      <td>-1.656879</td>\n",
       "    </tr>\n",
       "  </tbody>\n",
       "</table>\n",
       "</div>"
      ],
      "text/plain": [
       "          x          y\n",
       "0  2.040919  -6.606938\n",
       "1 -2.555665 -15.325279\n",
       "2  0.418099  -0.174850\n",
       "3 -0.567770  -0.395288\n",
       "4 -0.452649  -1.656879"
      ]
     },
     "execution_count": 42,
     "metadata": {},
     "output_type": "execute_result"
    }
   ],
   "source": [
    "rng = np.random.default_rng(3)\n",
    "n = 100\n",
    "x = rng.normal(size=n)\n",
    "y = x - 2 * x**2 + rng.normal(size=n)\n",
    "\n",
    "Sim2 = pd.DataFrame({'x': x, 'y': y})\n",
    "Sim2.head()"
   ]
  },
  {
   "cell_type": "code",
   "execution_count": 49,
   "id": "9879e34f-3a4b-45cc-aa7b-b5ac100ce63c",
   "metadata": {},
   "outputs": [
    {
     "data": {
      "text/plain": [
       "array([14.55880836,  1.04488356,  0.9342266 ,  0.94655557])"
      ]
     },
     "execution_count": 49,
     "metadata": {},
     "output_type": "execute_result"
    }
   ],
   "source": [
    "cv_error = np.zeros(8)\n",
    "x = np.array(Sim2['x'])\n",
    "sk_ols = sklearn_sm(sm.OLS)\n",
    "y = Sim2['y']\n",
    "\n",
    "cv_error = np.zeros(4)\n",
    "for i, degree in enumerate(range(1, 5)):\n",
    "    # add polynomial degree\n",
    "    X = np.power.outer(x, np.arange(degree+1))\n",
    "    score = cross_validate(sk_ols, X, y, cv=Sim.shape[0])\n",
    "    cv_error[i] = np.mean(score['test_score'])\n",
    "\n",
    "cv_error"
   ]
  },
  {
   "cell_type": "markdown",
   "id": "06549a4d-ecdd-4ea5-abd1-c62655ff38a0",
   "metadata": {},
   "source": [
    "As can be seen above, adding cubic term provides a substatial improvement on the score, tho, higher degrees don't provide significant improvement."
   ]
  },
  {
   "cell_type": "markdown",
   "id": "28290368-c718-4f2b-85db-044e5586a0d6",
   "metadata": {},
   "source": [
    "### Bootstrap estimates"
   ]
  },
  {
   "cell_type": "code",
   "execution_count": 51,
   "id": "c96a365f-36f6-482b-9417-3a04c48fe3b0",
   "metadata": {},
   "outputs": [
    {
     "data": {
      "text/html": [
       "<div>\n",
       "<style scoped>\n",
       "    .dataframe tbody tr th:only-of-type {\n",
       "        vertical-align: middle;\n",
       "    }\n",
       "\n",
       "    .dataframe tbody tr th {\n",
       "        vertical-align: top;\n",
       "    }\n",
       "\n",
       "    .dataframe thead th {\n",
       "        text-align: right;\n",
       "    }\n",
       "</style>\n",
       "<table border=\"1\" class=\"dataframe\">\n",
       "  <thead>\n",
       "    <tr style=\"text-align: right;\">\n",
       "      <th></th>\n",
       "      <th>crim</th>\n",
       "      <th>zn</th>\n",
       "      <th>indus</th>\n",
       "      <th>chas</th>\n",
       "      <th>nox</th>\n",
       "      <th>rm</th>\n",
       "      <th>age</th>\n",
       "      <th>dis</th>\n",
       "      <th>rad</th>\n",
       "      <th>tax</th>\n",
       "      <th>ptratio</th>\n",
       "      <th>lstat</th>\n",
       "      <th>medv</th>\n",
       "    </tr>\n",
       "  </thead>\n",
       "  <tbody>\n",
       "    <tr>\n",
       "      <th>0</th>\n",
       "      <td>0.00632</td>\n",
       "      <td>18.0</td>\n",
       "      <td>2.31</td>\n",
       "      <td>0</td>\n",
       "      <td>0.538</td>\n",
       "      <td>6.575</td>\n",
       "      <td>65.2</td>\n",
       "      <td>4.0900</td>\n",
       "      <td>1</td>\n",
       "      <td>296</td>\n",
       "      <td>15.3</td>\n",
       "      <td>4.98</td>\n",
       "      <td>24.0</td>\n",
       "    </tr>\n",
       "    <tr>\n",
       "      <th>1</th>\n",
       "      <td>0.02731</td>\n",
       "      <td>0.0</td>\n",
       "      <td>7.07</td>\n",
       "      <td>0</td>\n",
       "      <td>0.469</td>\n",
       "      <td>6.421</td>\n",
       "      <td>78.9</td>\n",
       "      <td>4.9671</td>\n",
       "      <td>2</td>\n",
       "      <td>242</td>\n",
       "      <td>17.8</td>\n",
       "      <td>9.14</td>\n",
       "      <td>21.6</td>\n",
       "    </tr>\n",
       "    <tr>\n",
       "      <th>2</th>\n",
       "      <td>0.02729</td>\n",
       "      <td>0.0</td>\n",
       "      <td>7.07</td>\n",
       "      <td>0</td>\n",
       "      <td>0.469</td>\n",
       "      <td>7.185</td>\n",
       "      <td>61.1</td>\n",
       "      <td>4.9671</td>\n",
       "      <td>2</td>\n",
       "      <td>242</td>\n",
       "      <td>17.8</td>\n",
       "      <td>4.03</td>\n",
       "      <td>34.7</td>\n",
       "    </tr>\n",
       "    <tr>\n",
       "      <th>3</th>\n",
       "      <td>0.03237</td>\n",
       "      <td>0.0</td>\n",
       "      <td>2.18</td>\n",
       "      <td>0</td>\n",
       "      <td>0.458</td>\n",
       "      <td>6.998</td>\n",
       "      <td>45.8</td>\n",
       "      <td>6.0622</td>\n",
       "      <td>3</td>\n",
       "      <td>222</td>\n",
       "      <td>18.7</td>\n",
       "      <td>2.94</td>\n",
       "      <td>33.4</td>\n",
       "    </tr>\n",
       "    <tr>\n",
       "      <th>4</th>\n",
       "      <td>0.06905</td>\n",
       "      <td>0.0</td>\n",
       "      <td>2.18</td>\n",
       "      <td>0</td>\n",
       "      <td>0.458</td>\n",
       "      <td>7.147</td>\n",
       "      <td>54.2</td>\n",
       "      <td>6.0622</td>\n",
       "      <td>3</td>\n",
       "      <td>222</td>\n",
       "      <td>18.7</td>\n",
       "      <td>5.33</td>\n",
       "      <td>36.2</td>\n",
       "    </tr>\n",
       "  </tbody>\n",
       "</table>\n",
       "</div>"
      ],
      "text/plain": [
       "      crim    zn  indus  chas    nox     rm   age     dis  rad  tax  ptratio  \\\n",
       "0  0.00632  18.0   2.31     0  0.538  6.575  65.2  4.0900    1  296     15.3   \n",
       "1  0.02731   0.0   7.07     0  0.469  6.421  78.9  4.9671    2  242     17.8   \n",
       "2  0.02729   0.0   7.07     0  0.469  7.185  61.1  4.9671    2  242     17.8   \n",
       "3  0.03237   0.0   2.18     0  0.458  6.998  45.8  6.0622    3  222     18.7   \n",
       "4  0.06905   0.0   2.18     0  0.458  7.147  54.2  6.0622    3  222     18.7   \n",
       "\n",
       "   lstat  medv  \n",
       "0   4.98  24.0  \n",
       "1   9.14  21.6  \n",
       "2   4.03  34.7  \n",
       "3   2.94  33.4  \n",
       "4   5.33  36.2  "
      ]
     },
     "execution_count": 51,
     "metadata": {},
     "output_type": "execute_result"
    }
   ],
   "source": [
    "Boston = load_data('Boston')\n",
    "Boston.head()"
   ]
  },
  {
   "cell_type": "code",
   "execution_count": 57,
   "id": "1760cb50-a3f5-4849-bff8-810091bddb8f",
   "metadata": {},
   "outputs": [
    {
     "data": {
      "text/plain": [
       "(506, 13)"
      ]
     },
     "execution_count": 57,
     "metadata": {},
     "output_type": "execute_result"
    }
   ],
   "source": [
    "Boston.shape"
   ]
  },
  {
   "cell_type": "markdown",
   "id": "8119025b-9c1a-4a40-b169-ac433a48b36f",
   "metadata": {},
   "source": [
    "#### Mean estimate"
   ]
  },
  {
   "cell_type": "markdown",
   "id": "e9fa4fca-e88c-4b9f-bbfb-0a1d648b23f6",
   "metadata": {},
   "source": [
    "Sample mean and standard deviation of `medv`, $\\hat \\mu$"
   ]
  },
  {
   "cell_type": "code",
   "execution_count": 61,
   "id": "c237a569-fde0-4031-bcd5-aece8d5ebf03",
   "metadata": {},
   "outputs": [
    {
     "data": {
      "text/plain": [
       "(22.532806324110677, 9.197104087379818)"
      ]
     },
     "execution_count": 61,
     "metadata": {},
     "output_type": "execute_result"
    }
   ],
   "source": [
    "Boston['medv'].mean(), Boston['medv'].std()"
   ]
  },
  {
   "cell_type": "markdown",
   "id": "f4ead812-8962-4d01-b4d8-0cc88c86e640",
   "metadata": {},
   "source": [
    "Standard error of the sample mean.\n",
    "\n",
    "$\n",
    "SE{\\hat \\mu} = \\frac{s}{\\sqrt{n}}\n",
    "$"
   ]
  },
  {
   "cell_type": "code",
   "execution_count": 62,
   "id": "b09757e3-f161-41a3-9dd5-9078a779c6cc",
   "metadata": {},
   "outputs": [
    {
     "data": {
      "text/plain": [
       "(0.40886114749753505, 0.40886114749753505)"
      ]
     },
     "execution_count": 62,
     "metadata": {},
     "output_type": "execute_result"
    }
   ],
   "source": [
    "Boston['medv'].std()/Boston.shape[0]**.5, Boston['medv'].sem()"
   ]
  },
  {
   "cell_type": "code",
   "execution_count": 66,
   "id": "eaa17f6d-8715-4089-b6cf-859a1e7fbddd",
   "metadata": {},
   "outputs": [
    {
     "data": {
      "text/plain": [
       "0      24.0\n",
       "1      21.6\n",
       "2      34.7\n",
       "3      33.4\n",
       "4      36.2\n",
       "       ... \n",
       "501    22.4\n",
       "502    20.6\n",
       "503    23.9\n",
       "504    22.0\n",
       "505    11.9\n",
       "Name: medv, Length: 506, dtype: float64"
      ]
     },
     "execution_count": 66,
     "metadata": {},
     "output_type": "execute_result"
    }
   ],
   "source": [
    "Boston['medv'].loc[:]"
   ]
  },
  {
   "cell_type": "code",
   "execution_count": 123,
   "id": "ac0dfc50-0178-4795-b192-911514ef8e79",
   "metadata": {},
   "outputs": [
    {
     "data": {
      "text/plain": [
       "0.4153379484779142"
      ]
     },
     "execution_count": 123,
     "metadata": {},
     "output_type": "execute_result"
    }
   ],
   "source": [
    "boot_SE(mu_func2, Boston['medv'], B=1000, seed=1)"
   ]
  },
  {
   "cell_type": "code",
   "execution_count": 128,
   "id": "cb2be57a-6f22-4962-8cd6-44db427cbd7d",
   "metadata": {},
   "outputs": [],
   "source": [
    "def mu_func(df):\n",
    "    return df.mean()\n",
    "\n",
    "def mu_func2(df, idx):\n",
    "    return df.loc[idx].mean()\n",
    "    \n",
    "def boot_SE2(func, df, n=None, B=1000, seed=1):\n",
    "    rng = np.random.RandomState(seed)\n",
    "    first_, second_ = 0, 0\n",
    "    n = n or df.shape[0]\n",
    "\n",
    "    for _ in range(B):\n",
    "        sample = resample(df, n_samples=n, random_state=rng)\n",
    "        value = func(sample)\n",
    "        first_ += value\n",
    "        second_ += value**2\n",
    "\n",
    "    return np.sqrt(second_ / B - (first_ / B)**2)\n",
    "\n",
    "def resample_SE(func, df, n=None, B=1000, seed=1):\n",
    "    rng = np.random.RandomState(seed)\n",
    "    n = n or df.shape[0]\n",
    "\n",
    "    ests = []\n",
    "    \n",
    "    for _ in range(B):\n",
    "        sample = resample(df, n_samples=n, random_state=rng)\n",
    "        est = func(sample)\n",
    "        ests.append(est)\n",
    "\n",
    "    # Convert to array for numerical operations\n",
    "    # estimates = np.array(estimates)\n",
    "    mean_est = np.mean(ests)\n",
    "    sqrd_err = np.sum((ests - mean_est)**2)\n",
    "    \n",
    "    # Standard error = std deviation of bootstrap estimates\n",
    "    return np.sqrt(sqrd_err / (B - 1))"
   ]
  },
  {
   "cell_type": "markdown",
   "id": "2a8dd19c-42b0-40c4-90ca-42d261540652",
   "metadata": {},
   "source": [
    "Bootstrap estimates are 0.01 higher than the original estimates."
   ]
  },
  {
   "cell_type": "code",
   "execution_count": 136,
   "id": "6311cfca-4c62-4005-a17b-3a9e4ac90e8e",
   "metadata": {},
   "outputs": [
    {
     "data": {
      "text/plain": [
       "0.41260905740250564"
      ]
     },
     "execution_count": 136,
     "metadata": {},
     "output_type": "execute_result"
    }
   ],
   "source": [
    "resample_SE(mu_func, Boston['medv'], B=1000)"
   ]
  },
  {
   "cell_type": "code",
   "execution_count": 133,
   "id": "71898198-0354-45f5-a704-223661172aa4",
   "metadata": {},
   "outputs": [
    {
     "data": {
      "text/plain": [
       "0.4124027012694416"
      ]
     },
     "execution_count": 133,
     "metadata": {},
     "output_type": "execute_result"
    }
   ],
   "source": [
    "boot_SE2(mu_func, Boston['medv'], B=1000)"
   ]
  },
  {
   "cell_type": "markdown",
   "id": "66310f9d-5004-44b0-bfca-49ca991dceff",
   "metadata": {},
   "source": [
    "95% confidence interval mean estimates.\n",
    "\n",
    "$[{\\hat \\mu} - 2SE({\\hat \\mu}), {\\hat \\mu} + 2SE({\\hat \\mu})]$"
   ]
  },
  {
   "cell_type": "code",
   "execution_count": 153,
   "id": "a3a1b414-5725-4ae3-9390-faf54660525c",
   "metadata": {},
   "outputs": [
    {
     "data": {
      "text/plain": [
       "(22.532806324110677, 0.41260905740250564)"
      ]
     },
     "execution_count": 153,
     "metadata": {},
     "output_type": "execute_result"
    }
   ],
   "source": [
    "y = Boston['medv']\n",
    "mu_hat = y.mean()\n",
    "mu_hat_se = resample_SE(mu_func, y, B=1000)\n",
    "mu_hat, mu_hat_se"
   ]
  },
  {
   "cell_type": "code",
   "execution_count": 152,
   "id": "75a21092-6a04-41fc-bae4-03c11f987852",
   "metadata": {},
   "outputs": [
    {
     "data": {
      "text/plain": [
       "(21.707588209305666, 23.358024438915688)"
      ]
     },
     "execution_count": 152,
     "metadata": {},
     "output_type": "execute_result"
    }
   ],
   "source": [
    "mu_hat - 2*mu_hat_se, mu_hat + 2*mu_hat_se"
   ]
  },
  {
   "cell_type": "markdown",
   "id": "b89f7929-eda3-48f5-a74c-df9d174c518e",
   "metadata": {},
   "source": [
    "#### Median estimates"
   ]
  },
  {
   "cell_type": "code",
   "execution_count": 140,
   "id": "f299b760-be6b-48f8-a583-d986468d586f",
   "metadata": {},
   "outputs": [],
   "source": [
    "def median_func(df):\n",
    "    return df.median()"
   ]
  },
  {
   "cell_type": "markdown",
   "id": "a33ceac4-06a1-4de1-a7a8-db529b174027",
   "metadata": {},
   "source": [
    "Median and median estimate SE"
   ]
  },
  {
   "cell_type": "code",
   "execution_count": 155,
   "id": "b6f17395-aa12-42eb-83dc-326264f7fef0",
   "metadata": {},
   "outputs": [
    {
     "data": {
      "text/plain": [
       "(21.2, 0.3758169552300473)"
      ]
     },
     "execution_count": 155,
     "metadata": {},
     "output_type": "execute_result"
    }
   ],
   "source": [
    "mu_hat_med = y.median()\n",
    "mu_hat_med_se = resample_SE(median_func, y, B=100)\n",
    "\n",
    "mu_hat_med, mu_hat_med_se"
   ]
  },
  {
   "cell_type": "markdown",
   "id": "0429156e-1973-45cc-a88e-583e0a49f116",
   "metadata": {},
   "source": [
    "95% confidence interval of estimates."
   ]
  },
  {
   "cell_type": "code",
   "execution_count": 156,
   "id": "021e3764-1755-4bd1-8f1f-637c273b9e6c",
   "metadata": {},
   "outputs": [
    {
     "data": {
      "text/plain": [
       "(20.448366089539906, 21.951633910460092)"
      ]
     },
     "execution_count": 156,
     "metadata": {},
     "output_type": "execute_result"
    }
   ],
   "source": [
    "mu_hat_med - 2*mu_hat_med_se, mu_hat_med + 2*mu_hat_med_se"
   ]
  },
  {
   "cell_type": "markdown",
   "id": "0c62f6dc-d146-439d-8e25-43abad0ceeeb",
   "metadata": {},
   "source": [
    "#### 10th percentile estimates"
   ]
  },
  {
   "cell_type": "code",
   "execution_count": 157,
   "id": "7f3dc32a-3e6e-49f0-8c29-47eba648bf14",
   "metadata": {},
   "outputs": [],
   "source": [
    "def pct_func(df):\n",
    "    return np.percentile(df, q=10)"
   ]
  },
  {
   "cell_type": "code",
   "execution_count": 158,
   "id": "a5dbc8ab-429d-4551-ae52-3260d42beef4",
   "metadata": {},
   "outputs": [
    {
     "data": {
      "text/plain": [
       "(12.75, 0.4886077952484769)"
      ]
     },
     "execution_count": 158,
     "metadata": {},
     "output_type": "execute_result"
    }
   ],
   "source": [
    "pct_hat = np.percentile(y, q=10)\n",
    "pct_hat_se = resample_SE(pct_func, y, B=1000)\n",
    "pct_hat, pct_hat_se"
   ]
  },
  {
   "cell_type": "markdown",
   "id": "9b284f68-714c-4e54-aeaf-ad84ffd0d10a",
   "metadata": {},
   "source": [
    "95% confidence interval of estimate."
   ]
  },
  {
   "cell_type": "code",
   "execution_count": 159,
   "id": "8f38fec9-c67d-4831-ac5e-856d0c0ce5d5",
   "metadata": {},
   "outputs": [
    {
     "data": {
      "text/plain": [
       "(11.772784409503046, 13.727215590496954)"
      ]
     },
     "execution_count": 159,
     "metadata": {},
     "output_type": "execute_result"
    }
   ],
   "source": [
    "pct_hat - 2*pct_hat_se, pct_hat + 2*pct_hat_se"
   ]
  },
  {
   "cell_type": "code",
   "execution_count": null,
   "id": "824805db-f2e3-4e64-86eb-e510678da9e1",
   "metadata": {},
   "outputs": [],
   "source": []
  }
 ],
 "metadata": {
  "kernelspec": {
   "display_name": "Python 3 (ipykernel)",
   "language": "python",
   "name": "python3"
  },
  "language_info": {
   "codemirror_mode": {
    "name": "ipython",
    "version": 3
   },
   "file_extension": ".py",
   "mimetype": "text/x-python",
   "name": "python",
   "nbconvert_exporter": "python",
   "pygments_lexer": "ipython3",
   "version": "3.12.11"
  }
 },
 "nbformat": 4,
 "nbformat_minor": 5
}
