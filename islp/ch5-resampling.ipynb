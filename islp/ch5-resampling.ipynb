{
 "cells": [
  {
   "cell_type": "code",
   "execution_count": 1,
   "id": "1ba52006-ec35-4dcc-be5d-37470b235349",
   "metadata": {},
   "outputs": [],
   "source": [
    "from functools import partial\n",
    "\n",
    "import numpy as np\n",
    "import statsmodels.api as sm\n",
    "\n",
    "from ISLP import load_data\n",
    "from ISLP.models import (ModelSpec as MS, summarize, poly, sklearn_sm)\n",
    "\n",
    "from sklearn.model_selection import (train_test_split, cross_validate, KFold, ShuffleSplit)\n",
    "from sklearn.base import clone"
   ]
  },
  {
   "cell_type": "markdown",
   "id": "cac3b75a-7668-4c44-8ca9-b58eac7542f6",
   "metadata": {},
   "source": [
    "## 5.3.1 Validation set approach"
   ]
  },
  {
   "cell_type": "code",
   "execution_count": 2,
   "id": "5f0fbf26-f13d-49e8-8725-27db3f7d3c53",
   "metadata": {},
   "outputs": [],
   "source": [
    "Auto = load_data('Auto')\n",
    "Auto_train, Auto_valid = train_test_split(Auto, test_size=196, random_state=0)"
   ]
  },
  {
   "cell_type": "code",
   "execution_count": 3,
   "id": "e284d536-c36e-4a45-8ea1-278ca300f919",
   "metadata": {},
   "outputs": [],
   "source": [
    "hp_mm = MS(['horsepower'])\n",
    "X_train = hp_mm.fit_transform(Auto_train)\n",
    "y_train = Auto_train['mpg']\n",
    "model = sm.OLS(y_train, X_train)\n",
    "results = model.fit()"
   ]
  },
  {
   "cell_type": "code",
   "execution_count": 4,
   "id": "e59be1d3-7f8b-42fa-bbe3-a8ee980f8db0",
   "metadata": {},
   "outputs": [
    {
     "data": {
      "text/plain": [
       "23.61661706966988"
      ]
     },
     "execution_count": 4,
     "metadata": {},
     "output_type": "execute_result"
    }
   ],
   "source": [
    "X_valid = hp_mm.transform(Auto_valid)\n",
    "y_valid = Auto_valid['mpg']\n",
    "valid_pred = results.predict(X_valid)\n",
    "np.mean((y_valid - valid_pred) ** 2)"
   ]
  },
  {
   "cell_type": "code",
   "execution_count": 5,
   "id": "745ff118-b189-48b6-bfac-7fefa78afd38",
   "metadata": {},
   "outputs": [],
   "source": [
    "def evalMSE(terms, response, train, test):\n",
    "    mm = MS(terms)\n",
    "    X_train = mm.fit_transform(train)\n",
    "    y_train = train[response]\n",
    "\n",
    "    X_test = mm.transform(test)\n",
    "    y_test = test[response]\n",
    "\n",
    "    results = sm.OLS(y_train, X_train).fit()\n",
    "    test_preds = results.predict(X_test)\n",
    "\n",
    "    return np.mean((y_test - test_preds)**2)"
   ]
  },
  {
   "cell_type": "code",
   "execution_count": 6,
   "id": "18f76581-b3c6-4505-83cd-69288e9c709a",
   "metadata": {},
   "outputs": [
    {
     "data": {
      "text/plain": [
       "array([23.61661707, 18.76303135, 18.79694163])"
      ]
     },
     "execution_count": 6,
     "metadata": {},
     "output_type": "execute_result"
    }
   ],
   "source": [
    "MSE = np.zeros(3)\n",
    "\n",
    "for i, degree in enumerate(range(1, 4)):\n",
    "    MSE[i] = evalMSE([poly('horsepower', degree)], 'mpg', Auto_train, Auto_valid)\n",
    "\n",
    "MSE"
   ]
  },
  {
   "cell_type": "code",
   "execution_count": 7,
   "id": "919e62cf-a9b9-47cb-a2c2-8f8ec87941ce",
   "metadata": {},
   "outputs": [
    {
     "data": {
      "text/plain": [
       "array([20.75540796, 16.94510676, 16.97437833])"
      ]
     },
     "execution_count": 7,
     "metadata": {},
     "output_type": "execute_result"
    }
   ],
   "source": [
    "Auto_train, Auto_valid = train_test_split(Auto, test_size=196, random_state=3)\n",
    "\n",
    "MSE = np.zeros(3)\n",
    "\n",
    "for i, degree in enumerate(range(1, 4)):\n",
    "    MSE[i] = evalMSE([poly('horsepower', degree)], 'mpg', Auto_train, Auto_valid)\n",
    "\n",
    "MSE"
   ]
  },
  {
   "cell_type": "markdown",
   "id": "0bbe952d-1355-4e6c-8afd-3712bc04c06d",
   "metadata": {},
   "source": [
    "## 5.3.2 Cross-validation"
   ]
  },
  {
   "cell_type": "markdown",
   "id": "46e682e8-8bcc-4151-a226-282b866108b6",
   "metadata": {},
   "source": [
    "### LOOCV"
   ]
  },
  {
   "cell_type": "code",
   "execution_count": 8,
   "id": "54edacaa-e132-417d-a1a4-7255b4f8f5a6",
   "metadata": {},
   "outputs": [
    {
     "data": {
      "text/plain": [
       "24.23151351792924"
      ]
     },
     "execution_count": 8,
     "metadata": {},
     "output_type": "execute_result"
    }
   ],
   "source": [
    "hp_model = sklearn_sm(sm.OLS, MS(['horsepower']))\n",
    "\n",
    "X, y, = Auto.drop(columns=['mpg']), Auto['mpg']\n",
    "# LOOCV k=n\n",
    "cv_results = cross_validate(hp_model, X, y, cv=Auto.shape[0])\n",
    "cv_err = np.mean(cv_results['test_score'])\n",
    "cv_err"
   ]
  },
  {
   "cell_type": "code",
   "execution_count": 9,
   "id": "4e093f89-9497-4f06-aecc-8cfb2e1ffb15",
   "metadata": {},
   "outputs": [
    {
     "data": {
      "text/plain": [
       "array([24.23151352, 19.24821312, 19.33498406, 19.42443033, 19.03323827])"
      ]
     },
     "execution_count": 9,
     "metadata": {},
     "output_type": "execute_result"
    }
   ],
   "source": [
    "cv_error = np.zeros(5)\n",
    "H = np.array(Auto['horsepower'])\n",
    "M = sklearn_sm(sm.OLS)\n",
    "\n",
    "for i, d in enumerate(range(1, 6)):\n",
    "    X = np.power.outer(H, np.arange(d+1))\n",
    "    M_CV = cross_validate(M, X, y, cv=Auto.shape[0])\n",
    "    cv_error[i] = np.mean(M_CV['test_score'])\n",
    "\n",
    "cv_error"
   ]
  },
  {
   "cell_type": "code",
   "execution_count": 10,
   "id": "f45b31ce-6cbe-4383-90c5-44c2460e3773",
   "metadata": {},
   "outputs": [
    {
     "data": {
      "text/plain": [
       "array([0, 1])"
      ]
     },
     "execution_count": 10,
     "metadata": {},
     "output_type": "execute_result"
    }
   ],
   "source": [
    "np.arange(2)"
   ]
  },
  {
   "cell_type": "code",
   "execution_count": 11,
   "id": "4b6b162d-83ec-4d95-846d-25c82e69e442",
   "metadata": {},
   "outputs": [
    {
     "data": {
      "text/plain": [
       "array([[  1, 130],\n",
       "       [  1, 165]])"
      ]
     },
     "execution_count": 11,
     "metadata": {},
     "output_type": "execute_result"
    }
   ],
   "source": [
    "np.power.outer(H[:2], np.arange(2))"
   ]
  },
  {
   "cell_type": "code",
   "execution_count": 12,
   "id": "e83d9dfc-a9f0-47bf-b93d-7ccd2ef7ac76",
   "metadata": {},
   "outputs": [
    {
     "data": {
      "text/plain": [
       "array([[    1,   130, 16900],\n",
       "       [    1,   165, 27225]])"
      ]
     },
     "execution_count": 12,
     "metadata": {},
     "output_type": "execute_result"
    }
   ],
   "source": [
    "np.power.outer(H[:2], np.arange(3))"
   ]
  },
  {
   "cell_type": "code",
   "execution_count": 13,
   "id": "5e35bd9e-e30c-4e3b-951f-0a14aa88ade7",
   "metadata": {},
   "outputs": [
    {
     "data": {
      "text/plain": [
       "16900"
      ]
     },
     "execution_count": 13,
     "metadata": {},
     "output_type": "execute_result"
    }
   ],
   "source": [
    "130**2"
   ]
  },
  {
   "cell_type": "code",
   "execution_count": 14,
   "id": "9b65c127-97cb-4a84-8148-021f33c232e2",
   "metadata": {},
   "outputs": [
    {
     "data": {
      "text/plain": [
       "array([[ 5,  7],\n",
       "       [ 7,  9],\n",
       "       [11, 13]])"
      ]
     },
     "execution_count": 14,
     "metadata": {},
     "output_type": "execute_result"
    }
   ],
   "source": [
    "A = np.array([3, 5, 9])\n",
    "B = np.array([2, 4])\n",
    "np.add.outer(A, B)"
   ]
  },
  {
   "cell_type": "markdown",
   "id": "b5bcf71b-aafb-4f30-b26c-f071b20957e4",
   "metadata": {},
   "source": [
    "### K-fold CV"
   ]
  },
  {
   "cell_type": "code",
   "execution_count": 15,
   "id": "034cbab5-eb1c-48b8-bc02-f47482dfecff",
   "metadata": {},
   "outputs": [
    {
     "data": {
      "text/plain": [
       "array([24.20766449, 19.18533142, 19.27626666, 19.47848403, 19.13720581])"
      ]
     },
     "execution_count": 15,
     "metadata": {},
     "output_type": "execute_result"
    }
   ],
   "source": [
    "cv_error = np.zeros(5)\n",
    "\n",
    "# use same splits for each degree\n",
    "cv = KFold(n_splits=10, shuffle=True, random_state=0)\n",
    "\n",
    "for i, d in enumerate(range(1, 6)):\n",
    "    X = np.power.outer(H, np.arange(d+1))\n",
    "    M_CV = cross_validate(M, X, y, cv=cv)\n",
    "    cv_error[i] = np.mean(M_CV['test_score'])\n",
    "\n",
    "cv_error"
   ]
  },
  {
   "cell_type": "markdown",
   "id": "c40eb0b0-7d3c-4aa0-9ff8-abbf67fb8cfa",
   "metadata": {},
   "source": [
    "### ShuffleSplit"
   ]
  },
  {
   "cell_type": "code",
   "execution_count": 16,
   "id": "7ef79f1e-a92a-4f70-aa2e-714e1740f8ac",
   "metadata": {},
   "outputs": [
    {
     "data": {
      "text/plain": [
       "array([23.61661707])"
      ]
     },
     "execution_count": 16,
     "metadata": {},
     "output_type": "execute_result"
    }
   ],
   "source": [
    "# n_splits=1\n",
    "validation = ShuffleSplit(n_splits=1, test_size=196, random_state=0)\n",
    "results = cross_validate(hp_model, Auto.drop(['mpg'], axis=1), Auto['mpg'], cv=validation)\n",
    "results['test_score']"
   ]
  },
  {
   "cell_type": "code",
   "execution_count": 17,
   "id": "6f7f6b19-2c8d-40cd-be54-46ca48d81ff0",
   "metadata": {},
   "outputs": [
    {
     "data": {
      "text/plain": [
       "(23.802232661034168, 1.421845094109185)"
      ]
     },
     "execution_count": 17,
     "metadata": {},
     "output_type": "execute_result"
    }
   ],
   "source": [
    "# n_splits=10\n",
    "validation = ShuffleSplit(n_splits=10, test_size=196, random_state=0)\n",
    "results = cross_validate(hp_model, Auto.drop(['mpg'], axis=1), Auto['mpg'], cv=validation)\n",
    "\n",
    "results['test_score'].mean(), results['test_score'].std()"
   ]
  },
  {
   "cell_type": "markdown",
   "id": "72aa0ad5-63a3-4c89-8566-5394cea232f5",
   "metadata": {},
   "source": [
    "## 5.3.3 Bootstrap"
   ]
  },
  {
   "cell_type": "markdown",
   "id": "fa139aca-58e0-4a41-9c5f-72be4b3d0ef6",
   "metadata": {},
   "source": [
    "### Estimating the accuracy of a statistic of interest"
   ]
  },
  {
   "cell_type": "code",
   "execution_count": 18,
   "id": "e696f8ae-2216-4b2a-8d4a-c2ad6eed7009",
   "metadata": {},
   "outputs": [
    {
     "data": {
      "text/html": [
       "<div>\n",
       "<style scoped>\n",
       "    .dataframe tbody tr th:only-of-type {\n",
       "        vertical-align: middle;\n",
       "    }\n",
       "\n",
       "    .dataframe tbody tr th {\n",
       "        vertical-align: top;\n",
       "    }\n",
       "\n",
       "    .dataframe thead th {\n",
       "        text-align: right;\n",
       "    }\n",
       "</style>\n",
       "<table border=\"1\" class=\"dataframe\">\n",
       "  <thead>\n",
       "    <tr style=\"text-align: right;\">\n",
       "      <th></th>\n",
       "      <th>X</th>\n",
       "      <th>Y</th>\n",
       "    </tr>\n",
       "  </thead>\n",
       "  <tbody>\n",
       "    <tr>\n",
       "      <th>0</th>\n",
       "      <td>-0.895251</td>\n",
       "      <td>-0.234924</td>\n",
       "    </tr>\n",
       "    <tr>\n",
       "      <th>1</th>\n",
       "      <td>-1.562454</td>\n",
       "      <td>-0.885176</td>\n",
       "    </tr>\n",
       "    <tr>\n",
       "      <th>2</th>\n",
       "      <td>-0.417090</td>\n",
       "      <td>0.271888</td>\n",
       "    </tr>\n",
       "    <tr>\n",
       "      <th>3</th>\n",
       "      <td>1.044356</td>\n",
       "      <td>-0.734198</td>\n",
       "    </tr>\n",
       "    <tr>\n",
       "      <th>4</th>\n",
       "      <td>-0.315568</td>\n",
       "      <td>0.841983</td>\n",
       "    </tr>\n",
       "  </tbody>\n",
       "</table>\n",
       "</div>"
      ],
      "text/plain": [
       "          X         Y\n",
       "0 -0.895251 -0.234924\n",
       "1 -1.562454 -0.885176\n",
       "2 -0.417090  0.271888\n",
       "3  1.044356 -0.734198\n",
       "4 -0.315568  0.841983"
      ]
     },
     "execution_count": 18,
     "metadata": {},
     "output_type": "execute_result"
    }
   ],
   "source": [
    "Portfolio = load_data('Portfolio')\n",
    "Portfolio.head()"
   ]
  },
  {
   "cell_type": "markdown",
   "id": "147e0893-00b2-4b6c-bd53-cae119826842",
   "metadata": {},
   "source": [
    "Global Minimum Variance (GMV)\n",
    "$$\n",
    "\\hat{\\alpha} \\;=\\; \n",
    "\\frac{\\hat{\\sigma}_Y^2 \\;-\\; \\hat{\\sigma}_{XY}}\n",
    "     {\\hat{\\sigma}_X^2 \\;+\\; \\hat{\\sigma}_Y^2 \\;-\\; 2\\,\\hat{\\sigma}_{XY}}\n",
    "$$"
   ]
  },
  {
   "cell_type": "code",
   "execution_count": 19,
   "id": "f71f56f9-ae1f-4151-a74d-8357cf172293",
   "metadata": {},
   "outputs": [],
   "source": [
    "def alpha_func(df, i):\n",
    "    cov_ = np.cov(df[['X', 'Y']].loc[i], rowvar=False)\n",
    "    return ((cov_[1, 1] - cov_[0, 1]) /\n",
    "            (cov_[0, 0] + cov_[1, 1] - 2*cov_[0, 1]))"
   ]
  },
  {
   "cell_type": "code",
   "execution_count": 20,
   "id": "748d7e4a-0175-43ab-82ec-f4f2216ef17c",
   "metadata": {},
   "outputs": [
    {
     "data": {
      "text/plain": [
       "0.57583207459283"
      ]
     },
     "execution_count": 20,
     "metadata": {},
     "output_type": "execute_result"
    }
   ],
   "source": [
    "alpha_func(Portfolio, range(100))"
   ]
  },
  {
   "cell_type": "code",
   "execution_count": 21,
   "id": "dbb31f62-f90c-4ecf-a84a-658b27b1cc9d",
   "metadata": {},
   "outputs": [
    {
     "data": {
      "text/plain": [
       "0.6074452469619004"
      ]
     },
     "execution_count": 21,
     "metadata": {},
     "output_type": "execute_result"
    }
   ],
   "source": [
    "rng = np.random.default_rng(0)\n",
    "alpha_func(Portfolio, rng.choice(100, 100, replace=True))"
   ]
  },
  {
   "cell_type": "markdown",
   "id": "af003f6b-db1f-43e3-ad84-60ac1f89ce31",
   "metadata": {},
   "source": [
    "Bootstrap standard error"
   ]
  },
  {
   "cell_type": "code",
   "execution_count": 22,
   "id": "3d2e39e0-d076-48ba-9947-d527514dde49",
   "metadata": {},
   "outputs": [],
   "source": [
    "def boot_SE(func, df, n=None, B=1000, seed=0):\n",
    "    rng = np.random.default_rng(seed)\n",
    "    first_, second_ = 0, 0\n",
    "    n = n or df.shape[0]\n",
    "\n",
    "    for _ in range(B):\n",
    "        i = rng.choice(df.index, n, replace=True)\n",
    "        value = func(df, i)\n",
    "        first_ += value\n",
    "        second_ += value**2\n",
    "\n",
    "    return np.sqrt(second_ / B - (first_ / B)**2)"
   ]
  },
  {
   "cell_type": "code",
   "execution_count": 23,
   "id": "4897987b-75be-4b93-86a4-baba94b70b6e",
   "metadata": {},
   "outputs": [
    {
     "data": {
      "text/plain": [
       "0.09118176521277699"
      ]
     },
     "execution_count": 23,
     "metadata": {},
     "output_type": "execute_result"
    }
   ],
   "source": [
    "alpha_SE = boot_SE(alpha_func, Portfolio, B=1000, seed=0)\n",
    "alpha_SE"
   ]
  },
  {
   "cell_type": "markdown",
   "id": "80d121bb-abcd-47ea-9a40-5dbb031e856a",
   "metadata": {},
   "source": [
    "### Estimating the accuracy of a linear regression model"
   ]
  },
  {
   "cell_type": "code",
   "execution_count": 24,
   "id": "00e739d3-c1b4-4246-93e9-5dc4bc727bd1",
   "metadata": {},
   "outputs": [],
   "source": [
    "def boot_OLS(model_mat, resp, df, idx):\n",
    "    df_ = df.loc[idx];\n",
    "    y_ = df_[resp]\n",
    "    X_ = clone(model_mat).fit_transform(df_)\n",
    "    return sm.OLS(y_, X_).fit().params"
   ]
  },
  {
   "cell_type": "code",
   "execution_count": 25,
   "id": "c7857698-21c2-4b78-a2c4-9eccd76718a4",
   "metadata": {},
   "outputs": [],
   "source": [
    "hp_func = partial(boot_OLS, MS(['horsepower']), 'mpg')"
   ]
  },
  {
   "cell_type": "code",
   "execution_count": 26,
   "id": "9d267376-3909-4a32-8551-8f0aaa50bf4d",
   "metadata": {},
   "outputs": [
    {
     "data": {
      "text/plain": [
       "array(['ford ltd', 'toyota corolla tercel'], dtype=object)"
      ]
     },
     "execution_count": 26,
     "metadata": {},
     "output_type": "execute_result"
    }
   ],
   "source": [
    "rng.choice(Auto.index, 2, replace=True)"
   ]
  },
  {
   "cell_type": "code",
   "execution_count": 27,
   "id": "540b5605-fbdd-48e1-95c3-b5db34d39c83",
   "metadata": {},
   "outputs": [
    {
     "data": {
      "text/plain": [
       "array([[39.12226577, -0.1555926 ],\n",
       "       [37.18648613, -0.13915813],\n",
       "       [37.46989244, -0.14112749],\n",
       "       [38.56723252, -0.14830116],\n",
       "       [38.95495707, -0.15315141],\n",
       "       [39.12563927, -0.15261044],\n",
       "       [38.45763251, -0.14767251],\n",
       "       [38.43372587, -0.15019447],\n",
       "       [37.87581142, -0.1409544 ],\n",
       "       [37.95949036, -0.1451333 ]])"
      ]
     },
     "execution_count": 27,
     "metadata": {},
     "output_type": "execute_result"
    }
   ],
   "source": [
    "rng = np.random.default_rng(0)\n",
    "np.array([hp_func(Auto, rng.choice(Auto.index, 392, replace=True)) \n",
    "          for _ in range(10)])"
   ]
  },
  {
   "cell_type": "code",
   "execution_count": 28,
   "id": "98a651b2-556a-4117-a532-3dab51d1d6cf",
   "metadata": {},
   "outputs": [
    {
     "data": {
      "text/plain": [
       "intercept     0.731176\n",
       "horsepower    0.006092\n",
       "dtype: float64"
      ]
     },
     "execution_count": 28,
     "metadata": {},
     "output_type": "execute_result"
    }
   ],
   "source": [
    "hp_se = boot_SE(hp_func, Auto, B=1000, seed=10)\n",
    "hp_se"
   ]
  },
  {
   "cell_type": "code",
   "execution_count": 29,
   "id": "c498f514-3472-404c-be9b-29744ef9cb21",
   "metadata": {},
   "outputs": [
    {
     "data": {
      "text/plain": [
       "intercept     0.717\n",
       "horsepower    0.006\n",
       "Name: std err, dtype: float64"
      ]
     },
     "execution_count": 29,
     "metadata": {},
     "output_type": "execute_result"
    }
   ],
   "source": [
    "hp_model.fit(Auto, Auto['mpg'])\n",
    "model_se = summarize(hp_model.results_)['std err']\n",
    "model_se"
   ]
  },
  {
   "cell_type": "code",
   "execution_count": 30,
   "id": "6f244e83-5ac6-49fe-beea-f5feef7e0b2c",
   "metadata": {},
   "outputs": [
    {
     "data": {
      "text/plain": [
       "intercept                                  1.538641\n",
       "poly(horsepower, degree=2, raw=True)[0]    0.024696\n",
       "poly(horsepower, degree=2, raw=True)[1]    0.000090\n",
       "dtype: float64"
      ]
     },
     "execution_count": 30,
     "metadata": {},
     "output_type": "execute_result"
    }
   ],
   "source": [
    "quad_model = MS([poly('horsepower', 2, raw=True)])\n",
    "quad_func = partial(boot_OLS, quad_model, 'mpg')\n",
    "boot_SE(quad_func, Auto, B=1000)"
   ]
  },
  {
   "cell_type": "code",
   "execution_count": 31,
   "id": "e7883d3a-2f58-41e0-95da-fbf9f5df1563",
   "metadata": {},
   "outputs": [
    {
     "data": {
      "text/plain": [
       "intercept                                  1.800\n",
       "poly(horsepower, degree=2, raw=True)[0]    0.031\n",
       "poly(horsepower, degree=2, raw=True)[1]    0.000\n",
       "Name: std err, dtype: float64"
      ]
     },
     "execution_count": 31,
     "metadata": {},
     "output_type": "execute_result"
    }
   ],
   "source": [
    "quad_model = MS([poly('horsepower', 2, raw=True)])\n",
    "M = sm.OLS(Auto['mpg'], quad_model.fit_transform(Auto))\n",
    "summarize(M.fit())['std err']"
   ]
  },
  {
   "cell_type": "code",
   "execution_count": null,
   "id": "0b0a711b-6486-43fb-888e-4c0928477d7f",
   "metadata": {},
   "outputs": [],
   "source": []
  }
 ],
 "metadata": {
  "kernelspec": {
   "display_name": "Python 3 (ipykernel)",
   "language": "python",
   "name": "python3"
  },
  "language_info": {
   "codemirror_mode": {
    "name": "ipython",
    "version": 3
   },
   "file_extension": ".py",
   "mimetype": "text/x-python",
   "name": "python",
   "nbconvert_exporter": "python",
   "pygments_lexer": "ipython3",
   "version": "3.12.11"
  }
 },
 "nbformat": 4,
 "nbformat_minor": 5
}
