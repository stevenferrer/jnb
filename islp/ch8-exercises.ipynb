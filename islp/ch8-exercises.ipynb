{
 "cells": [
  {
   "cell_type": "markdown",
   "id": "9f517a6a-9a4f-4cd4-a6c7-0fca4dc885d0",
   "metadata": {},
   "source": [
    "## Preamble"
   ]
  },
  {
   "cell_type": "markdown",
   "id": "c16cae0f-deb5-435b-a36e-d48e5059d0f0",
   "metadata": {},
   "source": [
    "### Imports"
   ]
  },
  {
   "cell_type": "code",
   "execution_count": 1,
   "id": "d5e39882-c380-4c12-a629-d4e3992efb71",
   "metadata": {},
   "outputs": [],
   "source": [
    "import asyncio\n",
    "import time\n",
    "\n",
    "import numpy as np\n",
    "import pandas as pd\n",
    "import matplotlib.pyplot as plt\n",
    "\n",
    "import sklearn.model_selection as skm\n",
    "from sklearn.tree import \\\n",
    "    DecisionTreeClassifier as DTC, \\\n",
    "    DecisionTreeRegressor as DTR, \\\n",
    "    plot_tree, export_text\n",
    "from sklearn.metrics import accuracy_score, \\\n",
    "    log_loss, mean_squared_error, confusion_matrix, \\\n",
    "    classification_report, ConfusionMatrixDisplay\n",
    "\n",
    "from sklearn.ensemble import \\\n",
    "    RandomForestRegressor as RF, \\\n",
    "    GradientBoostingRegressor as GBR, \\\n",
    "    GradientBoostingClassifier as GBC\n",
    "from sklearn.preprocessing import OneHotEncoder\n",
    "from sklearn.pipeline import Pipeline\n",
    "from sklearn.compose import ColumnTransformer\n",
    "\n",
    "from ISLP import load_data, confusion_table\n",
    "from ISLP.models import ModelSpec as MS\n",
    "from ISLP.bart import BART"
   ]
  },
  {
   "cell_type": "markdown",
   "id": "fd7f1914-66f9-4e76-9c0f-d7935c93fc19",
   "metadata": {},
   "source": [
    "## Boston"
   ]
  },
  {
   "cell_type": "code",
   "execution_count": 2,
   "id": "6b8de2aa-9784-4b9d-8956-166220c68dd2",
   "metadata": {},
   "outputs": [
    {
     "data": {
      "text/plain": [
       "crim       float64\n",
       "zn         float64\n",
       "indus      float64\n",
       "chas         int64\n",
       "nox        float64\n",
       "rm         float64\n",
       "age        float64\n",
       "dis        float64\n",
       "rad          int64\n",
       "tax          int64\n",
       "ptratio    float64\n",
       "lstat      float64\n",
       "medv       float64\n",
       "dtype: object"
      ]
     },
     "execution_count": 2,
     "metadata": {},
     "output_type": "execute_result"
    }
   ],
   "source": [
    "Boston = load_data('Boston')\n",
    "Boston.dtypes"
   ]
  },
  {
   "cell_type": "markdown",
   "id": "e59558e0-2e6e-4b41-931f-6b37cc4a6610",
   "metadata": {},
   "source": [
    "### Train/test split"
   ]
  },
  {
   "cell_type": "code",
   "execution_count": 3,
   "id": "4eb2e8ae-ae81-4a64-8954-37ee228b1638",
   "metadata": {},
   "outputs": [
    {
     "data": {
      "text/plain": [
       "((506, 12), (506,), 12)"
      ]
     },
     "execution_count": 3,
     "metadata": {},
     "output_type": "execute_result"
    }
   ],
   "source": [
    "X = Boston.drop('medv', axis='columns')\n",
    "y = Boston.loc[:, 'medv']\n",
    "features = X.columns.tolist()\n",
    "X.shape, y.shape, len(features)"
   ]
  },
  {
   "cell_type": "code",
   "execution_count": 4,
   "id": "a81f8914-8ebf-4a3e-aa75-da1b9608acf4",
   "metadata": {},
   "outputs": [
    {
     "data": {
      "text/plain": [
       "((354, 12), (152, 12), (354,), (152,))"
      ]
     },
     "execution_count": 4,
     "metadata": {},
     "output_type": "execute_result"
    }
   ],
   "source": [
    "X_train, X_test, y_train, y_test = skm.train_test_split(X, y, test_size=.3, random_state=0)\n",
    "X_train.shape, X_test.shape, y_train.shape, y_test.shape"
   ]
  },
  {
   "cell_type": "markdown",
   "id": "fe3cd054-6fcd-4b61-b975-13bf4d0b3d48",
   "metadata": {},
   "source": [
    "### Random forest models"
   ]
  },
  {
   "cell_type": "markdown",
   "id": "515b042b-3681-4c8c-be3d-484bdfdfaa97",
   "metadata": {},
   "source": [
    "We fit $3*401$ random forest models which will take some time, so we use async/await pattern to \n",
    "improve runtime."
   ]
  },
  {
   "cell_type": "code",
   "execution_count": 5,
   "id": "b301bc33-db10-4411-9c91-07e5563186b5",
   "metadata": {},
   "outputs": [],
   "source": [
    "async def get_boston_rf_test_mse(n_estimators, max_features):\n",
    "    model = RF(\n",
    "        n_estimators=n_estimators, \n",
    "        max_features=max_features, \n",
    "        random_state=0, \n",
    "        n_jobs=-1,\n",
    "    )\n",
    "    model.fit(X_train, y_train)\n",
    "\n",
    "    y_hat = model.predict(X_test)\n",
    "    return mean_squared_error(y_test, y_hat)\n",
    "\n",
    "async def get_boston_rf_test_mse_wrapper(i, j, n, m):\n",
    "    mse = await get_boston_rf_test_mse(n, m)\n",
    "    print('.', end='')\n",
    "    return i, j, mse\n",
    "    \n",
    "async def boston_fit_rf_models(n_estimators, m_features):\n",
    "    tasks = []    \n",
    "    for (i, m) in enumerate(m_features):\n",
    "        for (j, n) in enumerate(n_estimators):\n",
    "            tasks.append(asyncio.create_task(get_boston_rf_test_mse_wrapper(i, j, n, m)))\n",
    "    results = await asyncio.gather(*tasks)\n",
    "\n",
    "    # save the results\n",
    "    mses = np.zeros(len(n_estimators)*3).reshape((3, len(n_estimators)))\n",
    "    for i, j, mse in results:\n",
    "        mses[i, j] = mse\n",
    "\n",
    "    return mses"
   ]
  },
  {
   "cell_type": "code",
   "execution_count": 6,
   "id": "b4a3adb1-dc63-4837-8f29-62709e13ba7c",
   "metadata": {},
   "outputs": [
    {
     "name": "stdout",
     "output_type": "stream",
     "text": [
      "...................................................................................................................................................................................................................................................................................................................................................................................................................................................................................................................................................................................................................................................................................................................................................................................................................................................................................................................................................................................................................................................................................................................................................................................................................................................\n",
      "Elapsed time: 221.6875 seconds\n"
     ]
    }
   ],
   "source": [
    "m_features = [len(features), len(features)//2, 'sqrt'];\n",
    "n_estimators = np.arange(100, 501)\n",
    "\n",
    "start_time = time.time()\n",
    "rf_mses = await boston_fit_rf_models(n_estimators, m_features)\n",
    "end_time = time.time()\n",
    "elapsed_time = end_time - start_time\n",
    "print(f\"\\nElapsed time: {elapsed_time:.4f} seconds\")"
   ]
  },
  {
   "cell_type": "markdown",
   "id": "97636df6-cdd7-47b7-8908-29fb2957e28a",
   "metadata": {},
   "source": [
    "### MSE plot"
   ]
  },
  {
   "cell_type": "markdown",
   "id": "532cacce-768d-4535-892f-329a1b465897",
   "metadata": {},
   "source": [
    "We show the MSE curve for different `n_estimators`."
   ]
  },
  {
   "cell_type": "code",
   "execution_count": 7,
   "id": "ec2222ba-4866-4670-ae22-9995d35fae90",
   "metadata": {},
   "outputs": [
    {
     "data": {
      "image/png": "[encoded data removed]",
      "text/plain": [
       "<Figure size 640x480 with 1 Axes>"
      ]
     },
     "metadata": {},
     "output_type": "display_data"
    }
   ],
   "source": [
    "_, ax = plt.subplots()\n",
    "\n",
    "mse_plot_params = [\n",
    "    ('$m=p$', 'r'),\n",
    "    ('$m=p/2$', 'b'),\n",
    "    (r'$m=\\sqrt{p}$', 'g'),\n",
    "]\n",
    "\n",
    "for i, (label, c) in enumerate(mse_plot_params):\n",
    "    ax.plot(n_estimators, rf_mses[i], c=c, label=label, alpha=.7)\n",
    "\n",
    "ax.set_ylabel('test mse')\n",
    "ax.set_xlabel('n_estimators')\n",
    "ax.set_yticks(np.arange(14, 25))\n",
    "ax.legend();"
   ]
  },
  {
   "cell_type": "markdown",
   "id": "d82f9640-00a4-4d2c-b6de-82c137634afb",
   "metadata": {},
   "source": [
    "$m=\\sqrt{p}$ usually performs well, but in this dataset, $m=p$ has the lowest test MSE."
   ]
  },
  {
   "cell_type": "markdown",
   "id": "da2a8db1-7d84-4db8-adf1-75cb314e2e1b",
   "metadata": {},
   "source": [
    "## Carseats"
   ]
  },
  {
   "cell_type": "code",
   "execution_count": 8,
   "id": "a56fc600-f1fd-418b-a969-a949c24cb8e0",
   "metadata": {},
   "outputs": [
    {
     "data": {
      "text/plain": [
       "Sales           float64\n",
       "CompPrice         int64\n",
       "Income            int64\n",
       "Advertising       int64\n",
       "Population        int64\n",
       "Price             int64\n",
       "ShelveLoc      category\n",
       "Age               int64\n",
       "Education         int64\n",
       "Urban          category\n",
       "US             category\n",
       "dtype: object"
      ]
     },
     "execution_count": 8,
     "metadata": {},
     "output_type": "execute_result"
    }
   ],
   "source": [
    "Carseats = load_data('Carseats')\n",
    "Carseats.dtypes"
   ]
  },
  {
   "cell_type": "markdown",
   "id": "00d486f6-d6af-4e69-b73e-f85ca366e107",
   "metadata": {},
   "source": [
    "### Train/test split"
   ]
  },
  {
   "cell_type": "code",
   "execution_count": 9,
   "id": "cd0aec16-ca54-4e6a-be03-08ec12ed45b7",
   "metadata": {},
   "outputs": [
    {
     "data": {
      "text/plain": [
       "((400, 10), (400,), 10)"
      ]
     },
     "execution_count": 9,
     "metadata": {},
     "output_type": "execute_result"
    }
   ],
   "source": [
    "target = 'Sales'\n",
    "X = Carseats.drop(target, axis='columns')\n",
    "y = Carseats.loc[:, target]\n",
    "features = X.columns.tolist()\n",
    "X.shape, y.shape, len(features)"
   ]
  },
  {
   "cell_type": "code",
   "execution_count": 10,
   "id": "1e707bff-2391-4b59-8823-42076ddc82a0",
   "metadata": {},
   "outputs": [
    {
     "data": {
      "text/plain": [
       "((280, 10), (120, 10), (280,), (120,))"
      ]
     },
     "execution_count": 10,
     "metadata": {},
     "output_type": "execute_result"
    }
   ],
   "source": [
    "X_train, X_test, y_train, y_test = skm.train_test_split(X, y, test_size=.3, random_state=0)\n",
    "X_train.shape, X_test.shape, y_train.shape, y_test.shape"
   ]
  },
  {
   "cell_type": "markdown",
   "id": "68a7ac61-911d-404a-80b3-4d7b4408cc87",
   "metadata": {},
   "source": [
    "### Regression tree"
   ]
  },
  {
   "cell_type": "markdown",
   "id": "d06067db-31ca-4a57-b1cf-ac4fcb3f5a52",
   "metadata": {},
   "source": [
    "#### ISLP style"
   ]
  },
  {
   "cell_type": "code",
   "execution_count": 11,
   "id": "6be53998-dd88-4626-8edd-e77ff3d5a7f5",
   "metadata": {},
   "outputs": [
    {
     "data": {
      "text/plain": [
       "3.7038582752360942"
      ]
     },
     "execution_count": 11,
     "metadata": {},
     "output_type": "execute_result"
    }
   ],
   "source": [
    "ms = MS(Carseats.columns.drop(target), intercept=False)\n",
    "\n",
    "feature_names = ms.fit_transform(X_train).columns.tolist()\n",
    "\n",
    "reg = DTR(max_depth=3, random_state=0)\n",
    "reg.fit(ms.fit_transform(X_train), y_train)\n",
    "\n",
    "y_hat = reg.predict(ms.fit_transform(X_test))\n",
    "mean_squared_error(y_test, y_hat)"
   ]
  },
  {
   "cell_type": "code",
   "execution_count": 12,
   "id": "c460b43c-795a-4dbb-87cb-568841cd2c2e",
   "metadata": {},
   "outputs": [
    {
     "data": {
      "image/png": "[encoded data removed]",
      "text/plain": [
       "<Figure size 1400x600 with 1 Axes>"
      ]
     },
     "metadata": {},
     "output_type": "display_data"
    }
   ],
   "source": [
    "_, ax = plt.subplots(figsize=(14, 6))\n",
    "\n",
    "plot_tree(\n",
    "    reg, \n",
    "    feature_names=feature_names, \n",
    "    ax=ax,\n",
    ");"
   ]
  },
  {
   "cell_type": "markdown",
   "id": "4418da85-099e-4dee-b2e2-25f00a8e81f4",
   "metadata": {},
   "source": [
    "#### sklearn style"
   ]
  },
  {
   "cell_type": "code",
   "execution_count": 13,
   "id": "e6eb0901-d5a5-46c5-b3f4-f2e12c918041",
   "metadata": {},
   "outputs": [
    {
     "data": {
      "text/plain": [
       "(['ShelveLoc', 'Urban', 'US'],\n",
       " ['CompPrice',\n",
       "  'Income',\n",
       "  'Advertising',\n",
       "  'Population',\n",
       "  'Price',\n",
       "  'Age',\n",
       "  'Education'])"
      ]
     },
     "execution_count": 13,
     "metadata": {},
     "output_type": "execute_result"
    }
   ],
   "source": [
    "cat_features = [x for x in X.columns if X[x].dtype == 'category']\n",
    "num_features = [x for x in X.columns if x not in cat_features]\n",
    "cat_features, num_features"
   ]
  },
  {
   "cell_type": "code",
   "execution_count": 14,
   "id": "5fdfec82-6288-44bd-a235-1c60f2b46a86",
   "metadata": {},
   "outputs": [
    {
     "data": {
      "text/plain": [
       "3.703858275236094"
      ]
     },
     "execution_count": 14,
     "metadata": {},
     "output_type": "execute_result"
    }
   ],
   "source": [
    "ct = ColumnTransformer(transformers=[\n",
    "    ('cat', OneHotEncoder(handle_unknown='ignore'), cat_features),\n",
    "    ('num', 'passthrough', num_features)\n",
    "])\n",
    "\n",
    "carseats_model = Pipeline([\n",
    "    ('ct', ct),\n",
    "    ('reg', DTR(max_depth=3, random_state=0)),\n",
    "])\n",
    "carseats_model.fit(X_train, y_train)\n",
    "\n",
    "y_hat = carseats_model.predict(X_test)\n",
    "mean_squared_error(y_test, y_hat)"
   ]
  },
  {
   "cell_type": "code",
   "execution_count": 15,
   "id": "0a9b2b42-c158-4436-bdc2-1b5eecf08c7e",
   "metadata": {},
   "outputs": [
    {
     "data": {
      "text/plain": [
       "['ShelveLoc_Bad',\n",
       " 'ShelveLoc_Good',\n",
       " 'ShelveLoc_Medium',\n",
       " 'Urban_No',\n",
       " 'Urban_Yes',\n",
       " 'US_No',\n",
       " 'US_Yes']"
      ]
     },
     "execution_count": 15,
     "metadata": {},
     "output_type": "execute_result"
    }
   ],
   "source": [
    "carseats_model.named_steps['ct'].named_transformers_['cat'].get_feature_names_out(cat_features).tolist()"
   ]
  },
  {
   "cell_type": "code",
   "execution_count": 16,
   "id": "46c15123-9bd1-4cba-9f97-32d1595363ef",
   "metadata": {},
   "outputs": [
    {
     "data": {
      "image/png": "[encoded data removed]",
      "text/plain": [
       "<Figure size 1400x600 with 1 Axes>"
      ]
     },
     "metadata": {},
     "output_type": "display_data"
    }
   ],
   "source": [
    "_, ax = plt.subplots(figsize=(14, 6))\n",
    "\n",
    "carseats_reg = carseats_model.named_steps['reg']\n",
    "# mouthful I know!\n",
    "feature_names = carseats_model.named_steps['ct'].\\\n",
    "    named_transformers_['cat'].\\\n",
    "    get_feature_names_out(cat_features).\\\n",
    "    tolist() + num_features\n",
    "\n",
    "plot_tree(\n",
    "    carseats_reg, \n",
    "    feature_names=feature_names, \n",
    "    ax=ax,\n",
    ");"
   ]
  },
  {
   "cell_type": "markdown",
   "id": "20c1d2dc-4a58-4703-91e9-99d6acdf330f",
   "metadata": {},
   "source": [
    "### Cross-validation"
   ]
  },
  {
   "cell_type": "code",
   "execution_count": 17,
   "id": "0617efb4-6d67-4569-be59-c531772952f4",
   "metadata": {},
   "outputs": [
    {
     "data": {
      "text/plain": [
       "(0.3982585227489213, 0.5284835727849756)"
      ]
     },
     "execution_count": 17,
     "metadata": {},
     "output_type": "execute_result"
    }
   ],
   "source": [
    "cv = skm.ShuffleSplit(n_splits=5, test_size=.33, random_state=0)\n",
    "results = skm.cross_validate(carseats_model, X, y, cv=cv, return_train_score=True)\n",
    "results['test_score'].mean(), results['train_score'].mean()"
   ]
  },
  {
   "cell_type": "markdown",
   "id": "83a470d4-9250-4707-83b6-229c1add5f50",
   "metadata": {},
   "source": [
    "### Pruning"
   ]
  },
  {
   "cell_type": "code",
   "execution_count": 18,
   "id": "cf73807f-2347-48b6-ad40-43d3844ff309",
   "metadata": {},
   "outputs": [
    {
     "data": {
      "text/plain": [
       "(-5.567725368688545, {'reg__ccp_alpha': 0.0})"
      ]
     },
     "execution_count": 18,
     "metadata": {},
     "output_type": "execute_result"
    }
   ],
   "source": [
    "reg = carseats_model.named_steps['reg']\n",
    "ct = carseats_model.named_steps['ct']\n",
    "ccp_path = carseats_reg.cost_complexity_pruning_path(ct.fit_transform(X_train), y_train)\n",
    "\n",
    "param_grid = {'reg__ccp_alpha': ccp_path.ccp_alphas}\n",
    "grid = skm.GridSearchCV(\n",
    "    carseats_model,\n",
    "    param_grid=param_grid,\n",
    "    refit=True,\n",
    "    cv=5,\n",
    "    scoring='neg_mean_squared_error'\n",
    ")\n",
    "\n",
    "grid.fit(X_train, y_train)\n",
    "grid.best_score_, grid.best_params_"
   ]
  },
  {
   "cell_type": "code",
   "execution_count": 19,
   "id": "caa23ee3-29a3-4cd8-a9d5-8d5328889625",
   "metadata": {},
   "outputs": [
    {
     "data": {
      "text/plain": [
       "3.703858275236094"
      ]
     },
     "execution_count": 19,
     "metadata": {},
     "output_type": "execute_result"
    }
   ],
   "source": [
    "y_hat = grid.best_estimator_.predict(X_test)\n",
    "mean_squared_error(y_test, y_hat)"
   ]
  },
  {
   "cell_type": "markdown",
   "id": "accc9c5d-9a43-44b4-9042-28b58af5734d",
   "metadata": {},
   "source": [
    "The MSE from the grid search indicates that pruning offers no improvement."
   ]
  },
  {
   "cell_type": "markdown",
   "id": "b42ca3e7-d9f5-424c-8648-533e78fe1c61",
   "metadata": {},
   "source": [
    "### Random Forest"
   ]
  },
  {
   "cell_type": "code",
   "execution_count": 20,
   "id": "879db26c-0a77-49f2-aac2-0c7dc1d10256",
   "metadata": {},
   "outputs": [
    {
     "data": {
      "text/plain": [
       "2.990836895794092"
      ]
     },
     "execution_count": 20,
     "metadata": {},
     "output_type": "execute_result"
    }
   ],
   "source": [
    "carseats_bagged = Pipeline([\n",
    "    ('ct', ct),\n",
    "    ('reg', RF(max_depth=3, random_state=0, n_jobs=-1)),\n",
    "])\n",
    "carseats_bagged.fit(X_train, y_train)\n",
    "\n",
    "y_hat = carseats_bagged.predict(X_test)\n",
    "mean_squared_error(y_test, y_hat)"
   ]
  },
  {
   "cell_type": "markdown",
   "id": "31f54c62-358c-4d73-89d2-1c8a7aad0f89",
   "metadata": {},
   "source": [
    "### Feature importance"
   ]
  },
  {
   "cell_type": "code",
   "execution_count": 21,
   "id": "45ca662b-ea8b-4949-8803-02d11b77c339",
   "metadata": {},
   "outputs": [
    {
     "data": {
      "text/plain": [
       "(4, 1)"
      ]
     },
     "execution_count": 21,
     "metadata": {},
     "output_type": "execute_result"
    }
   ],
   "source": [
    "carseats_reg = carseats_model.named_steps['reg']\n",
    "\n",
    "feature_importance = pd.DataFrame({\n",
    "    'importance': carseats_reg.feature_importances_,\n",
    "}, index=feature_names).sort_values(by='importance')\n",
    "feature_importance = feature_importance.loc[feature_importance['importance'] > 0]\n",
    "feature_importance.shape"
   ]
  },
  {
   "cell_type": "code",
   "execution_count": 22,
   "id": "67849e83-36f8-42f9-93e2-1893cf6e85aa",
   "metadata": {},
   "outputs": [
    {
     "data": {
      "image/png": "[encoded data removed]",
      "text/plain": [
       "<Figure size 640x480 with 1 Axes>"
      ]
     },
     "metadata": {},
     "output_type": "display_data"
    }
   ],
   "source": [
    "_, ax = plt.subplots()\n",
    "\n",
    "feature_importance.plot(kind='barh', ax=ax, alpha=.5)\n",
    "\n",
    "ax.set_title('Carseats feature importances')\n",
    "ax.legend(loc='lower right');"
   ]
  },
  {
   "cell_type": "markdown",
   "id": "d3399c88-210a-4dfa-a912-22a4b3308ce6",
   "metadata": {},
   "source": [
    "### BART\n",
    "\n",
    "Todo"
   ]
  },
  {
   "cell_type": "markdown",
   "id": "a3de4ba7-82e7-47fb-9bb9-016bebbcec37",
   "metadata": {},
   "source": [
    "## OJ"
   ]
  },
  {
   "cell_type": "code",
   "execution_count": 23,
   "id": "edaba631-b533-49f8-a25b-c06bcb66fe23",
   "metadata": {},
   "outputs": [
    {
     "data": {
      "text/html": [
       "<div>\n",
       "<style scoped>\n",
       "    .dataframe tbody tr th:only-of-type {\n",
       "        vertical-align: middle;\n",
       "    }\n",
       "\n",
       "    .dataframe tbody tr th {\n",
       "        vertical-align: top;\n",
       "    }\n",
       "\n",
       "    .dataframe thead th {\n",
       "        text-align: right;\n",
       "    }\n",
       "</style>\n",
       "<table border=\"1\" class=\"dataframe\">\n",
       "  <thead>\n",
       "    <tr style=\"text-align: right;\">\n",
       "      <th></th>\n",
       "      <th>Purchase</th>\n",
       "      <th>WeekofPurchase</th>\n",
       "      <th>StoreID</th>\n",
       "      <th>PriceCH</th>\n",
       "      <th>PriceMM</th>\n",
       "      <th>DiscCH</th>\n",
       "      <th>DiscMM</th>\n",
       "      <th>SpecialCH</th>\n",
       "      <th>SpecialMM</th>\n",
       "      <th>LoyalCH</th>\n",
       "      <th>SalePriceMM</th>\n",
       "      <th>SalePriceCH</th>\n",
       "      <th>PriceDiff</th>\n",
       "      <th>Store7</th>\n",
       "      <th>PctDiscMM</th>\n",
       "      <th>PctDiscCH</th>\n",
       "      <th>ListPriceDiff</th>\n",
       "      <th>STORE</th>\n",
       "    </tr>\n",
       "  </thead>\n",
       "  <tbody>\n",
       "    <tr>\n",
       "      <th>0</th>\n",
       "      <td>CH</td>\n",
       "      <td>237</td>\n",
       "      <td>1</td>\n",
       "      <td>1.75</td>\n",
       "      <td>1.99</td>\n",
       "      <td>0.00</td>\n",
       "      <td>0.00</td>\n",
       "      <td>0</td>\n",
       "      <td>0</td>\n",
       "      <td>0.500000</td>\n",
       "      <td>1.99</td>\n",
       "      <td>1.75</td>\n",
       "      <td>0.24</td>\n",
       "      <td>No</td>\n",
       "      <td>0.000000</td>\n",
       "      <td>0.000000</td>\n",
       "      <td>0.24</td>\n",
       "      <td>1</td>\n",
       "    </tr>\n",
       "    <tr>\n",
       "      <th>1</th>\n",
       "      <td>CH</td>\n",
       "      <td>239</td>\n",
       "      <td>1</td>\n",
       "      <td>1.75</td>\n",
       "      <td>1.99</td>\n",
       "      <td>0.00</td>\n",
       "      <td>0.30</td>\n",
       "      <td>0</td>\n",
       "      <td>1</td>\n",
       "      <td>0.600000</td>\n",
       "      <td>1.69</td>\n",
       "      <td>1.75</td>\n",
       "      <td>-0.06</td>\n",
       "      <td>No</td>\n",
       "      <td>0.150754</td>\n",
       "      <td>0.000000</td>\n",
       "      <td>0.24</td>\n",
       "      <td>1</td>\n",
       "    </tr>\n",
       "    <tr>\n",
       "      <th>2</th>\n",
       "      <td>CH</td>\n",
       "      <td>245</td>\n",
       "      <td>1</td>\n",
       "      <td>1.86</td>\n",
       "      <td>2.09</td>\n",
       "      <td>0.17</td>\n",
       "      <td>0.00</td>\n",
       "      <td>0</td>\n",
       "      <td>0</td>\n",
       "      <td>0.680000</td>\n",
       "      <td>2.09</td>\n",
       "      <td>1.69</td>\n",
       "      <td>0.40</td>\n",
       "      <td>No</td>\n",
       "      <td>0.000000</td>\n",
       "      <td>0.091398</td>\n",
       "      <td>0.23</td>\n",
       "      <td>1</td>\n",
       "    </tr>\n",
       "    <tr>\n",
       "      <th>3</th>\n",
       "      <td>MM</td>\n",
       "      <td>227</td>\n",
       "      <td>1</td>\n",
       "      <td>1.69</td>\n",
       "      <td>1.69</td>\n",
       "      <td>0.00</td>\n",
       "      <td>0.00</td>\n",
       "      <td>0</td>\n",
       "      <td>0</td>\n",
       "      <td>0.400000</td>\n",
       "      <td>1.69</td>\n",
       "      <td>1.69</td>\n",
       "      <td>0.00</td>\n",
       "      <td>No</td>\n",
       "      <td>0.000000</td>\n",
       "      <td>0.000000</td>\n",
       "      <td>0.00</td>\n",
       "      <td>1</td>\n",
       "    </tr>\n",
       "    <tr>\n",
       "      <th>4</th>\n",
       "      <td>CH</td>\n",
       "      <td>228</td>\n",
       "      <td>7</td>\n",
       "      <td>1.69</td>\n",
       "      <td>1.69</td>\n",
       "      <td>0.00</td>\n",
       "      <td>0.00</td>\n",
       "      <td>0</td>\n",
       "      <td>0</td>\n",
       "      <td>0.956535</td>\n",
       "      <td>1.69</td>\n",
       "      <td>1.69</td>\n",
       "      <td>0.00</td>\n",
       "      <td>Yes</td>\n",
       "      <td>0.000000</td>\n",
       "      <td>0.000000</td>\n",
       "      <td>0.00</td>\n",
       "      <td>0</td>\n",
       "    </tr>\n",
       "    <tr>\n",
       "      <th>...</th>\n",
       "      <td>...</td>\n",
       "      <td>...</td>\n",
       "      <td>...</td>\n",
       "      <td>...</td>\n",
       "      <td>...</td>\n",
       "      <td>...</td>\n",
       "      <td>...</td>\n",
       "      <td>...</td>\n",
       "      <td>...</td>\n",
       "      <td>...</td>\n",
       "      <td>...</td>\n",
       "      <td>...</td>\n",
       "      <td>...</td>\n",
       "      <td>...</td>\n",
       "      <td>...</td>\n",
       "      <td>...</td>\n",
       "      <td>...</td>\n",
       "      <td>...</td>\n",
       "    </tr>\n",
       "    <tr>\n",
       "      <th>1065</th>\n",
       "      <td>CH</td>\n",
       "      <td>252</td>\n",
       "      <td>7</td>\n",
       "      <td>1.86</td>\n",
       "      <td>2.09</td>\n",
       "      <td>0.10</td>\n",
       "      <td>0.00</td>\n",
       "      <td>0</td>\n",
       "      <td>0</td>\n",
       "      <td>0.587822</td>\n",
       "      <td>2.09</td>\n",
       "      <td>1.76</td>\n",
       "      <td>0.33</td>\n",
       "      <td>Yes</td>\n",
       "      <td>0.000000</td>\n",
       "      <td>0.053763</td>\n",
       "      <td>0.23</td>\n",
       "      <td>0</td>\n",
       "    </tr>\n",
       "    <tr>\n",
       "      <th>1066</th>\n",
       "      <td>CH</td>\n",
       "      <td>256</td>\n",
       "      <td>7</td>\n",
       "      <td>1.86</td>\n",
       "      <td>2.18</td>\n",
       "      <td>0.00</td>\n",
       "      <td>0.00</td>\n",
       "      <td>0</td>\n",
       "      <td>0</td>\n",
       "      <td>0.670258</td>\n",
       "      <td>2.18</td>\n",
       "      <td>1.86</td>\n",
       "      <td>0.32</td>\n",
       "      <td>Yes</td>\n",
       "      <td>0.000000</td>\n",
       "      <td>0.000000</td>\n",
       "      <td>0.32</td>\n",
       "      <td>0</td>\n",
       "    </tr>\n",
       "    <tr>\n",
       "      <th>1067</th>\n",
       "      <td>MM</td>\n",
       "      <td>257</td>\n",
       "      <td>7</td>\n",
       "      <td>1.86</td>\n",
       "      <td>2.18</td>\n",
       "      <td>0.00</td>\n",
       "      <td>0.00</td>\n",
       "      <td>0</td>\n",
       "      <td>0</td>\n",
       "      <td>0.736206</td>\n",
       "      <td>2.18</td>\n",
       "      <td>1.86</td>\n",
       "      <td>0.32</td>\n",
       "      <td>Yes</td>\n",
       "      <td>0.000000</td>\n",
       "      <td>0.000000</td>\n",
       "      <td>0.32</td>\n",
       "      <td>0</td>\n",
       "    </tr>\n",
       "    <tr>\n",
       "      <th>1068</th>\n",
       "      <td>CH</td>\n",
       "      <td>261</td>\n",
       "      <td>7</td>\n",
       "      <td>1.86</td>\n",
       "      <td>2.13</td>\n",
       "      <td>0.00</td>\n",
       "      <td>0.24</td>\n",
       "      <td>0</td>\n",
       "      <td>0</td>\n",
       "      <td>0.588965</td>\n",
       "      <td>1.89</td>\n",
       "      <td>1.86</td>\n",
       "      <td>0.03</td>\n",
       "      <td>Yes</td>\n",
       "      <td>0.112676</td>\n",
       "      <td>0.000000</td>\n",
       "      <td>0.27</td>\n",
       "      <td>0</td>\n",
       "    </tr>\n",
       "    <tr>\n",
       "      <th>1069</th>\n",
       "      <td>CH</td>\n",
       "      <td>270</td>\n",
       "      <td>1</td>\n",
       "      <td>1.86</td>\n",
       "      <td>2.18</td>\n",
       "      <td>0.00</td>\n",
       "      <td>0.00</td>\n",
       "      <td>0</td>\n",
       "      <td>0</td>\n",
       "      <td>0.671172</td>\n",
       "      <td>2.18</td>\n",
       "      <td>1.86</td>\n",
       "      <td>0.32</td>\n",
       "      <td>No</td>\n",
       "      <td>0.000000</td>\n",
       "      <td>0.000000</td>\n",
       "      <td>0.32</td>\n",
       "      <td>1</td>\n",
       "    </tr>\n",
       "  </tbody>\n",
       "</table>\n",
       "<p>1070 rows × 18 columns</p>\n",
       "</div>"
      ],
      "text/plain": [
       "     Purchase  WeekofPurchase  StoreID  PriceCH  PriceMM  DiscCH  DiscMM  \\\n",
       "0          CH             237        1     1.75     1.99    0.00    0.00   \n",
       "1          CH             239        1     1.75     1.99    0.00    0.30   \n",
       "2          CH             245        1     1.86     2.09    0.17    0.00   \n",
       "3          MM             227        1     1.69     1.69    0.00    0.00   \n",
       "4          CH             228        7     1.69     1.69    0.00    0.00   \n",
       "...       ...             ...      ...      ...      ...     ...     ...   \n",
       "1065       CH             252        7     1.86     2.09    0.10    0.00   \n",
       "1066       CH             256        7     1.86     2.18    0.00    0.00   \n",
       "1067       MM             257        7     1.86     2.18    0.00    0.00   \n",
       "1068       CH             261        7     1.86     2.13    0.00    0.24   \n",
       "1069       CH             270        1     1.86     2.18    0.00    0.00   \n",
       "\n",
       "      SpecialCH  SpecialMM   LoyalCH  SalePriceMM  SalePriceCH  PriceDiff  \\\n",
       "0             0          0  0.500000         1.99         1.75       0.24   \n",
       "1             0          1  0.600000         1.69         1.75      -0.06   \n",
       "2             0          0  0.680000         2.09         1.69       0.40   \n",
       "3             0          0  0.400000         1.69         1.69       0.00   \n",
       "4             0          0  0.956535         1.69         1.69       0.00   \n",
       "...         ...        ...       ...          ...          ...        ...   \n",
       "1065          0          0  0.587822         2.09         1.76       0.33   \n",
       "1066          0          0  0.670258         2.18         1.86       0.32   \n",
       "1067          0          0  0.736206         2.18         1.86       0.32   \n",
       "1068          0          0  0.588965         1.89         1.86       0.03   \n",
       "1069          0          0  0.671172         2.18         1.86       0.32   \n",
       "\n",
       "     Store7  PctDiscMM  PctDiscCH  ListPriceDiff  STORE  \n",
       "0        No   0.000000   0.000000           0.24      1  \n",
       "1        No   0.150754   0.000000           0.24      1  \n",
       "2        No   0.000000   0.091398           0.23      1  \n",
       "3        No   0.000000   0.000000           0.00      1  \n",
       "4       Yes   0.000000   0.000000           0.00      0  \n",
       "...     ...        ...        ...            ...    ...  \n",
       "1065    Yes   0.000000   0.053763           0.23      0  \n",
       "1066    Yes   0.000000   0.000000           0.32      0  \n",
       "1067    Yes   0.000000   0.000000           0.32      0  \n",
       "1068    Yes   0.112676   0.000000           0.27      0  \n",
       "1069     No   0.000000   0.000000           0.32      1  \n",
       "\n",
       "[1070 rows x 18 columns]"
      ]
     },
     "execution_count": 23,
     "metadata": {},
     "output_type": "execute_result"
    }
   ],
   "source": [
    "OJ = load_data('OJ')\n",
    "OJ"
   ]
  },
  {
   "cell_type": "markdown",
   "id": "a51c9125-943a-477f-a93d-97797964678b",
   "metadata": {},
   "source": [
    "### Train/test split"
   ]
  },
  {
   "cell_type": "code",
   "execution_count": 24,
   "id": "dd67c4c6-d9d4-4bec-b901-82d167579148",
   "metadata": {},
   "outputs": [
    {
     "data": {
      "text/plain": [
       "((1070, 17), (1070,), 17)"
      ]
     },
     "execution_count": 24,
     "metadata": {},
     "output_type": "execute_result"
    }
   ],
   "source": [
    "target = 'Purchase'\n",
    "X = OJ.drop(target, axis='columns')\n",
    "y = OJ.loc[:, target]\n",
    "features = X.columns.tolist()\n",
    "X.shape, y.shape, len(features)"
   ]
  },
  {
   "cell_type": "code",
   "execution_count": 25,
   "id": "ac380ad0-b302-4ebf-9b0a-f917b9f125e3",
   "metadata": {},
   "outputs": [
    {
     "data": {
      "text/plain": [
       "((800, 17), (270, 17), (800,), (270,))"
      ]
     },
     "execution_count": 25,
     "metadata": {},
     "output_type": "execute_result"
    }
   ],
   "source": [
    "X_train, X_test, y_train, y_test = skm.train_test_split(X, y, train_size=800, random_state=0)\n",
    "X_train.shape, X_test.shape, y_train.shape, y_test.shape"
   ]
  },
  {
   "cell_type": "markdown",
   "id": "de25065f-bd64-46f6-8792-c7a326becd47",
   "metadata": {},
   "source": [
    "### Classification tree"
   ]
  },
  {
   "cell_type": "code",
   "execution_count": 26,
   "id": "1fdb2d63-5ec8-42b7-a924-4dc44373339d",
   "metadata": {},
   "outputs": [
    {
     "data": {
      "text/plain": [
       "(['Store7'],\n",
       " ['WeekofPurchase',\n",
       "  'StoreID',\n",
       "  'PriceCH',\n",
       "  'PriceMM',\n",
       "  'DiscCH',\n",
       "  'DiscMM',\n",
       "  'SpecialCH',\n",
       "  'SpecialMM',\n",
       "  'LoyalCH',\n",
       "  'SalePriceMM',\n",
       "  'SalePriceCH',\n",
       "  'PriceDiff',\n",
       "  'PctDiscMM',\n",
       "  'PctDiscCH',\n",
       "  'ListPriceDiff',\n",
       "  'STORE'])"
      ]
     },
     "execution_count": 26,
     "metadata": {},
     "output_type": "execute_result"
    }
   ],
   "source": [
    "cat_features = [x for x in X.columns if X[x].dtype == 'category']\n",
    "num_features = [x for x in X.columns if x not in cat_features]\n",
    "cat_features, num_features"
   ]
  },
  {
   "cell_type": "code",
   "execution_count": 27,
   "id": "45554e13-0be2-4dc6-80e9-c9ffd76a18ac",
   "metadata": {},
   "outputs": [
    {
     "data": {
      "text/plain": [
       "0.8225"
      ]
     },
     "execution_count": 27,
     "metadata": {},
     "output_type": "execute_result"
    }
   ],
   "source": [
    "ct = ColumnTransformer(transformers=[\n",
    "    ('cat', OneHotEncoder(handle_unknown='ignore'), cat_features),\n",
    "    ('num', 'passthrough', num_features)\n",
    "])\n",
    "\n",
    "oj_model = Pipeline([\n",
    "    ('ct', ct),\n",
    "    ('clf', DTC(max_depth=3, random_state=0)),\n",
    "])\n",
    "oj_model.fit(X_train, y_train)\n",
    "\n",
    "accuracy_score(y_train, oj_model.predict(X_train))"
   ]
  },
  {
   "cell_type": "code",
   "execution_count": 28,
   "id": "54c2063d-a7e8-4cbc-ba9c-827ec6ffc250",
   "metadata": {},
   "outputs": [
    {
     "data": {
      "image/png": "[encoded data removed]",
      "text/plain": [
       "<Figure size 1400x600 with 1 Axes>"
      ]
     },
     "metadata": {},
     "output_type": "display_data"
    }
   ],
   "source": [
    "_, ax = plt.subplots(figsize=(14, 6))\n",
    "\n",
    "oj_clf = oj_model.named_steps['clf']\n",
    "feature_names = oj_model.named_steps['ct'].\\\n",
    "    named_transformers_['cat'].\\\n",
    "    get_feature_names_out(cat_features).\\\n",
    "    tolist() + num_features\n",
    "\n",
    "plot_tree(\n",
    "    oj_clf, \n",
    "    feature_names=feature_names, \n",
    "    ax=ax,\n",
    ");"
   ]
  },
  {
   "cell_type": "code",
   "execution_count": 29,
   "id": "3056e7f6-dd16-451a-b72d-2ab13dc94594",
   "metadata": {},
   "outputs": [
    {
     "name": "stdout",
     "output_type": "stream",
     "text": [
      "|--- LoyalCH <= 0.51\n",
      "|   |--- LoyalCH <= 0.28\n",
      "|   |   |--- LoyalCH <= 0.06\n",
      "|   |   |   |--- weights: [2.00, 58.00] class: MM\n",
      "|   |   |--- LoyalCH >  0.06\n",
      "|   |   |   |--- weights: [20.00, 80.00] class: MM\n",
      "|   |--- LoyalCH >  0.28\n",
      "|   |   |--- PriceDiff <= 0.05\n",
      "|   |   |   |--- weights: [14.00, 56.00] class: MM\n",
      "|   |   |--- PriceDiff >  0.05\n",
      "|   |   |   |--- weights: [63.00, 47.00] class: CH\n",
      "|--- LoyalCH >  0.51\n",
      "|   |--- LoyalCH <= 0.71\n",
      "|   |   |--- PriceDiff <= 0.27\n",
      "|   |   |   |--- weights: [46.00, 41.00] class: CH\n",
      "|   |   |--- PriceDiff >  0.27\n",
      "|   |   |   |--- weights: [60.00, 3.00] class: CH\n",
      "|   |--- LoyalCH >  0.71\n",
      "|   |   |--- PriceDiff <= -0.39\n",
      "|   |   |   |--- weights: [9.00, 4.00] class: CH\n",
      "|   |   |--- PriceDiff >  -0.39\n",
      "|   |   |   |--- weights: [286.00, 11.00] class: CH\n",
      "\n"
     ]
    }
   ],
   "source": [
    "print(export_text(oj_clf, feature_names=feature_names, show_weights=True))"
   ]
  },
  {
   "cell_type": "markdown",
   "id": "f25182c9-4fbc-41c1-9d80-6c88bf21e645",
   "metadata": {},
   "source": [
    "### Confusion matrix"
   ]
  },
  {
   "cell_type": "markdown",
   "id": "07b6fd97-d74b-43f2-b7c8-92fdb2b3f4df",
   "metadata": {},
   "source": [
    "Test error estimate."
   ]
  },
  {
   "cell_type": "code",
   "execution_count": 30,
   "id": "5aaf2ec5-7436-4450-804a-52071a1c2fce",
   "metadata": {},
   "outputs": [
    {
     "data": {
      "text/plain": [
       "0.8111111111111111"
      ]
     },
     "execution_count": 30,
     "metadata": {},
     "output_type": "execute_result"
    }
   ],
   "source": [
    "y_hat = oj_model.predict(X_test)\n",
    "accuracy_score(y_test, y_hat)"
   ]
  },
  {
   "cell_type": "code",
   "execution_count": 31,
   "id": "e6d1a375-8902-4ea3-99fd-548922ee0bd7",
   "metadata": {},
   "outputs": [
    {
     "data": {
      "image/png": "[encoded data removed]",
      "text/plain": [
       "<Figure size 640x480 with 2 Axes>"
      ]
     },
     "metadata": {},
     "output_type": "display_data"
    }
   ],
   "source": [
    "cm = confusion_matrix(\n",
    "    y_test, y_hat, \n",
    "    labels=oj_clf.classes_\n",
    ")\n",
    "\n",
    "cm_disp = ConfusionMatrixDisplay(\n",
    "    confusion_matrix=cm, \n",
    "    display_labels=oj_clf.classes_,\n",
    ")\n",
    "\n",
    "_, ax = plt.subplots()\n",
    "cm_disp.plot(ax=ax);"
   ]
  },
  {
   "cell_type": "markdown",
   "id": "e2c7a09d-f496-4c09-a3ae-62734f1da96c",
   "metadata": {},
   "source": [
    "### Best tree depth"
   ]
  },
  {
   "cell_type": "code",
   "execution_count": 32,
   "id": "09d1e85c-dd3b-4713-8030-d285b535961c",
   "metadata": {},
   "outputs": [],
   "source": [
    "depths = np.arange(3, 15)\n",
    "test_scores = np.zeros(len(depths))\n",
    "\n",
    "for i, depth in enumerate(depths):\n",
    "    model = Pipeline([\n",
    "        ('ct', ct),\n",
    "        ('clf', DTC(max_depth=depth, random_state=0)),\n",
    "    ])\n",
    "    \n",
    "    results = skm.cross_validate(model, X_train, y_train, cv=5)\n",
    "    test_scores[i] = results['test_score'].mean()\n"
   ]
  },
  {
   "cell_type": "code",
   "execution_count": 33,
   "id": "6a36b64f-9e03-4695-a8d9-a8351c46628c",
   "metadata": {},
   "outputs": [
    {
     "data": {
      "text/plain": [
       "(array([7]), 0.79375)"
      ]
     },
     "execution_count": 33,
     "metadata": {},
     "output_type": "execute_result"
    }
   ],
   "source": [
    "max_score =  test_scores.max()\n",
    "depths[np.where(test_scores == max_score)], max_score"
   ]
  },
  {
   "cell_type": "markdown",
   "id": "8d249947-c76e-4edc-8a1b-d9526ce9095f",
   "metadata": {},
   "source": [
    "The results from cross-validation indicates that the best tree depth is `7`, with an accuracy score of `79.38`."
   ]
  },
  {
   "cell_type": "code",
   "execution_count": 34,
   "id": "6b7e661c-9db9-440b-bd54-66ebe7640da5",
   "metadata": {},
   "outputs": [
    {
     "data": {
      "image/png": "[encoded data removed]",
      "text/plain": [
       "<Figure size 640x480 with 1 Axes>"
      ]
     },
     "metadata": {},
     "output_type": "display_data"
    }
   ],
   "source": [
    "_, ax = plt.subplots()\n",
    "ax.plot(depths, test_scores, c='g', alpha=.8)\n",
    "ax.set_title('Tree-depth vs. test scores')\n",
    "ax.set_ylabel('test scores')\n",
    "ax.set_xlabel('tree-depth');"
   ]
  },
  {
   "cell_type": "markdown",
   "id": "3dd48b79-846b-4dc1-aa6d-89a736dce3a1",
   "metadata": {},
   "source": [
    "### Pruning"
   ]
  },
  {
   "cell_type": "code",
   "execution_count": 35,
   "id": "273c520f-8a4c-4d1b-9d8e-c7b28ff46415",
   "metadata": {},
   "outputs": [
    {
     "data": {
      "text/plain": [
       "(0.8025, {'clf__ccp_alpha': 0.0036257363253856915})"
      ]
     },
     "execution_count": 35,
     "metadata": {},
     "output_type": "execute_result"
    }
   ],
   "source": [
    "oj_clf_tuned = DTC(max_depth=7, random_state=0)\n",
    "oj_model_pruned = Pipeline([\n",
    "    ('ct', ct),\n",
    "    ('clf', oj_clf_tuned),\n",
    "])\n",
    "\n",
    "ccp_path = oj_clf_tuned.cost_complexity_pruning_path(ct.fit_transform(X_train), y_train)\n",
    "\n",
    "param_grid = {'clf__ccp_alpha': ccp_path.ccp_alphas}\n",
    "grid = skm.GridSearchCV(\n",
    "    oj_model_pruned,\n",
    "    param_grid=param_grid,\n",
    "    refit=True,\n",
    "    cv=5,\n",
    "    scoring='accuracy',\n",
    "    n_jobs=-1,\n",
    ")\n",
    "\n",
    "grid.fit(X_train, y_train)\n",
    "grid.best_score_, grid.best_params_"
   ]
  },
  {
   "cell_type": "code",
   "execution_count": 36,
   "id": "d879290e-3c99-4477-ad36-9ea065516641",
   "metadata": {},
   "outputs": [
    {
     "data": {
      "text/plain": [
       "0.7777777777777778"
      ]
     },
     "execution_count": 36,
     "metadata": {},
     "output_type": "execute_result"
    }
   ],
   "source": [
    "accuracy_score(y_test, grid.best_estimator_.predict(X_test))"
   ]
  },
  {
   "cell_type": "markdown",
   "id": "6d17b0e4-1190-4c12-9c76-de33ade26e19",
   "metadata": {},
   "source": [
    "As can be observed, the classifier with `max_depth=3` outperformed the one with `max_depth=7`, most likely overfitted the data."
   ]
  },
  {
   "cell_type": "markdown",
   "id": "b6146216-1718-40a3-8948-30c6e2fde4f7",
   "metadata": {},
   "source": [
    "## Hitters"
   ]
  },
  {
   "cell_type": "code",
   "execution_count": 37,
   "id": "686ff1ba-ce36-42c0-86e9-84dc8ba2280a",
   "metadata": {},
   "outputs": [
    {
     "data": {
      "text/plain": [
       "(322, 20)"
      ]
     },
     "execution_count": 37,
     "metadata": {},
     "output_type": "execute_result"
    }
   ],
   "source": [
    "Hitters = load_data('Hitters')\n",
    "Hitters.shape"
   ]
  },
  {
   "cell_type": "code",
   "execution_count": 38,
   "id": "f93dbce8-8697-49d6-adb9-079fca105d9c",
   "metadata": {},
   "outputs": [
    {
     "data": {
      "text/plain": [
       "AtBat         0\n",
       "Hits          0\n",
       "HmRun         0\n",
       "Runs          0\n",
       "RBI           0\n",
       "Walks         0\n",
       "Years         0\n",
       "CAtBat        0\n",
       "CHits         0\n",
       "CHmRun        0\n",
       "CRuns         0\n",
       "CRBI          0\n",
       "CWalks        0\n",
       "League        0\n",
       "Division      0\n",
       "PutOuts       0\n",
       "Assists       0\n",
       "Errors        0\n",
       "Salary       59\n",
       "NewLeague     0\n",
       "dtype: int64"
      ]
     },
     "execution_count": 38,
     "metadata": {},
     "output_type": "execute_result"
    }
   ],
   "source": [
    "Hitters.isna().sum()"
   ]
  },
  {
   "cell_type": "code",
   "execution_count": 39,
   "id": "701d44c8-28a2-4bb1-bb65-e951e764be3b",
   "metadata": {},
   "outputs": [
    {
     "data": {
      "text/plain": [
       "(263, 20)"
      ]
     },
     "execution_count": 39,
     "metadata": {},
     "output_type": "execute_result"
    }
   ],
   "source": [
    "Hitters = Hitters.dropna()\n",
    "Hitters.shape"
   ]
  },
  {
   "cell_type": "markdown",
   "id": "94a8217b-f9b5-4a9d-956a-46c908c9c30f",
   "metadata": {},
   "source": [
    "### Train/test split"
   ]
  },
  {
   "cell_type": "code",
   "execution_count": 40,
   "id": "1a3e9d23-1844-4685-97bf-af6556e373fa",
   "metadata": {},
   "outputs": [
    {
     "data": {
      "text/plain": [
       "((263, 19), (263,))"
      ]
     },
     "execution_count": 40,
     "metadata": {},
     "output_type": "execute_result"
    }
   ],
   "source": [
    "target = 'Salary'\n",
    "X = Hitters.drop(target, axis='columns')\n",
    "y = Hitters.loc[:, target]\n",
    "X.shape, y.shape"
   ]
  },
  {
   "cell_type": "code",
   "execution_count": 41,
   "id": "f6da79f0-b95e-4cd1-9202-4a40dc24bfdb",
   "metadata": {},
   "outputs": [
    {
     "data": {
      "text/plain": [
       "'AtBat, Hits, HmRun, Runs, RBI, Walks, Years, CAtBat, CHits, CHmRun, CRuns, CRBI, CWalks, League, Division, PutOuts, Assists, Errors, NewLeague'"
      ]
     },
     "execution_count": 41,
     "metadata": {},
     "output_type": "execute_result"
    }
   ],
   "source": [
    "features = X.columns.tolist()\n",
    "', '.join(features)"
   ]
  },
  {
   "cell_type": "code",
   "execution_count": 42,
   "id": "841d0564-f894-4c8b-8467-b93ac1df2601",
   "metadata": {},
   "outputs": [
    {
     "data": {
      "text/plain": [
       "((200, 19), (63, 19), (200,), (63,))"
      ]
     },
     "execution_count": 42,
     "metadata": {},
     "output_type": "execute_result"
    }
   ],
   "source": [
    "X_train, X_test, y_train, y_test = skm.train_test_split(X, y, train_size=200, random_state=0)\n",
    "X_train.shape, X_test.shape, y_train.shape, y_test.shape"
   ]
  },
  {
   "cell_type": "code",
   "execution_count": 43,
   "id": "7594bf3a-9338-4727-9611-c8711d7b5eb4",
   "metadata": {},
   "outputs": [
    {
     "data": {
      "text/plain": [
       "AtBat           int64\n",
       "Hits            int64\n",
       "HmRun           int64\n",
       "Runs            int64\n",
       "RBI             int64\n",
       "Walks           int64\n",
       "Years           int64\n",
       "CAtBat          int64\n",
       "CHits           int64\n",
       "CHmRun          int64\n",
       "CRuns           int64\n",
       "CRBI            int64\n",
       "CWalks          int64\n",
       "League       category\n",
       "Division     category\n",
       "PutOuts         int64\n",
       "Assists         int64\n",
       "Errors          int64\n",
       "NewLeague    category\n",
       "dtype: object"
      ]
     },
     "execution_count": 43,
     "metadata": {},
     "output_type": "execute_result"
    }
   ],
   "source": [
    "X.dtypes"
   ]
  },
  {
   "cell_type": "markdown",
   "id": "50e2189d-4050-44e8-9b1b-720b8726cdd5",
   "metadata": {},
   "source": [
    "### Boosting"
   ]
  },
  {
   "cell_type": "code",
   "execution_count": 44,
   "id": "495741e7-c94b-4423-9d65-098bdea9ba42",
   "metadata": {},
   "outputs": [
    {
     "data": {
      "text/plain": [
       "('League, Division, NewLeague',\n",
       " 'AtBat, Hits, HmRun, Runs, RBI, Walks, Years, CAtBat, CHits, CHmRun, CRuns, CRBI, CWalks, PutOuts, Assists, Errors')"
      ]
     },
     "execution_count": 44,
     "metadata": {},
     "output_type": "execute_result"
    }
   ],
   "source": [
    "cat_features = [x for x in X.columns if X[x].dtype == 'category']\n",
    "num_features = [x for x in X.columns if x not in cat_features]\n",
    "', '.join(cat_features), ', '.join(num_features)"
   ]
  },
  {
   "cell_type": "code",
   "execution_count": 46,
   "id": "47f40233-b87f-43e5-ac8e-aacc26a8634c",
   "metadata": {},
   "outputs": [
    {
     "data": {
      "text/plain": [
       "(88421.63881816866, 8.244047289074913e-05)"
      ]
     },
     "execution_count": 46,
     "metadata": {},
     "output_type": "execute_result"
    }
   ],
   "source": [
    "ct = ColumnTransformer(transformers=[\n",
    "    ('cat', OneHotEncoder(handle_unknown='ignore'), cat_features),\n",
    "    ('num', 'passthrough', num_features)\n",
    "])\n",
    "\n",
    "hitters_model = Pipeline([\n",
    "    ('ct', ct),\n",
    "    ('reg', GBR(n_estimators=1000, random_state=0)),\n",
    "])\n",
    "\n",
    "cv_results = skm.cross_validate(\n",
    "    hitters_model, \n",
    "    X_train, y_train, \n",
    "    scoring='neg_mean_squared_error',\n",
    "    return_train_score=True, \n",
    "    cv=5, n_jobs=-1,\n",
    ")\n",
    "-cv_results['test_score'].mean(), -cv_results['train_score'].mean()"
   ]
  },
  {
   "cell_type": "markdown",
   "id": "0476a174-ed2f-4966-89cd-98b25f56a322",
   "metadata": {},
   "source": [
    "### Learning rates"
   ]
  },
  {
   "cell_type": "code",
   "execution_count": 47,
   "id": "62dccc62-468b-4454-8573-c661c1a850ec",
   "metadata": {},
   "outputs": [
    {
     "data": {
      "text/plain": [
       "array([0.0001    , 0.00213878, 0.00417755, 0.00621633, 0.0082551 ,\n",
       "       0.01029388, 0.01233265, 0.01437143, 0.0164102 , 0.01844898,\n",
       "       0.02048776, 0.02252653, 0.02456531, 0.02660408, 0.02864286,\n",
       "       0.03068163, 0.03272041, 0.03475918, 0.03679796, 0.03883673,\n",
       "       0.04087551, 0.04291429, 0.04495306, 0.04699184, 0.04903061,\n",
       "       0.05106939, 0.05310816, 0.05514694, 0.05718571, 0.05922449,\n",
       "       0.06126327, 0.06330204, 0.06534082, 0.06737959, 0.06941837,\n",
       "       0.07145714, 0.07349592, 0.07553469, 0.07757347, 0.07961224,\n",
       "       0.08165102, 0.0836898 , 0.08572857, 0.08776735, 0.08980612,\n",
       "       0.0918449 , 0.09388367, 0.09592245, 0.09796122, 0.1       ])"
      ]
     },
     "execution_count": 47,
     "metadata": {},
     "output_type": "execute_result"
    }
   ],
   "source": [
    "alphas = np.linspace(0.0001, 0.1)\n",
    "alphas"
   ]
  },
  {
   "cell_type": "markdown",
   "id": "2fe28f92-0a21-4770-a14d-4a6cea2e343e",
   "metadata": {},
   "source": [
    "#### Train MSE"
   ]
  },
  {
   "cell_type": "markdown",
   "id": "31ae512f-3bbc-4289-8e79-3a4d1620d439",
   "metadata": {},
   "source": [
    "Todo: Use async/await to improve runtime."
   ]
  },
  {
   "cell_type": "code",
   "execution_count": 49,
   "id": "584a0b53-572a-4265-90ff-ffbe68f07fe7",
   "metadata": {},
   "outputs": [
    {
     "name": "stdout",
     "output_type": "stream",
     "text": [
      ".................................................."
     ]
    }
   ],
   "source": [
    "train_mses = np.zeros(len(alphas))\n",
    "\n",
    "for i, alpha in enumerate(alphas):\n",
    "    model = Pipeline([\n",
    "        ('ct', ct),\n",
    "        ('reg', GBR(\n",
    "            learning_rate=alpha,\n",
    "            n_estimators=1000, \n",
    "            random_state=0,\n",
    "        )),\n",
    "    ])\n",
    "    \n",
    "    model.fit(X_train, y_train)\n",
    "    train_mses[i] = mean_squared_error(y_train, model.predict(X_train))\n",
    "    print('.', end='')"
   ]
  },
  {
   "cell_type": "code",
   "execution_count": 50,
   "id": "ddfba9c6-75f6-49b9-bec8-318c6aff49c4",
   "metadata": {},
   "outputs": [
    {
     "data": {
      "text/plain": [
       "(array([0.09796122]), 0.001521217014476809)"
      ]
     },
     "execution_count": 50,
     "metadata": {},
     "output_type": "execute_result"
    }
   ],
   "source": [
    "min_train_mse =  train_mses.min()\n",
    "alphas[np.where(train_mses == min_train_mse)], min_train_mse"
   ]
  },
  {
   "cell_type": "code",
   "execution_count": 51,
   "id": "a4a9f0e3-1ac1-41b5-bbf7-a335b21fc0ef",
   "metadata": {},
   "outputs": [
    {
     "data": {
      "image/png": "[encoded data removed]",
      "text/plain": [
       "<Figure size 640x480 with 1 Axes>"
      ]
     },
     "metadata": {},
     "output_type": "display_data"
    }
   ],
   "source": [
    "_, ax = plt.subplots()\n",
    "ax.plot(alphas, train_mses, c='g', alpha=.8, label='train MSE')\n",
    "ax.set_title('alphas vs. train MSE')\n",
    "ax.set_ylabel('train MSE')\n",
    "ax.set_xlabel('alphas')\n",
    "ax.legend();"
   ]
  },
  {
   "cell_type": "markdown",
   "id": "184bb7be-28e1-4234-80b0-f47604295051",
   "metadata": {},
   "source": [
    "The train MSE has a steep drop around `0.01`."
   ]
  },
  {
   "cell_type": "markdown",
   "id": "65393306-efff-4dcb-9c82-615d1fc38dcb",
   "metadata": {},
   "source": [
    "#### Test MSE"
   ]
  },
  {
   "cell_type": "markdown",
   "id": "1c4d941e-f766-4e3f-960f-94bc4688998b",
   "metadata": {},
   "source": [
    "Todo: use async/await to improve runtime."
   ]
  },
  {
   "cell_type": "code",
   "execution_count": 53,
   "id": "0127c2c6-9f27-446d-9c8f-2c88f634d5f6",
   "metadata": {},
   "outputs": [
    {
     "name": "stdout",
     "output_type": "stream",
     "text": [
      ".................................................."
     ]
    }
   ],
   "source": [
    "test_mses = np.zeros(len(alphas))\n",
    "\n",
    "for i, alpha in enumerate(alphas):\n",
    "    model = Pipeline([\n",
    "        ('ct', ct),\n",
    "        ('reg', GBR(\n",
    "            learning_rate=alpha,\n",
    "            n_estimators=1000, \n",
    "            random_state=0,\n",
    "        )),\n",
    "    ])\n",
    "    \n",
    "    model.fit(X_train, y_train)\n",
    "    test_mses[i] = mean_squared_error(y_test, model.predict(X_test))\n",
    "    print('.', end='')"
   ]
  },
  {
   "cell_type": "code",
   "execution_count": 54,
   "id": "5ff7ab48-03df-4ebe-b13a-b6c8d0a0da47",
   "metadata": {},
   "outputs": [
    {
     "data": {
      "text/plain": [
       "(array([0.07553469]), 109025.97365570412)"
      ]
     },
     "execution_count": 54,
     "metadata": {},
     "output_type": "execute_result"
    }
   ],
   "source": [
    "min_test_mse = test_mses.min()\n",
    "alphas[np.where(test_mses == min_test_mse)], min_test_mse"
   ]
  },
  {
   "cell_type": "code",
   "execution_count": 55,
   "id": "c21ff26c-348c-479d-9395-d63c9b752655",
   "metadata": {},
   "outputs": [
    {
     "data": {
      "image/png": "[encoded data removed]",
      "text/plain": [
       "<Figure size 640x480 with 1 Axes>"
      ]
     },
     "metadata": {},
     "output_type": "display_data"
    }
   ],
   "source": [
    "_, ax = plt.subplots()\n",
    "ax.plot(alphas, test_mses, c='g', alpha=.8, label='test MSE')\n",
    "ax.set_title('alphas vs. test MSE')\n",
    "ax.set_ylabel('test MSE')\n",
    "ax.set_xlabel('alphas')\n",
    "ax.legend();"
   ]
  },
  {
   "cell_type": "markdown",
   "id": "9eb7169b-68b3-434d-9cc0-b172e8c01387",
   "metadata": {},
   "source": [
    "The test MSE has a steep drop on `0.01`, but beyond `0.01`, the test MSE looks jagged, but hovers around `100,000` to `110,000`."
   ]
  },
  {
   "cell_type": "markdown",
   "id": "e171b872-9d43-4d61-b106-21409171420e",
   "metadata": {},
   "source": [
    "### Feature importances"
   ]
  },
  {
   "cell_type": "code",
   "execution_count": 56,
   "id": "0ebe4bb6-9eb1-46b4-b56e-f73c86415f01",
   "metadata": {},
   "outputs": [
    {
     "data": {
      "text/plain": [
       "110984.16055019463"
      ]
     },
     "execution_count": 56,
     "metadata": {},
     "output_type": "execute_result"
    }
   ],
   "source": [
    "tuned_hitters_model = Pipeline([\n",
    "    ('ct', ct),\n",
    "    ('reg', GBR(\n",
    "        n_estimators=1000,\n",
    "        learning_rate=0.07553469,\n",
    "        random_state=0,\n",
    "    )),\n",
    "])\n",
    "tuned_hitters_model.fit(X_train, y_train)\n",
    "\n",
    "mean_squared_error(y_test, tuned_hitters_model.predict(X_test))"
   ]
  },
  {
   "cell_type": "code",
   "execution_count": 57,
   "id": "c06f9f2c-e331-4f15-b571-b78ea0438e96",
   "metadata": {},
   "outputs": [
    {
     "data": {
      "text/plain": [
       "(22, 1)"
      ]
     },
     "execution_count": 57,
     "metadata": {},
     "output_type": "execute_result"
    }
   ],
   "source": [
    "hitters_reg = tuned_hitters_model.named_steps['reg']\n",
    "\n",
    "feature_names = hitters_model.named_steps['ct'].\\\n",
    "    named_transformers_['cat'].\\\n",
    "    get_feature_names_out(cat_features).\\\n",
    "    tolist() + num_features\n",
    "\n",
    "feature_importance = pd.DataFrame({\n",
    "    'importance': hitters_reg.feature_importances_,\n",
    "}, index=feature_names).sort_values(by='importance')\n",
    "feature_importance = feature_importance.loc[feature_importance['importance'] > 0]\n",
    "feature_importance.shape"
   ]
  },
  {
   "cell_type": "code",
   "execution_count": 58,
   "id": "bee33e38-5faa-4898-a33a-d5f351675fb4",
   "metadata": {},
   "outputs": [
    {
     "data": {
      "image/png": "[encoded data removed]",
      "text/plain": [
       "<Figure size 640x480 with 1 Axes>"
      ]
     },
     "metadata": {},
     "output_type": "display_data"
    }
   ],
   "source": [
    "_, ax = plt.subplots()\n",
    "\n",
    "feature_importance.plot(kind='barh', ax=ax, color='g', alpha=.5)\n",
    "\n",
    "ax.set_title('Hitters feature importances')\n",
    "ax.legend(loc='lower right');"
   ]
  },
  {
   "cell_type": "markdown",
   "id": "ce82d382-af8c-4ea4-ac32-02da1abdb77d",
   "metadata": {},
   "source": [
    "The plot indicates that the `CRBI` or the _Number of runs batted in during his career_ is the most important feature in this data set according to the model."
   ]
  },
  {
   "cell_type": "markdown",
   "id": "e0a2ccd8-90fd-4b77-ad4a-36a797bb0276",
   "metadata": {},
   "source": [
    "### Comparison with bagging"
   ]
  },
  {
   "cell_type": "code",
   "execution_count": 59,
   "id": "8c53b8c2-c990-41fb-b101-c3ad78ceb8d1",
   "metadata": {},
   "outputs": [
    {
     "data": {
      "text/plain": [
       "110706.81919671055"
      ]
     },
     "execution_count": 59,
     "metadata": {},
     "output_type": "execute_result"
    }
   ],
   "source": [
    "hitters_bagged = Pipeline([\n",
    "    ('ct', ct),\n",
    "    ('reg', RF(\n",
    "        n_estimators=1000,\n",
    "        random_state=0,\n",
    "        n_jobs=-1,\n",
    "    )),\n",
    "])\n",
    "hitters_bagged.fit(X_train, y_train)\n",
    "\n",
    "mean_squared_error(y_test, hitters_bagged.predict(X_test))"
   ]
  },
  {
   "cell_type": "markdown",
   "id": "6eaacf95-8e2d-480c-9524-8b42218f088b",
   "metadata": {},
   "source": [
    "The bagged model has a similar performance with the boosted model."
   ]
  },
  {
   "cell_type": "markdown",
   "id": "dfe52480-edda-4efc-97db-9db37b0b4444",
   "metadata": {},
   "source": [
    "## Caravan"
   ]
  },
  {
   "cell_type": "code",
   "execution_count": 60,
   "id": "909fbf23-1286-4e66-ba97-8184ba0c565f",
   "metadata": {},
   "outputs": [
    {
     "data": {
      "text/html": [
       "<div>\n",
       "<style scoped>\n",
       "    .dataframe tbody tr th:only-of-type {\n",
       "        vertical-align: middle;\n",
       "    }\n",
       "\n",
       "    .dataframe tbody tr th {\n",
       "        vertical-align: top;\n",
       "    }\n",
       "\n",
       "    .dataframe thead th {\n",
       "        text-align: right;\n",
       "    }\n",
       "</style>\n",
       "<table border=\"1\" class=\"dataframe\">\n",
       "  <thead>\n",
       "    <tr style=\"text-align: right;\">\n",
       "      <th></th>\n",
       "      <th>MOSTYPE</th>\n",
       "      <th>MAANTHUI</th>\n",
       "      <th>MGEMOMV</th>\n",
       "      <th>MGEMLEEF</th>\n",
       "      <th>MOSHOOFD</th>\n",
       "      <th>MGODRK</th>\n",
       "      <th>MGODPR</th>\n",
       "      <th>MGODOV</th>\n",
       "      <th>MGODGE</th>\n",
       "      <th>MRELGE</th>\n",
       "      <th>...</th>\n",
       "      <th>APERSONG</th>\n",
       "      <th>AGEZONG</th>\n",
       "      <th>AWAOREG</th>\n",
       "      <th>ABRAND</th>\n",
       "      <th>AZEILPL</th>\n",
       "      <th>APLEZIER</th>\n",
       "      <th>AFIETS</th>\n",
       "      <th>AINBOED</th>\n",
       "      <th>ABYSTAND</th>\n",
       "      <th>Purchase</th>\n",
       "    </tr>\n",
       "  </thead>\n",
       "  <tbody>\n",
       "    <tr>\n",
       "      <th>0</th>\n",
       "      <td>33</td>\n",
       "      <td>1</td>\n",
       "      <td>3</td>\n",
       "      <td>2</td>\n",
       "      <td>8</td>\n",
       "      <td>0</td>\n",
       "      <td>5</td>\n",
       "      <td>1</td>\n",
       "      <td>3</td>\n",
       "      <td>7</td>\n",
       "      <td>...</td>\n",
       "      <td>0</td>\n",
       "      <td>0</td>\n",
       "      <td>0</td>\n",
       "      <td>1</td>\n",
       "      <td>0</td>\n",
       "      <td>0</td>\n",
       "      <td>0</td>\n",
       "      <td>0</td>\n",
       "      <td>0</td>\n",
       "      <td>No</td>\n",
       "    </tr>\n",
       "    <tr>\n",
       "      <th>1</th>\n",
       "      <td>37</td>\n",
       "      <td>1</td>\n",
       "      <td>2</td>\n",
       "      <td>2</td>\n",
       "      <td>8</td>\n",
       "      <td>1</td>\n",
       "      <td>4</td>\n",
       "      <td>1</td>\n",
       "      <td>4</td>\n",
       "      <td>6</td>\n",
       "      <td>...</td>\n",
       "      <td>0</td>\n",
       "      <td>0</td>\n",
       "      <td>0</td>\n",
       "      <td>1</td>\n",
       "      <td>0</td>\n",
       "      <td>0</td>\n",
       "      <td>0</td>\n",
       "      <td>0</td>\n",
       "      <td>0</td>\n",
       "      <td>No</td>\n",
       "    </tr>\n",
       "    <tr>\n",
       "      <th>2</th>\n",
       "      <td>37</td>\n",
       "      <td>1</td>\n",
       "      <td>2</td>\n",
       "      <td>2</td>\n",
       "      <td>8</td>\n",
       "      <td>0</td>\n",
       "      <td>4</td>\n",
       "      <td>2</td>\n",
       "      <td>4</td>\n",
       "      <td>3</td>\n",
       "      <td>...</td>\n",
       "      <td>0</td>\n",
       "      <td>0</td>\n",
       "      <td>0</td>\n",
       "      <td>1</td>\n",
       "      <td>0</td>\n",
       "      <td>0</td>\n",
       "      <td>0</td>\n",
       "      <td>0</td>\n",
       "      <td>0</td>\n",
       "      <td>No</td>\n",
       "    </tr>\n",
       "    <tr>\n",
       "      <th>3</th>\n",
       "      <td>9</td>\n",
       "      <td>1</td>\n",
       "      <td>3</td>\n",
       "      <td>3</td>\n",
       "      <td>3</td>\n",
       "      <td>2</td>\n",
       "      <td>3</td>\n",
       "      <td>2</td>\n",
       "      <td>4</td>\n",
       "      <td>5</td>\n",
       "      <td>...</td>\n",
       "      <td>0</td>\n",
       "      <td>0</td>\n",
       "      <td>0</td>\n",
       "      <td>1</td>\n",
       "      <td>0</td>\n",
       "      <td>0</td>\n",
       "      <td>0</td>\n",
       "      <td>0</td>\n",
       "      <td>0</td>\n",
       "      <td>No</td>\n",
       "    </tr>\n",
       "    <tr>\n",
       "      <th>4</th>\n",
       "      <td>40</td>\n",
       "      <td>1</td>\n",
       "      <td>4</td>\n",
       "      <td>2</td>\n",
       "      <td>10</td>\n",
       "      <td>1</td>\n",
       "      <td>4</td>\n",
       "      <td>1</td>\n",
       "      <td>4</td>\n",
       "      <td>7</td>\n",
       "      <td>...</td>\n",
       "      <td>0</td>\n",
       "      <td>0</td>\n",
       "      <td>0</td>\n",
       "      <td>1</td>\n",
       "      <td>0</td>\n",
       "      <td>0</td>\n",
       "      <td>0</td>\n",
       "      <td>0</td>\n",
       "      <td>0</td>\n",
       "      <td>No</td>\n",
       "    </tr>\n",
       "    <tr>\n",
       "      <th>...</th>\n",
       "      <td>...</td>\n",
       "      <td>...</td>\n",
       "      <td>...</td>\n",
       "      <td>...</td>\n",
       "      <td>...</td>\n",
       "      <td>...</td>\n",
       "      <td>...</td>\n",
       "      <td>...</td>\n",
       "      <td>...</td>\n",
       "      <td>...</td>\n",
       "      <td>...</td>\n",
       "      <td>...</td>\n",
       "      <td>...</td>\n",
       "      <td>...</td>\n",
       "      <td>...</td>\n",
       "      <td>...</td>\n",
       "      <td>...</td>\n",
       "      <td>...</td>\n",
       "      <td>...</td>\n",
       "      <td>...</td>\n",
       "      <td>...</td>\n",
       "    </tr>\n",
       "    <tr>\n",
       "      <th>5817</th>\n",
       "      <td>36</td>\n",
       "      <td>1</td>\n",
       "      <td>1</td>\n",
       "      <td>2</td>\n",
       "      <td>8</td>\n",
       "      <td>0</td>\n",
       "      <td>6</td>\n",
       "      <td>1</td>\n",
       "      <td>2</td>\n",
       "      <td>1</td>\n",
       "      <td>...</td>\n",
       "      <td>0</td>\n",
       "      <td>0</td>\n",
       "      <td>0</td>\n",
       "      <td>1</td>\n",
       "      <td>0</td>\n",
       "      <td>0</td>\n",
       "      <td>0</td>\n",
       "      <td>0</td>\n",
       "      <td>0</td>\n",
       "      <td>No</td>\n",
       "    </tr>\n",
       "    <tr>\n",
       "      <th>5818</th>\n",
       "      <td>35</td>\n",
       "      <td>1</td>\n",
       "      <td>4</td>\n",
       "      <td>4</td>\n",
       "      <td>8</td>\n",
       "      <td>1</td>\n",
       "      <td>4</td>\n",
       "      <td>1</td>\n",
       "      <td>4</td>\n",
       "      <td>6</td>\n",
       "      <td>...</td>\n",
       "      <td>0</td>\n",
       "      <td>0</td>\n",
       "      <td>0</td>\n",
       "      <td>1</td>\n",
       "      <td>0</td>\n",
       "      <td>0</td>\n",
       "      <td>0</td>\n",
       "      <td>0</td>\n",
       "      <td>0</td>\n",
       "      <td>No</td>\n",
       "    </tr>\n",
       "    <tr>\n",
       "      <th>5819</th>\n",
       "      <td>33</td>\n",
       "      <td>1</td>\n",
       "      <td>3</td>\n",
       "      <td>4</td>\n",
       "      <td>8</td>\n",
       "      <td>0</td>\n",
       "      <td>6</td>\n",
       "      <td>0</td>\n",
       "      <td>3</td>\n",
       "      <td>5</td>\n",
       "      <td>...</td>\n",
       "      <td>0</td>\n",
       "      <td>0</td>\n",
       "      <td>0</td>\n",
       "      <td>1</td>\n",
       "      <td>0</td>\n",
       "      <td>0</td>\n",
       "      <td>0</td>\n",
       "      <td>0</td>\n",
       "      <td>0</td>\n",
       "      <td>Yes</td>\n",
       "    </tr>\n",
       "    <tr>\n",
       "      <th>5820</th>\n",
       "      <td>34</td>\n",
       "      <td>1</td>\n",
       "      <td>3</td>\n",
       "      <td>2</td>\n",
       "      <td>8</td>\n",
       "      <td>0</td>\n",
       "      <td>7</td>\n",
       "      <td>0</td>\n",
       "      <td>2</td>\n",
       "      <td>7</td>\n",
       "      <td>...</td>\n",
       "      <td>0</td>\n",
       "      <td>0</td>\n",
       "      <td>0</td>\n",
       "      <td>0</td>\n",
       "      <td>0</td>\n",
       "      <td>0</td>\n",
       "      <td>0</td>\n",
       "      <td>0</td>\n",
       "      <td>0</td>\n",
       "      <td>No</td>\n",
       "    </tr>\n",
       "    <tr>\n",
       "      <th>5821</th>\n",
       "      <td>33</td>\n",
       "      <td>1</td>\n",
       "      <td>3</td>\n",
       "      <td>3</td>\n",
       "      <td>8</td>\n",
       "      <td>0</td>\n",
       "      <td>6</td>\n",
       "      <td>1</td>\n",
       "      <td>2</td>\n",
       "      <td>7</td>\n",
       "      <td>...</td>\n",
       "      <td>0</td>\n",
       "      <td>0</td>\n",
       "      <td>0</td>\n",
       "      <td>0</td>\n",
       "      <td>0</td>\n",
       "      <td>0</td>\n",
       "      <td>0</td>\n",
       "      <td>0</td>\n",
       "      <td>0</td>\n",
       "      <td>No</td>\n",
       "    </tr>\n",
       "  </tbody>\n",
       "</table>\n",
       "<p>5822 rows × 86 columns</p>\n",
       "</div>"
      ],
      "text/plain": [
       "      MOSTYPE  MAANTHUI  MGEMOMV  MGEMLEEF  MOSHOOFD  MGODRK  MGODPR  MGODOV  \\\n",
       "0          33         1        3         2         8       0       5       1   \n",
       "1          37         1        2         2         8       1       4       1   \n",
       "2          37         1        2         2         8       0       4       2   \n",
       "3           9         1        3         3         3       2       3       2   \n",
       "4          40         1        4         2        10       1       4       1   \n",
       "...       ...       ...      ...       ...       ...     ...     ...     ...   \n",
       "5817       36         1        1         2         8       0       6       1   \n",
       "5818       35         1        4         4         8       1       4       1   \n",
       "5819       33         1        3         4         8       0       6       0   \n",
       "5820       34         1        3         2         8       0       7       0   \n",
       "5821       33         1        3         3         8       0       6       1   \n",
       "\n",
       "      MGODGE  MRELGE  ...  APERSONG  AGEZONG  AWAOREG  ABRAND  AZEILPL  \\\n",
       "0          3       7  ...         0        0        0       1        0   \n",
       "1          4       6  ...         0        0        0       1        0   \n",
       "2          4       3  ...         0        0        0       1        0   \n",
       "3          4       5  ...         0        0        0       1        0   \n",
       "4          4       7  ...         0        0        0       1        0   \n",
       "...      ...     ...  ...       ...      ...      ...     ...      ...   \n",
       "5817       2       1  ...         0        0        0       1        0   \n",
       "5818       4       6  ...         0        0        0       1        0   \n",
       "5819       3       5  ...         0        0        0       1        0   \n",
       "5820       2       7  ...         0        0        0       0        0   \n",
       "5821       2       7  ...         0        0        0       0        0   \n",
       "\n",
       "      APLEZIER  AFIETS  AINBOED  ABYSTAND  Purchase  \n",
       "0            0       0        0         0        No  \n",
       "1            0       0        0         0        No  \n",
       "2            0       0        0         0        No  \n",
       "3            0       0        0         0        No  \n",
       "4            0       0        0         0        No  \n",
       "...        ...     ...      ...       ...       ...  \n",
       "5817         0       0        0         0        No  \n",
       "5818         0       0        0         0        No  \n",
       "5819         0       0        0         0       Yes  \n",
       "5820         0       0        0         0        No  \n",
       "5821         0       0        0         0        No  \n",
       "\n",
       "[5822 rows x 86 columns]"
      ]
     },
     "execution_count": 60,
     "metadata": {},
     "output_type": "execute_result"
    }
   ],
   "source": [
    "Caravan = load_data('Caravan')\n",
    "Caravan"
   ]
  },
  {
   "cell_type": "markdown",
   "id": "82d3666a-38f9-46f6-b888-f1eedbc47546",
   "metadata": {},
   "source": [
    "### Train/test split"
   ]
  },
  {
   "cell_type": "code",
   "execution_count": 61,
   "id": "b7e650e7-42ee-425a-ba1a-d315cc87c383",
   "metadata": {},
   "outputs": [
    {
     "data": {
      "text/plain": [
       "((5822, 85), (5822,))"
      ]
     },
     "execution_count": 61,
     "metadata": {},
     "output_type": "execute_result"
    }
   ],
   "source": [
    "target = 'Purchase'\n",
    "X = Caravan.drop(target, axis='columns')\n",
    "y = Caravan.loc[:, target]\n",
    "X.shape, y.shape"
   ]
  },
  {
   "cell_type": "code",
   "execution_count": 62,
   "id": "00d18980-5e07-4f97-b403-66528dc6d85d",
   "metadata": {},
   "outputs": [
    {
     "data": {
      "text/plain": [
       "'MOSTYPE, MAANTHUI, MGEMOMV, MGEMLEEF, MOSHOOFD, MGODRK, MGODPR, MGODOV, MGODGE, MRELGE, MRELSA, MRELOV, MFALLEEN, MFGEKIND, MFWEKIND, MOPLHOOG, MOPLMIDD, MOPLLAAG, MBERHOOG, MBERZELF, MBERBOER, MBERMIDD, MBERARBG, MBERARBO, MSKA, MSKB1, MSKB2, MSKC, MSKD, MHHUUR, MHKOOP, MAUT1, MAUT2, MAUT0, MZFONDS, MZPART, MINKM30, MINK3045, MINK4575, MINK7512, MINK123M, MINKGEM, MKOOPKLA, PWAPART, PWABEDR, PWALAND, PPERSAUT, PBESAUT, PMOTSCO, PVRAAUT, PAANHANG, PTRACTOR, PWERKT, PBROM, PLEVEN, PPERSONG, PGEZONG, PWAOREG, PBRAND, PZEILPL, PPLEZIER, PFIETS, PINBOED, PBYSTAND, AWAPART, AWABEDR, AWALAND, APERSAUT, ABESAUT, AMOTSCO, AVRAAUT, AAANHANG, ATRACTOR, AWERKT, ABROM, ALEVEN, APERSONG, AGEZONG, AWAOREG, ABRAND, AZEILPL, APLEZIER, AFIETS, AINBOED, ABYSTAND'"
      ]
     },
     "execution_count": 62,
     "metadata": {},
     "output_type": "execute_result"
    }
   ],
   "source": [
    "features = X.columns.tolist()\n",
    "', '.join(features)"
   ]
  },
  {
   "cell_type": "code",
   "execution_count": 63,
   "id": "6b3cb92a-8df6-4ada-a7fc-107f87cb56c5",
   "metadata": {},
   "outputs": [
    {
     "data": {
      "text/plain": [
       "((4822, 85), (1000, 85), (4822,), (1000,))"
      ]
     },
     "execution_count": 63,
     "metadata": {},
     "output_type": "execute_result"
    }
   ],
   "source": [
    "X_train, X_test, y_train, y_test = skm.train_test_split(X, y, test_size=1000, random_state=0)\n",
    "X_train.shape, X_test.shape, y_train.shape, y_test.shape"
   ]
  },
  {
   "cell_type": "markdown",
   "id": "f3f20108-8e7e-4759-ab21-14fa2b69285a",
   "metadata": {},
   "source": [
    "### Boosting"
   ]
  },
  {
   "cell_type": "code",
   "execution_count": 64,
   "id": "22199816-ba1b-4551-b566-90f9355252c4",
   "metadata": {},
   "outputs": [
    {
     "data": {
      "text/plain": [
       "('',\n",
       " 'MOSTYPE, MAANTHUI, MGEMOMV, MGEMLEEF, MOSHOOFD, MGODRK, MGODPR, MGODOV, MGODGE, MRELGE, MRELSA, MRELOV, MFALLEEN, MFGEKIND, MFWEKIND, MOPLHOOG, MOPLMIDD, MOPLLAAG, MBERHOOG, MBERZELF, MBERBOER, MBERMIDD, MBERARBG, MBERARBO, MSKA, MSKB1, MSKB2, MSKC, MSKD, MHHUUR, MHKOOP, MAUT1, MAUT2, MAUT0, MZFONDS, MZPART, MINKM30, MINK3045, MINK4575, MINK7512, MINK123M, MINKGEM, MKOOPKLA, PWAPART, PWABEDR, PWALAND, PPERSAUT, PBESAUT, PMOTSCO, PVRAAUT, PAANHANG, PTRACTOR, PWERKT, PBROM, PLEVEN, PPERSONG, PGEZONG, PWAOREG, PBRAND, PZEILPL, PPLEZIER, PFIETS, PINBOED, PBYSTAND, AWAPART, AWABEDR, AWALAND, APERSAUT, ABESAUT, AMOTSCO, AVRAAUT, AAANHANG, ATRACTOR, AWERKT, ABROM, ALEVEN, APERSONG, AGEZONG, AWAOREG, ABRAND, AZEILPL, APLEZIER, AFIETS, AINBOED, ABYSTAND')"
      ]
     },
     "execution_count": 64,
     "metadata": {},
     "output_type": "execute_result"
    }
   ],
   "source": [
    "cat_features = [x for x in X.columns if X[x].dtype == 'category']\n",
    "num_features = [x for x in X.columns if x not in cat_features]\n",
    "', '.join(cat_features), ', '.join(num_features)"
   ]
  },
  {
   "cell_type": "markdown",
   "id": "14d879f6-a049-4fbf-b1d7-1509df46f2e0",
   "metadata": {},
   "source": [
    "There are only numerical features."
   ]
  },
  {
   "cell_type": "code",
   "execution_count": 65,
   "id": "99a42898-a487-4019-b243-9c804494fec4",
   "metadata": {},
   "outputs": [
    {
     "data": {
      "text/html": [
       "<style>#sk-container-id-1 {\n",
       "  /* Definition of color scheme common for light and dark mode */\n",
       "  --sklearn-color-text: black;\n",
       "  --sklearn-color-line: gray;\n",
       "  /* Definition of color scheme for unfitted estimators */\n",
       "  --sklearn-color-unfitted-level-0: #fff5e6;\n",
       "  --sklearn-color-unfitted-level-1: #f6e4d2;\n",
       "  --sklearn-color-unfitted-level-2: #ffe0b3;\n",
       "  --sklearn-color-unfitted-level-3: chocolate;\n",
       "  /* Definition of color scheme for fitted estimators */\n",
       "  --sklearn-color-fitted-level-0: #f0f8ff;\n",
       "  --sklearn-color-fitted-level-1: #d4ebff;\n",
       "  --sklearn-color-fitted-level-2: #b3dbfd;\n",
       "  --sklearn-color-fitted-level-3: cornflowerblue;\n",
       "\n",
       "  /* Specific color for light theme */\n",
       "  --sklearn-color-text-on-default-background: var(--sg-text-color, var(--theme-code-foreground, var(--jp-content-font-color1, black)));\n",
       "  --sklearn-color-background: var(--sg-background-color, var(--theme-background, var(--jp-layout-color0, white)));\n",
       "  --sklearn-color-border-box: var(--sg-text-color, var(--theme-code-foreground, var(--jp-content-font-color1, black)));\n",
       "  --sklearn-color-icon: #696969;\n",
       "\n",
       "  @media (prefers-color-scheme: dark) {\n",
       "    /* Redefinition of color scheme for dark theme */\n",
       "    --sklearn-color-text-on-default-background: var(--sg-text-color, var(--theme-code-foreground, var(--jp-content-font-color1, white)));\n",
       "    --sklearn-color-background: var(--sg-background-color, var(--theme-background, var(--jp-layout-color0, #111)));\n",
       "    --sklearn-color-border-box: var(--sg-text-color, var(--theme-code-foreground, var(--jp-content-font-color1, white)));\n",
       "    --sklearn-color-icon: #878787;\n",
       "  }\n",
       "}\n",
       "\n",
       "#sk-container-id-1 {\n",
       "  color: var(--sklearn-color-text);\n",
       "}\n",
       "\n",
       "#sk-container-id-1 pre {\n",
       "  padding: 0;\n",
       "}\n",
       "\n",
       "#sk-container-id-1 input.sk-hidden--visually {\n",
       "  border: 0;\n",
       "  clip: rect(1px 1px 1px 1px);\n",
       "  clip: rect(1px, 1px, 1px, 1px);\n",
       "  height: 1px;\n",
       "  margin: -1px;\n",
       "  overflow: hidden;\n",
       "  padding: 0;\n",
       "  position: absolute;\n",
       "  width: 1px;\n",
       "}\n",
       "\n",
       "#sk-container-id-1 div.sk-dashed-wrapped {\n",
       "  border: 1px dashed var(--sklearn-color-line);\n",
       "  margin: 0 0.4em 0.5em 0.4em;\n",
       "  box-sizing: border-box;\n",
       "  padding-bottom: 0.4em;\n",
       "  background-color: var(--sklearn-color-background);\n",
       "}\n",
       "\n",
       "#sk-container-id-1 div.sk-container {\n",
       "  /* jupyter's `normalize.less` sets `[hidden] { display: none; }`\n",
       "     but bootstrap.min.css set `[hidden] { display: none !important; }`\n",
       "     so we also need the `!important` here to be able to override the\n",
       "     default hidden behavior on the sphinx rendered scikit-learn.org.\n",
       "     See: https://github.com/scikit-learn/scikit-learn/issues/21755 */\n",
       "  display: inline-block !important;\n",
       "  position: relative;\n",
       "}\n",
       "\n",
       "#sk-container-id-1 div.sk-text-repr-fallback {\n",
       "  display: none;\n",
       "}\n",
       "\n",
       "div.sk-parallel-item,\n",
       "div.sk-serial,\n",
       "div.sk-item {\n",
       "  /* draw centered vertical line to link estimators */\n",
       "  background-image: linear-gradient(var(--sklearn-color-text-on-default-background), var(--sklearn-color-text-on-default-background));\n",
       "  background-size: 2px 100%;\n",
       "  background-repeat: no-repeat;\n",
       "  background-position: center center;\n",
       "}\n",
       "\n",
       "/* Parallel-specific style estimator block */\n",
       "\n",
       "#sk-container-id-1 div.sk-parallel-item::after {\n",
       "  content: \"\";\n",
       "  width: 100%;\n",
       "  border-bottom: 2px solid var(--sklearn-color-text-on-default-background);\n",
       "  flex-grow: 1;\n",
       "}\n",
       "\n",
       "#sk-container-id-1 div.sk-parallel {\n",
       "  display: flex;\n",
       "  align-items: stretch;\n",
       "  justify-content: center;\n",
       "  background-color: var(--sklearn-color-background);\n",
       "  position: relative;\n",
       "}\n",
       "\n",
       "#sk-container-id-1 div.sk-parallel-item {\n",
       "  display: flex;\n",
       "  flex-direction: column;\n",
       "}\n",
       "\n",
       "#sk-container-id-1 div.sk-parallel-item:first-child::after {\n",
       "  align-self: flex-end;\n",
       "  width: 50%;\n",
       "}\n",
       "\n",
       "#sk-container-id-1 div.sk-parallel-item:last-child::after {\n",
       "  align-self: flex-start;\n",
       "  width: 50%;\n",
       "}\n",
       "\n",
       "#sk-container-id-1 div.sk-parallel-item:only-child::after {\n",
       "  width: 0;\n",
       "}\n",
       "\n",
       "/* Serial-specific style estimator block */\n",
       "\n",
       "#sk-container-id-1 div.sk-serial {\n",
       "  display: flex;\n",
       "  flex-direction: column;\n",
       "  align-items: center;\n",
       "  background-color: var(--sklearn-color-background);\n",
       "  padding-right: 1em;\n",
       "  padding-left: 1em;\n",
       "}\n",
       "\n",
       "\n",
       "/* Toggleable style: style used for estimator/Pipeline/ColumnTransformer box that is\n",
       "clickable and can be expanded/collapsed.\n",
       "- Pipeline and ColumnTransformer use this feature and define the default style\n",
       "- Estimators will overwrite some part of the style using the `sk-estimator` class\n",
       "*/\n",
       "\n",
       "/* Pipeline and ColumnTransformer style (default) */\n",
       "\n",
       "#sk-container-id-1 div.sk-toggleable {\n",
       "  /* Default theme specific background. It is overwritten whether we have a\n",
       "  specific estimator or a Pipeline/ColumnTransformer */\n",
       "  background-color: var(--sklearn-color-background);\n",
       "}\n",
       "\n",
       "/* Toggleable label */\n",
       "#sk-container-id-1 label.sk-toggleable__label {\n",
       "  cursor: pointer;\n",
       "  display: block;\n",
       "  width: 100%;\n",
       "  margin-bottom: 0;\n",
       "  padding: 0.5em;\n",
       "  box-sizing: border-box;\n",
       "  text-align: center;\n",
       "}\n",
       "\n",
       "#sk-container-id-1 label.sk-toggleable__label-arrow:before {\n",
       "  /* Arrow on the left of the label */\n",
       "  content: \"▸\";\n",
       "  float: left;\n",
       "  margin-right: 0.25em;\n",
       "  color: var(--sklearn-color-icon);\n",
       "}\n",
       "\n",
       "#sk-container-id-1 label.sk-toggleable__label-arrow:hover:before {\n",
       "  color: var(--sklearn-color-text);\n",
       "}\n",
       "\n",
       "/* Toggleable content - dropdown */\n",
       "\n",
       "#sk-container-id-1 div.sk-toggleable__content {\n",
       "  max-height: 0;\n",
       "  max-width: 0;\n",
       "  overflow: hidden;\n",
       "  text-align: left;\n",
       "  /* unfitted */\n",
       "  background-color: var(--sklearn-color-unfitted-level-0);\n",
       "}\n",
       "\n",
       "#sk-container-id-1 div.sk-toggleable__content.fitted {\n",
       "  /* fitted */\n",
       "  background-color: var(--sklearn-color-fitted-level-0);\n",
       "}\n",
       "\n",
       "#sk-container-id-1 div.sk-toggleable__content pre {\n",
       "  margin: 0.2em;\n",
       "  border-radius: 0.25em;\n",
       "  color: var(--sklearn-color-text);\n",
       "  /* unfitted */\n",
       "  background-color: var(--sklearn-color-unfitted-level-0);\n",
       "}\n",
       "\n",
       "#sk-container-id-1 div.sk-toggleable__content.fitted pre {\n",
       "  /* unfitted */\n",
       "  background-color: var(--sklearn-color-fitted-level-0);\n",
       "}\n",
       "\n",
       "#sk-container-id-1 input.sk-toggleable__control:checked~div.sk-toggleable__content {\n",
       "  /* Expand drop-down */\n",
       "  max-height: 200px;\n",
       "  max-width: 100%;\n",
       "  overflow: auto;\n",
       "}\n",
       "\n",
       "#sk-container-id-1 input.sk-toggleable__control:checked~label.sk-toggleable__label-arrow:before {\n",
       "  content: \"▾\";\n",
       "}\n",
       "\n",
       "/* Pipeline/ColumnTransformer-specific style */\n",
       "\n",
       "#sk-container-id-1 div.sk-label input.sk-toggleable__control:checked~label.sk-toggleable__label {\n",
       "  color: var(--sklearn-color-text);\n",
       "  background-color: var(--sklearn-color-unfitted-level-2);\n",
       "}\n",
       "\n",
       "#sk-container-id-1 div.sk-label.fitted input.sk-toggleable__control:checked~label.sk-toggleable__label {\n",
       "  background-color: var(--sklearn-color-fitted-level-2);\n",
       "}\n",
       "\n",
       "/* Estimator-specific style */\n",
       "\n",
       "/* Colorize estimator box */\n",
       "#sk-container-id-1 div.sk-estimator input.sk-toggleable__control:checked~label.sk-toggleable__label {\n",
       "  /* unfitted */\n",
       "  background-color: var(--sklearn-color-unfitted-level-2);\n",
       "}\n",
       "\n",
       "#sk-container-id-1 div.sk-estimator.fitted input.sk-toggleable__control:checked~label.sk-toggleable__label {\n",
       "  /* fitted */\n",
       "  background-color: var(--sklearn-color-fitted-level-2);\n",
       "}\n",
       "\n",
       "#sk-container-id-1 div.sk-label label.sk-toggleable__label,\n",
       "#sk-container-id-1 div.sk-label label {\n",
       "  /* The background is the default theme color */\n",
       "  color: var(--sklearn-color-text-on-default-background);\n",
       "}\n",
       "\n",
       "/* On hover, darken the color of the background */\n",
       "#sk-container-id-1 div.sk-label:hover label.sk-toggleable__label {\n",
       "  color: var(--sklearn-color-text);\n",
       "  background-color: var(--sklearn-color-unfitted-level-2);\n",
       "}\n",
       "\n",
       "/* Label box, darken color on hover, fitted */\n",
       "#sk-container-id-1 div.sk-label.fitted:hover label.sk-toggleable__label.fitted {\n",
       "  color: var(--sklearn-color-text);\n",
       "  background-color: var(--sklearn-color-fitted-level-2);\n",
       "}\n",
       "\n",
       "/* Estimator label */\n",
       "\n",
       "#sk-container-id-1 div.sk-label label {\n",
       "  font-family: monospace;\n",
       "  font-weight: bold;\n",
       "  display: inline-block;\n",
       "  line-height: 1.2em;\n",
       "}\n",
       "\n",
       "#sk-container-id-1 div.sk-label-container {\n",
       "  text-align: center;\n",
       "}\n",
       "\n",
       "/* Estimator-specific */\n",
       "#sk-container-id-1 div.sk-estimator {\n",
       "  font-family: monospace;\n",
       "  border: 1px dotted var(--sklearn-color-border-box);\n",
       "  border-radius: 0.25em;\n",
       "  box-sizing: border-box;\n",
       "  margin-bottom: 0.5em;\n",
       "  /* unfitted */\n",
       "  background-color: var(--sklearn-color-unfitted-level-0);\n",
       "}\n",
       "\n",
       "#sk-container-id-1 div.sk-estimator.fitted {\n",
       "  /* fitted */\n",
       "  background-color: var(--sklearn-color-fitted-level-0);\n",
       "}\n",
       "\n",
       "/* on hover */\n",
       "#sk-container-id-1 div.sk-estimator:hover {\n",
       "  /* unfitted */\n",
       "  background-color: var(--sklearn-color-unfitted-level-2);\n",
       "}\n",
       "\n",
       "#sk-container-id-1 div.sk-estimator.fitted:hover {\n",
       "  /* fitted */\n",
       "  background-color: var(--sklearn-color-fitted-level-2);\n",
       "}\n",
       "\n",
       "/* Specification for estimator info (e.g. \"i\" and \"?\") */\n",
       "\n",
       "/* Common style for \"i\" and \"?\" */\n",
       "\n",
       ".sk-estimator-doc-link,\n",
       "a:link.sk-estimator-doc-link,\n",
       "a:visited.sk-estimator-doc-link {\n",
       "  float: right;\n",
       "  font-size: smaller;\n",
       "  line-height: 1em;\n",
       "  font-family: monospace;\n",
       "  background-color: var(--sklearn-color-background);\n",
       "  border-radius: 1em;\n",
       "  height: 1em;\n",
       "  width: 1em;\n",
       "  text-decoration: none !important;\n",
       "  margin-left: 1ex;\n",
       "  /* unfitted */\n",
       "  border: var(--sklearn-color-unfitted-level-1) 1pt solid;\n",
       "  color: var(--sklearn-color-unfitted-level-1);\n",
       "}\n",
       "\n",
       ".sk-estimator-doc-link.fitted,\n",
       "a:link.sk-estimator-doc-link.fitted,\n",
       "a:visited.sk-estimator-doc-link.fitted {\n",
       "  /* fitted */\n",
       "  border: var(--sklearn-color-fitted-level-1) 1pt solid;\n",
       "  color: var(--sklearn-color-fitted-level-1);\n",
       "}\n",
       "\n",
       "/* On hover */\n",
       "div.sk-estimator:hover .sk-estimator-doc-link:hover,\n",
       ".sk-estimator-doc-link:hover,\n",
       "div.sk-label-container:hover .sk-estimator-doc-link:hover,\n",
       ".sk-estimator-doc-link:hover {\n",
       "  /* unfitted */\n",
       "  background-color: var(--sklearn-color-unfitted-level-3);\n",
       "  color: var(--sklearn-color-background);\n",
       "  text-decoration: none;\n",
       "}\n",
       "\n",
       "div.sk-estimator.fitted:hover .sk-estimator-doc-link.fitted:hover,\n",
       ".sk-estimator-doc-link.fitted:hover,\n",
       "div.sk-label-container:hover .sk-estimator-doc-link.fitted:hover,\n",
       ".sk-estimator-doc-link.fitted:hover {\n",
       "  /* fitted */\n",
       "  background-color: var(--sklearn-color-fitted-level-3);\n",
       "  color: var(--sklearn-color-background);\n",
       "  text-decoration: none;\n",
       "}\n",
       "\n",
       "/* Span, style for the box shown on hovering the info icon */\n",
       ".sk-estimator-doc-link span {\n",
       "  display: none;\n",
       "  z-index: 9999;\n",
       "  position: relative;\n",
       "  font-weight: normal;\n",
       "  right: .2ex;\n",
       "  padding: .5ex;\n",
       "  margin: .5ex;\n",
       "  width: min-content;\n",
       "  min-width: 20ex;\n",
       "  max-width: 50ex;\n",
       "  color: var(--sklearn-color-text);\n",
       "  box-shadow: 2pt 2pt 4pt #999;\n",
       "  /* unfitted */\n",
       "  background: var(--sklearn-color-unfitted-level-0);\n",
       "  border: .5pt solid var(--sklearn-color-unfitted-level-3);\n",
       "}\n",
       "\n",
       ".sk-estimator-doc-link.fitted span {\n",
       "  /* fitted */\n",
       "  background: var(--sklearn-color-fitted-level-0);\n",
       "  border: var(--sklearn-color-fitted-level-3);\n",
       "}\n",
       "\n",
       ".sk-estimator-doc-link:hover span {\n",
       "  display: block;\n",
       "}\n",
       "\n",
       "/* \"?\"-specific style due to the `<a>` HTML tag */\n",
       "\n",
       "#sk-container-id-1 a.estimator_doc_link {\n",
       "  float: right;\n",
       "  font-size: 1rem;\n",
       "  line-height: 1em;\n",
       "  font-family: monospace;\n",
       "  background-color: var(--sklearn-color-background);\n",
       "  border-radius: 1rem;\n",
       "  height: 1rem;\n",
       "  width: 1rem;\n",
       "  text-decoration: none;\n",
       "  /* unfitted */\n",
       "  color: var(--sklearn-color-unfitted-level-1);\n",
       "  border: var(--sklearn-color-unfitted-level-1) 1pt solid;\n",
       "}\n",
       "\n",
       "#sk-container-id-1 a.estimator_doc_link.fitted {\n",
       "  /* fitted */\n",
       "  border: var(--sklearn-color-fitted-level-1) 1pt solid;\n",
       "  color: var(--sklearn-color-fitted-level-1);\n",
       "}\n",
       "\n",
       "/* On hover */\n",
       "#sk-container-id-1 a.estimator_doc_link:hover {\n",
       "  /* unfitted */\n",
       "  background-color: var(--sklearn-color-unfitted-level-3);\n",
       "  color: var(--sklearn-color-background);\n",
       "  text-decoration: none;\n",
       "}\n",
       "\n",
       "#sk-container-id-1 a.estimator_doc_link.fitted:hover {\n",
       "  /* fitted */\n",
       "  background-color: var(--sklearn-color-fitted-level-3);\n",
       "}\n",
       "</style><div id=\"sk-container-id-1\" class=\"sk-top-container\"><div class=\"sk-text-repr-fallback\"><pre>Pipeline(steps=[(&#x27;clf&#x27;,\n",
       "                 GradientBoostingClassifier(learning_rate=0.01,\n",
       "                                            n_estimators=1000,\n",
       "                                            random_state=0))])</pre><b>In a Jupyter environment, please rerun this cell to show the HTML representation or trust the notebook. <br />On GitHub, the HTML representation is unable to render, please try loading this page with nbviewer.org.</b></div><div class=\"sk-container\" hidden><div class=\"sk-item sk-dashed-wrapped\"><div class=\"sk-label-container\"><div class=\"sk-label fitted sk-toggleable\"><input class=\"sk-toggleable__control sk-hidden--visually\" id=\"sk-estimator-id-1\" type=\"checkbox\" ><label for=\"sk-estimator-id-1\" class=\"sk-toggleable__label fitted sk-toggleable__label-arrow fitted\">&nbsp;&nbsp;Pipeline<a class=\"sk-estimator-doc-link fitted\" rel=\"noreferrer\" target=\"_blank\" href=\"https://scikit-learn.org/1.5/modules/generated/sklearn.pipeline.Pipeline.html\">?<span>Documentation for Pipeline</span></a><span class=\"sk-estimator-doc-link fitted\">i<span>Fitted</span></span></label><div class=\"sk-toggleable__content fitted\"><pre>Pipeline(steps=[(&#x27;clf&#x27;,\n",
       "                 GradientBoostingClassifier(learning_rate=0.01,\n",
       "                                            n_estimators=1000,\n",
       "                                            random_state=0))])</pre></div> </div></div><div class=\"sk-serial\"><div class=\"sk-item\"><div class=\"sk-estimator fitted sk-toggleable\"><input class=\"sk-toggleable__control sk-hidden--visually\" id=\"sk-estimator-id-2\" type=\"checkbox\" ><label for=\"sk-estimator-id-2\" class=\"sk-toggleable__label fitted sk-toggleable__label-arrow fitted\">&nbsp;GradientBoostingClassifier<a class=\"sk-estimator-doc-link fitted\" rel=\"noreferrer\" target=\"_blank\" href=\"https://scikit-learn.org/1.5/modules/generated/sklearn.ensemble.GradientBoostingClassifier.html\">?<span>Documentation for GradientBoostingClassifier</span></a></label><div class=\"sk-toggleable__content fitted\"><pre>GradientBoostingClassifier(learning_rate=0.01, n_estimators=1000,\n",
       "                           random_state=0)</pre></div> </div></div></div></div></div></div>"
      ],
      "text/plain": [
       "Pipeline(steps=[('clf',\n",
       "                 GradientBoostingClassifier(learning_rate=0.01,\n",
       "                                            n_estimators=1000,\n",
       "                                            random_state=0))])"
      ]
     },
     "execution_count": 65,
     "metadata": {},
     "output_type": "execute_result"
    }
   ],
   "source": [
    "caravan_model = Pipeline([\n",
    "    ('clf', GBC(\n",
    "        learning_rate=0.01,\n",
    "        n_estimators=1000, \n",
    "        random_state=0,\n",
    "    )),\n",
    "])\n",
    "\n",
    "caravan_model.fit(X_train, y_train)"
   ]
  },
  {
   "cell_type": "markdown",
   "id": "031f18a7-4449-42f7-a53a-db383070c633",
   "metadata": {},
   "source": [
    "### Cross-validation"
   ]
  },
  {
   "cell_type": "code",
   "execution_count": 66,
   "id": "4eb546f4-3720-4c81-978b-32cbeddc284c",
   "metadata": {},
   "outputs": [
    {
     "name": "stderr",
     "output_type": "stream",
     "text": [
      "[Parallel(n_jobs=-1)]: Using backend LokyBackend with 8 concurrent workers.\n",
      "[Parallel(n_jobs=-1)]: Done   2 out of   5 | elapsed:   10.2s remaining:   15.3s\n",
      "[Parallel(n_jobs=-1)]: Done   5 out of   5 | elapsed:   10.2s finished\n"
     ]
    },
    {
     "data": {
      "text/plain": [
       "(0.9398593941478728, 0.949865197664618)"
      ]
     },
     "execution_count": 66,
     "metadata": {},
     "output_type": "execute_result"
    }
   ],
   "source": [
    "cv_results = skm.cross_validate(\n",
    "    caravan_model, \n",
    "    X_train, y_train, \n",
    "    return_train_score=True, \n",
    "    cv=5, n_jobs=-1,\n",
    "    verbose=1,\n",
    ")\n",
    "\n",
    "cv_results['test_score'].mean(), cv_results['train_score'].mean()"
   ]
  },
  {
   "cell_type": "markdown",
   "id": "b86e14a1-5bd6-476f-8437-01af1a37018c",
   "metadata": {},
   "source": [
    "### Feature importance"
   ]
  },
  {
   "cell_type": "code",
   "execution_count": 67,
   "id": "b67abce9-db99-4533-b408-e0d6b967e257",
   "metadata": {},
   "outputs": [
    {
     "data": {
      "text/plain": [
       "(72, 1)"
      ]
     },
     "execution_count": 67,
     "metadata": {},
     "output_type": "execute_result"
    }
   ],
   "source": [
    "caravan_clf = caravan_model.named_steps['clf']\n",
    "\n",
    "feature_names = num_features\n",
    "\n",
    "feature_importance = pd.DataFrame({\n",
    "    'importance': caravan_clf.feature_importances_,\n",
    "}, index=feature_names).sort_values(by='importance')\n",
    "feature_importance = feature_importance.loc[feature_importance['importance'] > 0]\n",
    "feature_importance.shape"
   ]
  },
  {
   "cell_type": "code",
   "execution_count": 68,
   "id": "423b581a-fe8a-44f0-8736-e389578f782f",
   "metadata": {},
   "outputs": [
    {
     "data": {
      "image/png": "[encoded data removed]",
      "text/plain": [
       "<Figure size 800x1600 with 1 Axes>"
      ]
     },
     "metadata": {},
     "output_type": "display_data"
    }
   ],
   "source": [
    "_, ax = plt.subplots(figsize=(8, 16))\n",
    "\n",
    "feature_importance.plot(kind='barh', ax=ax, color='b', alpha=.5)\n",
    "\n",
    "ax.set_title('Caravan feature importances')\n",
    "ax.legend(loc='lower right');"
   ]
  },
  {
   "cell_type": "markdown",
   "id": "79151af7-5f80-454c-8e69-554f62c6a50b",
   "metadata": {},
   "source": [
    "The plot indicates that `PPERSAUT` or _Contribution car policies_ is the most important feature."
   ]
  },
  {
   "cell_type": "markdown",
   "id": "8e9e8c7e-f06b-4b67-b682-fb2429e069cb",
   "metadata": {},
   "source": [
    "### Test predictions"
   ]
  },
  {
   "cell_type": "code",
   "execution_count": 69,
   "id": "d7c6295c-e065-4a40-a47f-39b9dd0f0bb5",
   "metadata": {},
   "outputs": [
    {
     "data": {
      "text/plain": [
       "array(['No', 'Yes'], dtype=object)"
      ]
     },
     "execution_count": 69,
     "metadata": {},
     "output_type": "execute_result"
    }
   ],
   "source": [
    "caravan_model.classes_"
   ]
  },
  {
   "cell_type": "code",
   "execution_count": 70,
   "id": "b6a9a46a-24ee-4a22-a0ec-8b2a41d58426",
   "metadata": {},
   "outputs": [
    {
     "data": {
      "text/plain": [
       "0.915"
      ]
     },
     "execution_count": 70,
     "metadata": {},
     "output_type": "execute_result"
    }
   ],
   "source": [
    "y_proba = caravan_model.predict_proba(X_test)\n",
    "y_hat = np.where(y_proba[:, 1] > .2, 'Yes', 'No')\n",
    "accuracy_score(y_test, y_hat)"
   ]
  },
  {
   "cell_type": "markdown",
   "id": "bdbf1f30-ab00-4973-aed1-fbd58b853ec2",
   "metadata": {},
   "source": [
    "### Confusion matrix"
   ]
  },
  {
   "cell_type": "code",
   "execution_count": 71,
   "id": "e430897f-664f-41d7-983d-bb34ac580927",
   "metadata": {},
   "outputs": [
    {
     "data": {
      "image/png": "[encoded data removed]",
      "text/plain": [
       "<Figure size 640x480 with 2 Axes>"
      ]
     },
     "metadata": {},
     "output_type": "display_data"
    }
   ],
   "source": [
    "cm = confusion_matrix(\n",
    "    y_test, y_hat, \n",
    "    labels=caravan_model.classes_\n",
    ")\n",
    "\n",
    "cm_disp = ConfusionMatrixDisplay(\n",
    "    confusion_matrix=cm, \n",
    "    display_labels=caravan_model.classes_,\n",
    ")\n",
    "\n",
    "_, ax = plt.subplots()\n",
    "cm_disp.plot(ax=ax);"
   ]
  },
  {
   "cell_type": "code",
   "execution_count": 72,
   "id": "9ee717db-d135-44ad-9473-258eb3df0285",
   "metadata": {},
   "outputs": [
    {
     "name": "stdout",
     "output_type": "stream",
     "text": [
      "              precision    recall  f1-score   support\n",
      "\n",
      "          No       0.95      0.96      0.95       933\n",
      "         Yes       0.33      0.25      0.29        67\n",
      "\n",
      "    accuracy                           0.92      1000\n",
      "   macro avg       0.64      0.61      0.62      1000\n",
      "weighted avg       0.91      0.92      0.91      1000\n",
      "\n"
     ]
    }
   ],
   "source": [
    "print(classification_report(y_test, y_hat, target_names=caravan_model.classes_))"
   ]
  }
 ],
 "metadata": {
  "kernelspec": {
   "display_name": "Python 3 (ipykernel)",
   "language": "python",
   "name": "python3"
  },
  "language_info": {
   "codemirror_mode": {
    "name": "ipython",
    "version": 3
   },
   "file_extension": ".py",
   "mimetype": "text/x-python",
   "name": "python",
   "nbconvert_exporter": "python",
   "pygments_lexer": "ipython3",
   "version": "3.10.18"
  }
 },
 "nbformat": 4,
 "nbformat_minor": 5
}
