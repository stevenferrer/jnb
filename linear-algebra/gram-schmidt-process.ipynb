{
 "cells": [
  {
   "cell_type": "code",
   "execution_count": 1,
   "id": "ba42869f-a7ef-490b-b612-b4a31a730d5f",
   "metadata": {},
   "outputs": [],
   "source": [
    "from sympy import *\n",
    "init_printing(use_unicode=True)"
   ]
  },
  {
   "cell_type": "markdown",
   "id": "00ded4ba-58ef-4d4d-9630-b1a345dad8fd",
   "metadata": {},
   "source": [
    "### Gram–Schmidt process"
   ]
  },
  {
   "cell_type": "markdown",
   "id": "ad1ce24e-9ed9-422c-8334-4caa3437bf68",
   "metadata": {},
   "source": [
    "We define the matrix $\\textbf{A}$."
   ]
  },
  {
   "cell_type": "code",
   "execution_count": 2,
   "id": "00a2fff5-09b1-4967-a1be-0d2a2210762e",
   "metadata": {},
   "outputs": [
    {
     "data": {
      "text/latex": [
       "$\\displaystyle \\left( \\left[\\begin{matrix}1\\\\1\\\\1\\\\1\\end{matrix}\\right], \\  \\left[\\begin{matrix}-1\\\\4\\\\4\\\\-1\\end{matrix}\\right], \\  \\left[\\begin{matrix}4\\\\-2\\\\2\\\\0\\end{matrix}\\right]\\right)$"
      ],
      "text/plain": [
       "⎛⎡1⎤  ⎡-1⎤  ⎡4 ⎤⎞\n",
       "⎜⎢ ⎥  ⎢  ⎥  ⎢  ⎥⎟\n",
       "⎜⎢1⎥  ⎢4 ⎥  ⎢-2⎥⎟\n",
       "⎜⎢ ⎥, ⎢  ⎥, ⎢  ⎥⎟\n",
       "⎜⎢1⎥  ⎢4 ⎥  ⎢2 ⎥⎟\n",
       "⎜⎢ ⎥  ⎢  ⎥  ⎢  ⎥⎟\n",
       "⎝⎣1⎦  ⎣-1⎦  ⎣0 ⎦⎠"
      ]
     },
     "execution_count": 2,
     "metadata": {},
     "output_type": "execute_result"
    }
   ],
   "source": [
    "a1, a2, a3 = Matrix([1, 1, 1, 1,]), Matrix([-1, 4, 4, -1]), Matrix([4, -2, 2, 0])\n",
    "a1, a2, a3"
   ]
  },
  {
   "cell_type": "code",
   "execution_count": 3,
   "id": "1902c989-76bc-40f5-a967-776ca9c1c76b",
   "metadata": {},
   "outputs": [
    {
     "data": {
      "text/latex": [
       "$\\displaystyle \\left[\\begin{matrix}1 & -1 & 4\\\\1 & 4 & -2\\\\1 & 4 & 2\\\\1 & -1 & 0\\end{matrix}\\right]$"
      ],
      "text/plain": [
       "⎡1  -1  4 ⎤\n",
       "⎢         ⎥\n",
       "⎢1  4   -2⎥\n",
       "⎢         ⎥\n",
       "⎢1  4   2 ⎥\n",
       "⎢         ⎥\n",
       "⎣1  -1  0 ⎦"
      ]
     },
     "execution_count": 3,
     "metadata": {},
     "output_type": "execute_result"
    }
   ],
   "source": [
    "A = Matrix.hstack(a1, a2, a3)\n",
    "A"
   ]
  },
  {
   "cell_type": "markdown",
   "id": "f5cd7b6a-0ee9-408e-bdd0-a3936e69b576",
   "metadata": {},
   "source": [
    "As per the _Gram-Schmidt process_, we construct an orthormal basis from $\\textbf{A}$ recursively starting from $q_1$."
   ]
  },
  {
   "cell_type": "code",
   "execution_count": 4,
   "id": "814983cb-e530-4217-8b0c-fc7216377394",
   "metadata": {},
   "outputs": [
    {
     "data": {
      "text/latex": [
       "$\\displaystyle 2$"
      ],
      "text/plain": [
       "2"
      ]
     },
     "execution_count": 4,
     "metadata": {},
     "output_type": "execute_result"
    }
   ],
   "source": [
    "r11 = a1.norm()\n",
    "r11"
   ]
  },
  {
   "cell_type": "code",
   "execution_count": 5,
   "id": "bd3840c2-b74e-4b72-b1a2-56c76116bb1f",
   "metadata": {},
   "outputs": [
    {
     "data": {
      "text/latex": [
       "$\\displaystyle \\left[\\begin{matrix}\\frac{1}{2}\\\\\\frac{1}{2}\\\\\\frac{1}{2}\\\\\\frac{1}{2}\\end{matrix}\\right]$"
      ],
      "text/plain": [
       "⎡1/2⎤\n",
       "⎢   ⎥\n",
       "⎢1/2⎥\n",
       "⎢   ⎥\n",
       "⎢1/2⎥\n",
       "⎢   ⎥\n",
       "⎣1/2⎦"
      ]
     },
     "execution_count": 5,
     "metadata": {},
     "output_type": "execute_result"
    }
   ],
   "source": [
    "q1 = (1/r11) * a1\n",
    "q1"
   ]
  },
  {
   "cell_type": "code",
   "execution_count": 6,
   "id": "194c32a0-3000-4271-a672-f9c13448b6b7",
   "metadata": {},
   "outputs": [
    {
     "data": {
      "text/latex": [
       "$\\displaystyle 3$"
      ],
      "text/plain": [
       "3"
      ]
     },
     "execution_count": 6,
     "metadata": {},
     "output_type": "execute_result"
    }
   ],
   "source": [
    "r12 = a2.dot(q1)\n",
    "r12"
   ]
  },
  {
   "cell_type": "code",
   "execution_count": 7,
   "id": "78263dc1-bf2a-49e0-ba95-342730140f87",
   "metadata": {},
   "outputs": [
    {
     "data": {
      "text/latex": [
       "$\\displaystyle \\left[\\begin{matrix}\\frac{3}{2}\\\\\\frac{3}{2}\\\\\\frac{3}{2}\\\\\\frac{3}{2}\\end{matrix}\\right]$"
      ],
      "text/plain": [
       "⎡3/2⎤\n",
       "⎢   ⎥\n",
       "⎢3/2⎥\n",
       "⎢   ⎥\n",
       "⎢3/2⎥\n",
       "⎢   ⎥\n",
       "⎣3/2⎦"
      ]
     },
     "execution_count": 7,
     "metadata": {},
     "output_type": "execute_result"
    }
   ],
   "source": [
    "p1 = r12 * q1\n",
    "p1"
   ]
  },
  {
   "cell_type": "code",
   "execution_count": 8,
   "id": "d3b006bf-e9a3-4dc2-94f6-fab1633a4039",
   "metadata": {},
   "outputs": [
    {
     "data": {
      "text/latex": [
       "$\\displaystyle 5$"
      ],
      "text/plain": [
       "5"
      ]
     },
     "execution_count": 8,
     "metadata": {},
     "output_type": "execute_result"
    }
   ],
   "source": [
    "r22 = (a2-p1).norm()\n",
    "r22"
   ]
  },
  {
   "cell_type": "code",
   "execution_count": 9,
   "id": "919408d0-4929-4fcc-99a4-29c8963445b7",
   "metadata": {},
   "outputs": [
    {
     "data": {
      "text/latex": [
       "$\\displaystyle \\left[\\begin{matrix}- \\frac{1}{2}\\\\\\frac{1}{2}\\\\\\frac{1}{2}\\\\- \\frac{1}{2}\\end{matrix}\\right]$"
      ],
      "text/plain": [
       "⎡-1/2⎤\n",
       "⎢    ⎥\n",
       "⎢1/2 ⎥\n",
       "⎢    ⎥\n",
       "⎢1/2 ⎥\n",
       "⎢    ⎥\n",
       "⎣-1/2⎦"
      ]
     },
     "execution_count": 9,
     "metadata": {},
     "output_type": "execute_result"
    }
   ],
   "source": [
    "q2 = (1/r22) * (a2-p1)\n",
    "q2"
   ]
  },
  {
   "cell_type": "code",
   "execution_count": 10,
   "id": "51879853-8447-4a2a-a827-1afd912c4ed3",
   "metadata": {},
   "outputs": [
    {
     "data": {
      "text/latex": [
       "$\\displaystyle \\left( 2, \\  -2\\right)$"
      ],
      "text/plain": [
       "(2, -2)"
      ]
     },
     "execution_count": 10,
     "metadata": {},
     "output_type": "execute_result"
    }
   ],
   "source": [
    "r13, r23 = a3.dot(q1), a3.dot(q2)\n",
    "r13, r23"
   ]
  },
  {
   "cell_type": "code",
   "execution_count": 11,
   "id": "6ba58209-5cd1-4b90-b7a8-fc5301862eab",
   "metadata": {},
   "outputs": [
    {
     "data": {
      "text/latex": [
       "$\\displaystyle \\left[\\begin{matrix}2\\\\0\\\\0\\\\2\\end{matrix}\\right]$"
      ],
      "text/plain": [
       "⎡2⎤\n",
       "⎢ ⎥\n",
       "⎢0⎥\n",
       "⎢ ⎥\n",
       "⎢0⎥\n",
       "⎢ ⎥\n",
       "⎣2⎦"
      ]
     },
     "execution_count": 11,
     "metadata": {},
     "output_type": "execute_result"
    }
   ],
   "source": [
    "p2 = r13*q1 + r23*q2\n",
    "p2"
   ]
  },
  {
   "cell_type": "code",
   "execution_count": 12,
   "id": "b49ee5b2-ef24-431a-9133-121584be39b9",
   "metadata": {},
   "outputs": [
    {
     "data": {
      "text/latex": [
       "$\\displaystyle 4$"
      ],
      "text/plain": [
       "4"
      ]
     },
     "execution_count": 12,
     "metadata": {},
     "output_type": "execute_result"
    }
   ],
   "source": [
    "r33 = (a3-p2).norm()\n",
    "r33"
   ]
  },
  {
   "cell_type": "code",
   "execution_count": 13,
   "id": "33711df0-b90c-48b5-95c0-84f4ac3b43ec",
   "metadata": {},
   "outputs": [
    {
     "data": {
      "text/latex": [
       "$\\displaystyle \\left[\\begin{matrix}\\frac{1}{2}\\\\- \\frac{1}{2}\\\\\\frac{1}{2}\\\\- \\frac{1}{2}\\end{matrix}\\right]$"
      ],
      "text/plain": [
       "⎡1/2 ⎤\n",
       "⎢    ⎥\n",
       "⎢-1/2⎥\n",
       "⎢    ⎥\n",
       "⎢1/2 ⎥\n",
       "⎢    ⎥\n",
       "⎣-1/2⎦"
      ]
     },
     "execution_count": 13,
     "metadata": {},
     "output_type": "execute_result"
    }
   ],
   "source": [
    "q3 = (1/r33) * (a3-p2)\n",
    "q3"
   ]
  },
  {
   "cell_type": "markdown",
   "id": "56eb7fab-d23b-444e-81b0-6085fe1825cb",
   "metadata": {},
   "source": [
    "We obtained a factorization matrix as we computed the inner products and norms."
   ]
  },
  {
   "cell_type": "code",
   "execution_count": 14,
   "id": "c5340bc9-d2e5-4c3b-84ea-3206c7d1d241",
   "metadata": {},
   "outputs": [
    {
     "data": {
      "text/latex": [
       "$\\displaystyle \\left[\\begin{matrix}2 & 3 & 2\\\\0 & 5 & -2\\\\0 & 0 & 4\\end{matrix}\\right]$"
      ],
      "text/plain": [
       "⎡2  3  2 ⎤\n",
       "⎢        ⎥\n",
       "⎢0  5  -2⎥\n",
       "⎢        ⎥\n",
       "⎣0  0  4 ⎦"
      ]
     },
     "execution_count": 14,
     "metadata": {},
     "output_type": "execute_result"
    }
   ],
   "source": [
    "R = Matrix([\n",
    "    [r11, r12, r13],\n",
    "    [  0, r22, r23],\n",
    "    [  0,   0, r33]\n",
    "])\n",
    "R"
   ]
  },
  {
   "cell_type": "markdown",
   "id": "50f5ffbd-0bc8-4457-8a19-024b46d2e4bc",
   "metadata": {},
   "source": [
    "The obtained matrix $\\textbf{Q}$ is an orthonormal basis."
   ]
  },
  {
   "cell_type": "code",
   "execution_count": 15,
   "id": "2224013c-58fc-49e2-9ee6-14d2e7bd25f5",
   "metadata": {},
   "outputs": [
    {
     "data": {
      "text/latex": [
       "$\\displaystyle \\left[\\begin{matrix}\\frac{1}{2} & - \\frac{1}{2} & \\frac{1}{2}\\\\\\frac{1}{2} & \\frac{1}{2} & - \\frac{1}{2}\\\\\\frac{1}{2} & \\frac{1}{2} & \\frac{1}{2}\\\\\\frac{1}{2} & - \\frac{1}{2} & - \\frac{1}{2}\\end{matrix}\\right]$"
      ],
      "text/plain": [
       "⎡1/2  -1/2  1/2 ⎤\n",
       "⎢               ⎥\n",
       "⎢1/2  1/2   -1/2⎥\n",
       "⎢               ⎥\n",
       "⎢1/2  1/2   1/2 ⎥\n",
       "⎢               ⎥\n",
       "⎣1/2  -1/2  -1/2⎦"
      ]
     },
     "execution_count": 15,
     "metadata": {},
     "output_type": "execute_result"
    }
   ],
   "source": [
    "Q = Matrix.hstack(q1, q2, q3)\n",
    "Q"
   ]
  },
  {
   "cell_type": "code",
   "execution_count": 16,
   "id": "422ec6eb-8724-4f1a-b3a4-724b701690de",
   "metadata": {},
   "outputs": [
    {
     "data": {
      "text/latex": [
       "$\\displaystyle \\left[\\begin{matrix}1 & -1 & 4\\\\1 & 4 & -2\\\\1 & 4 & 2\\\\1 & -1 & 0\\end{matrix}\\right]$"
      ],
      "text/plain": [
       "⎡1  -1  4 ⎤\n",
       "⎢         ⎥\n",
       "⎢1  4   -2⎥\n",
       "⎢         ⎥\n",
       "⎢1  4   2 ⎥\n",
       "⎢         ⎥\n",
       "⎣1  -1  0 ⎦"
      ]
     },
     "execution_count": 16,
     "metadata": {},
     "output_type": "execute_result"
    }
   ],
   "source": [
    "Q*R"
   ]
  },
  {
   "cell_type": "markdown",
   "id": "70308ee0-338e-4d36-941a-8cdaa1da47e1",
   "metadata": {},
   "source": [
    "To verify the obtained basis thu Gram-Schmidt process, we use the built-in function `GramSchmidt`."
   ]
  },
  {
   "cell_type": "code",
   "execution_count": 19,
   "id": "6f22cc11-af41-43ed-bf79-4d2a75c5ad33",
   "metadata": {},
   "outputs": [
    {
     "data": {
      "text/latex": [
       "$\\displaystyle \\left[ \\left[\\begin{matrix}\\frac{1}{2}\\\\\\frac{1}{2}\\\\\\frac{1}{2}\\\\\\frac{1}{2}\\end{matrix}\\right], \\  \\left[\\begin{matrix}- \\frac{1}{2}\\\\\\frac{1}{2}\\\\\\frac{1}{2}\\\\- \\frac{1}{2}\\end{matrix}\\right], \\  \\left[\\begin{matrix}\\frac{1}{2}\\\\- \\frac{1}{2}\\\\\\frac{1}{2}\\\\- \\frac{1}{2}\\end{matrix}\\right]\\right]$"
      ],
      "text/plain": [
       "⎡⎡1/2⎤  ⎡-1/2⎤  ⎡1/2 ⎤⎤\n",
       "⎢⎢   ⎥  ⎢    ⎥  ⎢    ⎥⎥\n",
       "⎢⎢1/2⎥  ⎢1/2 ⎥  ⎢-1/2⎥⎥\n",
       "⎢⎢   ⎥, ⎢    ⎥, ⎢    ⎥⎥\n",
       "⎢⎢1/2⎥  ⎢1/2 ⎥  ⎢1/2 ⎥⎥\n",
       "⎢⎢   ⎥  ⎢    ⎥  ⎢    ⎥⎥\n",
       "⎣⎣1/2⎦  ⎣-1/2⎦  ⎣-1/2⎦⎦"
      ]
     },
     "execution_count": 19,
     "metadata": {},
     "output_type": "execute_result"
    }
   ],
   "source": [
    "GramSchmidt(A.columnspace(), orthonormal=True)"
   ]
  },
  {
   "cell_type": "markdown",
   "id": "fb341769-8c9b-4c9b-b608-7e440011bd25",
   "metadata": {},
   "source": [
    "To verify the obtained QR factors, we use the built-in fucntion `QRdecomposition`."
   ]
  },
  {
   "cell_type": "code",
   "execution_count": 21,
   "id": "260164f3-d534-42e5-a65d-8964ab38f984",
   "metadata": {},
   "outputs": [
    {
     "data": {
      "text/latex": [
       "$\\displaystyle \\left( \\left[\\begin{matrix}\\frac{1}{2} & - \\frac{1}{2} & \\frac{1}{2}\\\\\\frac{1}{2} & \\frac{1}{2} & - \\frac{1}{2}\\\\\\frac{1}{2} & \\frac{1}{2} & \\frac{1}{2}\\\\\\frac{1}{2} & - \\frac{1}{2} & - \\frac{1}{2}\\end{matrix}\\right], \\  \\left[\\begin{matrix}2 & 3 & 2\\\\0 & 5 & -2\\\\0 & 0 & 4\\end{matrix}\\right]\\right)$"
      ],
      "text/plain": [
       "⎛⎡1/2  -1/2  1/2 ⎤            ⎞\n",
       "⎜⎢               ⎥  ⎡2  3  2 ⎤⎟\n",
       "⎜⎢1/2  1/2   -1/2⎥  ⎢        ⎥⎟\n",
       "⎜⎢               ⎥, ⎢0  5  -2⎥⎟\n",
       "⎜⎢1/2  1/2   1/2 ⎥  ⎢        ⎥⎟\n",
       "⎜⎢               ⎥  ⎣0  0  4 ⎦⎟\n",
       "⎝⎣1/2  -1/2  -1/2⎦            ⎠"
      ]
     },
     "execution_count": 21,
     "metadata": {},
     "output_type": "execute_result"
    }
   ],
   "source": [
    "Qhat, Rhat = A.QRdecomposition()\n",
    "Qhat, Rhat"
   ]
  }
 ],
 "metadata": {
  "kernelspec": {
   "display_name": "Python 3 (ipykernel)",
   "language": "python",
   "name": "python3"
  },
  "language_info": {
   "codemirror_mode": {
    "name": "ipython",
    "version": 3
   },
   "file_extension": ".py",
   "mimetype": "text/x-python",
   "name": "python",
   "nbconvert_exporter": "python",
   "pygments_lexer": "ipython3",
   "version": "3.13.3"
  }
 },
 "nbformat": 4,
 "nbformat_minor": 5
}
