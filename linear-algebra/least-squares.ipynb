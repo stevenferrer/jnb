{
 "cells": [
  {
   "cell_type": "code",
   "execution_count": 1,
   "id": "bc5b38c8-7834-433f-b39d-9b0e63cb6ec2",
   "metadata": {},
   "outputs": [],
   "source": [
    "from sympy import *\n",
    "init_printing(use_unicode=True)"
   ]
  },
  {
   "cell_type": "markdown",
   "id": "343e477e-b930-487f-a63d-755cef69716a",
   "metadata": {},
   "source": [
    "#### Example 1"
   ]
  },
  {
   "cell_type": "code",
   "execution_count": 2,
   "id": "61153eec-d539-45d5-8df9-8b08d594a484",
   "metadata": {},
   "outputs": [
    {
     "data": {
      "text/latex": [
       "$\\displaystyle \\left[\\begin{matrix}1 & 1\\\\-2 & 3\\\\2 & -1\\end{matrix}\\right]$"
      ],
      "text/plain": [
       "⎡1   1 ⎤\n",
       "⎢      ⎥\n",
       "⎢-2  3 ⎥\n",
       "⎢      ⎥\n",
       "⎣2   -1⎦"
      ]
     },
     "execution_count": 2,
     "metadata": {},
     "output_type": "execute_result"
    }
   ],
   "source": [
    "\n",
    "A = Matrix([\n",
    "    [1, 1],\n",
    "    [-2, 3],\n",
    "    [2, -1]\n",
    "])\n",
    "A"
   ]
  },
  {
   "cell_type": "code",
   "execution_count": 3,
   "id": "6f177d14-fb35-4195-8c40-402fddbf7c1a",
   "metadata": {},
   "outputs": [
    {
     "data": {
      "text/latex": [
       "$\\displaystyle \\left[\\begin{matrix}3\\\\1\\\\2\\end{matrix}\\right]$"
      ],
      "text/plain": [
       "⎡3⎤\n",
       "⎢ ⎥\n",
       "⎢1⎥\n",
       "⎢ ⎥\n",
       "⎣2⎦"
      ]
     },
     "execution_count": 3,
     "metadata": {},
     "output_type": "execute_result"
    }
   ],
   "source": [
    "b = Matrix([3, 1, 2])\n",
    "b"
   ]
  },
  {
   "cell_type": "code",
   "execution_count": 18,
   "id": "2a90a5c4-e904-4837-9ace-e94814eae342",
   "metadata": {},
   "outputs": [
    {
     "data": {
      "text/latex": [
       "$\\displaystyle \\left( x_{1}, \\  x_{2}, \\  x_{3}\\right)$"
      ],
      "text/plain": [
       "(x₁, x₂, x₃)"
      ]
     },
     "execution_count": 18,
     "metadata": {},
     "output_type": "execute_result"
    }
   ],
   "source": [
    "x1, x2, x3 = symbols('x1:4')\n",
    "x1, x2, x3"
   ]
  },
  {
   "cell_type": "code",
   "execution_count": 5,
   "id": "b505ee0e-3317-4d65-8a50-c8c0f208fd8d",
   "metadata": {},
   "outputs": [
    {
     "data": {
      "text/latex": [
       "$\\displaystyle \\left[\\begin{matrix}x_{1}\\\\x_{2}\\end{matrix}\\right]$"
      ],
      "text/plain": [
       "⎡x₁⎤\n",
       "⎢  ⎥\n",
       "⎣x₂⎦"
      ]
     },
     "execution_count": 5,
     "metadata": {},
     "output_type": "execute_result"
    }
   ],
   "source": [
    "x = Matrix([x1, x2])\n",
    "x"
   ]
  },
  {
   "cell_type": "markdown",
   "id": "229f596c-e6ac-499d-9b20-1aa4a5e6774b",
   "metadata": {},
   "source": [
    "Normal equation $A^TAx = A^Tb$"
   ]
  },
  {
   "cell_type": "code",
   "execution_count": 6,
   "id": "169f658b-da6c-4dd5-be88-8af71a34fc18",
   "metadata": {},
   "outputs": [
    {
     "data": {
      "text/latex": [
       "$\\displaystyle \\left( \\left[\\begin{matrix}9 x_{1} - 7 x_{2}\\\\- 7 x_{1} + 11 x_{2}\\end{matrix}\\right], \\  \\left[\\begin{matrix}5\\\\4\\end{matrix}\\right]\\right)$"
      ],
      "text/plain": [
       "⎛⎡ 9⋅x₁ - 7⋅x₂ ⎤  ⎡5⎤⎞\n",
       "⎜⎢             ⎥, ⎢ ⎥⎟\n",
       "⎝⎣-7⋅x₁ + 11⋅x₂⎦  ⎣4⎦⎠"
      ]
     },
     "execution_count": 6,
     "metadata": {},
     "output_type": "execute_result"
    }
   ],
   "source": [
    "A.T*A*x, A.T*b"
   ]
  },
  {
   "cell_type": "markdown",
   "id": "29a00995-ef10-4b32-a629-0f72705e594b",
   "metadata": {},
   "source": [
    "Least squares solution $\\hat{x} = (A^TA)^{-1}A^tb$"
   ]
  },
  {
   "cell_type": "code",
   "execution_count": 7,
   "id": "4ae13dc1-d72a-404c-b19b-e97bd3c1ee2d",
   "metadata": {},
   "outputs": [
    {
     "data": {
      "text/latex": [
       "$\\displaystyle \\left[\\begin{matrix}\\frac{83}{50}\\\\\\frac{71}{50}\\end{matrix}\\right]$"
      ],
      "text/plain": [
       "⎡83⎤\n",
       "⎢──⎥\n",
       "⎢50⎥\n",
       "⎢  ⎥\n",
       "⎢71⎥\n",
       "⎢──⎥\n",
       "⎣50⎦"
      ]
     },
     "execution_count": 7,
     "metadata": {},
     "output_type": "execute_result"
    }
   ],
   "source": [
    "(A.T*A).inv() * (A.T*b)"
   ]
  },
  {
   "cell_type": "markdown",
   "id": "77277cea-2a2d-44ba-bea0-39f4755b5198",
   "metadata": {},
   "source": [
    "#### Example 2a"
   ]
  },
  {
   "cell_type": "code",
   "execution_count": 24,
   "id": "e62e63b9-da99-4326-bb21-7bfcb4823489",
   "metadata": {},
   "outputs": [
    {
     "data": {
      "text/latex": [
       "$\\displaystyle \\left( \\left[\\begin{matrix}1 & 1\\\\2 & -3\\\\0 & 0\\end{matrix}\\right], \\  \\left[\\begin{matrix}3\\\\1\\\\2\\end{matrix}\\right]\\right)$"
      ],
      "text/plain": [
       "⎛⎡1  1 ⎤  ⎡3⎤⎞\n",
       "⎜⎢     ⎥  ⎢ ⎥⎟\n",
       "⎜⎢2  -3⎥, ⎢1⎥⎟\n",
       "⎜⎢     ⎥  ⎢ ⎥⎟\n",
       "⎝⎣0  0 ⎦  ⎣2⎦⎠"
      ]
     },
     "execution_count": 24,
     "metadata": {},
     "output_type": "execute_result"
    }
   ],
   "source": [
    "A, b = Matrix([\n",
    "    [1, 1],\n",
    "    [2, -3],\n",
    "    [0, 0]\n",
    "]), Matrix([3, 1, 2])\n",
    "A, b"
   ]
  },
  {
   "cell_type": "code",
   "execution_count": 10,
   "id": "d88f7f08-cb05-4d4e-9802-594018a2b83a",
   "metadata": {},
   "outputs": [
    {
     "data": {
      "text/latex": [
       "$\\displaystyle \\left[\\begin{matrix}x_{1}\\\\x_{2}\\end{matrix}\\right]$"
      ],
      "text/plain": [
       "⎡x₁⎤\n",
       "⎢  ⎥\n",
       "⎣x₂⎦"
      ]
     },
     "execution_count": 10,
     "metadata": {},
     "output_type": "execute_result"
    }
   ],
   "source": [
    "x = Matrix([x1, x2])\n",
    "x"
   ]
  },
  {
   "cell_type": "code",
   "execution_count": 13,
   "id": "a1267fbe-ac3b-4e44-b25c-903203c1a328",
   "metadata": {},
   "outputs": [
    {
     "data": {
      "text/latex": [
       "$\\displaystyle \\left( \\left[\\begin{matrix}5 x_{1} - 5 x_{2}\\\\- 5 x_{1} + 10 x_{2}\\end{matrix}\\right], \\  \\left[\\begin{matrix}5\\\\0\\end{matrix}\\right]\\right)$"
      ],
      "text/plain": [
       "⎛⎡ 5⋅x₁ - 5⋅x₂ ⎤  ⎡5⎤⎞\n",
       "⎜⎢             ⎥, ⎢ ⎥⎟\n",
       "⎝⎣-5⋅x₁ + 10⋅x₂⎦  ⎣0⎦⎠"
      ]
     },
     "execution_count": 13,
     "metadata": {},
     "output_type": "execute_result"
    }
   ],
   "source": [
    "A.T*A*x, A.T*b"
   ]
  },
  {
   "cell_type": "code",
   "execution_count": 14,
   "id": "b149508c-35de-4445-b87b-9f2c4e6a3204",
   "metadata": {},
   "outputs": [
    {
     "data": {
      "text/latex": [
       "$\\displaystyle \\left[\\begin{matrix}2\\\\1\\end{matrix}\\right]$"
      ],
      "text/plain": [
       "⎡2⎤\n",
       "⎢ ⎥\n",
       "⎣1⎦"
      ]
     },
     "execution_count": 14,
     "metadata": {},
     "output_type": "execute_result"
    }
   ],
   "source": [
    "(A.T*A).inv() * (A.T*b)"
   ]
  },
  {
   "cell_type": "markdown",
   "id": "1ec8d636-50b6-40dd-998c-4cbe12d3d4f8",
   "metadata": {},
   "source": [
    "#### Example 2c"
   ]
  },
  {
   "cell_type": "code",
   "execution_count": 16,
   "id": "ac824e35-1da9-46fe-8cbb-f578d3a0804f",
   "metadata": {},
   "outputs": [
    {
     "data": {
      "text/latex": [
       "$\\displaystyle \\left[\\begin{matrix}1 & 1 & 1\\\\-1 & 1 & 1\\\\0 & -1 & 1\\\\1 & 0 & 1\\end{matrix}\\right]$"
      ],
      "text/plain": [
       "⎡1   1   1⎤\n",
       "⎢         ⎥\n",
       "⎢-1  1   1⎥\n",
       "⎢         ⎥\n",
       "⎢0   -1  1⎥\n",
       "⎢         ⎥\n",
       "⎣1   0   1⎦"
      ]
     },
     "execution_count": 16,
     "metadata": {},
     "output_type": "execute_result"
    }
   ],
   "source": [
    "A = Matrix([\n",
    "    [1, 1, 1],\n",
    "    [-1, 1, 1],\n",
    "    [0, -1, 1],\n",
    "    [1, 0, 1]\n",
    "])\n",
    "A"
   ]
  },
  {
   "cell_type": "code",
   "execution_count": 17,
   "id": "1c2c723a-de94-4660-a044-2bff9b37639b",
   "metadata": {},
   "outputs": [
    {
     "data": {
      "text/latex": [
       "$\\displaystyle \\left[\\begin{matrix}4\\\\0\\\\1\\\\2\\end{matrix}\\right]$"
      ],
      "text/plain": [
       "⎡4⎤\n",
       "⎢ ⎥\n",
       "⎢0⎥\n",
       "⎢ ⎥\n",
       "⎢1⎥\n",
       "⎢ ⎥\n",
       "⎣2⎦"
      ]
     },
     "execution_count": 17,
     "metadata": {},
     "output_type": "execute_result"
    }
   ],
   "source": [
    "b = Matrix([4, 0, 1, 2])\n",
    "b"
   ]
  },
  {
   "cell_type": "code",
   "execution_count": 19,
   "id": "9d70e1e4-6cd9-45b1-ac41-b654262006f0",
   "metadata": {},
   "outputs": [
    {
     "data": {
      "text/latex": [
       "$\\displaystyle \\left[\\begin{matrix}x_{1}\\\\x_{2}\\\\x_{3}\\end{matrix}\\right]$"
      ],
      "text/plain": [
       "⎡x₁⎤\n",
       "⎢  ⎥\n",
       "⎢x₂⎥\n",
       "⎢  ⎥\n",
       "⎣x₃⎦"
      ]
     },
     "execution_count": 19,
     "metadata": {},
     "output_type": "execute_result"
    }
   ],
   "source": [
    "x = Matrix([x1, x2, x3])\n",
    "x"
   ]
  },
  {
   "cell_type": "code",
   "execution_count": 23,
   "id": "45a5c0f2-ba60-40ab-aef3-6afde316d882",
   "metadata": {},
   "outputs": [
    {
     "data": {
      "text/latex": [
       "$\\displaystyle \\left[\\begin{matrix}\\frac{8}{5}\\\\\\frac{3}{5}\\\\\\frac{6}{5}\\end{matrix}\\right]$"
      ],
      "text/plain": [
       "⎡8/5⎤\n",
       "⎢   ⎥\n",
       "⎢3/5⎥\n",
       "⎢   ⎥\n",
       "⎣6/5⎦"
      ]
     },
     "execution_count": 23,
     "metadata": {},
     "output_type": "execute_result"
    }
   ],
   "source": [
    "(A.T*A).inv() * (A.T*b)"
   ]
  },
  {
   "cell_type": "markdown",
   "id": "27f2c84e-bb1c-4c12-9075-e2a79bb4ab82",
   "metadata": {},
   "source": [
    "#### Example 2a"
   ]
  },
  {
   "cell_type": "code",
   "execution_count": 25,
   "id": "a2f684ea-3ce1-41fc-9e16-0dd2b8c8eca2",
   "metadata": {},
   "outputs": [
    {
     "data": {
      "text/latex": [
       "$\\displaystyle \\left[\\begin{matrix}3\\\\1\\\\0\\end{matrix}\\right]$"
      ],
      "text/plain": [
       "⎡3⎤\n",
       "⎢ ⎥\n",
       "⎢1⎥\n",
       "⎢ ⎥\n",
       "⎣0⎦"
      ]
     },
     "execution_count": 25,
     "metadata": {},
     "output_type": "execute_result"
    }
   ],
   "source": [
    "A, b = Matrix([\n",
    "    [1, 1],\n",
    "    [2, -3],\n",
    "    [0, 0]\n",
    "]), Matrix([3, 1, 2])\n",
    "\n",
    "xhat = (A.T*A).inv() * (A.T*b)\n",
    "p = A*xhat\n",
    "p"
   ]
  },
  {
   "cell_type": "markdown",
   "id": "0283b157-eef3-4d9c-8499-e5d1126b6954",
   "metadata": {},
   "source": [
    "#### Example 2c"
   ]
  },
  {
   "cell_type": "markdown",
   "id": "4a5e3e56-9efd-4e1a-bad9-bec06ed8b5d9",
   "metadata": {},
   "source": [
    "Residual $r(\\hat{x}) = b - A\\hat{x}$"
   ]
  },
  {
   "cell_type": "code",
   "execution_count": 28,
   "id": "863e11b4-3be1-43fd-9a45-4ddaacc5a0be",
   "metadata": {},
   "outputs": [
    {
     "data": {
      "text/latex": [
       "$\\displaystyle \\left[\\begin{matrix}0\\\\0\\\\2\\end{matrix}\\right]$"
      ],
      "text/plain": [
       "⎡0⎤\n",
       "⎢ ⎥\n",
       "⎢0⎥\n",
       "⎢ ⎥\n",
       "⎣2⎦"
      ]
     },
     "execution_count": 28,
     "metadata": {},
     "output_type": "execute_result"
    }
   ],
   "source": [
    "res = b - A*xhat\n",
    "res"
   ]
  },
  {
   "cell_type": "markdown",
   "id": "e89ee457-936f-4a0d-a2e2-eddc54eb8115",
   "metadata": {},
   "source": [
    "Confirm that $r(\\hat{x})$ is in the null space of $A^T$"
   ]
  },
  {
   "cell_type": "code",
   "execution_count": 30,
   "id": "99ced7e6-4c0c-4d48-9440-dcf3c324baee",
   "metadata": {},
   "outputs": [
    {
     "data": {
      "text/latex": [
       "$\\displaystyle \\left[\\begin{matrix}0\\\\0\\end{matrix}\\right]$"
      ],
      "text/plain": [
       "⎡0⎤\n",
       "⎢ ⎥\n",
       "⎣0⎦"
      ]
     },
     "execution_count": 30,
     "metadata": {},
     "output_type": "execute_result"
    }
   ],
   "source": [
    "A.T * res"
   ]
  },
  {
   "cell_type": "markdown",
   "id": "1e651821-8010-4f13-8e01-a52012a2b646",
   "metadata": {},
   "source": [
    "#### Example 3a"
   ]
  },
  {
   "cell_type": "code",
   "execution_count": 68,
   "id": "4e03ce5f-8d53-4458-9ed8-35739747c181",
   "metadata": {},
   "outputs": [
    {
     "data": {
      "text/latex": [
       "$\\displaystyle \\left( \\left[\\begin{matrix}1 & 2\\\\2 & 4\\\\-1 & -2\\end{matrix}\\right], \\  \\left[\\begin{matrix}3\\\\2\\\\1\\end{matrix}\\right]\\right)$"
      ],
      "text/plain": [
       "⎛⎡1   2 ⎤  ⎡3⎤⎞\n",
       "⎜⎢      ⎥  ⎢ ⎥⎟\n",
       "⎜⎢2   4 ⎥, ⎢2⎥⎟\n",
       "⎜⎢      ⎥  ⎢ ⎥⎟\n",
       "⎝⎣-1  -2⎦  ⎣1⎦⎠"
      ]
     },
     "execution_count": 68,
     "metadata": {},
     "output_type": "execute_result"
    }
   ],
   "source": [
    "A, b = Matrix([\n",
    "    [1, 2],\n",
    "    [2, 4],\n",
    "    [-1, -2]\n",
    "]), Matrix([3, 2, 1])\n",
    "A, b"
   ]
  },
  {
   "cell_type": "code",
   "execution_count": 69,
   "id": "0fd36531-14f2-4627-82ca-8a7e8fd1983c",
   "metadata": {},
   "outputs": [
    {
     "data": {
      "text/latex": [
       "$\\displaystyle \\left( \\left[\\begin{matrix}6 & 12\\\\12 & 24\\end{matrix}\\right], \\  \\left[\\begin{matrix}6\\\\12\\end{matrix}\\right]\\right)$"
      ],
      "text/plain": [
       "⎛⎡6   12⎤  ⎡6 ⎤⎞\n",
       "⎜⎢      ⎥, ⎢  ⎥⎟\n",
       "⎝⎣12  24⎦  ⎣12⎦⎠"
      ]
     },
     "execution_count": 69,
     "metadata": {},
     "output_type": "execute_result"
    }
   ],
   "source": [
    "A.T*A, A.T*b"
   ]
  },
  {
   "cell_type": "code",
   "execution_count": 70,
   "id": "751b439d-0388-4743-a075-884dd97663e5",
   "metadata": {},
   "outputs": [
    {
     "data": {
      "text/latex": [
       "$\\displaystyle \\left( \\left[\\begin{matrix}1 & 2 & 1\\\\0 & 0 & 0\\end{matrix}\\right], \\  \\left( 0,\\right)\\right)$"
      ],
      "text/plain": [
       "⎛⎡1  2  1⎤      ⎞\n",
       "⎜⎢       ⎥, (0,)⎟\n",
       "⎝⎣0  0  0⎦      ⎠"
      ]
     },
     "execution_count": 70,
     "metadata": {},
     "output_type": "execute_result"
    }
   ],
   "source": [
    "Matrix.hstack(A.T*A, A.T*b).rref()"
   ]
  },
  {
   "cell_type": "code",
   "execution_count": 71,
   "id": "3496a1c4-a919-47a9-b2a3-b2456f296843",
   "metadata": {},
   "outputs": [
    {
     "data": {
      "text/latex": [
       "$\\displaystyle \\left[\\begin{matrix}6\\\\12\\end{matrix}\\right]$"
      ],
      "text/plain": [
       "⎡6 ⎤\n",
       "⎢  ⎥\n",
       "⎣12⎦"
      ]
     },
     "execution_count": 71,
     "metadata": {},
     "output_type": "execute_result"
    }
   ],
   "source": [
    "A.T*b"
   ]
  },
  {
   "cell_type": "markdown",
   "id": "09622a86-3880-4f24-bf21-6a5c989a71d1",
   "metadata": {},
   "source": [
    "#### Example 3b"
   ]
  },
  {
   "cell_type": "code",
   "execution_count": 72,
   "id": "554fef1e-1885-4c3e-b1ae-86d0ad3488f1",
   "metadata": {},
   "outputs": [
    {
     "data": {
      "text/latex": [
       "$\\displaystyle \\left( \\left[\\begin{matrix}1 & 1 & 3\\\\-1 & 3 & 1\\\\1 & 2 & 4\\end{matrix}\\right], \\  \\left[\\begin{matrix}-2\\\\0\\\\8\\end{matrix}\\right]\\right)$"
      ],
      "text/plain": [
       "⎛⎡1   1  3⎤  ⎡-2⎤⎞\n",
       "⎜⎢        ⎥  ⎢  ⎥⎟\n",
       "⎜⎢-1  3  1⎥, ⎢0 ⎥⎟\n",
       "⎜⎢        ⎥  ⎢  ⎥⎟\n",
       "⎝⎣1   2  4⎦  ⎣8 ⎦⎠"
      ]
     },
     "execution_count": 72,
     "metadata": {},
     "output_type": "execute_result"
    }
   ],
   "source": [
    "A, b = Matrix([\n",
    "    [1, 1, 3],\n",
    "    [-1, 3, 1],\n",
    "    [1, 2, 4]\n",
    "]), Matrix([-2, 0, 8])\n",
    "A, b"
   ]
  },
  {
   "cell_type": "code",
   "execution_count": 73,
   "id": "7af7c41f-b075-4c43-9a4e-7079568af3a9",
   "metadata": {},
   "outputs": [
    {
     "data": {
      "text/latex": [
       "$\\displaystyle \\left( \\left[\\begin{matrix}3 & 0 & 6\\\\0 & 14 & 14\\\\6 & 14 & 26\\end{matrix}\\right], \\  \\left[\\begin{matrix}6\\\\14\\\\26\\end{matrix}\\right]\\right)$"
      ],
      "text/plain": [
       "⎛⎡3  0   6 ⎤  ⎡6 ⎤⎞\n",
       "⎜⎢         ⎥  ⎢  ⎥⎟\n",
       "⎜⎢0  14  14⎥, ⎢14⎥⎟\n",
       "⎜⎢         ⎥  ⎢  ⎥⎟\n",
       "⎝⎣6  14  26⎦  ⎣26⎦⎠"
      ]
     },
     "execution_count": 73,
     "metadata": {},
     "output_type": "execute_result"
    }
   ],
   "source": [
    "A.T*A, A.T*b"
   ]
  },
  {
   "cell_type": "code",
   "execution_count": 74,
   "id": "876dcda8-7559-4a8a-8950-f896220875a1",
   "metadata": {},
   "outputs": [
    {
     "data": {
      "text/latex": [
       "$\\displaystyle \\left( \\left[\\begin{matrix}1 & 0 & 2 & 2\\\\0 & 1 & 1 & 1\\\\0 & 0 & 0 & 0\\end{matrix}\\right], \\  \\left( 0, \\  1\\right)\\right)$"
      ],
      "text/plain": [
       "⎛⎡1  0  2  2⎤        ⎞\n",
       "⎜⎢          ⎥        ⎟\n",
       "⎜⎢0  1  1  1⎥, (0, 1)⎟\n",
       "⎜⎢          ⎥        ⎟\n",
       "⎝⎣0  0  0  0⎦        ⎠"
      ]
     },
     "execution_count": 74,
     "metadata": {},
     "output_type": "execute_result"
    }
   ],
   "source": [
    "Matrix.hstack(A.T*A, A.T*b).rref()"
   ]
  },
  {
   "cell_type": "markdown",
   "id": "5be582cb-7883-486c-843e-c9012a702ddf",
   "metadata": {},
   "source": [
    "#### Example 5a"
   ]
  },
  {
   "cell_type": "code",
   "execution_count": 75,
   "id": "f92ea068-fb8f-4074-b29b-1cd85b9fb501",
   "metadata": {},
   "outputs": [
    {
     "data": {
      "text/latex": [
       "$\\displaystyle \\left( \\left[\\begin{matrix}1 & -1\\\\1 & 0\\\\1 & 1\\\\1 & 2\\end{matrix}\\right], \\  \\left[\\begin{matrix}0\\\\1\\\\3\\\\9\\end{matrix}\\right]\\right)$"
      ],
      "text/plain": [
       "⎛⎡1  -1⎤  ⎡0⎤⎞\n",
       "⎜⎢     ⎥  ⎢ ⎥⎟\n",
       "⎜⎢1  0 ⎥  ⎢1⎥⎟\n",
       "⎜⎢     ⎥, ⎢ ⎥⎟\n",
       "⎜⎢1  1 ⎥  ⎢3⎥⎟\n",
       "⎜⎢     ⎥  ⎢ ⎥⎟\n",
       "⎝⎣1  2 ⎦  ⎣9⎦⎠"
      ]
     },
     "execution_count": 75,
     "metadata": {},
     "output_type": "execute_result"
    }
   ],
   "source": [
    "A, y = Matrix([\n",
    "    [1, -1],\n",
    "    [1, 0],\n",
    "    [1, 1],\n",
    "    [1, 2]\n",
    "]), Matrix([0, 1, 3, 9])\n",
    "A, y"
   ]
  },
  {
   "cell_type": "code",
   "execution_count": 76,
   "id": "33abcb23-c400-4953-bb61-36d519e16f1e",
   "metadata": {},
   "outputs": [
    {
     "data": {
      "text/latex": [
       "$\\displaystyle \\left( \\left[\\begin{matrix}4 & 2\\\\2 & 6\\end{matrix}\\right], \\  \\left[\\begin{matrix}13\\\\21\\end{matrix}\\right]\\right)$"
      ],
      "text/plain": [
       "⎛⎡4  2⎤  ⎡13⎤⎞\n",
       "⎜⎢    ⎥, ⎢  ⎥⎟\n",
       "⎝⎣2  6⎦  ⎣21⎦⎠"
      ]
     },
     "execution_count": 76,
     "metadata": {},
     "output_type": "execute_result"
    }
   ],
   "source": [
    "A.T*A, A.T*y"
   ]
  },
  {
   "cell_type": "code",
   "execution_count": 79,
   "id": "bbd393f1-8ab8-4543-9960-d9f197d87576",
   "metadata": {},
   "outputs": [
    {
     "data": {
      "text/latex": [
       "$\\displaystyle \\left[\\begin{matrix}\\frac{9}{5}\\\\\\frac{29}{10}\\end{matrix}\\right]$"
      ],
      "text/plain": [
       "⎡9/5⎤\n",
       "⎢   ⎥\n",
       "⎢29 ⎥\n",
       "⎢── ⎥\n",
       "⎣10 ⎦"
      ]
     },
     "execution_count": 79,
     "metadata": {},
     "output_type": "execute_result"
    }
   ],
   "source": [
    "(A.T*A).inv() * (A.T*y)"
   ]
  },
  {
   "cell_type": "markdown",
   "id": "1faa76cf-a522-4050-81c7-765040eb0ae6",
   "metadata": {},
   "source": [
    "$y = 1.8 + 2.9x$"
   ]
  },
  {
   "cell_type": "code",
   "execution_count": null,
   "id": "949d2eb2-d637-4f59-9bb4-d6f1f105acdb",
   "metadata": {},
   "outputs": [],
   "source": []
  }
 ],
 "metadata": {
  "kernelspec": {
   "display_name": "Python 3 (ipykernel)",
   "language": "python",
   "name": "python3"
  },
  "language_info": {
   "codemirror_mode": {
    "name": "ipython",
    "version": 3
   },
   "file_extension": ".py",
   "mimetype": "text/x-python",
   "name": "python",
   "nbconvert_exporter": "python",
   "pygments_lexer": "ipython3",
   "version": "3.13.3"
  }
 },
 "nbformat": 4,
 "nbformat_minor": 5
}
