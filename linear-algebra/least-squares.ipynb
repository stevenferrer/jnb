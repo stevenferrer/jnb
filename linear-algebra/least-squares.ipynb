{
 "cells": [
  {
   "cell_type": "code",
   "execution_count": 3,
   "id": "bc5b38c8-7834-433f-b39d-9b0e63cb6ec2",
   "metadata": {},
   "outputs": [],
   "source": [
    "from sympy import *\n",
    "init_printing(use_unicode=True)"
   ]
  },
  {
   "cell_type": "code",
   "execution_count": 4,
   "id": "61153eec-d539-45d5-8df9-8b08d594a484",
   "metadata": {},
   "outputs": [
    {
     "data": {
      "text/latex": [
       "$\\displaystyle \\left[\\begin{matrix}1 & 1\\\\-2 & 3\\\\2 & -1\\end{matrix}\\right]$"
      ],
      "text/plain": [
       "⎡1   1 ⎤\n",
       "⎢      ⎥\n",
       "⎢-2  3 ⎥\n",
       "⎢      ⎥\n",
       "⎣2   -1⎦"
      ]
     },
     "execution_count": 4,
     "metadata": {},
     "output_type": "execute_result"
    }
   ],
   "source": [
    "A = Matrix([\n",
    "    [1, 1],\n",
    "    [-2, 3],\n",
    "    [2, -1]\n",
    "])\n",
    "A"
   ]
  },
  {
   "cell_type": "code",
   "execution_count": 5,
   "id": "6f177d14-fb35-4195-8c40-402fddbf7c1a",
   "metadata": {},
   "outputs": [
    {
     "data": {
      "text/latex": [
       "$\\displaystyle \\left[\\begin{matrix}3\\\\1\\\\2\\end{matrix}\\right]$"
      ],
      "text/plain": [
       "⎡3⎤\n",
       "⎢ ⎥\n",
       "⎢1⎥\n",
       "⎢ ⎥\n",
       "⎣2⎦"
      ]
     },
     "execution_count": 5,
     "metadata": {},
     "output_type": "execute_result"
    }
   ],
   "source": [
    "b = Matrix([3, 1, 2])\n",
    "b"
   ]
  },
  {
   "cell_type": "code",
   "execution_count": 6,
   "id": "2a90a5c4-e904-4837-9ace-e94814eae342",
   "metadata": {},
   "outputs": [
    {
     "data": {
      "text/latex": [
       "$\\displaystyle \\left( x_{1}, \\  x_{2}\\right)$"
      ],
      "text/plain": [
       "(x₁, x₂)"
      ]
     },
     "execution_count": 6,
     "metadata": {},
     "output_type": "execute_result"
    }
   ],
   "source": [
    "x1, x2 = symbols('x1:3')\n",
    "x1, x2"
   ]
  },
  {
   "cell_type": "code",
   "execution_count": 7,
   "id": "b505ee0e-3317-4d65-8a50-c8c0f208fd8d",
   "metadata": {},
   "outputs": [
    {
     "data": {
      "text/latex": [
       "$\\displaystyle \\left[\\begin{matrix}x_{1}\\\\x_{2}\\end{matrix}\\right]$"
      ],
      "text/plain": [
       "⎡x₁⎤\n",
       "⎢  ⎥\n",
       "⎣x₂⎦"
      ]
     },
     "execution_count": 7,
     "metadata": {},
     "output_type": "execute_result"
    }
   ],
   "source": [
    "x = Matrix([x1, x2])\n",
    "x"
   ]
  },
  {
   "cell_type": "code",
   "execution_count": 11,
   "id": "169f658b-da6c-4dd5-be88-8af71a34fc18",
   "metadata": {},
   "outputs": [
    {
     "data": {
      "text/latex": [
       "$\\displaystyle \\left( \\left[\\begin{matrix}9 x_{1} - 7 x_{2}\\\\- 7 x_{1} + 11 x_{2}\\end{matrix}\\right], \\  \\left[\\begin{matrix}5\\\\4\\end{matrix}\\right]\\right)$"
      ],
      "text/plain": [
       "⎛⎡ 9⋅x₁ - 7⋅x₂ ⎤  ⎡5⎤⎞\n",
       "⎜⎢             ⎥, ⎢ ⎥⎟\n",
       "⎝⎣-7⋅x₁ + 11⋅x₂⎦  ⎣4⎦⎠"
      ]
     },
     "execution_count": 11,
     "metadata": {},
     "output_type": "execute_result"
    }
   ],
   "source": [
    "# normal equation A'Ax = A'b\n",
    "A.T*A*x, A.T*b"
   ]
  },
  {
   "cell_type": "code",
   "execution_count": 12,
   "id": "4ae13dc1-d72a-404c-b19b-e97bd3c1ee2d",
   "metadata": {},
   "outputs": [
    {
     "data": {
      "text/latex": [
       "$\\displaystyle \\left[\\begin{matrix}\\frac{83}{50}\\\\\\frac{71}{50}\\end{matrix}\\right]$"
      ],
      "text/plain": [
       "⎡83⎤\n",
       "⎢──⎥\n",
       "⎢50⎥\n",
       "⎢  ⎥\n",
       "⎢71⎥\n",
       "⎢──⎥\n",
       "⎣50⎦"
      ]
     },
     "execution_count": 12,
     "metadata": {},
     "output_type": "execute_result"
    }
   ],
   "source": [
    "# least squares solution x̂ = (A'A)⁻¹A'b\n",
    "(A.T*A).inv() * (A.T*b)"
   ]
  },
  {
   "cell_type": "code",
   "execution_count": null,
   "id": "a6e1a2b6-0250-4758-a87b-a9fa0732bf78",
   "metadata": {},
   "outputs": [],
   "source": []
  }
 ],
 "metadata": {
  "kernelspec": {
   "display_name": "Python 3 (ipykernel)",
   "language": "python",
   "name": "python3"
  },
  "language_info": {
   "codemirror_mode": {
    "name": "ipython",
    "version": 3
   },
   "file_extension": ".py",
   "mimetype": "text/x-python",
   "name": "python",
   "nbconvert_exporter": "python",
   "pygments_lexer": "ipython3",
   "version": "3.13.3"
  }
 },
 "nbformat": 4,
 "nbformat_minor": 5
}
