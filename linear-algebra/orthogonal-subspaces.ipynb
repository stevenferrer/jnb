{
 "cells": [
  {
   "cell_type": "code",
   "execution_count": 1,
   "id": "e667757c-8e41-4751-bbad-2a4049c2e10c",
   "metadata": {},
   "outputs": [],
   "source": [
    "from sympy import *\n",
    "init_printing(use_unicode=True)"
   ]
  },
  {
   "cell_type": "code",
   "execution_count": 2,
   "id": "7b07d8f2-80b7-4d7b-8f97-793dd5076f40",
   "metadata": {},
   "outputs": [
    {
     "data": {
      "text/latex": [
       "$\\displaystyle \\left[\\begin{matrix}3 & 4\\\\6 & 8\\end{matrix}\\right]$"
      ],
      "text/plain": [
       "⎡3  4⎤\n",
       "⎢    ⎥\n",
       "⎣6  8⎦"
      ]
     },
     "execution_count": 2,
     "metadata": {},
     "output_type": "execute_result"
    }
   ],
   "source": [
    "A = Matrix([\n",
    "    [3, 4],\n",
    "    [6, 8]\n",
    "])\n",
    "A"
   ]
  },
  {
   "cell_type": "code",
   "execution_count": 3,
   "id": "18ae3eb3-00e0-400d-b8e5-faebd9b779ce",
   "metadata": {},
   "outputs": [
    {
     "data": {
      "text/latex": [
       "$\\displaystyle \\left( \\left[\\begin{matrix}1 & \\frac{4}{3}\\\\0 & 0\\end{matrix}\\right], \\  \\left( 0,\\right)\\right)$"
      ],
      "text/plain": [
       "⎛⎡1  4/3⎤      ⎞\n",
       "⎜⎢      ⎥, (0,)⎟\n",
       "⎝⎣0   0 ⎦      ⎠"
      ]
     },
     "execution_count": 3,
     "metadata": {},
     "output_type": "execute_result"
    }
   ],
   "source": [
    "A.rref()"
   ]
  },
  {
   "cell_type": "code",
   "execution_count": 5,
   "id": "538566ea-cead-45d3-8e7f-fc842e09566b",
   "metadata": {},
   "outputs": [
    {
     "data": {
      "text/latex": [
       "$\\displaystyle \\left( \\left[\\begin{matrix}1 & 2\\\\0 & 0\\end{matrix}\\right], \\  \\left( 0,\\right)\\right)$"
      ],
      "text/plain": [
       "⎛⎡1  2⎤      ⎞\n",
       "⎜⎢    ⎥, (0,)⎟\n",
       "⎝⎣0  0⎦      ⎠"
      ]
     },
     "execution_count": 5,
     "metadata": {},
     "output_type": "execute_result"
    }
   ],
   "source": [
    "A.T.rref()"
   ]
  },
  {
   "cell_type": "code",
   "execution_count": 6,
   "id": "9d29b9f7-6085-41cc-9430-474ad51bd575",
   "metadata": {},
   "outputs": [
    {
     "data": {
      "text/latex": [
       "$\\displaystyle \\left[\\begin{matrix}1\\\\-1\\\\1\\end{matrix}\\right]$"
      ],
      "text/plain": [
       "⎡1 ⎤\n",
       "⎢  ⎥\n",
       "⎢-1⎥\n",
       "⎢  ⎥\n",
       "⎣1 ⎦"
      ]
     },
     "execution_count": 6,
     "metadata": {},
     "output_type": "execute_result"
    }
   ],
   "source": [
    "A = Matrix([\n",
    "    [1],\n",
    "    [-1],\n",
    "    [1],\n",
    "])\n",
    "A"
   ]
  },
  {
   "cell_type": "code",
   "execution_count": 7,
   "id": "94df7c2f-50c5-4aaa-a8e9-6c6c2eeddcb9",
   "metadata": {},
   "outputs": [
    {
     "data": {
      "text/latex": [
       "$\\displaystyle \\left( \\left[\\begin{matrix}1\\\\0\\\\0\\end{matrix}\\right], \\  \\left( 0,\\right)\\right)$"
      ],
      "text/plain": [
       "⎛⎡1⎤      ⎞\n",
       "⎜⎢ ⎥      ⎟\n",
       "⎜⎢0⎥, (0,)⎟\n",
       "⎜⎢ ⎥      ⎟\n",
       "⎝⎣0⎦      ⎠"
      ]
     },
     "execution_count": 7,
     "metadata": {},
     "output_type": "execute_result"
    }
   ],
   "source": [
    "A.rref()"
   ]
  },
  {
   "cell_type": "code",
   "execution_count": 8,
   "id": "bdfbe04a-03f8-49e9-98ea-5d0c61e1e7a8",
   "metadata": {},
   "outputs": [
    {
     "data": {
      "text/latex": [
       "$\\displaystyle \\left[\\begin{matrix}1 & -1 & 1\\end{matrix}\\right]$"
      ],
      "text/plain": [
       "[1  -1  1]"
      ]
     },
     "execution_count": 8,
     "metadata": {},
     "output_type": "execute_result"
    }
   ],
   "source": [
    "A = Matrix([\n",
    "    [1, -1, 1]\n",
    "])\n",
    "A"
   ]
  },
  {
   "cell_type": "code",
   "execution_count": 9,
   "id": "e64aa9e7-cd10-41fc-9cd6-9894290e1708",
   "metadata": {},
   "outputs": [
    {
     "data": {
      "text/latex": [
       "$\\displaystyle \\left( \\left[\\begin{matrix}1 & -1 & 1\\end{matrix}\\right], \\  \\left( 0,\\right)\\right)$"
      ],
      "text/plain": [
       "([1  -1  1], (0,))"
      ]
     },
     "execution_count": 9,
     "metadata": {},
     "output_type": "execute_result"
    }
   ],
   "source": [
    "A.rref()"
   ]
  },
  {
   "cell_type": "code",
   "execution_count": null,
   "id": "12111f90-0455-4270-a91f-d172307040d8",
   "metadata": {},
   "outputs": [],
   "source": []
  }
 ],
 "metadata": {
  "kernelspec": {
   "display_name": "Python 3 (ipykernel)",
   "language": "python",
   "name": "python3"
  },
  "language_info": {
   "codemirror_mode": {
    "name": "ipython",
    "version": 3
   },
   "file_extension": ".py",
   "mimetype": "text/x-python",
   "name": "python",
   "nbconvert_exporter": "python",
   "pygments_lexer": "ipython3",
   "version": "3.13.3"
  }
 },
 "nbformat": 4,
 "nbformat_minor": 5
}
