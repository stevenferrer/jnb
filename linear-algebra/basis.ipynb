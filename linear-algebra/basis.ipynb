{
 "cells": [
  {
   "cell_type": "code",
   "execution_count": 2,
   "id": "d1597d60-6eb3-4baa-a49c-2552f0f2e258",
   "metadata": {},
   "outputs": [],
   "source": [
    "from sympy import *\n",
    "init_printing(use_unicode=True)"
   ]
  },
  {
   "cell_type": "code",
   "execution_count": 6,
   "id": "df92e561-beb1-4150-96b8-3524ec2028e7",
   "metadata": {},
   "outputs": [
    {
     "data": {
      "text/latex": [
       "$\\displaystyle \\left[\\begin{matrix}5 & 3\\\\3 & 2\\end{matrix}\\right]$"
      ],
      "text/plain": [
       "⎡5  3⎤\n",
       "⎢    ⎥\n",
       "⎣3  2⎦"
      ]
     },
     "execution_count": 6,
     "metadata": {},
     "output_type": "execute_result"
    }
   ],
   "source": [
    "E = Matrix([\n",
    "    [5, 3],\n",
    "    [3, 2]\n",
    "])\n",
    "E"
   ]
  },
  {
   "cell_type": "code",
   "execution_count": 7,
   "id": "b6b3f855-6e1e-42fe-9972-c1e19f000a84",
   "metadata": {},
   "outputs": [
    {
     "data": {
      "text/latex": [
       "$\\displaystyle \\left[\\begin{matrix}5\\\\-8\\end{matrix}\\right]$"
      ],
      "text/plain": [
       "⎡5 ⎤\n",
       "⎢  ⎥\n",
       "⎣-8⎦"
      ]
     },
     "execution_count": 7,
     "metadata": {},
     "output_type": "execute_result"
    }
   ],
   "source": [
    "E**-1 * Matrix([1, -1])"
   ]
  },
  {
   "cell_type": "code",
   "execution_count": 8,
   "id": "97eac85e-c94f-4b7b-b4ac-54626a274e1c",
   "metadata": {},
   "outputs": [
    {
     "data": {
      "text/latex": [
       "$\\displaystyle \\left[\\begin{matrix}1 & 1 & 2\\\\1 & 2 & 3\\\\1 & 2 & 4\\end{matrix}\\right]$"
      ],
      "text/plain": [
       "⎡1  1  2⎤\n",
       "⎢       ⎥\n",
       "⎢1  2  3⎥\n",
       "⎢       ⎥\n",
       "⎣1  2  4⎦"
      ]
     },
     "execution_count": 8,
     "metadata": {},
     "output_type": "execute_result"
    }
   ],
   "source": [
    "U = Matrix([\n",
    "    [1, 1, 2],\n",
    "    [1, 2, 3],\n",
    "    [1, 2, 4]\n",
    "])\n",
    "U"
   ]
  },
  {
   "cell_type": "code",
   "execution_count": 9,
   "id": "a62319b9-4470-445b-881e-91b37403f16f",
   "metadata": {},
   "outputs": [
    {
     "data": {
      "text/latex": [
       "$\\displaystyle \\left[\\begin{matrix}2 & 0 & -1\\\\-1 & 2 & -1\\\\0 & -1 & 1\\end{matrix}\\right]$"
      ],
      "text/plain": [
       "⎡2   0   -1⎤\n",
       "⎢          ⎥\n",
       "⎢-1  2   -1⎥\n",
       "⎢          ⎥\n",
       "⎣0   -1  1 ⎦"
      ]
     },
     "execution_count": 9,
     "metadata": {},
     "output_type": "execute_result"
    }
   ],
   "source": [
    "U**-1"
   ]
  },
  {
   "cell_type": "code",
   "execution_count": 10,
   "id": "933e7c92-4ca0-4827-8b71-9052acfb90b3",
   "metadata": {},
   "outputs": [
    {
     "data": {
      "text/latex": [
       "$\\displaystyle \\left[\\begin{matrix}1\\\\-4\\\\3\\end{matrix}\\right]$"
      ],
      "text/plain": [
       "⎡1 ⎤\n",
       "⎢  ⎥\n",
       "⎢-4⎥\n",
       "⎢  ⎥\n",
       "⎣3 ⎦"
      ]
     },
     "execution_count": 10,
     "metadata": {},
     "output_type": "execute_result"
    }
   ],
   "source": [
    "U**-1 * Matrix([3, 2, 5])"
   ]
  },
  {
   "cell_type": "code",
   "execution_count": 11,
   "id": "74fd1d68-4ca2-4a6b-8e55-19a607227469",
   "metadata": {},
   "outputs": [
    {
     "data": {
      "text/latex": [
       "$\\displaystyle \\left[\\begin{matrix}4 & 0 & 0\\\\6 & 1 & 1\\\\7 & 1 & 2\\end{matrix}\\right]$"
      ],
      "text/plain": [
       "⎡4  0  0⎤\n",
       "⎢       ⎥\n",
       "⎢6  1  1⎥\n",
       "⎢       ⎥\n",
       "⎣7  1  2⎦"
      ]
     },
     "execution_count": 11,
     "metadata": {},
     "output_type": "execute_result"
    }
   ],
   "source": [
    "V = Matrix([\n",
    "    [4, 0, 0],\n",
    "    [6, 1, 1],\n",
    "    [7, 1, 2]\n",
    "])\n",
    "V"
   ]
  },
  {
   "cell_type": "code",
   "execution_count": 14,
   "id": "4cc0871f-af2a-487a-af2c-82a52196bd7d",
   "metadata": {},
   "outputs": [
    {
     "data": {
      "text/latex": [
       "$\\displaystyle \\left[\\begin{matrix}1 & -1 & -2\\\\1 & 1 & 0\\\\1 & 0 & 1\\end{matrix}\\right]$"
      ],
      "text/plain": [
       "⎡1  -1  -2⎤\n",
       "⎢         ⎥\n",
       "⎢1  1   0 ⎥\n",
       "⎢         ⎥\n",
       "⎣1  0   1 ⎦"
      ]
     },
     "execution_count": 14,
     "metadata": {},
     "output_type": "execute_result"
    }
   ],
   "source": [
    "S = U**-1 * V\n",
    "S"
   ]
  },
  {
   "cell_type": "code",
   "execution_count": 15,
   "id": "df64332f-8d47-48d1-8e9a-36c3830a44db",
   "metadata": {},
   "outputs": [
    {
     "data": {
      "text/latex": [
       "$\\displaystyle \\left[\\begin{matrix}7\\\\5\\\\-2\\end{matrix}\\right]$"
      ],
      "text/plain": [
       "⎡7 ⎤\n",
       "⎢  ⎥\n",
       "⎢5 ⎥\n",
       "⎢  ⎥\n",
       "⎣-2⎦"
      ]
     },
     "execution_count": 15,
     "metadata": {},
     "output_type": "execute_result"
    }
   ],
   "source": [
    "S * Matrix([2, 3, -4])"
   ]
  },
  {
   "cell_type": "code",
   "execution_count": 20,
   "id": "891647ec-6b39-4c89-9db4-289ea218805e",
   "metadata": {},
   "outputs": [
    {
     "data": {
      "text/latex": [
       "$\\displaystyle \\left[\\begin{matrix}3 & 5\\\\1 & -2\\end{matrix}\\right]$"
      ],
      "text/plain": [
       "⎡3  5 ⎤\n",
       "⎢     ⎥\n",
       "⎣1  -2⎦"
      ]
     },
     "execution_count": 20,
     "metadata": {},
     "output_type": "execute_result"
    }
   ],
   "source": [
    "V2 = Matrix([\n",
    "    [3, 5],\n",
    "    [1, -2],\n",
    "])\n",
    "V2"
   ]
  },
  {
   "cell_type": "code",
   "execution_count": 21,
   "id": "b326bcc3-65f7-4793-8033-16fe9acc7bd0",
   "metadata": {},
   "outputs": [
    {
     "data": {
      "text/latex": [
       "$\\displaystyle \\left[\\begin{matrix}\\frac{2}{11} & \\frac{5}{11}\\\\\\frac{1}{11} & - \\frac{3}{11}\\end{matrix}\\right]$"
      ],
      "text/plain": [
       "⎡2/11  5/11 ⎤\n",
       "⎢           ⎥\n",
       "⎣1/11  -3/11⎦"
      ]
     },
     "execution_count": 21,
     "metadata": {},
     "output_type": "execute_result"
    }
   ],
   "source": [
    "V2**-1"
   ]
  },
  {
   "cell_type": "code",
   "execution_count": 22,
   "id": "28c4be37-50a6-49fb-877b-e648b5ef5c57",
   "metadata": {},
   "outputs": [
    {
     "data": {
      "text/latex": [
       "$\\displaystyle \\left[\\begin{matrix}2 & 1\\\\6 & 4\\end{matrix}\\right]$"
      ],
      "text/plain": [
       "⎡2  1⎤\n",
       "⎢    ⎥\n",
       "⎣6  4⎦"
      ]
     },
     "execution_count": 22,
     "metadata": {},
     "output_type": "execute_result"
    }
   ],
   "source": [
    "V = Matrix([\n",
    "    [2, 1],\n",
    "    [6, 4],\n",
    "])\n",
    "V"
   ]
  },
  {
   "cell_type": "code",
   "execution_count": 23,
   "id": "f0c8e4f9-9696-494b-a7fe-725e9ab1136c",
   "metadata": {},
   "outputs": [
    {
     "data": {
      "text/latex": [
       "$\\displaystyle \\left[\\begin{matrix}4 & 1\\\\2 & 1\\end{matrix}\\right]$"
      ],
      "text/plain": [
       "⎡4  1⎤\n",
       "⎢    ⎥\n",
       "⎣2  1⎦"
      ]
     },
     "execution_count": 23,
     "metadata": {},
     "output_type": "execute_result"
    }
   ],
   "source": [
    "S = Matrix([\n",
    "    [4, 1],\n",
    "    [2, 1],\n",
    "])\n",
    "S"
   ]
  },
  {
   "cell_type": "code",
   "execution_count": 28,
   "id": "9d870323-49d4-4ef3-b6ff-6335b9091f20",
   "metadata": {},
   "outputs": [
    {
     "data": {
      "text/latex": [
       "$\\displaystyle \\left[\\begin{matrix}0 & 1\\\\-1 & 5\\end{matrix}\\right]$"
      ],
      "text/plain": [
       "⎡0   1⎤\n",
       "⎢     ⎥\n",
       "⎣-1  5⎦"
      ]
     },
     "execution_count": 28,
     "metadata": {},
     "output_type": "execute_result"
    }
   ],
   "source": [
    "V* S**-1"
   ]
  },
  {
   "cell_type": "markdown",
   "id": "e1635ec3-51bf-40b1-81ab-60e8bebf5070",
   "metadata": {},
   "source": [
    "### Change of basis"
   ]
  },
  {
   "cell_type": "code",
   "execution_count": 3,
   "id": "8a355bc9-78da-4041-a202-e088c7d42f64",
   "metadata": {},
   "outputs": [
    {
     "data": {
      "text/latex": [
       "$\\displaystyle \\left( v_{1}, \\  v_{2}, \\  v_{3}\\right)$"
      ],
      "text/plain": [
       "(v₁, v₂, v₃)"
      ]
     },
     "execution_count": 3,
     "metadata": {},
     "output_type": "execute_result"
    }
   ],
   "source": [
    "v1, v2, v3 = symbols('v1:4')\n",
    "v1, v2, v3"
   ]
  },
  {
   "cell_type": "code",
   "execution_count": 8,
   "id": "5c94ffba-1186-456a-8411-512edee0b3eb",
   "metadata": {},
   "outputs": [
    {
     "data": {
      "text/latex": [
       "$\\displaystyle \\left( \\left[\\begin{matrix}1\\\\1\\\\1\\end{matrix}\\right], \\  \\left[\\begin{matrix}2\\\\3\\\\2\\end{matrix}\\right], \\  \\left[\\begin{matrix}1\\\\5\\\\4\\end{matrix}\\right]\\right)$"
      ],
      "text/plain": [
       "⎛⎡1⎤  ⎡2⎤  ⎡1⎤⎞\n",
       "⎜⎢ ⎥  ⎢ ⎥  ⎢ ⎥⎟\n",
       "⎜⎢1⎥, ⎢3⎥, ⎢5⎥⎟\n",
       "⎜⎢ ⎥  ⎢ ⎥  ⎢ ⎥⎟\n",
       "⎝⎣1⎦  ⎣2⎦  ⎣4⎦⎠"
      ]
     },
     "execution_count": 8,
     "metadata": {},
     "output_type": "execute_result"
    }
   ],
   "source": [
    "v1, v2, v3 = Matrix([1, 1, 1]), Matrix([2, 3, 2]), Matrix([1, 5, 4])\n",
    "v1, v2, v3"
   ]
  },
  {
   "cell_type": "code",
   "execution_count": 9,
   "id": "a6ce2846-2d2c-4110-8c2a-7a9f9d417915",
   "metadata": {},
   "outputs": [
    {
     "data": {
      "text/latex": [
       "$\\displaystyle \\left[\\begin{matrix}1 & 2 & 1\\\\1 & 3 & 5\\\\1 & 2 & 4\\end{matrix}\\right]$"
      ],
      "text/plain": [
       "⎡1  2  1⎤\n",
       "⎢       ⎥\n",
       "⎢1  3  5⎥\n",
       "⎢       ⎥\n",
       "⎣1  2  4⎦"
      ]
     },
     "execution_count": 9,
     "metadata": {},
     "output_type": "execute_result"
    }
   ],
   "source": [
    "V = Matrix.hstack(v1, v2, v3)\n",
    "V"
   ]
  },
  {
   "cell_type": "code",
   "execution_count": 4,
   "id": "96439c91-0889-4431-af42-1f59a0d1a863",
   "metadata": {},
   "outputs": [
    {
     "data": {
      "text/latex": [
       "$\\displaystyle \\left( u_{1}, \\  u_{2}, \\  u_{3}\\right)$"
      ],
      "text/plain": [
       "(u₁, u₂, u₃)"
      ]
     },
     "execution_count": 4,
     "metadata": {},
     "output_type": "execute_result"
    }
   ],
   "source": [
    "u1, u2, u3 = symbols('u1:4')\n",
    "u1, u2, u3"
   ]
  },
  {
   "cell_type": "code",
   "execution_count": 12,
   "id": "89cba5f9-4d24-4297-9648-831e32bd9ede",
   "metadata": {},
   "outputs": [
    {
     "data": {
      "text/latex": [
       "$\\displaystyle \\left( \\left[\\begin{matrix}1\\\\1\\\\0\\end{matrix}\\right], \\  \\left[\\begin{matrix}1\\\\2\\\\0\\end{matrix}\\right], \\  \\left[\\begin{matrix}1\\\\2\\\\1\\end{matrix}\\right]\\right)$"
      ],
      "text/plain": [
       "⎛⎡1⎤  ⎡1⎤  ⎡1⎤⎞\n",
       "⎜⎢ ⎥  ⎢ ⎥  ⎢ ⎥⎟\n",
       "⎜⎢1⎥, ⎢2⎥, ⎢2⎥⎟\n",
       "⎜⎢ ⎥  ⎢ ⎥  ⎢ ⎥⎟\n",
       "⎝⎣0⎦  ⎣0⎦  ⎣1⎦⎠"
      ]
     },
     "execution_count": 12,
     "metadata": {},
     "output_type": "execute_result"
    }
   ],
   "source": [
    "u1, u2, u3 = Matrix([1, 1, 0]), Matrix([1, 2, 0]), Matrix([1, 2, 1])\n",
    "u1, u2, u3"
   ]
  },
  {
   "cell_type": "code",
   "execution_count": 13,
   "id": "2f5ac689-d91b-4792-9c30-c25805809c22",
   "metadata": {},
   "outputs": [
    {
     "data": {
      "text/latex": [
       "$\\displaystyle \\left[\\begin{matrix}1 & 1 & 1\\\\1 & 2 & 2\\\\0 & 0 & 1\\end{matrix}\\right]$"
      ],
      "text/plain": [
       "⎡1  1  1⎤\n",
       "⎢       ⎥\n",
       "⎢1  2  2⎥\n",
       "⎢       ⎥\n",
       "⎣0  0  1⎦"
      ]
     },
     "execution_count": 13,
     "metadata": {},
     "output_type": "execute_result"
    }
   ],
   "source": [
    "U = Matrix.hstack(u1, u2, u3)\n",
    "U"
   ]
  },
  {
   "cell_type": "code",
   "execution_count": 17,
   "id": "31683593-3bb9-452c-83b1-dabd7d14421e",
   "metadata": {},
   "outputs": [
    {
     "data": {
      "text/latex": [
       "$\\displaystyle \\left[\\begin{matrix}1 & 1 & -3\\\\-1 & -1 & 0\\\\1 & 2 & 4\\end{matrix}\\right]$"
      ],
      "text/plain": [
       "⎡1   1   -3⎤\n",
       "⎢          ⎥\n",
       "⎢-1  -1  0 ⎥\n",
       "⎢          ⎥\n",
       "⎣1   2   4 ⎦"
      ]
     },
     "execution_count": 17,
     "metadata": {},
     "output_type": "execute_result"
    }
   ],
   "source": [
    "# transition matrix from {v1, v2, v3} to {u1, u2, u3}\n",
    "S = U.inv() * V\n",
    "S"
   ]
  },
  {
   "cell_type": "code",
   "execution_count": 18,
   "id": "76840385-4d66-47ae-b6c4-e3eb212782af",
   "metadata": {},
   "outputs": [
    {
     "data": {
      "text/latex": [
       "$\\displaystyle \\left( \\left[\\begin{matrix}3\\\\2\\\\-1\\end{matrix}\\right], \\  \\left[\\begin{matrix}1\\\\-3\\\\2\\end{matrix}\\right]\\right)$"
      ],
      "text/plain": [
       "⎛⎡3 ⎤  ⎡1 ⎤⎞\n",
       "⎜⎢  ⎥  ⎢  ⎥⎟\n",
       "⎜⎢2 ⎥, ⎢-3⎥⎟\n",
       "⎜⎢  ⎥  ⎢  ⎥⎟\n",
       "⎝⎣-1⎦  ⎣2 ⎦⎠"
      ]
     },
     "execution_count": 18,
     "metadata": {},
     "output_type": "execute_result"
    }
   ],
   "source": [
    "# x and y are coordinate vectors with respect to {v1, v2, v3}\n",
    "x, y = Matrix([3, 2, -1]), Matrix([1, -3, 2])\n",
    "x, y"
   ]
  },
  {
   "cell_type": "code",
   "execution_count": 22,
   "id": "3580e95c-90a7-4b85-a5a0-eeba6f28c396",
   "metadata": {},
   "outputs": [
    {
     "data": {
      "text/latex": [
       "$\\displaystyle \\left( \\left[\\begin{matrix}8\\\\-5\\\\3\\end{matrix}\\right], \\  \\left[\\begin{matrix}-8\\\\2\\\\3\\end{matrix}\\right]\\right)$"
      ],
      "text/plain": [
       "⎛⎡8 ⎤  ⎡-8⎤⎞\n",
       "⎜⎢  ⎥  ⎢  ⎥⎟\n",
       "⎜⎢-5⎥, ⎢2 ⎥⎟\n",
       "⎜⎢  ⎥  ⎢  ⎥⎟\n",
       "⎝⎣3 ⎦  ⎣3 ⎦⎠"
      ]
     },
     "execution_count": 22,
     "metadata": {},
     "output_type": "execute_result"
    }
   ],
   "source": [
    "# x^ and y^ are coordinate vectors with respect to {u1, u2, u3}\n",
    "x_hat, y_hat = S * x, S * y\n",
    "x_hat, y_hat"
   ]
  },
  {
   "cell_type": "code",
   "execution_count": 26,
   "id": "6fec16a5-cd19-4b39-a918-af9f4adab51e",
   "metadata": {},
   "outputs": [
    {
     "data": {
      "text/latex": [
       "$\\displaystyle \\left( \\left[\\begin{matrix}6\\\\4\\\\3\\end{matrix}\\right], \\  \\left[\\begin{matrix}6\\\\4\\\\3\\end{matrix}\\right]\\right)$"
      ],
      "text/plain": [
       "⎛⎡6⎤  ⎡6⎤⎞\n",
       "⎜⎢ ⎥  ⎢ ⎥⎟\n",
       "⎜⎢4⎥, ⎢4⎥⎟\n",
       "⎜⎢ ⎥  ⎢ ⎥⎟\n",
       "⎝⎣3⎦  ⎣3⎦⎠"
      ]
     },
     "execution_count": 26,
     "metadata": {},
     "output_type": "execute_result"
    }
   ],
   "source": [
    "# confirm that x and x^ are equal\n",
    "V * x, U * x_hat"
   ]
  },
  {
   "cell_type": "code",
   "execution_count": 27,
   "id": "ee933817-5951-4c8b-a5b1-13acb1b42c15",
   "metadata": {},
   "outputs": [
    {
     "data": {
      "text/latex": [
       "$\\displaystyle \\left( \\left[\\begin{matrix}-3\\\\2\\\\3\\end{matrix}\\right], \\  \\left[\\begin{matrix}-3\\\\2\\\\3\\end{matrix}\\right]\\right)$"
      ],
      "text/plain": [
       "⎛⎡-3⎤  ⎡-3⎤⎞\n",
       "⎜⎢  ⎥  ⎢  ⎥⎟\n",
       "⎜⎢2 ⎥, ⎢2 ⎥⎟\n",
       "⎜⎢  ⎥  ⎢  ⎥⎟\n",
       "⎝⎣3 ⎦  ⎣3 ⎦⎠"
      ]
     },
     "execution_count": 27,
     "metadata": {},
     "output_type": "execute_result"
    }
   ],
   "source": [
    "# confirm that y and y^ are equal\n",
    "V * y, U * y_hat"
   ]
  },
  {
   "cell_type": "code",
   "execution_count": 29,
   "id": "e84c2198-b8cb-43d6-9547-7e40638d0500",
   "metadata": {},
   "outputs": [
    {
     "data": {
      "text/latex": [
       "$\\displaystyle \\left( \\left[\\begin{matrix}1 & 2 & 1\\\\1 & 3 & 5\\\\1 & 2 & 4\\end{matrix}\\right], \\  \\left[\\begin{matrix}1 & 2 & 1\\\\1 & 3 & 5\\\\1 & 2 & 4\\end{matrix}\\right]\\right)$"
      ],
      "text/plain": [
       "⎛⎡1  2  1⎤  ⎡1  2  1⎤⎞\n",
       "⎜⎢       ⎥  ⎢       ⎥⎟\n",
       "⎜⎢1  3  5⎥, ⎢1  3  5⎥⎟\n",
       "⎜⎢       ⎥  ⎢       ⎥⎟\n",
       "⎝⎣1  2  4⎦  ⎣1  2  4⎦⎠"
      ]
     },
     "execution_count": 29,
     "metadata": {},
     "output_type": "execute_result"
    }
   ],
   "source": [
    "# V = US = U(U'V)\n",
    "V, U * S"
   ]
  },
  {
   "cell_type": "code",
   "execution_count": 31,
   "id": "9c592298-8f4b-4f66-9d00-3c4314995387",
   "metadata": {},
   "outputs": [
    {
     "data": {
      "text/latex": [
       "$\\displaystyle \\left( \\left[\\begin{matrix}8\\\\-5\\\\3\\end{matrix}\\right], \\  \\left[\\begin{matrix}8\\\\-5\\\\3\\end{matrix}\\right]\\right)$"
      ],
      "text/plain": [
       "⎛⎡8 ⎤  ⎡8 ⎤⎞\n",
       "⎜⎢  ⎥  ⎢  ⎥⎟\n",
       "⎜⎢-5⎥, ⎢-5⎥⎟\n",
       "⎜⎢  ⎥  ⎢  ⎥⎟\n",
       "⎝⎣3 ⎦  ⎣3 ⎦⎠"
      ]
     },
     "execution_count": 31,
     "metadata": {},
     "output_type": "execute_result"
    }
   ],
   "source": [
    "# x^ = Sx\n",
    "x_hat, S * x"
   ]
  },
  {
   "cell_type": "code",
   "execution_count": 37,
   "id": "44c6e602-dbf0-48a8-a6cf-ae6654c9f97f",
   "metadata": {},
   "outputs": [
    {
     "data": {
      "text/latex": [
       "$\\displaystyle \\left( \\left[\\begin{matrix}3\\\\2\\\\-1\\end{matrix}\\right], \\  \\left[\\begin{matrix}3\\\\2\\\\-1\\end{matrix}\\right]\\right)$"
      ],
      "text/plain": [
       "⎛⎡3 ⎤  ⎡3 ⎤⎞\n",
       "⎜⎢  ⎥  ⎢  ⎥⎟\n",
       "⎜⎢2 ⎥, ⎢2 ⎥⎟\n",
       "⎜⎢  ⎥  ⎢  ⎥⎟\n",
       "⎝⎣-1⎦  ⎣-1⎦⎠"
      ]
     },
     "execution_count": 37,
     "metadata": {},
     "output_type": "execute_result"
    }
   ],
   "source": [
    "# x = S'x^\n",
    "x, S.inv() * x_hat"
   ]
  },
  {
   "cell_type": "markdown",
   "id": "b03a1f94-4332-4926-86b2-72dd2dabaaa9",
   "metadata": {},
   "source": [
    "`S` is the transition matrix to change basis from `{v1, v2, v3}` to `{u1, u2, u3}` and `S'` is the transition matrix to change basis from `{u1, u2, u3}` to `{v1, v2, v3}`."
   ]
  },
  {
   "cell_type": "code",
   "execution_count": null,
   "id": "c56386bc-21e7-4715-9479-937039e702ac",
   "metadata": {},
   "outputs": [],
   "source": []
  }
 ],
 "metadata": {
  "kernelspec": {
   "display_name": "Python 3 (ipykernel)",
   "language": "python",
   "name": "python3"
  },
  "language_info": {
   "codemirror_mode": {
    "name": "ipython",
    "version": 3
   },
   "file_extension": ".py",
   "mimetype": "text/x-python",
   "name": "python",
   "nbconvert_exporter": "python",
   "pygments_lexer": "ipython3",
   "version": "3.13.3"
  }
 },
 "nbformat": 4,
 "nbformat_minor": 5
}
