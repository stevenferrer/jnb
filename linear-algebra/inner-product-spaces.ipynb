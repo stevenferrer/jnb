{
 "cells": [
  {
   "cell_type": "code",
   "execution_count": 1,
   "id": "e7ebae8d-2329-444c-b125-0e3561784660",
   "metadata": {},
   "outputs": [],
   "source": [
    "from sympy import *\n",
    "init_printing(use_unicode=True)"
   ]
  },
  {
   "cell_type": "markdown",
   "id": "5de6c9e0-1c54-499b-a9e7-be1403eee6a7",
   "metadata": {},
   "source": [
    "### Example 1"
   ]
  },
  {
   "cell_type": "code",
   "execution_count": 2,
   "id": "1749cc31-f165-4433-a72c-d111264a7129",
   "metadata": {},
   "outputs": [
    {
     "data": {
      "text/latex": [
       "$\\displaystyle \\left( \\left[\\begin{matrix}-1\\\\-1\\\\1\\\\1\\end{matrix}\\right], \\  \\left[\\begin{matrix}1\\\\1\\\\5\\\\-3\\end{matrix}\\right]\\right)$"
      ],
      "text/plain": [
       "⎛⎡-1⎤  ⎡1 ⎤⎞\n",
       "⎜⎢  ⎥  ⎢  ⎥⎟\n",
       "⎜⎢-1⎥  ⎢1 ⎥⎟\n",
       "⎜⎢  ⎥, ⎢  ⎥⎟\n",
       "⎜⎢1 ⎥  ⎢5 ⎥⎟\n",
       "⎜⎢  ⎥  ⎢  ⎥⎟\n",
       "⎝⎣1 ⎦  ⎣-3⎦⎠"
      ]
     },
     "execution_count": 2,
     "metadata": {},
     "output_type": "execute_result"
    }
   ],
   "source": [
    "x = Matrix([-1, -1, 1, 1])\n",
    "y = Matrix([1, 1, 5, -3])\n",
    "x, y"
   ]
  },
  {
   "cell_type": "markdown",
   "id": "4f1690d2-25a8-41eb-ba76-2d5b8843b586",
   "metadata": {},
   "source": [
    "$x$ and $y$ are orthogonal because $x^Ty = 0$"
   ]
  },
  {
   "cell_type": "code",
   "execution_count": 3,
   "id": "102a9cf4-1907-439d-b654-bc3bde38d4fa",
   "metadata": {},
   "outputs": [
    {
     "data": {
      "text/latex": [
       "$\\displaystyle \\left( \\left[\\begin{matrix}0\\end{matrix}\\right], \\  0\\right)$"
      ],
      "text/plain": [
       "([0], 0)"
      ]
     },
     "execution_count": 3,
     "metadata": {},
     "output_type": "execute_result"
    }
   ],
   "source": [
    "x.T * y, x.dot(y)"
   ]
  },
  {
   "cell_type": "markdown",
   "id": "d9aa2612-2726-414e-9e39-4d2f97d1fba7",
   "metadata": {},
   "source": [
    "`\\norm` command... refer to [this](https://minibatchai.com/2023/07/15/Latex_Norm.html), tho notice that the bar on the other term is longer ¯\\\\\\_(ツ)_/¯\n",
    "\n",
    "$\\newcommand{\\norm}[2]{\\left\\lVert#1\\right\\rVert_{#2}}$"
   ]
  },
  {
   "cell_type": "markdown",
   "id": "2f2e9440-ebdf-46df-b74c-85e7d8fafb47",
   "metadata": {},
   "source": [
    "Pythagorean Law holds since $\\norm{x + y}{2}^2 = \\norm{x}{2}^2 + \\norm{y}{2}^2$"
   ]
  },
  {
   "cell_type": "code",
   "execution_count": 4,
   "id": "7cbeed4c-b4a1-4dcd-8c56-bc0c86363d28",
   "metadata": {},
   "outputs": [
    {
     "data": {
      "text/latex": [
       "$\\displaystyle \\left( 40, \\  40\\right)$"
      ],
      "text/plain": [
       "(40, 40)"
      ]
     },
     "execution_count": 4,
     "metadata": {},
     "output_type": "execute_result"
    }
   ],
   "source": [
    "x.norm(2)**2 + y.norm(2)**2, (x+y).norm(2)**2"
   ]
  },
  {
   "cell_type": "markdown",
   "id": "45cfff2d-ba5a-4303-9cd9-66df8a8a7f5c",
   "metadata": {},
   "source": [
    "### Example 2"
   ]
  },
  {
   "cell_type": "code",
   "execution_count": 5,
   "id": "9d0c258e-728b-4e1e-b069-d3753f95f90f",
   "metadata": {},
   "outputs": [
    {
     "data": {
      "text/latex": [
       "$\\displaystyle \\left( \\left[\\begin{matrix}1\\\\1\\\\1\\\\1\\end{matrix}\\right], \\  \\left[\\begin{matrix}8\\\\2\\\\2\\\\0\\end{matrix}\\right]\\right)$"
      ],
      "text/plain": [
       "⎛⎡1⎤  ⎡8⎤⎞\n",
       "⎜⎢ ⎥  ⎢ ⎥⎟\n",
       "⎜⎢1⎥  ⎢2⎥⎟\n",
       "⎜⎢ ⎥, ⎢ ⎥⎟\n",
       "⎜⎢1⎥  ⎢2⎥⎟\n",
       "⎜⎢ ⎥  ⎢ ⎥⎟\n",
       "⎝⎣1⎦  ⎣0⎦⎠"
      ]
     },
     "execution_count": 5,
     "metadata": {},
     "output_type": "execute_result"
    }
   ],
   "source": [
    "x = Matrix([1, 1, 1, 1])\n",
    "y = Matrix([8, 2, 2, 0])\n",
    "x, y"
   ]
  },
  {
   "cell_type": "markdown",
   "id": "d25da462-0ef8-4446-a177-d45700a60211",
   "metadata": {},
   "source": [
    "The angle between $\\textbf{x}$ and $\\textbf{y}$ is given by $\\cos \\theta = \\frac{\\langle x,y \\rangle}{\\norm{x}{}\\norm{y}{}}$, which is $\\frac{\\pi}{4}$"
   ]
  },
  {
   "cell_type": "code",
   "execution_count": 6,
   "id": "0c0888a6-1c33-4c3f-8154-87db576296e2",
   "metadata": {},
   "outputs": [
    {
     "data": {
      "text/latex": [
       "$\\displaystyle \\frac{\\sqrt{2}}{2}$"
      ],
      "text/plain": [
       "√2\n",
       "──\n",
       "2 "
      ]
     },
     "execution_count": 6,
     "metadata": {},
     "output_type": "execute_result"
    }
   ],
   "source": [
    "x.dot(y) / (x.norm(2) * y.norm(2))"
   ]
  },
  {
   "cell_type": "markdown",
   "id": "f9f826c7-81d4-4e58-8790-e400d6d3c00a",
   "metadata": {},
   "source": [
    "The vector projection $\\textbf{p}$ of $\\textbf{x}$ onto $\\textbf{y}$ is given by $p = \\frac{\\langle x,y \\rangle}{\\langle y,y \\rangle} y$"
   ]
  },
  {
   "cell_type": "code",
   "execution_count": 7,
   "id": "615d5b93-c9d5-4e17-93c2-3be70b8b0833",
   "metadata": {},
   "outputs": [
    {
     "data": {
      "text/latex": [
       "$\\displaystyle \\left[\\begin{matrix}\\frac{4}{3}\\\\\\frac{1}{3}\\\\\\frac{1}{3}\\\\0\\end{matrix}\\right]$"
      ],
      "text/plain": [
       "⎡4/3⎤\n",
       "⎢   ⎥\n",
       "⎢1/3⎥\n",
       "⎢   ⎥\n",
       "⎢1/3⎥\n",
       "⎢   ⎥\n",
       "⎣ 0 ⎦"
      ]
     },
     "execution_count": 7,
     "metadata": {},
     "output_type": "execute_result"
    }
   ],
   "source": [
    "p = (x.dot(y)/y.dot(y)) * y\n",
    "p"
   ]
  },
  {
   "cell_type": "markdown",
   "id": "a7aed8db-c537-4b6d-84a6-47f93f3a4266",
   "metadata": {},
   "source": [
    "We also confirm that $\\textbf{x - p}$ and $\\textbf{p}$ are orthogonal."
   ]
  },
  {
   "cell_type": "code",
   "execution_count": 8,
   "id": "8306de47-7fb5-4072-9409-a5ca979ce9fb",
   "metadata": {},
   "outputs": [
    {
     "data": {
      "text/latex": [
       "$\\displaystyle 0$"
      ],
      "text/plain": [
       "0"
      ]
     },
     "execution_count": 8,
     "metadata": {},
     "output_type": "execute_result"
    }
   ],
   "source": [
    "(x-p).dot(p)"
   ]
  },
  {
   "cell_type": "markdown",
   "id": "c3163917-6f6e-4b84-9731-fbc4b1bdfbbb",
   "metadata": {},
   "source": [
    "### Example 3"
   ]
  },
  {
   "cell_type": "code",
   "execution_count": 9,
   "id": "572d9490-8ee2-487e-8485-20c3e9c6d126",
   "metadata": {},
   "outputs": [
    {
     "data": {
      "text/latex": [
       "$\\displaystyle \\left[\\begin{matrix}1 & 2 & 2\\\\1 & 0 & 2\\\\3 & 1 & 1\\end{matrix}\\right]$"
      ],
      "text/plain": [
       "⎡1  2  2⎤\n",
       "⎢       ⎥\n",
       "⎢1  0  2⎥\n",
       "⎢       ⎥\n",
       "⎣3  1  1⎦"
      ]
     },
     "execution_count": 9,
     "metadata": {},
     "output_type": "execute_result"
    }
   ],
   "source": [
    "A = Matrix([\n",
    "    [1, 2, 2],\n",
    "    [1, 0, 2],\n",
    "    [3, 1, 1],\n",
    "])\n",
    "A"
   ]
  },
  {
   "cell_type": "code",
   "execution_count": 10,
   "id": "af30f097-df28-4e30-8a07-90b812da371f",
   "metadata": {},
   "outputs": [
    {
     "data": {
      "text/latex": [
       "$\\displaystyle \\left[\\begin{matrix}-4 & 1 & 1\\\\-3 & 3 & 2\\\\1 & -2 & -2\\end{matrix}\\right]$"
      ],
      "text/plain": [
       "⎡-4  1   1 ⎤\n",
       "⎢          ⎥\n",
       "⎢-3  3   2 ⎥\n",
       "⎢          ⎥\n",
       "⎣1   -2  -2⎦"
      ]
     },
     "execution_count": 10,
     "metadata": {},
     "output_type": "execute_result"
    }
   ],
   "source": [
    "B = Matrix([\n",
    "    [-4, 1, 1],\n",
    "    [-3, 3, 2],\n",
    "    [1, -2, -2]\n",
    "])\n",
    "B"
   ]
  },
  {
   "cell_type": "markdown",
   "id": "65130f11-9241-41da-ad89-5296e4429c1f",
   "metadata": {},
   "source": [
    "The Frobenius inner product of $A$ and $B$ is defined by \n",
    "\n",
    "$\\langle A, B \\rangle = \\sum_{i=1}^{3}\\sum_{j=1}^{3} a_{ij} b_{ij} $"
   ]
  },
  {
   "cell_type": "code",
   "execution_count": 31,
   "id": "f4229d49-08c8-4955-98e5-e846573ecba7",
   "metadata": {},
   "outputs": [
    {
     "data": {
      "text/latex": [
       "$\\displaystyle 0$"
      ],
      "text/plain": [
       "0"
      ]
     },
     "execution_count": 31,
     "metadata": {},
     "output_type": "execute_result"
    }
   ],
   "source": [
    "sum(A.multiply_elementwise(B))"
   ]
  },
  {
   "cell_type": "markdown",
   "id": "db5c0c88-3a0a-41bd-98fd-92d2874c5baf",
   "metadata": {},
   "source": [
    "The Frobenius norm is defined by $\\norm{.}{F}$"
   ]
  },
  {
   "cell_type": "code",
   "execution_count": 33,
   "id": "7e674a85-b91e-431b-a3f4-d86762b3790c",
   "metadata": {},
   "outputs": [
    {
     "data": {
      "text/latex": [
       "$\\displaystyle \\left( 5, \\  7, \\  \\sqrt{74}\\right)$"
      ],
      "text/plain": [
       "(5, 7, √74)"
      ]
     },
     "execution_count": 33,
     "metadata": {},
     "output_type": "execute_result"
    }
   ],
   "source": [
    "A.norm(), B.norm(), (A+B).norm()"
   ]
  },
  {
   "cell_type": "markdown",
   "id": "a660f0bb-f8ac-4df0-8e2b-f26e0cfd4318",
   "metadata": {},
   "source": [
    "### Example 4"
   ]
  },
  {
   "cell_type": "markdown",
   "id": "f0a2f3c1-ebea-40f5-aa01-203da0850885",
   "metadata": {},
   "source": [
    "Examples of $\\norm{x}{.}$, $\\norm{x}{2}$ and $\\norm{x}{\\infty}$"
   ]
  },
  {
   "cell_type": "code",
   "execution_count": 37,
   "id": "5fd38859-e241-4dc2-a0ee-f86809ff1248",
   "metadata": {},
   "outputs": [
    {
     "data": {
      "text/latex": [
       "$\\displaystyle \\left( 7, \\  5, \\  4\\right)$"
      ],
      "text/plain": [
       "(7, 5, 4)"
      ]
     },
     "execution_count": 37,
     "metadata": {},
     "output_type": "execute_result"
    }
   ],
   "source": [
    "x = Matrix([-3, 4, 0])\n",
    "x.norm(1), x.norm(2), x.norm(oo)"
   ]
  },
  {
   "cell_type": "code",
   "execution_count": 39,
   "id": "70d024a8-331b-4a65-bbd4-561def450cfe",
   "metadata": {},
   "outputs": [
    {
     "data": {
      "text/latex": [
       "$\\displaystyle \\left( 4, \\  \\sqrt{6}, \\  2\\right)$"
      ],
      "text/plain": [
       "(4, √6, 2)"
      ]
     },
     "execution_count": 39,
     "metadata": {},
     "output_type": "execute_result"
    }
   ],
   "source": [
    "x = Matrix([-1, -1, 2])\n",
    "x.norm(1), x.norm(2), x.norm(oo)"
   ]
  },
  {
   "cell_type": "code",
   "execution_count": 40,
   "id": "03ac004c-7133-4a38-ab54-bd5ad91f7235",
   "metadata": {},
   "outputs": [
    {
     "data": {
      "text/latex": [
       "$\\displaystyle \\left( 3, \\  \\sqrt{3}, \\  1\\right)$"
      ],
      "text/plain": [
       "(3, √3, 1)"
      ]
     },
     "execution_count": 40,
     "metadata": {},
     "output_type": "execute_result"
    }
   ],
   "source": [
    "x = Matrix([1, 1, 1])\n",
    "x.norm(1), x.norm(2), x.norm(oo)"
   ]
  },
  {
   "cell_type": "markdown",
   "id": "dbf2973e-7c27-4db7-aa83-978d42313147",
   "metadata": {},
   "source": [
    "### Example 5"
   ]
  },
  {
   "cell_type": "code",
   "execution_count": 42,
   "id": "59301c63-97c3-4acb-8c2a-9ddf5fb0aa04",
   "metadata": {},
   "outputs": [
    {
     "data": {
      "text/latex": [
       "$\\displaystyle \\left( \\left[\\begin{matrix}5\\\\2\\\\4\\end{matrix}\\right], \\  \\left[\\begin{matrix}3\\\\3\\\\2\\end{matrix}\\right]\\right)$"
      ],
      "text/plain": [
       "⎛⎡5⎤  ⎡3⎤⎞\n",
       "⎜⎢ ⎥  ⎢ ⎥⎟\n",
       "⎜⎢2⎥, ⎢3⎥⎟\n",
       "⎜⎢ ⎥  ⎢ ⎥⎟\n",
       "⎝⎣4⎦  ⎣2⎦⎠"
      ]
     },
     "execution_count": 42,
     "metadata": {},
     "output_type": "execute_result"
    }
   ],
   "source": [
    "x = Matrix([5, 2, 4])\n",
    "y = Matrix([3, 3, 2])\n",
    "x, y"
   ]
  },
  {
   "cell_type": "code",
   "execution_count": 43,
   "id": "6c208f5a-b987-47c6-b44a-df49f73fcecf",
   "metadata": {},
   "outputs": [
    {
     "data": {
      "text/latex": [
       "$\\displaystyle \\left( 5, \\  3, \\  2\\right)$"
      ],
      "text/plain": [
       "(5, 3, 2)"
      ]
     },
     "execution_count": 43,
     "metadata": {},
     "output_type": "execute_result"
    }
   ],
   "source": [
    "(x-y).norm(1), (x-y).norm(2), (x-y).norm(oo)"
   ]
  },
  {
   "cell_type": "code",
   "execution_count": null,
   "id": "447ae2bc-3725-4d95-8646-5394274ed538",
   "metadata": {},
   "outputs": [],
   "source": []
  }
 ],
 "metadata": {
  "kernelspec": {
   "display_name": "Python 3 (ipykernel)",
   "language": "python",
   "name": "python3"
  },
  "language_info": {
   "codemirror_mode": {
    "name": "ipython",
    "version": 3
   },
   "file_extension": ".py",
   "mimetype": "text/x-python",
   "name": "python",
   "nbconvert_exporter": "python",
   "pygments_lexer": "ipython3",
   "version": "3.13.3"
  }
 },
 "nbformat": 4,
 "nbformat_minor": 5
}
