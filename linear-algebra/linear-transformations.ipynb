{
 "cells": [
  {
   "cell_type": "code",
   "execution_count": 1,
   "id": "075087cf-1c2e-452c-bdd6-ae8400870b17",
   "metadata": {},
   "outputs": [],
   "source": [
    "from sympy import *\n",
    "init_printing(use_unicode=True)"
   ]
  },
  {
   "cell_type": "code",
   "execution_count": 4,
   "id": "99ced666-7821-4084-a31e-0f644762ebff",
   "metadata": {},
   "outputs": [
    {
     "data": {
      "text/latex": [
       "$\\displaystyle \\left( u_{1}, \\  u_{2}\\right)$"
      ],
      "text/plain": [
       "(u₁, u₂)"
      ]
     },
     "execution_count": 4,
     "metadata": {},
     "output_type": "execute_result"
    }
   ],
   "source": [
    "u1, u2 = symbols('u1:3')\n",
    "u1, u2"
   ]
  },
  {
   "cell_type": "code",
   "execution_count": 5,
   "id": "8b04bf61-815d-403b-86c7-178bf0e3dc5e",
   "metadata": {},
   "outputs": [
    {
     "data": {
      "text/latex": [
       "$\\displaystyle \\left( b_{1}, \\  b_{2}, \\  b_{3}\\right)$"
      ],
      "text/plain": [
       "(b₁, b₂, b₃)"
      ]
     },
     "execution_count": 5,
     "metadata": {},
     "output_type": "execute_result"
    }
   ],
   "source": [
    "b1, b2, b3 = symbols('b1:4')\n",
    "b1, b2, b3"
   ]
  },
  {
   "cell_type": "code",
   "execution_count": 6,
   "id": "ee4e72d3-0b89-49ae-af49-83f4f84f9e63",
   "metadata": {},
   "outputs": [
    {
     "data": {
      "text/latex": [
       "$\\displaystyle \\left( \\left[\\begin{matrix}1\\\\2\\end{matrix}\\right], \\  \\left[\\begin{matrix}3\\\\1\\end{matrix}\\right]\\right)$"
      ],
      "text/plain": [
       "⎛⎡1⎤  ⎡3⎤⎞\n",
       "⎜⎢ ⎥, ⎢ ⎥⎟\n",
       "⎝⎣2⎦  ⎣1⎦⎠"
      ]
     },
     "execution_count": 6,
     "metadata": {},
     "output_type": "execute_result"
    }
   ],
   "source": [
    "u1, u2 = Matrix([1, 2]), Matrix([3, 1])\n",
    "u1, u2"
   ]
  },
  {
   "cell_type": "code",
   "execution_count": 7,
   "id": "4cc0f797-9c37-4254-9983-37872d62eeff",
   "metadata": {},
   "outputs": [
    {
     "data": {
      "text/latex": [
       "$\\displaystyle \\left( \\left[\\begin{matrix}1\\\\0\\\\0\\end{matrix}\\right], \\  \\left[\\begin{matrix}1\\\\1\\\\0\\end{matrix}\\right], \\  \\left[\\begin{matrix}1\\\\1\\\\1\\end{matrix}\\right]\\right)$"
      ],
      "text/plain": [
       "⎛⎡1⎤  ⎡1⎤  ⎡1⎤⎞\n",
       "⎜⎢ ⎥  ⎢ ⎥  ⎢ ⎥⎟\n",
       "⎜⎢0⎥, ⎢1⎥, ⎢1⎥⎟\n",
       "⎜⎢ ⎥  ⎢ ⎥  ⎢ ⎥⎟\n",
       "⎝⎣0⎦  ⎣0⎦  ⎣1⎦⎠"
      ]
     },
     "execution_count": 7,
     "metadata": {},
     "output_type": "execute_result"
    }
   ],
   "source": [
    "b1, b2, b3 = Matrix([1, 0, 0]), Matrix([1, 1, 0]), Matrix([1, 1, 1])\n",
    "b1, b2, b3"
   ]
  },
  {
   "cell_type": "code",
   "execution_count": 14,
   "id": "2b655ea9-bee2-473c-a435-22bcb12fd0cf",
   "metadata": {},
   "outputs": [],
   "source": [
    "L = lambda x: Matrix([x[1], x[0] + x[1], x[0] - x[1]])"
   ]
  },
  {
   "cell_type": "code",
   "execution_count": 24,
   "id": "d7d19547-7e3b-461a-afd7-60505e79554c",
   "metadata": {},
   "outputs": [
    {
     "data": {
      "text/latex": [
       "$\\displaystyle \\left( \\left[\\begin{matrix}2\\\\3\\\\-1\\end{matrix}\\right], \\  \\left[\\begin{matrix}1\\\\4\\\\2\\end{matrix}\\right]\\right)$"
      ],
      "text/plain": [
       "⎛⎡2 ⎤  ⎡1⎤⎞\n",
       "⎜⎢  ⎥  ⎢ ⎥⎟\n",
       "⎜⎢3 ⎥, ⎢4⎥⎟\n",
       "⎜⎢  ⎥  ⎢ ⎥⎟\n",
       "⎝⎣-1⎦  ⎣2⎦⎠"
      ]
     },
     "execution_count": 24,
     "metadata": {},
     "output_type": "execute_result"
    }
   ],
   "source": [
    "L(u1), L(u2)"
   ]
  },
  {
   "cell_type": "code",
   "execution_count": 27,
   "id": "dd2bbbe9-779e-40e1-b388-c8931b4b985d",
   "metadata": {},
   "outputs": [
    {
     "data": {
      "text/latex": [
       "$\\displaystyle \\left[\\begin{matrix}2 & 1\\\\3 & 4\\\\-1 & 2\\end{matrix}\\right]$"
      ],
      "text/plain": [
       "⎡2   1⎤\n",
       "⎢     ⎥\n",
       "⎢3   4⎥\n",
       "⎢     ⎥\n",
       "⎣-1  2⎦"
      ]
     },
     "execution_count": 27,
     "metadata": {},
     "output_type": "execute_result"
    }
   ],
   "source": [
    "Lu = Matrix.hstack(L(u1), L(u2))\n",
    "Lu"
   ]
  },
  {
   "cell_type": "code",
   "execution_count": 28,
   "id": "7a4089c0-ef68-4e78-a1a3-1d38537692a6",
   "metadata": {},
   "outputs": [
    {
     "data": {
      "text/latex": [
       "$\\displaystyle \\left[\\begin{matrix}1 & 1 & 1\\\\0 & 1 & 1\\\\0 & 0 & 1\\end{matrix}\\right]$"
      ],
      "text/plain": [
       "⎡1  1  1⎤\n",
       "⎢       ⎥\n",
       "⎢0  1  1⎥\n",
       "⎢       ⎥\n",
       "⎣0  0  1⎦"
      ]
     },
     "execution_count": 28,
     "metadata": {},
     "output_type": "execute_result"
    }
   ],
   "source": [
    "B = Matrix.hstack(b1, b2, b3)\n",
    "B"
   ]
  },
  {
   "cell_type": "code",
   "execution_count": 30,
   "id": "11fde3b5-2189-42a5-86b0-4aa59e503bc8",
   "metadata": {},
   "outputs": [
    {
     "data": {
      "text/latex": [
       "$\\displaystyle \\left[\\begin{matrix}1 & 1 & 1 & 2 & 1\\\\0 & 1 & 1 & 3 & 4\\\\0 & 0 & 1 & -1 & 2\\end{matrix}\\right]$"
      ],
      "text/plain": [
       "⎡1  1  1  2   1⎤\n",
       "⎢              ⎥\n",
       "⎢0  1  1  3   4⎥\n",
       "⎢              ⎥\n",
       "⎣0  0  1  -1  2⎦"
      ]
     },
     "execution_count": 30,
     "metadata": {},
     "output_type": "execute_result"
    }
   ],
   "source": [
    "BLu = Matrix.hstack(B, Lu)\n",
    "BLu"
   ]
  },
  {
   "cell_type": "code",
   "execution_count": 31,
   "id": "3f2c772d-07c4-46c1-8b5d-aeb90d02e01d",
   "metadata": {},
   "outputs": [
    {
     "data": {
      "text/latex": [
       "$\\displaystyle \\left( \\left[\\begin{matrix}1 & 0 & 0 & -1 & -3\\\\0 & 1 & 0 & 4 & 2\\\\0 & 0 & 1 & -1 & 2\\end{matrix}\\right], \\  \\left( 0, \\  1, \\  2\\right)\\right)$"
      ],
      "text/plain": [
       "⎛⎡1  0  0  -1  -3⎤           ⎞\n",
       "⎜⎢               ⎥           ⎟\n",
       "⎜⎢0  1  0  4   2 ⎥, (0, 1, 2)⎟\n",
       "⎜⎢               ⎥           ⎟\n",
       "⎝⎣0  0  1  -1  2 ⎦           ⎠"
      ]
     },
     "execution_count": 31,
     "metadata": {},
     "output_type": "execute_result"
    }
   ],
   "source": [
    "BLu.rref()"
   ]
  },
  {
   "cell_type": "code",
   "execution_count": null,
   "id": "decf8af7-6d38-4d5b-b834-cfcc81d54b1d",
   "metadata": {},
   "outputs": [],
   "source": []
  }
 ],
 "metadata": {
  "kernelspec": {
   "display_name": "Python 3 (ipykernel)",
   "language": "python",
   "name": "python3"
  },
  "language_info": {
   "codemirror_mode": {
    "name": "ipython",
    "version": 3
   },
   "file_extension": ".py",
   "mimetype": "text/x-python",
   "name": "python",
   "nbconvert_exporter": "python",
   "pygments_lexer": "ipython3",
   "version": "3.13.3"
  }
 },
 "nbformat": 4,
 "nbformat_minor": 5
}
