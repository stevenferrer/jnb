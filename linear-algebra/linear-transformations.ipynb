{
 "cells": [
  {
   "cell_type": "code",
   "execution_count": 1,
   "id": "075087cf-1c2e-452c-bdd6-ae8400870b17",
   "metadata": {},
   "outputs": [],
   "source": [
    "from sympy import *\n",
    "init_printing(use_unicode=True)"
   ]
  },
  {
   "cell_type": "code",
   "execution_count": 4,
   "id": "99ced666-7821-4084-a31e-0f644762ebff",
   "metadata": {},
   "outputs": [
    {
     "data": {
      "text/latex": [
       "$\\displaystyle \\left( u_{1}, \\  u_{2}\\right)$"
      ],
      "text/plain": [
       "(u₁, u₂)"
      ]
     },
     "execution_count": 4,
     "metadata": {},
     "output_type": "execute_result"
    }
   ],
   "source": [
    "u1, u2 = symbols('u1:3')\n",
    "u1, u2"
   ]
  },
  {
   "cell_type": "code",
   "execution_count": 5,
   "id": "8b04bf61-815d-403b-86c7-178bf0e3dc5e",
   "metadata": {},
   "outputs": [
    {
     "data": {
      "text/latex": [
       "$\\displaystyle \\left( b_{1}, \\  b_{2}, \\  b_{3}\\right)$"
      ],
      "text/plain": [
       "(b₁, b₂, b₃)"
      ]
     },
     "execution_count": 5,
     "metadata": {},
     "output_type": "execute_result"
    }
   ],
   "source": [
    "b1, b2, b3 = symbols('b1:4')\n",
    "b1, b2, b3"
   ]
  },
  {
   "cell_type": "code",
   "execution_count": 6,
   "id": "ee4e72d3-0b89-49ae-af49-83f4f84f9e63",
   "metadata": {},
   "outputs": [
    {
     "data": {
      "text/latex": [
       "$\\displaystyle \\left( \\left[\\begin{matrix}1\\\\2\\end{matrix}\\right], \\  \\left[\\begin{matrix}3\\\\1\\end{matrix}\\right]\\right)$"
      ],
      "text/plain": [
       "⎛⎡1⎤  ⎡3⎤⎞\n",
       "⎜⎢ ⎥, ⎢ ⎥⎟\n",
       "⎝⎣2⎦  ⎣1⎦⎠"
      ]
     },
     "execution_count": 6,
     "metadata": {},
     "output_type": "execute_result"
    }
   ],
   "source": [
    "u1, u2 = Matrix([1, 2]), Matrix([3, 1])\n",
    "u1, u2"
   ]
  },
  {
   "cell_type": "code",
   "execution_count": 7,
   "id": "4cc0f797-9c37-4254-9983-37872d62eeff",
   "metadata": {},
   "outputs": [
    {
     "data": {
      "text/latex": [
       "$\\displaystyle \\left( \\left[\\begin{matrix}1\\\\0\\\\0\\end{matrix}\\right], \\  \\left[\\begin{matrix}1\\\\1\\\\0\\end{matrix}\\right], \\  \\left[\\begin{matrix}1\\\\1\\\\1\\end{matrix}\\right]\\right)$"
      ],
      "text/plain": [
       "⎛⎡1⎤  ⎡1⎤  ⎡1⎤⎞\n",
       "⎜⎢ ⎥  ⎢ ⎥  ⎢ ⎥⎟\n",
       "⎜⎢0⎥, ⎢1⎥, ⎢1⎥⎟\n",
       "⎜⎢ ⎥  ⎢ ⎥  ⎢ ⎥⎟\n",
       "⎝⎣0⎦  ⎣0⎦  ⎣1⎦⎠"
      ]
     },
     "execution_count": 7,
     "metadata": {},
     "output_type": "execute_result"
    }
   ],
   "source": [
    "b1, b2, b3 = Matrix([1, 0, 0]), Matrix([1, 1, 0]), Matrix([1, 1, 1])\n",
    "b1, b2, b3"
   ]
  },
  {
   "cell_type": "code",
   "execution_count": 14,
   "id": "2b655ea9-bee2-473c-a435-22bcb12fd0cf",
   "metadata": {},
   "outputs": [],
   "source": [
    "L = lambda x: Matrix([x[1], x[0] + x[1], x[0] - x[1]])"
   ]
  },
  {
   "cell_type": "code",
   "execution_count": 24,
   "id": "d7d19547-7e3b-461a-afd7-60505e79554c",
   "metadata": {},
   "outputs": [
    {
     "data": {
      "text/latex": [
       "$\\displaystyle \\left( \\left[\\begin{matrix}2\\\\3\\\\-1\\end{matrix}\\right], \\  \\left[\\begin{matrix}1\\\\4\\\\2\\end{matrix}\\right]\\right)$"
      ],
      "text/plain": [
       "⎛⎡2 ⎤  ⎡1⎤⎞\n",
       "⎜⎢  ⎥  ⎢ ⎥⎟\n",
       "⎜⎢3 ⎥, ⎢4⎥⎟\n",
       "⎜⎢  ⎥  ⎢ ⎥⎟\n",
       "⎝⎣-1⎦  ⎣2⎦⎠"
      ]
     },
     "execution_count": 24,
     "metadata": {},
     "output_type": "execute_result"
    }
   ],
   "source": [
    "L(u1), L(u2)"
   ]
  },
  {
   "cell_type": "code",
   "execution_count": 27,
   "id": "dd2bbbe9-779e-40e1-b388-c8931b4b985d",
   "metadata": {},
   "outputs": [
    {
     "data": {
      "text/latex": [
       "$\\displaystyle \\left[\\begin{matrix}2 & 1\\\\3 & 4\\\\-1 & 2\\end{matrix}\\right]$"
      ],
      "text/plain": [
       "⎡2   1⎤\n",
       "⎢     ⎥\n",
       "⎢3   4⎥\n",
       "⎢     ⎥\n",
       "⎣-1  2⎦"
      ]
     },
     "execution_count": 27,
     "metadata": {},
     "output_type": "execute_result"
    }
   ],
   "source": [
    "Lu = Matrix.hstack(L(u1), L(u2))\n",
    "Lu"
   ]
  },
  {
   "cell_type": "code",
   "execution_count": 28,
   "id": "7a4089c0-ef68-4e78-a1a3-1d38537692a6",
   "metadata": {},
   "outputs": [
    {
     "data": {
      "text/latex": [
       "$\\displaystyle \\left[\\begin{matrix}1 & 1 & 1\\\\0 & 1 & 1\\\\0 & 0 & 1\\end{matrix}\\right]$"
      ],
      "text/plain": [
       "⎡1  1  1⎤\n",
       "⎢       ⎥\n",
       "⎢0  1  1⎥\n",
       "⎢       ⎥\n",
       "⎣0  0  1⎦"
      ]
     },
     "execution_count": 28,
     "metadata": {},
     "output_type": "execute_result"
    }
   ],
   "source": [
    "B = Matrix.hstack(b1, b2, b3)\n",
    "B"
   ]
  },
  {
   "cell_type": "code",
   "execution_count": 30,
   "id": "11fde3b5-2189-42a5-86b0-4aa59e503bc8",
   "metadata": {},
   "outputs": [
    {
     "data": {
      "text/latex": [
       "$\\displaystyle \\left[\\begin{matrix}1 & 1 & 1 & 2 & 1\\\\0 & 1 & 1 & 3 & 4\\\\0 & 0 & 1 & -1 & 2\\end{matrix}\\right]$"
      ],
      "text/plain": [
       "⎡1  1  1  2   1⎤\n",
       "⎢              ⎥\n",
       "⎢0  1  1  3   4⎥\n",
       "⎢              ⎥\n",
       "⎣0  0  1  -1  2⎦"
      ]
     },
     "execution_count": 30,
     "metadata": {},
     "output_type": "execute_result"
    }
   ],
   "source": [
    "BLu = Matrix.hstack(B, Lu)\n",
    "BLu"
   ]
  },
  {
   "cell_type": "code",
   "execution_count": 31,
   "id": "3f2c772d-07c4-46c1-8b5d-aeb90d02e01d",
   "metadata": {},
   "outputs": [
    {
     "data": {
      "text/latex": [
       "$\\displaystyle \\left( \\left[\\begin{matrix}1 & 0 & 0 & -1 & -3\\\\0 & 1 & 0 & 4 & 2\\\\0 & 0 & 1 & -1 & 2\\end{matrix}\\right], \\  \\left( 0, \\  1, \\  2\\right)\\right)$"
      ],
      "text/plain": [
       "⎛⎡1  0  0  -1  -3⎤           ⎞\n",
       "⎜⎢               ⎥           ⎟\n",
       "⎜⎢0  1  0  4   2 ⎥, (0, 1, 2)⎟\n",
       "⎜⎢               ⎥           ⎟\n",
       "⎝⎣0  0  1  -1  2 ⎦           ⎠"
      ]
     },
     "execution_count": 31,
     "metadata": {},
     "output_type": "execute_result"
    }
   ],
   "source": [
    "BLu.rref()"
   ]
  },
  {
   "cell_type": "markdown",
   "id": "1a955804-7f17-4c4c-84d3-9e4eef3fdf21",
   "metadata": {},
   "source": [
    "### Similarity"
   ]
  },
  {
   "cell_type": "code",
   "execution_count": 2,
   "id": "67406682-238b-4407-8ae3-81749e6bc7c7",
   "metadata": {},
   "outputs": [
    {
     "data": {
      "text/latex": [
       "$\\displaystyle \\left[\\begin{matrix}2 & 2 & 0\\\\1 & 1 & 2\\\\1 & 1 & 2\\end{matrix}\\right]$"
      ],
      "text/plain": [
       "⎡2  2  0⎤\n",
       "⎢       ⎥\n",
       "⎢1  1  2⎥\n",
       "⎢       ⎥\n",
       "⎣1  1  2⎦"
      ]
     },
     "execution_count": 2,
     "metadata": {},
     "output_type": "execute_result"
    }
   ],
   "source": [
    "A = Matrix([\n",
    "    [2, 2, 0],\n",
    "    [1, 1, 2],\n",
    "    [1, 1, 2]\n",
    "])\n",
    "A"
   ]
  },
  {
   "cell_type": "code",
   "execution_count": 3,
   "id": "8026eda0-e16a-4b6d-a795-360420f92712",
   "metadata": {},
   "outputs": [
    {
     "data": {
      "text/latex": [
       "$\\displaystyle \\left( \\left[\\begin{matrix}1\\\\-1\\\\0\\end{matrix}\\right], \\  \\left[\\begin{matrix}-2\\\\1\\\\1\\end{matrix}\\right], \\  \\left[\\begin{matrix}1\\\\1\\\\1\\end{matrix}\\right]\\right)$"
      ],
      "text/plain": [
       "⎛⎡1 ⎤  ⎡-2⎤  ⎡1⎤⎞\n",
       "⎜⎢  ⎥  ⎢  ⎥  ⎢ ⎥⎟\n",
       "⎜⎢-1⎥, ⎢1 ⎥, ⎢1⎥⎟\n",
       "⎜⎢  ⎥  ⎢  ⎥  ⎢ ⎥⎟\n",
       "⎝⎣0 ⎦  ⎣1 ⎦  ⎣1⎦⎠"
      ]
     },
     "execution_count": 3,
     "metadata": {},
     "output_type": "execute_result"
    }
   ],
   "source": [
    "y1, y2, y3 = Matrix([1, -1, 0]), Matrix([-2, 1, 1]), Matrix([1, 1, 1])\n",
    "y1, y2, y3"
   ]
  },
  {
   "cell_type": "code",
   "execution_count": 4,
   "id": "55c3e5e1-a220-46b8-ba80-2f54b3c0c08f",
   "metadata": {},
   "outputs": [],
   "source": [
    "L = lambda x: A*x"
   ]
  },
  {
   "cell_type": "code",
   "execution_count": 6,
   "id": "1c41fe22-55e3-4725-bb4b-577c4621f6bc",
   "metadata": {},
   "outputs": [
    {
     "data": {
      "text/latex": [
       "$\\displaystyle \\left( \\left[\\begin{matrix}0\\\\0\\\\0\\end{matrix}\\right], \\  \\left[\\begin{matrix}-2\\\\1\\\\1\\end{matrix}\\right], \\  \\left[\\begin{matrix}4\\\\4\\\\4\\end{matrix}\\right]\\right)$"
      ],
      "text/plain": [
       "⎛⎡0⎤  ⎡-2⎤  ⎡4⎤⎞\n",
       "⎜⎢ ⎥  ⎢  ⎥  ⎢ ⎥⎟\n",
       "⎜⎢0⎥, ⎢1 ⎥, ⎢4⎥⎟\n",
       "⎜⎢ ⎥  ⎢  ⎥  ⎢ ⎥⎟\n",
       "⎝⎣0⎦  ⎣1 ⎦  ⎣4⎦⎠"
      ]
     },
     "execution_count": 6,
     "metadata": {},
     "output_type": "execute_result"
    }
   ],
   "source": [
    "L(y1), L(y2), L(y3)"
   ]
  },
  {
   "cell_type": "code",
   "execution_count": 7,
   "id": "b489451c-0dce-4f1d-8c1b-b91a91d50424",
   "metadata": {},
   "outputs": [
    {
     "data": {
      "text/latex": [
       "$\\displaystyle \\left[\\begin{matrix}1 & -2 & 1\\\\-1 & 1 & 1\\\\0 & 1 & 1\\end{matrix}\\right]$"
      ],
      "text/plain": [
       "⎡1   -2  1⎤\n",
       "⎢         ⎥\n",
       "⎢-1  1   1⎥\n",
       "⎢         ⎥\n",
       "⎣0   1   1⎦"
      ]
     },
     "execution_count": 7,
     "metadata": {},
     "output_type": "execute_result"
    }
   ],
   "source": [
    "Y = Matrix.hstack(y1, y2, y3)\n",
    "Y"
   ]
  },
  {
   "cell_type": "code",
   "execution_count": 9,
   "id": "11938dce-5ff4-45bb-a4bc-6ab38f9dc136",
   "metadata": {},
   "outputs": [
    {
     "data": {
      "text/latex": [
       "$\\displaystyle \\left[\\begin{matrix}0\\\\0\\\\0\\end{matrix}\\right]$"
      ],
      "text/plain": [
       "⎡0⎤\n",
       "⎢ ⎥\n",
       "⎢0⎥\n",
       "⎢ ⎥\n",
       "⎣0⎦"
      ]
     },
     "execution_count": 9,
     "metadata": {},
     "output_type": "execute_result"
    }
   ],
   "source": [
    "b1 = Y.inv() * L(y1)\n",
    "b1"
   ]
  },
  {
   "cell_type": "code",
   "execution_count": 12,
   "id": "c8f888a5-413f-4aee-ba4f-076db648bd54",
   "metadata": {},
   "outputs": [
    {
     "data": {
      "text/latex": [
       "$\\displaystyle \\left[\\begin{matrix}0\\\\1\\\\0\\end{matrix}\\right]$"
      ],
      "text/plain": [
       "⎡0⎤\n",
       "⎢ ⎥\n",
       "⎢1⎥\n",
       "⎢ ⎥\n",
       "⎣0⎦"
      ]
     },
     "execution_count": 12,
     "metadata": {},
     "output_type": "execute_result"
    }
   ],
   "source": [
    "b2 = Y.inv() * L(y2)\n",
    "b2"
   ]
  },
  {
   "cell_type": "code",
   "execution_count": 14,
   "id": "4be19d81-ed29-413e-92f6-39111a644e96",
   "metadata": {},
   "outputs": [
    {
     "data": {
      "text/latex": [
       "$\\displaystyle \\left[\\begin{matrix}0\\\\0\\\\4\\end{matrix}\\right]$"
      ],
      "text/plain": [
       "⎡0⎤\n",
       "⎢ ⎥\n",
       "⎢0⎥\n",
       "⎢ ⎥\n",
       "⎣4⎦"
      ]
     },
     "execution_count": 14,
     "metadata": {},
     "output_type": "execute_result"
    }
   ],
   "source": [
    "b3 = Y.inv() * L(y3)\n",
    "b3"
   ]
  },
  {
   "cell_type": "code",
   "execution_count": 15,
   "id": "bef299a5-97be-46c3-aa7c-02d3bfdc024b",
   "metadata": {},
   "outputs": [
    {
     "data": {
      "text/latex": [
       "$\\displaystyle \\left[\\begin{matrix}0 & 0 & 0\\\\0 & 1 & 0\\\\0 & 0 & 4\\end{matrix}\\right]$"
      ],
      "text/plain": [
       "⎡0  0  0⎤\n",
       "⎢       ⎥\n",
       "⎢0  1  0⎥\n",
       "⎢       ⎥\n",
       "⎣0  0  4⎦"
      ]
     },
     "execution_count": 15,
     "metadata": {},
     "output_type": "execute_result"
    }
   ],
   "source": [
    "B = Matrix.hstack(b1, b2, b3)\n",
    "B"
   ]
  },
  {
   "cell_type": "code",
   "execution_count": 16,
   "id": "5bf1c861-4d38-4c97-ad37-34e7ca16b444",
   "metadata": {},
   "outputs": [
    {
     "data": {
      "text/latex": [
       "$\\displaystyle \\left[\\begin{matrix}0 & 0 & 0\\\\0 & 1 & 0\\\\0 & 0 & 4\\end{matrix}\\right]$"
      ],
      "text/plain": [
       "⎡0  0  0⎤\n",
       "⎢       ⎥\n",
       "⎢0  1  0⎥\n",
       "⎢       ⎥\n",
       "⎣0  0  4⎦"
      ]
     },
     "execution_count": 16,
     "metadata": {},
     "output_type": "execute_result"
    }
   ],
   "source": [
    "## B could also be computed by Y'AY\n",
    "Y.inv() * A * Y"
   ]
  },
  {
   "cell_type": "markdown",
   "id": "5aa4525f-1590-42d2-956b-a697868e3897",
   "metadata": {},
   "source": [
    "### Exercises"
   ]
  },
  {
   "cell_type": "markdown",
   "id": "d567ac97-05d7-4ae9-b44f-238a60e362e4",
   "metadata": {},
   "source": [
    "#### #1"
   ]
  },
  {
   "cell_type": "code",
   "execution_count": 18,
   "id": "c70ae8ec-820f-4b8e-bd56-7df600e3dc66",
   "metadata": {},
   "outputs": [],
   "source": [
    "L = lambda x: Matrix([-x[0], x[1]])"
   ]
  },
  {
   "cell_type": "code",
   "execution_count": 19,
   "id": "fadcedd4-6322-437f-b650-d37754c9b5df",
   "metadata": {},
   "outputs": [
    {
     "data": {
      "text/latex": [
       "$\\displaystyle \\left( \\left[\\begin{matrix}1\\\\0\\end{matrix}\\right], \\  \\left[\\begin{matrix}0\\\\1\\end{matrix}\\right]\\right)$"
      ],
      "text/plain": [
       "⎛⎡1⎤  ⎡0⎤⎞\n",
       "⎜⎢ ⎥, ⎢ ⎥⎟\n",
       "⎝⎣0⎦  ⎣1⎦⎠"
      ]
     },
     "execution_count": 19,
     "metadata": {},
     "output_type": "execute_result"
    }
   ],
   "source": [
    "e1, e2 = Matrix([1, 0]), Matrix([0, 1])\n",
    "e1, e2"
   ]
  },
  {
   "cell_type": "code",
   "execution_count": 20,
   "id": "b3f1f82f-0d59-4103-b693-17fb0c642a56",
   "metadata": {},
   "outputs": [
    {
     "data": {
      "text/latex": [
       "$\\displaystyle \\left( \\left[\\begin{matrix}-1\\\\0\\end{matrix}\\right], \\  \\left[\\begin{matrix}0\\\\1\\end{matrix}\\right]\\right)$"
      ],
      "text/plain": [
       "⎛⎡-1⎤  ⎡0⎤⎞\n",
       "⎜⎢  ⎥, ⎢ ⎥⎟\n",
       "⎝⎣0 ⎦  ⎣1⎦⎠"
      ]
     },
     "execution_count": 20,
     "metadata": {},
     "output_type": "execute_result"
    }
   ],
   "source": [
    "L(e1), L(e2)"
   ]
  },
  {
   "cell_type": "code",
   "execution_count": 22,
   "id": "61041b97-623e-4c68-9267-98b2fc20720a",
   "metadata": {},
   "outputs": [
    {
     "data": {
      "text/latex": [
       "$\\displaystyle \\left[\\begin{matrix}-1 & 0\\\\0 & 1\\end{matrix}\\right]$"
      ],
      "text/plain": [
       "⎡-1  0⎤\n",
       "⎢     ⎥\n",
       "⎣0   1⎦"
      ]
     },
     "execution_count": 22,
     "metadata": {},
     "output_type": "execute_result"
    }
   ],
   "source": [
    "A = Matrix.hstack(L(e1), L(e2))\n",
    "A"
   ]
  },
  {
   "cell_type": "code",
   "execution_count": 23,
   "id": "56e3c826-e31f-486e-b236-acd896c572da",
   "metadata": {},
   "outputs": [
    {
     "data": {
      "text/latex": [
       "$\\displaystyle \\left( \\left[\\begin{matrix}1\\\\1\\end{matrix}\\right], \\  \\left[\\begin{matrix}-1\\\\1\\end{matrix}\\right]\\right)$"
      ],
      "text/plain": [
       "⎛⎡1⎤  ⎡-1⎤⎞\n",
       "⎜⎢ ⎥, ⎢  ⎥⎟\n",
       "⎝⎣1⎦  ⎣1 ⎦⎠"
      ]
     },
     "execution_count": 23,
     "metadata": {},
     "output_type": "execute_result"
    }
   ],
   "source": [
    "u1, u2 = Matrix([1, 1]), Matrix([-1, 1])\n",
    "u1, u2"
   ]
  },
  {
   "cell_type": "code",
   "execution_count": 24,
   "id": "f2366b77-d161-40fb-87e0-aa78dfa2dab1",
   "metadata": {},
   "outputs": [
    {
     "data": {
      "text/latex": [
       "$\\displaystyle \\left[\\begin{matrix}1 & -1\\\\1 & 1\\end{matrix}\\right]$"
      ],
      "text/plain": [
       "⎡1  -1⎤\n",
       "⎢     ⎥\n",
       "⎣1  1 ⎦"
      ]
     },
     "execution_count": 24,
     "metadata": {},
     "output_type": "execute_result"
    }
   ],
   "source": [
    "U = Matrix.hstack(u1, u2)\n",
    "U"
   ]
  },
  {
   "cell_type": "code",
   "execution_count": 25,
   "id": "3aa7b0d9-677b-48f2-b0b4-5edcf0b4cfaa",
   "metadata": {},
   "outputs": [
    {
     "data": {
      "text/latex": [
       "$\\displaystyle \\left[\\begin{matrix}-1 & 1\\\\1 & 1\\end{matrix}\\right]$"
      ],
      "text/plain": [
       "⎡-1  1⎤\n",
       "⎢     ⎥\n",
       "⎣1   1⎦"
      ]
     },
     "execution_count": 25,
     "metadata": {},
     "output_type": "execute_result"
    }
   ],
   "source": [
    "A * U"
   ]
  },
  {
   "cell_type": "code",
   "execution_count": 28,
   "id": "5db6d729-eb6c-4c0d-95cc-566d0c71814d",
   "metadata": {},
   "outputs": [
    {
     "data": {
      "text/latex": [
       "$\\displaystyle \\left[\\begin{matrix}0 & 1\\\\1 & 0\\end{matrix}\\right]$"
      ],
      "text/plain": [
       "⎡0  1⎤\n",
       "⎢    ⎥\n",
       "⎣1  0⎦"
      ]
     },
     "execution_count": 28,
     "metadata": {},
     "output_type": "execute_result"
    }
   ],
   "source": [
    "B = Matrix.hstack(U.inv() * L(u1), U.inv() * L(u2))\n",
    "B"
   ]
  },
  {
   "cell_type": "markdown",
   "id": "f4e1ebae-fab0-40df-adb3-d391b00a90bd",
   "metadata": {},
   "source": [
    "#### #2"
   ]
  },
  {
   "cell_type": "code",
   "execution_count": 29,
   "id": "886d34e4-f573-4b2b-a6f8-2db8b2949e40",
   "metadata": {},
   "outputs": [
    {
     "data": {
      "text/latex": [
       "$\\displaystyle \\left( \\left[\\begin{matrix}1\\\\1\\end{matrix}\\right], \\  \\left[\\begin{matrix}-1\\\\1\\end{matrix}\\right]\\right)$"
      ],
      "text/plain": [
       "⎛⎡1⎤  ⎡-1⎤⎞\n",
       "⎜⎢ ⎥, ⎢  ⎥⎟\n",
       "⎝⎣1⎦  ⎣1 ⎦⎠"
      ]
     },
     "execution_count": 29,
     "metadata": {},
     "output_type": "execute_result"
    }
   ],
   "source": [
    "u1, u2 = Matrix([1, 1]), Matrix([-1, 1])\n",
    "u1, u2"
   ]
  },
  {
   "cell_type": "code",
   "execution_count": 30,
   "id": "c31f75f3-6b92-4bf3-8505-1e6ab892e54c",
   "metadata": {},
   "outputs": [
    {
     "data": {
      "text/latex": [
       "$\\displaystyle \\left[\\begin{matrix}1 & -1\\\\1 & 1\\end{matrix}\\right]$"
      ],
      "text/plain": [
       "⎡1  -1⎤\n",
       "⎢     ⎥\n",
       "⎣1  1 ⎦"
      ]
     },
     "execution_count": 30,
     "metadata": {},
     "output_type": "execute_result"
    }
   ],
   "source": [
    "U = Matrix.hstack(u1, u2)\n",
    "U"
   ]
  },
  {
   "cell_type": "code",
   "execution_count": 31,
   "id": "57401e02-bef1-4f54-90fe-a434325428b4",
   "metadata": {},
   "outputs": [
    {
     "data": {
      "text/latex": [
       "$\\displaystyle \\left( \\left[\\begin{matrix}2\\\\1\\end{matrix}\\right], \\  \\left[\\begin{matrix}1\\\\0\\end{matrix}\\right]\\right)$"
      ],
      "text/plain": [
       "⎛⎡2⎤  ⎡1⎤⎞\n",
       "⎜⎢ ⎥, ⎢ ⎥⎟\n",
       "⎝⎣1⎦  ⎣0⎦⎠"
      ]
     },
     "execution_count": 31,
     "metadata": {},
     "output_type": "execute_result"
    }
   ],
   "source": [
    "v1, v2 = Matrix([2, 1]), Matrix([1, 0])\n",
    "v1, v2"
   ]
  },
  {
   "cell_type": "code",
   "execution_count": 32,
   "id": "401a6109-cb9c-4278-af25-39635889f639",
   "metadata": {},
   "outputs": [
    {
     "data": {
      "text/latex": [
       "$\\displaystyle \\left[\\begin{matrix}2 & 1\\\\1 & 0\\end{matrix}\\right]$"
      ],
      "text/plain": [
       "⎡2  1⎤\n",
       "⎢    ⎥\n",
       "⎣1  0⎦"
      ]
     },
     "execution_count": 32,
     "metadata": {},
     "output_type": "execute_result"
    }
   ],
   "source": [
    "V = Matrix.hstack(v1, v2)\n",
    "V"
   ]
  },
  {
   "cell_type": "code",
   "execution_count": 33,
   "id": "2fdaf121-e472-428f-a15d-1692effbf593",
   "metadata": {},
   "outputs": [
    {
     "data": {
      "text/latex": [
       "$\\displaystyle \\left[\\begin{matrix}1 & 1\\\\-1 & -3\\end{matrix}\\right]$"
      ],
      "text/plain": [
       "⎡1   1 ⎤\n",
       "⎢      ⎥\n",
       "⎣-1  -3⎦"
      ]
     },
     "execution_count": 33,
     "metadata": {},
     "output_type": "execute_result"
    }
   ],
   "source": [
    "S = V.inv() * U\n",
    "S"
   ]
  },
  {
   "cell_type": "code",
   "execution_count": 35,
   "id": "3d7ca0d0-43c9-4867-9c36-faeb00325c81",
   "metadata": {},
   "outputs": [],
   "source": [
    "L = lambda x: Matrix([-x[0], x[1]])"
   ]
  },
  {
   "cell_type": "code",
   "execution_count": 39,
   "id": "9fe65b56-d99b-4b32-8c0d-fa8f63b18ff7",
   "metadata": {},
   "outputs": [
    {
     "data": {
      "text/latex": [
       "$\\displaystyle \\left[\\begin{matrix}0 & 1\\\\1 & 0\\end{matrix}\\right]$"
      ],
      "text/plain": [
       "⎡0  1⎤\n",
       "⎢    ⎥\n",
       "⎣1  0⎦"
      ]
     },
     "execution_count": 39,
     "metadata": {},
     "output_type": "execute_result"
    }
   ],
   "source": [
    "B = Matrix([\n",
    "    [0, 1],\n",
    "    [1, 0]\n",
    "])\n",
    "B"
   ]
  },
  {
   "cell_type": "code",
   "execution_count": 40,
   "id": "30033d73-bebf-4068-966a-89c3e684a228",
   "metadata": {},
   "outputs": [
    {
     "data": {
      "text/latex": [
       "$\\displaystyle \\left[\\begin{matrix}1 & 0\\\\-4 & -1\\end{matrix}\\right]$"
      ],
      "text/plain": [
       "⎡1   0 ⎤\n",
       "⎢      ⎥\n",
       "⎣-4  -1⎦"
      ]
     },
     "execution_count": 40,
     "metadata": {},
     "output_type": "execute_result"
    }
   ],
   "source": [
    "S*B*S.inv()"
   ]
  },
  {
   "cell_type": "markdown",
   "id": "3036ed61-8ba0-4098-9861-318557cddc48",
   "metadata": {},
   "source": [
    "#### #4"
   ]
  },
  {
   "cell_type": "code",
   "execution_count": 56,
   "id": "39f4a4c3-ea3b-4ebb-9b4b-f520bdc3a786",
   "metadata": {},
   "outputs": [
    {
     "data": {
      "text/latex": [
       "$\\displaystyle \\left[\\begin{matrix}3 & -1 & -2\\\\2 & 0 & -2\\\\2 & -1 & -1\\end{matrix}\\right]$"
      ],
      "text/plain": [
       "⎡3  -1  -2⎤\n",
       "⎢         ⎥\n",
       "⎢2  0   -2⎥\n",
       "⎢         ⎥\n",
       "⎣2  -1  -1⎦"
      ]
     },
     "execution_count": 56,
     "metadata": {},
     "output_type": "execute_result"
    }
   ],
   "source": [
    "A = Matrix([\n",
    "    [3, -1, -2],\n",
    "    [2, 0, -2],\n",
    "    [2, -1, -1]\n",
    "])\n",
    "A"
   ]
  },
  {
   "cell_type": "code",
   "execution_count": 57,
   "id": "802ddbde-849f-468d-b8f2-6950ce6e2076",
   "metadata": {},
   "outputs": [
    {
     "data": {
      "text/latex": [
       "$\\displaystyle \\left( \\left[\\begin{matrix}1\\\\1\\\\1\\end{matrix}\\right], \\  \\left[\\begin{matrix}1\\\\2\\\\0\\end{matrix}\\right], \\  \\left[\\begin{matrix}0\\\\-2\\\\1\\end{matrix}\\right]\\right)$"
      ],
      "text/plain": [
       "⎛⎡1⎤  ⎡1⎤  ⎡0 ⎤⎞\n",
       "⎜⎢ ⎥  ⎢ ⎥  ⎢  ⎥⎟\n",
       "⎜⎢1⎥, ⎢2⎥, ⎢-2⎥⎟\n",
       "⎜⎢ ⎥  ⎢ ⎥  ⎢  ⎥⎟\n",
       "⎝⎣1⎦  ⎣0⎦  ⎣1 ⎦⎠"
      ]
     },
     "execution_count": 57,
     "metadata": {},
     "output_type": "execute_result"
    }
   ],
   "source": [
    "v1, v2, v3 = Matrix([1, 1, 1]), Matrix([1, 2, 0]), Matrix([0, -2, 1])\n",
    "v1, v2, v3"
   ]
  },
  {
   "cell_type": "code",
   "execution_count": 58,
   "id": "4243364f-070f-48b5-a914-16ae37aadb37",
   "metadata": {},
   "outputs": [
    {
     "data": {
      "text/latex": [
       "$\\displaystyle \\left[\\begin{matrix}1 & 1 & 0\\\\1 & 2 & -2\\\\1 & 0 & 1\\end{matrix}\\right]$"
      ],
      "text/plain": [
       "⎡1  1  0 ⎤\n",
       "⎢        ⎥\n",
       "⎢1  2  -2⎥\n",
       "⎢        ⎥\n",
       "⎣1  0  1 ⎦"
      ]
     },
     "execution_count": 58,
     "metadata": {},
     "output_type": "execute_result"
    }
   ],
   "source": [
    "V = Matrix.hstack(v1, v2, v3)\n",
    "V"
   ]
  },
  {
   "cell_type": "code",
   "execution_count": 59,
   "id": "d5fb0d62-c7f7-41e1-b546-c3d5794cdd9d",
   "metadata": {},
   "outputs": [
    {
     "data": {
      "text/latex": [
       "$\\displaystyle \\left[\\begin{matrix}1 & 1 & 0\\\\1 & 2 & -2\\\\1 & 0 & 1\\end{matrix}\\right]$"
      ],
      "text/plain": [
       "⎡1  1  0 ⎤\n",
       "⎢        ⎥\n",
       "⎢1  2  -2⎥\n",
       "⎢        ⎥\n",
       "⎣1  0  1 ⎦"
      ]
     },
     "execution_count": 59,
     "metadata": {},
     "output_type": "execute_result"
    }
   ],
   "source": [
    "S = E.inv() * V\n",
    "S"
   ]
  },
  {
   "cell_type": "code",
   "execution_count": 60,
   "id": "f62c4c67-e713-4994-9c96-46da78f3652f",
   "metadata": {},
   "outputs": [
    {
     "data": {
      "text/latex": [
       "$\\displaystyle \\left[\\begin{matrix}0 & 0 & 0\\\\0 & 1 & 0\\\\0 & 0 & 1\\end{matrix}\\right]$"
      ],
      "text/plain": [
       "⎡0  0  0⎤\n",
       "⎢       ⎥\n",
       "⎢0  1  0⎥\n",
       "⎢       ⎥\n",
       "⎣0  0  1⎦"
      ]
     },
     "execution_count": 60,
     "metadata": {},
     "output_type": "execute_result"
    }
   ],
   "source": [
    "V.inv() * A * V"
   ]
  },
  {
   "cell_type": "code",
   "execution_count": null,
   "id": "a0f194fa-4e67-4bf9-9d05-431b915a8e14",
   "metadata": {},
   "outputs": [],
   "source": []
  }
 ],
 "metadata": {
  "kernelspec": {
   "display_name": "Python 3 (ipykernel)",
   "language": "python",
   "name": "python3"
  },
  "language_info": {
   "codemirror_mode": {
    "name": "ipython",
    "version": 3
   },
   "file_extension": ".py",
   "mimetype": "text/x-python",
   "name": "python",
   "nbconvert_exporter": "python",
   "pygments_lexer": "ipython3",
   "version": "3.13.3"
  }
 },
 "nbformat": 4,
 "nbformat_minor": 5
}
