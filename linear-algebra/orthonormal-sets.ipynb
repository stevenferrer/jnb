{
 "cells": [
  {
   "cell_type": "code",
   "execution_count": 1,
   "id": "0f999de7-17c5-4a67-8fdc-bc4c635e2c6d",
   "metadata": {},
   "outputs": [],
   "source": [
    "from sympy import *\n",
    "init_printing(use_unicode=True)"
   ]
  },
  {
   "cell_type": "markdown",
   "id": "93d2e37c-a353-45c9-998d-2294739e3f33",
   "metadata": {},
   "source": [
    "### Orthogonal set"
   ]
  },
  {
   "cell_type": "code",
   "execution_count": 2,
   "id": "df717f7f-2629-47c1-9ad8-acd45bcca79e",
   "metadata": {},
   "outputs": [
    {
     "data": {
      "text/latex": [
       "$\\displaystyle \\left( \\left[\\begin{matrix}1\\\\1\\\\1\\end{matrix}\\right], \\  \\left[\\begin{matrix}2\\\\1\\\\-3\\end{matrix}\\right], \\  \\left[\\begin{matrix}4\\\\-5\\\\1\\end{matrix}\\right]\\right)$"
      ],
      "text/plain": [
       "⎛⎡1⎤  ⎡2 ⎤  ⎡4 ⎤⎞\n",
       "⎜⎢ ⎥  ⎢  ⎥  ⎢  ⎥⎟\n",
       "⎜⎢1⎥, ⎢1 ⎥, ⎢-5⎥⎟\n",
       "⎜⎢ ⎥  ⎢  ⎥  ⎢  ⎥⎟\n",
       "⎝⎣1⎦  ⎣-3⎦  ⎣1 ⎦⎠"
      ]
     },
     "execution_count": 2,
     "metadata": {},
     "output_type": "execute_result"
    }
   ],
   "source": [
    "v1, v2, v3 = Matrix([1, 1, 1]), Matrix([2, 1, -3]), Matrix([4, -5, 1])\n",
    "v1, v2, v3"
   ]
  },
  {
   "cell_type": "code",
   "execution_count": 3,
   "id": "56df9acc-0254-4da3-b934-c3d0a068e1d5",
   "metadata": {},
   "outputs": [
    {
     "data": {
      "text/latex": [
       "$\\displaystyle \\left[ \\left[\\begin{matrix}1\\\\1\\\\1\\end{matrix}\\right], \\  \\left[\\begin{matrix}2\\\\1\\\\-3\\end{matrix}\\right], \\  \\left[\\begin{matrix}4\\\\-5\\\\1\\end{matrix}\\right]\\right]$"
      ],
      "text/plain": [
       "⎡⎡1⎤  ⎡2 ⎤  ⎡4 ⎤⎤\n",
       "⎢⎢ ⎥  ⎢  ⎥  ⎢  ⎥⎥\n",
       "⎢⎢1⎥, ⎢1 ⎥, ⎢-5⎥⎥\n",
       "⎢⎢ ⎥  ⎢  ⎥  ⎢  ⎥⎥\n",
       "⎣⎣1⎦  ⎣-3⎦  ⎣1 ⎦⎦"
      ]
     },
     "execution_count": 3,
     "metadata": {},
     "output_type": "execute_result"
    }
   ],
   "source": [
    "v = [v1, v2, v3]\n",
    "v"
   ]
  },
  {
   "cell_type": "markdown",
   "id": "bb989ae6-fa7b-45e7-8df8-32aff5844413",
   "metadata": {},
   "source": [
    "### Orthonormal set"
   ]
  },
  {
   "cell_type": "code",
   "execution_count": 4,
   "id": "b374554a-2f97-4e35-81ea-f9320bc2d622",
   "metadata": {},
   "outputs": [
    {
     "data": {
      "text/latex": [
       "$\\displaystyle \\left[ \\left[\\begin{matrix}\\frac{\\sqrt{3}}{3}\\\\\\frac{\\sqrt{3}}{3}\\\\\\frac{\\sqrt{3}}{3}\\end{matrix}\\right], \\  \\left[\\begin{matrix}\\frac{\\sqrt{14}}{7}\\\\\\frac{\\sqrt{14}}{14}\\\\- \\frac{3 \\sqrt{14}}{14}\\end{matrix}\\right], \\  \\left[\\begin{matrix}\\frac{2 \\sqrt{42}}{21}\\\\- \\frac{5 \\sqrt{42}}{42}\\\\\\frac{\\sqrt{42}}{42}\\end{matrix}\\right]\\right]$"
      ],
      "text/plain": [
       "⎡⎡√3⎤  ⎡  √14  ⎤  ⎡ 2⋅√42 ⎤⎤\n",
       "⎢⎢──⎥  ⎢  ───  ⎥  ⎢ ───── ⎥⎥\n",
       "⎢⎢3 ⎥  ⎢   7   ⎥  ⎢  21   ⎥⎥\n",
       "⎢⎢  ⎥  ⎢       ⎥  ⎢       ⎥⎥\n",
       "⎢⎢√3⎥  ⎢  √14  ⎥  ⎢-5⋅√42 ⎥⎥\n",
       "⎢⎢──⎥, ⎢  ───  ⎥, ⎢───────⎥⎥\n",
       "⎢⎢3 ⎥  ⎢  14   ⎥  ⎢  42   ⎥⎥\n",
       "⎢⎢  ⎥  ⎢       ⎥  ⎢       ⎥⎥\n",
       "⎢⎢√3⎥  ⎢-3⋅√14 ⎥  ⎢  √42  ⎥⎥\n",
       "⎢⎢──⎥  ⎢───────⎥  ⎢  ───  ⎥⎥\n",
       "⎣⎣3 ⎦  ⎣  14   ⎦  ⎣  42   ⎦⎦"
      ]
     },
     "execution_count": 4,
     "metadata": {},
     "output_type": "execute_result"
    }
   ],
   "source": [
    "u = []\n",
    "for vi in v:\n",
    "    u.append((1/vi.norm())*vi)\n",
    "\n",
    "u"
   ]
  },
  {
   "cell_type": "markdown",
   "id": "98e8d1b3-1a4e-4d68-a2f3-082118b69a41",
   "metadata": {},
   "source": [
    "The set $\\textbf{u}$ is orthonormal if and only if ${\\langle u_i, u_j \\rangle} = \\delta_{ij}$ where \n",
    "\n",
    "$\\delta_{ij} = \\begin{cases}\n",
    "1 & \\text{if } i = j,\\\\\n",
    "0  & \\text{if } i \\neq j,\n",
    "\\end{cases}$\n",
    "\n",
    "as verified below."
   ]
  },
  {
   "cell_type": "code",
   "execution_count": 5,
   "id": "68d3c4a7-f71e-4582-a42b-8d3deb02437c",
   "metadata": {},
   "outputs": [
    {
     "data": {
      "text/latex": [
       "$\\displaystyle \\left( 0, \\  0, \\  0\\right)$"
      ],
      "text/plain": [
       "(0, 0, 0)"
      ]
     },
     "execution_count": 5,
     "metadata": {},
     "output_type": "execute_result"
    }
   ],
   "source": [
    "u[0].dot(u[1]), u[0].dot(u[2]), u[1].dot(u[2])"
   ]
  },
  {
   "cell_type": "code",
   "execution_count": 6,
   "id": "df417277-d0d4-4cdd-a20e-4b98529f2cbf",
   "metadata": {},
   "outputs": [
    {
     "data": {
      "text/latex": [
       "$\\displaystyle \\left( 1, \\  1, \\  1\\right)$"
      ],
      "text/plain": [
       "(1, 1, 1)"
      ]
     },
     "execution_count": 6,
     "metadata": {},
     "output_type": "execute_result"
    }
   ],
   "source": [
    "u[0].dot(u[0]), u[1].dot(u[1]), u[2].dot(u[2])"
   ]
  },
  {
   "cell_type": "markdown",
   "id": "887d0732-0dac-48db-9be9-e69598453c09",
   "metadata": {},
   "source": [
    "### Orthonormal basis"
   ]
  },
  {
   "cell_type": "markdown",
   "id": "51d8579c-d951-4770-a8c5-84264ec54c2f",
   "metadata": {},
   "source": [
    "Example of orthonormal basis in $\\mathbb{R^2}$"
   ]
  },
  {
   "cell_type": "code",
   "execution_count": 22,
   "id": "92b57790-6ca2-4925-ba9f-c0fb3a53df2c",
   "metadata": {},
   "outputs": [
    {
     "data": {
      "text/latex": [
       "$\\displaystyle \\left( \\left[\\begin{matrix}\\frac{\\sqrt{2}}{2}\\\\\\frac{\\sqrt{2}}{2}\\end{matrix}\\right], \\  \\left[\\begin{matrix}\\frac{\\sqrt{2}}{2}\\\\- \\frac{\\sqrt{2}}{2}\\end{matrix}\\right]\\right)$"
      ],
      "text/plain": [
       "⎛⎡√2⎤  ⎡ √2 ⎤⎞\n",
       "⎜⎢──⎥  ⎢ ── ⎥⎟\n",
       "⎜⎢2 ⎥  ⎢ 2  ⎥⎟\n",
       "⎜⎢  ⎥, ⎢    ⎥⎟\n",
       "⎜⎢√2⎥  ⎢-√2 ⎥⎟\n",
       "⎜⎢──⎥  ⎢────⎥⎟\n",
       "⎝⎣2 ⎦  ⎣ 2  ⎦⎠"
      ]
     },
     "execution_count": 22,
     "metadata": {},
     "output_type": "execute_result"
    }
   ],
   "source": [
    "u1 = Matrix([1/sqrt(2), 1/sqrt(2)], evaluate=False)\n",
    "u2 = Matrix([1/sqrt(2), -1/sqrt(2)], evaluate=False)\n",
    "u1, u2"
   ]
  },
  {
   "cell_type": "code",
   "execution_count": 23,
   "id": "c19ed2b3-8ce1-40f1-856d-f7e254989e08",
   "metadata": {},
   "outputs": [
    {
     "data": {
      "text/latex": [
       "$\\displaystyle \\left[\\begin{matrix}x_{1}\\\\x_{2}\\end{matrix}\\right]$"
      ],
      "text/plain": [
       "⎡x₁⎤\n",
       "⎢  ⎥\n",
       "⎣x₂⎦"
      ]
     },
     "execution_count": 23,
     "metadata": {},
     "output_type": "execute_result"
    }
   ],
   "source": [
    "x1, x2 = symbols('x1 x2')\n",
    "x = Matrix([x1, x2])\n",
    "x"
   ]
  },
  {
   "cell_type": "markdown",
   "id": "399ed026-d11a-477c-99ae-cd924a5d8483",
   "metadata": {},
   "source": [
    "If $\\{u_1, ..., u_n\\}$ is an orthonormal basis for an inner product space $\\textbf{V}$ and $\\textbf{x} \\in \\textbf{V}$, then \n",
    "\n",
    "$\\langle x, u_i \\rangle = c_i $"
   ]
  },
  {
   "cell_type": "code",
   "execution_count": 43,
   "id": "34ee00e6-d99a-4108-a3d5-c1fd3712a372",
   "metadata": {},
   "outputs": [
    {
     "data": {
      "text/latex": [
       "$\\displaystyle \\frac{\\sqrt{2} \\left(x_{1} + x_{2}\\right)}{2}$"
      ],
      "text/plain": [
       "√2⋅(x₁ + x₂)\n",
       "────────────\n",
       "     2      "
      ]
     },
     "execution_count": 43,
     "metadata": {},
     "output_type": "execute_result"
    }
   ],
   "source": [
    "c1 = simplify(x.dot(u1))\n",
    "c1"
   ]
  },
  {
   "cell_type": "code",
   "execution_count": 44,
   "id": "f41a03d5-5068-4c78-9995-e5495cccf34a",
   "metadata": {},
   "outputs": [
    {
     "data": {
      "text/latex": [
       "$\\displaystyle \\frac{\\sqrt{2} \\left(x_{1} - x_{2}\\right)}{2}$"
      ],
      "text/plain": [
       "√2⋅(x₁ - x₂)\n",
       "────────────\n",
       "     2      "
      ]
     },
     "execution_count": 44,
     "metadata": {},
     "output_type": "execute_result"
    }
   ],
   "source": [
    "c2 = simplify(x.dot(u2))\n",
    "c2"
   ]
  },
  {
   "cell_type": "markdown",
   "id": "651073a7-11b7-40a7-9201-84016da24770",
   "metadata": {},
   "source": [
    "We get the original $\\textbf{x}$"
   ]
  },
  {
   "cell_type": "code",
   "execution_count": 45,
   "id": "af3e8178-163c-4b45-9713-bb54fa7d5a1a",
   "metadata": {},
   "outputs": [
    {
     "data": {
      "text/latex": [
       "$\\displaystyle \\left[\\begin{matrix}x_{1}\\\\x_{2}\\end{matrix}\\right]$"
      ],
      "text/plain": [
       "⎡x₁⎤\n",
       "⎢  ⎥\n",
       "⎣x₂⎦"
      ]
     },
     "execution_count": 45,
     "metadata": {},
     "output_type": "execute_result"
    }
   ],
   "source": [
    "simplify(c1*u1 + c2*u2)"
   ]
  },
  {
   "cell_type": "markdown",
   "id": "20d5dc91-2ba0-44a5-b4cc-8b2ac1bc2bed",
   "metadata": {},
   "source": [
    "Parseval's formula: $\\lVert v \\rVert ^2 = \\sum_{i=1}^n c_i^2$"
   ]
  },
  {
   "cell_type": "code",
   "execution_count": 46,
   "id": "db1dd940-41a8-4024-9d84-1e1e4ab9789f",
   "metadata": {},
   "outputs": [
    {
     "data": {
      "text/latex": [
       "$\\displaystyle \\left( x_{1}^{2} + x_{2}^{2}, \\  x_{1}^{2} + x_{2}^{2}\\right)$"
      ],
      "text/plain": [
       "⎛  2     2    2     2⎞\n",
       "⎝x₁  + x₂ , x₁  + x₂ ⎠"
      ]
     },
     "execution_count": 46,
     "metadata": {},
     "output_type": "execute_result"
    }
   ],
   "source": [
    "x.dot(x), simplify(c1**2 + c2**2)"
   ]
  }
 ],
 "metadata": {
  "kernelspec": {
   "display_name": "Python 3 (ipykernel)",
   "language": "python",
   "name": "python3"
  },
  "language_info": {
   "codemirror_mode": {
    "name": "ipython",
    "version": 3
   },
   "file_extension": ".py",
   "mimetype": "text/x-python",
   "name": "python",
   "nbconvert_exporter": "python",
   "pygments_lexer": "ipython3",
   "version": "3.13.3"
  }
 },
 "nbformat": 4,
 "nbformat_minor": 5
}
