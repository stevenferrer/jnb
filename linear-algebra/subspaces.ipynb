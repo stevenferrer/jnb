{
 "cells": [
  {
   "cell_type": "code",
   "execution_count": 1,
   "id": "1a7a8e9f-b0cb-4ad8-9870-d041e5a7e14a",
   "metadata": {},
   "outputs": [],
   "source": [
    "from sympy import *\n",
    "init_printing(use_unicode=True)"
   ]
  },
  {
   "cell_type": "code",
   "execution_count": 2,
   "id": "6423d079-0131-4925-bfd2-e25cf59ca0bf",
   "metadata": {},
   "outputs": [
    {
     "data": {
      "text/latex": [
       "$\\displaystyle \\left[\\begin{matrix}1 & 2 & -1 & 1\\\\2 & 4 & -3 & 0\\\\1 & 2 & 1 & 5\\end{matrix}\\right]$"
      ],
      "text/plain": [
       "⎡1  2  -1  1⎤\n",
       "⎢           ⎥\n",
       "⎢2  4  -3  0⎥\n",
       "⎢           ⎥\n",
       "⎣1  2  1   5⎦"
      ]
     },
     "execution_count": 2,
     "metadata": {},
     "output_type": "execute_result"
    }
   ],
   "source": [
    "M = Matrix([\n",
    "    [1, 2, -1, 1],\n",
    "    [2, 4, -3, 0],\n",
    "    [1, 2, 1, 5]\n",
    "])\n",
    "M"
   ]
  },
  {
   "cell_type": "code",
   "execution_count": 3,
   "id": "d18a09b7-b7e4-414d-81bb-fa58eecbb342",
   "metadata": {},
   "outputs": [
    {
     "data": {
      "text/latex": [
       "$\\displaystyle \\left( \\left[\\begin{matrix}1 & 2 & 0 & 3\\\\0 & 0 & 1 & 2\\\\0 & 0 & 0 & 0\\end{matrix}\\right], \\  \\left( 0, \\  2\\right)\\right)$"
      ],
      "text/plain": [
       "⎛⎡1  2  0  3⎤        ⎞\n",
       "⎜⎢          ⎥        ⎟\n",
       "⎜⎢0  0  1  2⎥, (0, 2)⎟\n",
       "⎜⎢          ⎥        ⎟\n",
       "⎝⎣0  0  0  0⎦        ⎠"
      ]
     },
     "execution_count": 3,
     "metadata": {},
     "output_type": "execute_result"
    }
   ],
   "source": [
    "M.rref()"
   ]
  },
  {
   "cell_type": "code",
   "execution_count": 4,
   "id": "fd64dee2-2cc8-4c46-a08a-b43627f653b1",
   "metadata": {},
   "outputs": [
    {
     "data": {
      "text/latex": [
       "$\\displaystyle \\left[ \\left[\\begin{matrix}1\\\\2\\\\1\\end{matrix}\\right], \\  \\left[\\begin{matrix}-1\\\\-3\\\\1\\end{matrix}\\right]\\right]$"
      ],
      "text/plain": [
       "⎡⎡1⎤  ⎡-1⎤⎤\n",
       "⎢⎢ ⎥  ⎢  ⎥⎥\n",
       "⎢⎢2⎥, ⎢-3⎥⎥\n",
       "⎢⎢ ⎥  ⎢  ⎥⎥\n",
       "⎣⎣1⎦  ⎣1 ⎦⎦"
      ]
     },
     "execution_count": 4,
     "metadata": {},
     "output_type": "execute_result"
    }
   ],
   "source": [
    "M.columnspace()"
   ]
  },
  {
   "cell_type": "code",
   "execution_count": 5,
   "id": "b77f6783-6835-4317-8a44-ca180e23c3b6",
   "metadata": {},
   "outputs": [
    {
     "data": {
      "text/latex": [
       "$\\displaystyle \\left[ \\left[\\begin{matrix}-2\\\\1\\\\0\\\\0\\end{matrix}\\right], \\  \\left[\\begin{matrix}-3\\\\0\\\\-2\\\\1\\end{matrix}\\right]\\right]$"
      ],
      "text/plain": [
       "⎡⎡-2⎤  ⎡-3⎤⎤\n",
       "⎢⎢  ⎥  ⎢  ⎥⎥\n",
       "⎢⎢1 ⎥  ⎢0 ⎥⎥\n",
       "⎢⎢  ⎥, ⎢  ⎥⎥\n",
       "⎢⎢0 ⎥  ⎢-2⎥⎥\n",
       "⎢⎢  ⎥  ⎢  ⎥⎥\n",
       "⎣⎣0 ⎦  ⎣1 ⎦⎦"
      ]
     },
     "execution_count": 5,
     "metadata": {},
     "output_type": "execute_result"
    }
   ],
   "source": [
    "M.nullspace()"
   ]
  },
  {
   "cell_type": "code",
   "execution_count": 6,
   "id": "3632ebdd-b5e4-4c29-8e40-9c6e2647d82e",
   "metadata": {},
   "outputs": [
    {
     "data": {
      "text/latex": [
       "$\\displaystyle \\left[\\begin{matrix}1 & 2 & -3\\\\-2 & -2 & 3\\\\2 & 4 & 6\\end{matrix}\\right]$"
      ],
      "text/plain": [
       "⎡1   2   -3⎤\n",
       "⎢          ⎥\n",
       "⎢-2  -2  3 ⎥\n",
       "⎢          ⎥\n",
       "⎣2   4   6 ⎦"
      ]
     },
     "execution_count": 6,
     "metadata": {},
     "output_type": "execute_result"
    }
   ],
   "source": [
    "M = Matrix([\n",
    "    [1, 2, -3],\n",
    "    [-2, -2, 3],\n",
    "    [2, 4, 6]\n",
    "])\n",
    "M"
   ]
  },
  {
   "cell_type": "code",
   "execution_count": 7,
   "id": "4be4a9fe-ed28-4992-8a21-200917a577b1",
   "metadata": {},
   "outputs": [
    {
     "data": {
      "text/latex": [
       "$\\displaystyle \\left( \\left[\\begin{matrix}1 & 0 & 0\\\\0 & 1 & 0\\\\0 & 0 & 1\\end{matrix}\\right], \\  \\left( 0, \\  1, \\  2\\right)\\right)$"
      ],
      "text/plain": [
       "⎛⎡1  0  0⎤           ⎞\n",
       "⎜⎢       ⎥           ⎟\n",
       "⎜⎢0  1  0⎥, (0, 1, 2)⎟\n",
       "⎜⎢       ⎥           ⎟\n",
       "⎝⎣0  0  1⎦           ⎠"
      ]
     },
     "execution_count": 7,
     "metadata": {},
     "output_type": "execute_result"
    }
   ],
   "source": [
    "M.rref()"
   ]
  },
  {
   "cell_type": "code",
   "execution_count": 8,
   "id": "2827cedf-cc57-4a74-abac-edc5a0c318bc",
   "metadata": {},
   "outputs": [
    {
     "data": {
      "text/latex": [
       "$\\displaystyle \\left[\\begin{matrix}1 & 1 & 2\\\\1 & 2 & 3\\\\1 & 3 & 1\\end{matrix}\\right]$"
      ],
      "text/plain": [
       "⎡1  1  2⎤\n",
       "⎢       ⎥\n",
       "⎢1  2  3⎥\n",
       "⎢       ⎥\n",
       "⎣1  3  1⎦"
      ]
     },
     "execution_count": 8,
     "metadata": {},
     "output_type": "execute_result"
    }
   ],
   "source": [
    "M = Matrix([\n",
    "    [1, 1, 2],\n",
    "    [1, 2, 3],\n",
    "    [1, 3, 1]\n",
    "])\n",
    "M"
   ]
  },
  {
   "cell_type": "code",
   "execution_count": 9,
   "id": "290b08e0-76fb-4df3-9f2d-513d4db13063",
   "metadata": {},
   "outputs": [
    {
     "data": {
      "text/latex": [
       "$\\displaystyle \\left( \\left[\\begin{matrix}1 & 0 & 0\\\\0 & 1 & 0\\\\0 & 0 & 1\\end{matrix}\\right], \\  \\left( 0, \\  1, \\  2\\right)\\right)$"
      ],
      "text/plain": [
       "⎛⎡1  0  0⎤           ⎞\n",
       "⎜⎢       ⎥           ⎟\n",
       "⎜⎢0  1  0⎥, (0, 1, 2)⎟\n",
       "⎜⎢       ⎥           ⎟\n",
       "⎝⎣0  0  1⎦           ⎠"
      ]
     },
     "execution_count": 9,
     "metadata": {},
     "output_type": "execute_result"
    }
   ],
   "source": [
    "M.rref()"
   ]
  },
  {
   "cell_type": "code",
   "execution_count": 12,
   "id": "e31a2662-22ae-4977-b38b-52017b13dc02",
   "metadata": {},
   "outputs": [
    {
     "data": {
      "text/latex": [
       "$\\displaystyle \\left[\\begin{matrix}1 & -2 & 3 & 2\\\\-1 & 2 & -2 & -1\\\\2 & -4 & 5 & 3\\end{matrix}\\right]$"
      ],
      "text/plain": [
       "⎡1   -2  3   2 ⎤\n",
       "⎢              ⎥\n",
       "⎢-1  2   -2  -1⎥\n",
       "⎢              ⎥\n",
       "⎣2   -4  5   3 ⎦"
      ]
     },
     "execution_count": 12,
     "metadata": {},
     "output_type": "execute_result"
    }
   ],
   "source": [
    "M = Matrix([\n",
    "    [1, -2, 3, 2],\n",
    "    [-1, 2, -2, -1],\n",
    "    [2, -4, 5, 3]\n",
    "])\n",
    "M"
   ]
  },
  {
   "cell_type": "code",
   "execution_count": 13,
   "id": "31e0e730-2ce2-4918-bc36-93c914b20d34",
   "metadata": {},
   "outputs": [
    {
     "data": {
      "text/latex": [
       "$\\displaystyle \\left( \\left[\\begin{matrix}1 & -2 & 0 & -1\\\\0 & 0 & 1 & 1\\\\0 & 0 & 0 & 0\\end{matrix}\\right], \\  \\left( 0, \\  2\\right)\\right)$"
      ],
      "text/plain": [
       "⎛⎡1  -2  0  -1⎤        ⎞\n",
       "⎜⎢            ⎥        ⎟\n",
       "⎜⎢0  0   1  1 ⎥, (0, 2)⎟\n",
       "⎜⎢            ⎥        ⎟\n",
       "⎝⎣0  0   0  0 ⎦        ⎠"
      ]
     },
     "execution_count": 13,
     "metadata": {},
     "output_type": "execute_result"
    }
   ],
   "source": [
    "M.rref()"
   ]
  },
  {
   "cell_type": "code",
   "execution_count": 14,
   "id": "ab3c7ecc-6be4-46d7-a2b3-ad9ee4176c67",
   "metadata": {},
   "outputs": [
    {
     "data": {
      "text/latex": [
       "$\\displaystyle \\left[\\begin{matrix}1 & 2 & 2 & 3 & 1 & 4\\\\2 & 4 & 5 & 5 & 4 & 9\\\\3 & 6 & 7 & 8 & 5 & 9\\end{matrix}\\right]$"
      ],
      "text/plain": [
       "⎡1  2  2  3  1  4⎤\n",
       "⎢                ⎥\n",
       "⎢2  4  5  5  4  9⎥\n",
       "⎢                ⎥\n",
       "⎣3  6  7  8  5  9⎦"
      ]
     },
     "execution_count": 14,
     "metadata": {},
     "output_type": "execute_result"
    }
   ],
   "source": [
    "M = Matrix([\n",
    "    [1, 2, 2, 3, 1, 4],\n",
    "    [2, 4, 5, 5, 4, 9],\n",
    "    [3, 6, 7, 8, 5, 9]\n",
    "])\n",
    "M"
   ]
  },
  {
   "cell_type": "code",
   "execution_count": 15,
   "id": "8ad4229b-bbf0-4670-b41b-d9879a164a0f",
   "metadata": {},
   "outputs": [
    {
     "data": {
      "text/latex": [
       "$\\displaystyle \\left( \\left[\\begin{matrix}1 & 2 & 0 & 5 & -3 & 0\\\\0 & 0 & 1 & -1 & 2 & 0\\\\0 & 0 & 0 & 0 & 0 & 1\\end{matrix}\\right], \\  \\left( 0, \\  2, \\  5\\right)\\right)$"
      ],
      "text/plain": [
       "⎛⎡1  2  0  5   -3  0⎤           ⎞\n",
       "⎜⎢                  ⎥           ⎟\n",
       "⎜⎢0  0  1  -1  2   0⎥, (0, 2, 5)⎟\n",
       "⎜⎢                  ⎥           ⎟\n",
       "⎝⎣0  0  0  0   0   1⎦           ⎠"
      ]
     },
     "execution_count": 15,
     "metadata": {},
     "output_type": "execute_result"
    }
   ],
   "source": [
    "M.rref()"
   ]
  },
  {
   "cell_type": "code",
   "execution_count": 16,
   "id": "bb5e4698-a784-4b8a-879c-631d4ab2ab1c",
   "metadata": {},
   "outputs": [
    {
     "data": {
      "text/latex": [
       "$\\displaystyle \\left[\\begin{matrix}1 & 2\\\\2 & 4\\end{matrix}\\right]$"
      ],
      "text/plain": [
       "⎡1  2⎤\n",
       "⎢    ⎥\n",
       "⎣2  4⎦"
      ]
     },
     "execution_count": 16,
     "metadata": {},
     "output_type": "execute_result"
    }
   ],
   "source": [
    "M = Matrix([\n",
    "    [1, 2],\n",
    "    [2, 4]\n",
    "])\n",
    "M"
   ]
  },
  {
   "cell_type": "code",
   "execution_count": 17,
   "id": "86122c75-7fa6-425f-a4db-fc625df63c00",
   "metadata": {},
   "outputs": [
    {
     "data": {
      "text/latex": [
       "$\\displaystyle \\left( \\left[\\begin{matrix}1 & 2\\\\0 & 0\\end{matrix}\\right], \\  \\left( 0,\\right)\\right)$"
      ],
      "text/plain": [
       "⎛⎡1  2⎤      ⎞\n",
       "⎜⎢    ⎥, (0,)⎟\n",
       "⎝⎣0  0⎦      ⎠"
      ]
     },
     "execution_count": 17,
     "metadata": {},
     "output_type": "execute_result"
    }
   ],
   "source": [
    "M.rref()"
   ]
  },
  {
   "cell_type": "code",
   "execution_count": 18,
   "id": "9f25eee2-fb02-40bb-8fb3-5e7a3aa01711",
   "metadata": {},
   "outputs": [
    {
     "data": {
      "text/latex": [
       "$\\displaystyle \\left[\\begin{matrix}3 & 6\\\\1 & 2\\end{matrix}\\right]$"
      ],
      "text/plain": [
       "⎡3  6⎤\n",
       "⎢    ⎥\n",
       "⎣1  2⎦"
      ]
     },
     "execution_count": 18,
     "metadata": {},
     "output_type": "execute_result"
    }
   ],
   "source": [
    "M = Matrix([\n",
    "    [3, 6],\n",
    "    [1, 2]\n",
    "])\n",
    "M"
   ]
  },
  {
   "cell_type": "code",
   "execution_count": 19,
   "id": "61cc799c-0315-49a6-8b16-3b5cc65d8119",
   "metadata": {},
   "outputs": [
    {
     "data": {
      "text/latex": [
       "$\\displaystyle \\left( \\left[\\begin{matrix}1 & 2\\\\0 & 0\\end{matrix}\\right], \\  \\left( 0,\\right)\\right)$"
      ],
      "text/plain": [
       "⎛⎡1  2⎤      ⎞\n",
       "⎜⎢    ⎥, (0,)⎟\n",
       "⎝⎣0  0⎦      ⎠"
      ]
     },
     "execution_count": 19,
     "metadata": {},
     "output_type": "execute_result"
    }
   ],
   "source": [
    "M.rref()"
   ]
  },
  {
   "cell_type": "code",
   "execution_count": 20,
   "id": "19d367ec-ec5a-49dd-bb5d-1f97ce1ec6c9",
   "metadata": {},
   "outputs": [
    {
     "data": {
      "text/latex": [
       "$\\displaystyle \\left[\\begin{matrix}0 & 1\\\\1 & 0\\\\0 & 1\\end{matrix}\\right]$"
      ],
      "text/plain": [
       "⎡0  1⎤\n",
       "⎢    ⎥\n",
       "⎢1  0⎥\n",
       "⎢    ⎥\n",
       "⎣0  1⎦"
      ]
     },
     "execution_count": 20,
     "metadata": {},
     "output_type": "execute_result"
    }
   ],
   "source": [
    "A = Matrix([\n",
    "    [0, 1],\n",
    "    [1, 0],\n",
    "    [0, 1]\n",
    "])\n",
    "A"
   ]
  },
  {
   "cell_type": "code",
   "execution_count": 21,
   "id": "de029876-fd97-49d6-a92e-de472eb02d4b",
   "metadata": {},
   "outputs": [
    {
     "data": {
      "text/latex": [
       "$\\displaystyle \\left( \\left[\\begin{matrix}1 & 0\\\\0 & 1\\\\0 & 0\\end{matrix}\\right], \\  \\left( 0, \\  1\\right)\\right)$"
      ],
      "text/plain": [
       "⎛⎡1  0⎤        ⎞\n",
       "⎜⎢    ⎥        ⎟\n",
       "⎜⎢0  1⎥, (0, 1)⎟\n",
       "⎜⎢    ⎥        ⎟\n",
       "⎝⎣0  0⎦        ⎠"
      ]
     },
     "execution_count": 21,
     "metadata": {},
     "output_type": "execute_result"
    }
   ],
   "source": [
    "A.rref()"
   ]
  },
  {
   "cell_type": "code",
   "execution_count": 22,
   "id": "1a51dede-be04-492d-a13d-f95f579ba8ab",
   "metadata": {},
   "outputs": [
    {
     "data": {
      "text/latex": [
       "$\\displaystyle \\left[\\begin{matrix}2 & 1\\\\3 & 4\\end{matrix}\\right]$"
      ],
      "text/plain": [
       "⎡2  1⎤\n",
       "⎢    ⎥\n",
       "⎣3  4⎦"
      ]
     },
     "execution_count": 22,
     "metadata": {},
     "output_type": "execute_result"
    }
   ],
   "source": [
    "A = Matrix([\n",
    "    [2, 1],\n",
    "    [3, 4],\n",
    "])\n",
    "A"
   ]
  },
  {
   "cell_type": "code",
   "execution_count": 23,
   "id": "f8166a5b-2b2e-41df-88a2-2bc9fcbc4c42",
   "metadata": {},
   "outputs": [
    {
     "data": {
      "text/latex": [
       "$\\displaystyle \\left( \\left[\\begin{matrix}1 & 0\\\\0 & 1\\end{matrix}\\right], \\  \\left( 0, \\  1\\right)\\right)$"
      ],
      "text/plain": [
       "⎛⎡1  0⎤        ⎞\n",
       "⎜⎢    ⎥, (0, 1)⎟\n",
       "⎝⎣0  1⎦        ⎠"
      ]
     },
     "execution_count": 23,
     "metadata": {},
     "output_type": "execute_result"
    }
   ],
   "source": [
    "A.rref()"
   ]
  },
  {
   "cell_type": "code",
   "execution_count": null,
   "id": "63e2fbfd-c2aa-4057-a8a8-d7d090288d5a",
   "metadata": {},
   "outputs": [],
   "source": []
  }
 ],
 "metadata": {
  "kernelspec": {
   "display_name": "Python 3 (ipykernel)",
   "language": "python",
   "name": "python3"
  },
  "language_info": {
   "codemirror_mode": {
    "name": "ipython",
    "version": 3
   },
   "file_extension": ".py",
   "mimetype": "text/x-python",
   "name": "python",
   "nbconvert_exporter": "python",
   "pygments_lexer": "ipython3",
   "version": "3.13.3"
  }
 },
 "nbformat": 4,
 "nbformat_minor": 5
}
