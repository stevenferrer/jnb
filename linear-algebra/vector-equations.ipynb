{
 "cells": [
  {
   "cell_type": "code",
   "execution_count": 1,
   "id": "6533ada0-1161-49aa-b6dc-17ed74ffd972",
   "metadata": {},
   "outputs": [],
   "source": [
    "from sympy import *\n",
    "init_printing()"
   ]
  },
  {
   "cell_type": "code",
   "execution_count": 2,
   "id": "e893eb9b-b219-4fb7-b501-14597c3fbaa4",
   "metadata": {},
   "outputs": [
    {
     "data": {
      "image/png": "[encoded data removed]",
      "text/latex": [
       "$\\displaystyle \\left( v_{1}, \\  v_{2}, \\  v_{3}, \\  h\\right)$"
      ],
      "text/plain": [
       "(v₁, v₂, v₃, h)"
      ]
     },
     "execution_count": 2,
     "metadata": {},
     "output_type": "execute_result"
    }
   ],
   "source": [
    "v1, v2, v3, h = symbols('v1:4 h')\n",
    "v1, v2, v3, h"
   ]
  },
  {
   "cell_type": "code",
   "execution_count": 8,
   "id": "0f701e5b-fe68-4045-b7d9-9d186b6dce23",
   "metadata": {},
   "outputs": [
    {
     "data": {
      "text/latex": [
       "$\\displaystyle \\left[\\begin{matrix}v_{1} + 5 v_{2} - 3 v_{3} + 4\\\\- v_{1} - 4 v_{2} + v_{3} - 3\\\\- 2 v_{1} - 7 v_{2} - 5\\end{matrix}\\right]$"
      ],
      "text/plain": [
       "⎡v₁ + 5⋅v₂ - 3⋅v₃ + 4⎤\n",
       "⎢                    ⎥\n",
       "⎢-v₁ - 4⋅v₂ + v₃ - 3 ⎥\n",
       "⎢                    ⎥\n",
       "⎣  -2⋅v₁ - 7⋅v₂ - 5  ⎦"
      ]
     },
     "execution_count": 8,
     "metadata": {},
     "output_type": "execute_result"
    }
   ],
   "source": [
    "A = Matrix([\n",
    "    v1 + 5*v2 - 3*v3 + 4, \n",
    "    -v1  - 4*v2 + v3 - 3,\n",
    "    -2*v1 -7*v2 - 5\n",
    "])\n",
    "A"
   ]
  },
  {
   "cell_type": "code",
   "execution_count": 9,
   "id": "5a33ed20-4e43-4488-8b45-f699b6ccfd31",
   "metadata": {},
   "outputs": [
    {
     "data": {
      "image/png": "[encoded data removed]",
      "text/latex": [
       "$\\displaystyle \\left\\{\\left( 1 - 7 v_{3}, \\  2 v_{3} - 1, \\  v_{3}\\right)\\right\\}$"
      ],
      "text/plain": [
       "{(1 - 7⋅v₃, 2⋅v₃ - 1, v₃)}"
      ]
     },
     "execution_count": 9,
     "metadata": {},
     "output_type": "execute_result"
    }
   ],
   "source": [
    "linsolve(A, (v1, v2, v3))"
   ]
  },
  {
   "cell_type": "code",
   "execution_count": null,
   "id": "f05624d0-33e4-40f2-8cbc-1d44726f0b11",
   "metadata": {},
   "outputs": [],
   "source": []
  }
 ],
 "metadata": {
  "kernelspec": {
   "display_name": "Python 3 (ipykernel)",
   "language": "python",
   "name": "python3"
  },
  "language_info": {
   "codemirror_mode": {
    "name": "ipython",
    "version": 3
   },
   "file_extension": ".py",
   "mimetype": "text/x-python",
   "name": "python",
   "nbconvert_exporter": "python",
   "pygments_lexer": "ipython3",
   "version": "3.13.1"
  }
 },
 "nbformat": 4,
 "nbformat_minor": 5
}
