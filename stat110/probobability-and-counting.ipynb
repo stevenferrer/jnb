{
 "cells": [
  {
   "cell_type": "markdown",
   "id": "b649b0cf-b241-4f61-ac2f-a1a4e961bb2f",
   "metadata": {},
   "source": [
    "# Probability and counting"
   ]
  },
  {
   "cell_type": "markdown",
   "id": "7235b587-c212-4ce3-84d4-22ec4f3a1ff7",
   "metadata": {},
   "source": [
    "## Vectors"
   ]
  },
  {
   "cell_type": "code",
   "execution_count": 1,
   "id": "8e076657-73fb-41c8-8729-85d25d64ea22",
   "metadata": {},
   "outputs": [
    {
     "data": {
      "text/html": [
       "<style>\n",
       ".list-inline {list-style: none; margin:0; padding: 0}\n",
       ".list-inline>li {display: inline-block}\n",
       ".list-inline>li:not(:last-child)::after {content: \"\\00b7\"; padding: 0 .5ex}\n",
       "</style>\n",
       "<ol class=list-inline><li>3</li><li>1</li><li>4</li><li>5</li><li>9</li></ol>\n"
      ],
      "text/latex": [
       "\\begin{enumerate*}\n",
       "\\item 3\n",
       "\\item 1\n",
       "\\item 4\n",
       "\\item 5\n",
       "\\item 9\n",
       "\\end{enumerate*}\n"
      ],
      "text/markdown": [
       "1. 3\n",
       "2. 1\n",
       "3. 4\n",
       "4. 5\n",
       "5. 9\n",
       "\n",
       "\n"
      ],
      "text/plain": [
       "[1] 3 1 4 5 9"
      ]
     },
     "metadata": {},
     "output_type": "display_data"
    }
   ],
   "source": [
    "v <- c(3, 1, 4, 5, 9)\n",
    "v"
   ]
  },
  {
   "cell_type": "code",
   "execution_count": 5,
   "id": "63b1a1da-81fd-406f-984c-e4250a6da684",
   "metadata": {},
   "outputs": [
    {
     "data": {
      "text/html": [
       "22"
      ],
      "text/latex": [
       "22"
      ],
      "text/markdown": [
       "22"
      ],
      "text/plain": [
       "[1] 22"
      ]
     },
     "metadata": {},
     "output_type": "display_data"
    }
   ],
   "source": [
    "sum(v)"
   ]
  },
  {
   "cell_type": "code",
   "execution_count": 6,
   "id": "9c3efe65-f173-470f-9e71-8b5251edced3",
   "metadata": {},
   "outputs": [
    {
     "data": {
      "text/html": [
       "9"
      ],
      "text/latex": [
       "9"
      ],
      "text/markdown": [
       "9"
      ],
      "text/plain": [
       "[1] 9"
      ]
     },
     "metadata": {},
     "output_type": "display_data"
    }
   ],
   "source": [
    "max(v)"
   ]
  },
  {
   "cell_type": "code",
   "execution_count": 7,
   "id": "d390102b-3163-4f22-ae28-b2db9710dc91",
   "metadata": {},
   "outputs": [
    {
     "data": {
      "text/html": [
       "1"
      ],
      "text/latex": [
       "1"
      ],
      "text/markdown": [
       "1"
      ],
      "text/plain": [
       "[1] 1"
      ]
     },
     "metadata": {},
     "output_type": "display_data"
    }
   ],
   "source": [
    "min(v)"
   ]
  },
  {
   "cell_type": "code",
   "execution_count": 8,
   "id": "15329732-a3af-4607-88b7-40071542ebea",
   "metadata": {},
   "outputs": [
    {
     "data": {
      "text/html": [
       "5"
      ],
      "text/latex": [
       "5"
      ],
      "text/markdown": [
       "5"
      ],
      "text/plain": [
       "[1] 5"
      ]
     },
     "metadata": {},
     "output_type": "display_data"
    }
   ],
   "source": [
    "length(v)"
   ]
  },
  {
   "cell_type": "code",
   "execution_count": 11,
   "id": "aa1480f7-2901-44aa-9a7c-5a1c3d988b44",
   "metadata": {},
   "outputs": [
    {
     "data": {
      "text/html": [
       "<style>\n",
       ".list-inline {list-style: none; margin:0; padding: 0}\n",
       ".list-inline>li {display: inline-block}\n",
       ".list-inline>li:not(:last-child)::after {content: \"\\00b7\"; padding: 0 .5ex}\n",
       "</style>\n",
       "<ol class=list-inline><li>1</li><li>2</li><li>3</li><li>4</li><li>5</li><li>6</li><li>7</li><li>8</li><li>9</li></ol>\n"
      ],
      "text/latex": [
       "\\begin{enumerate*}\n",
       "\\item 1\n",
       "\\item 2\n",
       "\\item 3\n",
       "\\item 4\n",
       "\\item 5\n",
       "\\item 6\n",
       "\\item 7\n",
       "\\item 8\n",
       "\\item 9\n",
       "\\end{enumerate*}\n"
      ],
      "text/markdown": [
       "1. 1\n",
       "2. 2\n",
       "3. 3\n",
       "4. 4\n",
       "5. 5\n",
       "6. 6\n",
       "7. 7\n",
       "8. 8\n",
       "9. 9\n",
       "\n",
       "\n"
      ],
      "text/plain": [
       "[1] 1 2 3 4 5 6 7 8 9"
      ]
     },
     "metadata": {},
     "output_type": "display_data"
    }
   ],
   "source": [
    "v2 <- 1:9\n",
    "v2"
   ]
  },
  {
   "cell_type": "code",
   "execution_count": 13,
   "id": "93a8d80f-e33e-4dcb-aa07-ccebbe152276",
   "metadata": {},
   "outputs": [
    {
     "data": {
      "text/html": [
       "<style>\n",
       ".list-inline {list-style: none; margin:0; padding: 0}\n",
       ".list-inline>li {display: inline-block}\n",
       ".list-inline>li:not(:last-child)::after {content: \"\\00b7\"; padding: 0 .5ex}\n",
       "</style>\n",
       "<ol class=list-inline><li>9</li><li>8</li><li>7</li><li>6</li><li>5</li><li>4</li><li>3</li><li>2</li><li>1</li></ol>\n"
      ],
      "text/latex": [
       "\\begin{enumerate*}\n",
       "\\item 9\n",
       "\\item 8\n",
       "\\item 7\n",
       "\\item 6\n",
       "\\item 5\n",
       "\\item 4\n",
       "\\item 3\n",
       "\\item 2\n",
       "\\item 1\n",
       "\\end{enumerate*}\n"
      ],
      "text/markdown": [
       "1. 9\n",
       "2. 8\n",
       "3. 7\n",
       "4. 6\n",
       "5. 5\n",
       "6. 4\n",
       "7. 3\n",
       "8. 2\n",
       "9. 1\n",
       "\n",
       "\n"
      ],
      "text/plain": [
       "[1] 9 8 7 6 5 4 3 2 1"
      ]
     },
     "metadata": {},
     "output_type": "display_data"
    }
   ],
   "source": [
    "v3 <- 9:1\n",
    "v3"
   ]
  },
  {
   "cell_type": "code",
   "execution_count": 14,
   "id": "9c716263-7a40-49f0-a90f-eb4299dc1cc0",
   "metadata": {},
   "outputs": [
    {
     "data": {
      "text/html": [
       "3"
      ],
      "text/latex": [
       "3"
      ],
      "text/markdown": [
       "3"
      ],
      "text/plain": [
       "[1] 3"
      ]
     },
     "metadata": {},
     "output_type": "display_data"
    }
   ],
   "source": [
    "v[1]"
   ]
  },
  {
   "cell_type": "code",
   "execution_count": 15,
   "id": "d7116792-333b-48e8-b107-1e0650f5b6a9",
   "metadata": {},
   "outputs": [
    {
     "data": {
      "text/html": [
       "<style>\n",
       ".list-inline {list-style: none; margin:0; padding: 0}\n",
       ".list-inline>li {display: inline-block}\n",
       ".list-inline>li:not(:last-child)::after {content: \"\\00b7\"; padding: 0 .5ex}\n",
       "</style>\n",
       "<ol class=list-inline><li>3</li><li>4</li><li>9</li></ol>\n"
      ],
      "text/latex": [
       "\\begin{enumerate*}\n",
       "\\item 3\n",
       "\\item 4\n",
       "\\item 9\n",
       "\\end{enumerate*}\n"
      ],
      "text/markdown": [
       "1. 3\n",
       "2. 4\n",
       "3. 9\n",
       "\n",
       "\n"
      ],
      "text/plain": [
       "[1] 3 4 9"
      ]
     },
     "metadata": {},
     "output_type": "display_data"
    }
   ],
   "source": [
    "v[c(1,3,5)]"
   ]
  },
  {
   "cell_type": "code",
   "execution_count": 16,
   "id": "677252f8-4cc6-4812-87ce-6565a5ce1ef9",
   "metadata": {},
   "outputs": [
    {
     "data": {
      "text/html": [
       "<style>\n",
       ".list-inline {list-style: none; margin:0; padding: 0}\n",
       ".list-inline>li {display: inline-block}\n",
       ".list-inline>li:not(:last-child)::after {content: \"\\00b7\"; padding: 0 .5ex}\n",
       "</style>\n",
       "<ol class=list-inline><li>3</li><li>9</li></ol>\n"
      ],
      "text/latex": [
       "\\begin{enumerate*}\n",
       "\\item 3\n",
       "\\item 9\n",
       "\\end{enumerate*}\n"
      ],
      "text/markdown": [
       "1. 3\n",
       "2. 9\n",
       "\n",
       "\n"
      ],
      "text/plain": [
       "[1] 3 9"
      ]
     },
     "metadata": {},
     "output_type": "display_data"
    }
   ],
   "source": [
    "v[-(2:4)]"
   ]
  },
  {
   "cell_type": "code",
   "execution_count": 17,
   "id": "5baa459f-350a-443c-975c-43d5b52e30d4",
   "metadata": {},
   "outputs": [
    {
     "data": {
      "text/html": [
       "<style>\n",
       ".list-inline {list-style: none; margin:0; padding: 0}\n",
       ".list-inline>li {display: inline-block}\n",
       ".list-inline>li:not(:last-child)::after {content: \"\\00b7\"; padding: 0 .5ex}\n",
       "</style>\n",
       "<ol class=list-inline><li>27</li><li>1</li><li>64</li><li>125</li><li>729</li></ol>\n"
      ],
      "text/latex": [
       "\\begin{enumerate*}\n",
       "\\item 27\n",
       "\\item 1\n",
       "\\item 64\n",
       "\\item 125\n",
       "\\item 729\n",
       "\\end{enumerate*}\n"
      ],
      "text/markdown": [
       "1. 27\n",
       "2. 1\n",
       "3. 64\n",
       "4. 125\n",
       "5. 729\n",
       "\n",
       "\n"
      ],
      "text/plain": [
       "[1]  27   1  64 125 729"
      ]
     },
     "metadata": {},
     "output_type": "display_data"
    }
   ],
   "source": [
    "v^3"
   ]
  },
  {
   "cell_type": "code",
   "execution_count": 44,
   "id": "266ff54b-c36f-4aa6-83bc-b4d8fc184dfa",
   "metadata": {},
   "outputs": [
    {
     "data": {
      "text/html": [
       "<style>\n",
       ".list-inline {list-style: none; margin:0; padding: 0}\n",
       ".list-inline>li {display: inline-block}\n",
       ".list-inline>li:not(:last-child)::after {content: \"\\00b7\"; padding: 0 .5ex}\n",
       "</style>\n",
       "<ol class=list-inline><li>1</li><li>0.5</li></ol>\n"
      ],
      "text/latex": [
       "\\begin{enumerate*}\n",
       "\\item 1\n",
       "\\item 0.5\n",
       "\\end{enumerate*}\n"
      ],
      "text/markdown": [
       "1. 1\n",
       "2. 0.5\n",
       "\n",
       "\n"
      ],
      "text/plain": [
       "[1] 1.0 0.5"
      ]
     },
     "metadata": {},
     "output_type": "display_data"
    }
   ],
   "source": [
    "1/c(1, 2)"
   ]
  },
  {
   "cell_type": "code",
   "execution_count": 47,
   "id": "a9c7ad15-1842-4185-966f-7e1bc40ae8fc",
   "metadata": {},
   "outputs": [
    {
     "data": {
      "text/html": [
       "<style>\n",
       ".list-inline {list-style: none; margin:0; padding: 0}\n",
       ".list-inline>li {display: inline-block}\n",
       ".list-inline>li:not(:last-child)::after {content: \"\\00b7\"; padding: 0 .5ex}\n",
       "</style>\n",
       "<ol class=list-inline><li>1</li><li>0.25</li><li>0.111111111111111</li></ol>\n"
      ],
      "text/latex": [
       "\\begin{enumerate*}\n",
       "\\item 1\n",
       "\\item 0.25\n",
       "\\item 0.111111111111111\n",
       "\\end{enumerate*}\n"
      ],
      "text/markdown": [
       "1. 1\n",
       "2. 0.25\n",
       "3. 0.111111111111111\n",
       "\n",
       "\n"
      ],
      "text/plain": [
       "[1] 1.0000000 0.2500000 0.1111111"
      ]
     },
     "metadata": {},
     "output_type": "display_data"
    }
   ],
   "source": [
    "1/(1:3)^2"
   ]
  },
  {
   "cell_type": "code",
   "execution_count": 20,
   "id": "4c980eda-c2c3-4d5f-a766-b93e28992f8e",
   "metadata": {},
   "outputs": [
    {
     "data": {
      "text/html": [
       "<style>\n",
       ".list-inline {list-style: none; margin:0; padding: 0}\n",
       ".list-inline>li {display: inline-block}\n",
       ".list-inline>li:not(:last-child)::after {content: \"\\00b7\"; padding: 0 .5ex}\n",
       "</style>\n",
       "<ol class=list-inline><li>6</li><li>4</li><li>7</li><li>8</li><li>12</li></ol>\n"
      ],
      "text/latex": [
       "\\begin{enumerate*}\n",
       "\\item 6\n",
       "\\item 4\n",
       "\\item 7\n",
       "\\item 8\n",
       "\\item 12\n",
       "\\end{enumerate*}\n"
      ],
      "text/markdown": [
       "1. 6\n",
       "2. 4\n",
       "3. 7\n",
       "4. 8\n",
       "5. 12\n",
       "\n",
       "\n"
      ],
      "text/plain": [
       "[1]  6  4  7  8 12"
      ]
     },
     "metadata": {},
     "output_type": "display_data"
    }
   ],
   "source": [
    "v+3"
   ]
  },
  {
   "cell_type": "markdown",
   "id": "309f6f99-4977-4871-a4cb-c4fbbb5bba68",
   "metadata": {},
   "source": [
    "## Factorials adnd binomial coefficients"
   ]
  },
  {
   "cell_type": "code",
   "execution_count": 22,
   "id": "66ca3a6f-7c8f-4a69-ac98-009e3f9004d3",
   "metadata": {},
   "outputs": [
    {
     "data": {
      "text/html": [
       "6"
      ],
      "text/latex": [
       "6"
      ],
      "text/markdown": [
       "6"
      ],
      "text/plain": [
       "[1] 6"
      ]
     },
     "metadata": {},
     "output_type": "display_data"
    }
   ],
   "source": [
    "factorial(3)"
   ]
  },
  {
   "cell_type": "code",
   "execution_count": 23,
   "id": "1ed36393-6e97-4be1-ba1c-532fe049cf38",
   "metadata": {},
   "outputs": [
    {
     "data": {
      "text/html": [
       "35"
      ],
      "text/latex": [
       "35"
      ],
      "text/markdown": [
       "35"
      ],
      "text/plain": [
       "[1] 35"
      ]
     },
     "metadata": {},
     "output_type": "display_data"
    }
   ],
   "source": [
    "choose(7,4)"
   ]
  },
  {
   "cell_type": "code",
   "execution_count": 41,
   "id": "24ab7f95-0a0b-4498-b339-0fb018c5b11b",
   "metadata": {},
   "outputs": [
    {
     "data": {
      "text/html": [
       "7.25741561530888e+306"
      ],
      "text/latex": [
       "7.25741561530888e+306"
      ],
      "text/markdown": [
       "7.25741561530888e+306"
      ],
      "text/plain": [
       "[1] 7.257416e+306"
      ]
     },
     "metadata": {},
     "output_type": "display_data"
    }
   ],
   "source": [
    "factorial(170) #max"
   ]
  },
  {
   "cell_type": "markdown",
   "id": "cd507667-577e-4c37-af48-d1a24d2c363c",
   "metadata": {},
   "source": [
    "## Sampling and simulation"
   ]
  },
  {
   "cell_type": "code",
   "execution_count": 54,
   "id": "7f85fbaa-acb7-4d5c-bb5b-dfd07ddd9184",
   "metadata": {},
   "outputs": [
    {
     "data": {
      "text/html": [
       "<style>\n",
       ".list-inline {list-style: none; margin:0; padding: 0}\n",
       ".list-inline>li {display: inline-block}\n",
       ".list-inline>li:not(:last-child)::after {content: \"\\00b7\"; padding: 0 .5ex}\n",
       "</style>\n",
       "<ol class=list-inline><li>9</li><li>6</li><li>7</li><li>8</li><li>5</li></ol>\n"
      ],
      "text/latex": [
       "\\begin{enumerate*}\n",
       "\\item 9\n",
       "\\item 6\n",
       "\\item 7\n",
       "\\item 8\n",
       "\\item 5\n",
       "\\end{enumerate*}\n"
      ],
      "text/markdown": [
       "1. 9\n",
       "2. 6\n",
       "3. 7\n",
       "4. 8\n",
       "5. 5\n",
       "\n",
       "\n"
      ],
      "text/plain": [
       "[1] 9 6 7 8 5"
      ]
     },
     "metadata": {},
     "output_type": "display_data"
    }
   ],
   "source": [
    "# sample without replacement\n",
    "n <- 10; k <- 5\n",
    "sample(n, k)"
   ]
  },
  {
   "cell_type": "code",
   "execution_count": 57,
   "id": "4f387c9c-1974-428a-b2e0-c62f157c177c",
   "metadata": {},
   "outputs": [
    {
     "data": {
      "text/html": [
       "<style>\n",
       ".list-inline {list-style: none; margin:0; padding: 0}\n",
       ".list-inline>li {display: inline-block}\n",
       ".list-inline>li:not(:last-child)::after {content: \"\\00b7\"; padding: 0 .5ex}\n",
       "</style>\n",
       "<ol class=list-inline><li>7</li><li>8</li><li>2</li><li>9</li><li>9</li></ol>\n"
      ],
      "text/latex": [
       "\\begin{enumerate*}\n",
       "\\item 7\n",
       "\\item 8\n",
       "\\item 2\n",
       "\\item 9\n",
       "\\item 9\n",
       "\\end{enumerate*}\n"
      ],
      "text/markdown": [
       "1. 7\n",
       "2. 8\n",
       "3. 2\n",
       "4. 9\n",
       "5. 9\n",
       "\n",
       "\n"
      ],
      "text/plain": [
       "[1] 7 8 2 9 9"
      ]
     },
     "metadata": {},
     "output_type": "display_data"
    }
   ],
   "source": [
    "# sample with replacement\n",
    "n <- 10; k <- 5\n",
    "sample(n, k, replace=TRUE)"
   ]
  },
  {
   "cell_type": "code",
   "execution_count": 61,
   "id": "87e7a5d4-a61c-422f-add7-38940ee988ba",
   "metadata": {},
   "outputs": [
    {
     "data": {
      "text/html": [
       "<style>\n",
       ".list-inline {list-style: none; margin:0; padding: 0}\n",
       ".list-inline>li {display: inline-block}\n",
       ".list-inline>li:not(:last-child)::after {content: \"\\00b7\"; padding: 0 .5ex}\n",
       "</style>\n",
       "<ol class=list-inline><li>6</li><li>4</li><li>3</li><li>9</li><li>10</li><li>2</li><li>7</li><li>8</li><li>5</li><li>1</li></ol>\n"
      ],
      "text/latex": [
       "\\begin{enumerate*}\n",
       "\\item 6\n",
       "\\item 4\n",
       "\\item 3\n",
       "\\item 9\n",
       "\\item 10\n",
       "\\item 2\n",
       "\\item 7\n",
       "\\item 8\n",
       "\\item 5\n",
       "\\item 1\n",
       "\\end{enumerate*}\n"
      ],
      "text/markdown": [
       "1. 6\n",
       "2. 4\n",
       "3. 3\n",
       "4. 9\n",
       "5. 10\n",
       "6. 2\n",
       "7. 7\n",
       "8. 8\n",
       "9. 5\n",
       "10. 1\n",
       "\n",
       "\n"
      ],
      "text/plain": [
       " [1]  6  4  3  9 10  2  7  8  5  1"
      ]
     },
     "metadata": {},
     "output_type": "display_data"
    }
   ],
   "source": [
    "# random sample of permutation 1,2,...,n\n",
    "sample(n)"
   ]
  },
  {
   "cell_type": "code",
   "execution_count": 63,
   "id": "99b7d93d-78b4-4f88-9313-ae60db511057",
   "metadata": {},
   "outputs": [
    {
     "data": {
      "text/html": [
       "<style>\n",
       ".list-inline {list-style: none; margin:0; padding: 0}\n",
       ".list-inline>li {display: inline-block}\n",
       ".list-inline>li:not(:last-child)::after {content: \"\\00b7\"; padding: 0 .5ex}\n",
       "</style>\n",
       "<ol class=list-inline><li>'b'</li><li>'e'</li><li>'f'</li><li>'j'</li><li>'h'</li><li>'d'</li><li>'a'</li></ol>\n"
      ],
      "text/latex": [
       "\\begin{enumerate*}\n",
       "\\item 'b'\n",
       "\\item 'e'\n",
       "\\item 'f'\n",
       "\\item 'j'\n",
       "\\item 'h'\n",
       "\\item 'd'\n",
       "\\item 'a'\n",
       "\\end{enumerate*}\n"
      ],
      "text/markdown": [
       "1. 'b'\n",
       "2. 'e'\n",
       "3. 'f'\n",
       "4. 'j'\n",
       "5. 'h'\n",
       "6. 'd'\n",
       "7. 'a'\n",
       "\n",
       "\n"
      ],
      "text/plain": [
       "[1] \"b\" \"e\" \"f\" \"j\" \"h\" \"d\" \"a\""
      ]
     },
     "metadata": {},
     "output_type": "display_data"
    }
   ],
   "source": [
    "# sample 7 letters\n",
    "sample(letters, 7)"
   ]
  },
  {
   "cell_type": "code",
   "execution_count": 76,
   "id": "af623e19-425e-4fc0-9d2f-1ea73e3384bf",
   "metadata": {},
   "outputs": [
    {
     "data": {
      "text/html": [
       "<style>\n",
       ".list-inline {list-style: none; margin:0; padding: 0}\n",
       ".list-inline>li {display: inline-block}\n",
       ".list-inline>li:not(:last-child)::after {content: \"\\00b7\"; padding: 0 .5ex}\n",
       "</style>\n",
       "<ol class=list-inline><li>2</li><li>3</li><li>4</li></ol>\n"
      ],
      "text/latex": [
       "\\begin{enumerate*}\n",
       "\\item 2\n",
       "\\item 3\n",
       "\\item 4\n",
       "\\end{enumerate*}\n"
      ],
      "text/markdown": [
       "1. 2\n",
       "2. 3\n",
       "3. 4\n",
       "\n",
       "\n"
      ],
      "text/plain": [
       "[1] 2 3 4"
      ]
     },
     "metadata": {},
     "output_type": "display_data"
    }
   ],
   "source": [
    "# sample with probabilities\n",
    "sample(4, 3, replace=TRUE, prob=c(0.1, 0.2, 0.3, 0.4))"
   ]
  },
  {
   "cell_type": "markdown",
   "id": "6a5b7c38-6c45-4497-9581-342bb4bcef1c",
   "metadata": {},
   "source": [
    "## Matching problem simulation"
   ]
  },
  {
   "cell_type": "code",
   "execution_count": 77,
   "id": "7bc4b5f8-346a-4810-8131-6499196746b1",
   "metadata": {},
   "outputs": [],
   "source": [
    "n <- 100 # number of cards"
   ]
  },
  {
   "cell_type": "code",
   "execution_count": 79,
   "id": "6c2b64be-8b97-47e3-ac0b-e2ec231e35e3",
   "metadata": {},
   "outputs": [],
   "source": [
    "r <- replicate(10^4, sum(sample(n) == (1:n)))"
   ]
  },
  {
   "cell_type": "code",
   "execution_count": 80,
   "id": "f48472c2-088f-45af-b6ce-eaf16a028589",
   "metadata": {},
   "outputs": [
    {
     "data": {
      "text/html": [
       "0.6389"
      ],
      "text/latex": [
       "0.6389"
      ],
      "text/markdown": [
       "0.6389"
      ],
      "text/plain": [
       "[1] 0.6389"
      ]
     },
     "metadata": {},
     "output_type": "display_data"
    }
   ],
   "source": [
    "# add-up the 'wins' and divide by the number of simulations/experiments\n",
    "sum(r >= 1) / 10^4"
   ]
  },
  {
   "cell_type": "code",
   "execution_count": 85,
   "id": "bcf3eae5-dfc9-421d-9e59-218160a2a6f7",
   "metadata": {},
   "outputs": [
    {
     "data": {
      "text/html": [
       "2"
      ],
      "text/latex": [
       "2"
      ],
      "text/markdown": [
       "2"
      ],
      "text/plain": [
       "[1] 2"
      ]
     },
     "metadata": {},
     "output_type": "display_data"
    }
   ],
   "source": [
    "# sum the cards that matches its position in the deck\n",
    "sum(sample(n) == (1:n))"
   ]
  },
  {
   "cell_type": "code",
   "execution_count": 86,
   "id": "d26e203f-192c-456b-b765-e927a274e595",
   "metadata": {},
   "outputs": [
    {
     "data": {
      "text/html": [
       "<style>\n",
       ".list-inline {list-style: none; margin:0; padding: 0}\n",
       ".list-inline>li {display: inline-block}\n",
       ".list-inline>li:not(:last-child)::after {content: \"\\00b7\"; padding: 0 .5ex}\n",
       "</style>\n",
       "<ol class=list-inline><li>2</li><li>0</li><li>1</li><li>0</li><li>0</li><li>0</li><li>0</li><li>0</li><li>1</li><li>1</li></ol>\n"
      ],
      "text/latex": [
       "\\begin{enumerate*}\n",
       "\\item 2\n",
       "\\item 0\n",
       "\\item 1\n",
       "\\item 0\n",
       "\\item 0\n",
       "\\item 0\n",
       "\\item 0\n",
       "\\item 0\n",
       "\\item 1\n",
       "\\item 1\n",
       "\\end{enumerate*}\n"
      ],
      "text/markdown": [
       "1. 2\n",
       "2. 0\n",
       "3. 1\n",
       "4. 0\n",
       "5. 0\n",
       "6. 0\n",
       "7. 0\n",
       "8. 0\n",
       "9. 1\n",
       "10. 1\n",
       "\n",
       "\n"
      ],
      "text/plain": [
       " [1] 2 0 1 0 0 0 0 0 1 1"
      ]
     },
     "metadata": {},
     "output_type": "display_data"
    }
   ],
   "source": [
    "replicate(10, sum(sample(n) == (1:n)))"
   ]
  },
  {
   "cell_type": "markdown",
   "id": "81849069-8367-4028-babc-e81b65942e6d",
   "metadata": {},
   "source": [
    "## Birthday problem calculation and simulation"
   ]
  },
  {
   "cell_type": "code",
   "execution_count": 87,
   "id": "75f097fe-505a-4a95-8380-01696451d7a0",
   "metadata": {},
   "outputs": [],
   "source": [
    "k <- 23"
   ]
  },
  {
   "cell_type": "code",
   "execution_count": 88,
   "id": "8df7f3d2-5502-4f98-8c02-b82083aa2db2",
   "metadata": {},
   "outputs": [
    {
     "data": {
      "text/html": [
       "0.507297234323985"
      ],
      "text/latex": [
       "0.507297234323985"
      ],
      "text/markdown": [
       "0.507297234323985"
      ],
      "text/plain": [
       "[1] 0.5072972"
      ]
     },
     "metadata": {},
     "output_type": "display_data"
    }
   ],
   "source": [
    "1 - prod((365-k+1):365)/365^k"
   ]
  },
  {
   "cell_type": "code",
   "execution_count": 89,
   "id": "9d5efc81-d7df-4c5f-ab0c-48f3c536c006",
   "metadata": {},
   "outputs": [
    {
     "data": {
      "text/html": [
       "0.507297234323986"
      ],
      "text/latex": [
       "0.507297234323986"
      ],
      "text/markdown": [
       "0.507297234323986"
      ],
      "text/plain": [
       "[1] 0.5072972"
      ]
     },
     "metadata": {},
     "output_type": "display_data"
    }
   ],
   "source": [
    "pbirthday(k)"
   ]
  },
  {
   "cell_type": "code",
   "execution_count": 90,
   "id": "83b9ba2b-03b1-4e67-8167-267e3d0114b6",
   "metadata": {},
   "outputs": [
    {
     "data": {
      "text/html": [
       "23"
      ],
      "text/latex": [
       "23"
      ],
      "text/markdown": [
       "23"
      ],
      "text/plain": [
       "[1] 23"
      ]
     },
     "metadata": {},
     "output_type": "display_data"
    }
   ],
   "source": [
    "qbirthday(.5)"
   ]
  },
  {
   "cell_type": "code",
   "execution_count": 93,
   "id": "5a54fab5-0401-4daf-93e6-be5285ac8ebc",
   "metadata": {},
   "outputs": [
    {
     "data": {
      "text/html": [
       "0.0144154061550243"
      ],
      "text/latex": [
       "0.0144154061550243"
      ],
      "text/markdown": [
       "0.0144154061550243"
      ],
      "text/plain": [
       "[1] 0.01441541"
      ]
     },
     "metadata": {},
     "output_type": "display_data"
    }
   ],
   "source": [
    "# triple birthday match\n",
    "pbirthday(23, coincident=3)"
   ]
  },
  {
   "cell_type": "code",
   "execution_count": 95,
   "id": "5237c816-67e5-478f-8629-a86492a5dc98",
   "metadata": {},
   "outputs": [
    {
     "data": {
      "text/html": [
       "88"
      ],
      "text/latex": [
       "88"
      ],
      "text/markdown": [
       "88"
      ],
      "text/plain": [
       "[1] 88"
      ]
     },
     "metadata": {},
     "output_type": "display_data"
    }
   ],
   "source": [
    "qbirthday(0.5, coincident=3)"
   ]
  },
  {
   "cell_type": "code",
   "execution_count": 96,
   "id": "9b3e0bf5-e9da-4346-9737-48dbb3f8d856",
   "metadata": {},
   "outputs": [
    {
     "data": {
      "text/html": [
       "<style>\n",
       ".list-inline {list-style: none; margin:0; padding: 0}\n",
       ".list-inline>li {display: inline-block}\n",
       ".list-inline>li:not(:last-child)::after {content: \"\\00b7\"; padding: 0 .5ex}\n",
       "</style>\n",
       "<ol class=list-inline><li>299</li><li>317</li><li>331</li><li>258</li><li>266</li><li>207</li><li>319</li><li>245</li><li>58</li><li>138</li><li>33</li><li>35</li><li>188</li><li>172</li><li>47</li><li>99</li><li>186</li><li>115</li><li>313</li><li>301</li><li>78</li><li>200</li><li>165</li></ol>\n"
      ],
      "text/latex": [
       "\\begin{enumerate*}\n",
       "\\item 299\n",
       "\\item 317\n",
       "\\item 331\n",
       "\\item 258\n",
       "\\item 266\n",
       "\\item 207\n",
       "\\item 319\n",
       "\\item 245\n",
       "\\item 58\n",
       "\\item 138\n",
       "\\item 33\n",
       "\\item 35\n",
       "\\item 188\n",
       "\\item 172\n",
       "\\item 47\n",
       "\\item 99\n",
       "\\item 186\n",
       "\\item 115\n",
       "\\item 313\n",
       "\\item 301\n",
       "\\item 78\n",
       "\\item 200\n",
       "\\item 165\n",
       "\\end{enumerate*}\n"
      ],
      "text/markdown": [
       "1. 299\n",
       "2. 317\n",
       "3. 331\n",
       "4. 258\n",
       "5. 266\n",
       "6. 207\n",
       "7. 319\n",
       "8. 245\n",
       "9. 58\n",
       "10. 138\n",
       "11. 33\n",
       "12. 35\n",
       "13. 188\n",
       "14. 172\n",
       "15. 47\n",
       "16. 99\n",
       "17. 186\n",
       "18. 115\n",
       "19. 313\n",
       "20. 301\n",
       "21. 78\n",
       "22. 200\n",
       "23. 165\n",
       "\n",
       "\n"
      ],
      "text/plain": [
       " [1] 299 317 331 258 266 207 319 245  58 138  33  35 188 172  47  99 186 115 313\n",
       "[20] 301  78 200 165"
      ]
     },
     "metadata": {},
     "output_type": "display_data"
    }
   ],
   "source": [
    "# birthday problem simulation\n",
    "b <- sample(1:365, 23, replace=TRUE)\n",
    "b"
   ]
  },
  {
   "cell_type": "code",
   "execution_count": 97,
   "id": "5471c2d5-6661-435e-99bf-558900872932",
   "metadata": {},
   "outputs": [
    {
     "data": {
      "text/html": [
       "<style>\n",
       ".list-inline {list-style: none; margin:0; padding: 0}\n",
       ".list-inline>li {display: inline-block}\n",
       ".list-inline>li:not(:last-child)::after {content: \"\\00b7\"; padding: 0 .5ex}\n",
       "</style>\n",
       "<ol class=list-inline><li>0</li><li>0</li><li>0</li><li>0</li><li>0</li><li>0</li><li>0</li><li>0</li><li>0</li><li>0</li><li>0</li><li>0</li><li>0</li><li>0</li><li>0</li><li>0</li><li>0</li><li>0</li><li>0</li><li>0</li><li>0</li><li>0</li><li>0</li><li>0</li><li>0</li><li>0</li><li>0</li><li>0</li><li>0</li><li>0</li><li>0</li><li>0</li><li>1</li><li>0</li><li>1</li><li>0</li><li>0</li><li>0</li><li>0</li><li>0</li><li>0</li><li>0</li><li>0</li><li>0</li><li>0</li><li>0</li><li>1</li><li>0</li><li>0</li><li>0</li><li>0</li><li>0</li><li>0</li><li>0</li><li>0</li><li>0</li><li>0</li><li>1</li><li>0</li><li>0</li><li>0</li><li>0</li><li>0</li><li>0</li><li>0</li><li>0</li><li>0</li><li>0</li><li>0</li><li>0</li><li>0</li><li>0</li><li>0</li><li>0</li><li>0</li><li>0</li><li>0</li><li>1</li><li>0</li><li>0</li><li>0</li><li>0</li><li>0</li><li>0</li><li>0</li><li>0</li><li>0</li><li>0</li><li>0</li><li>0</li><li>0</li><li>0</li><li>0</li><li>0</li><li>0</li><li>0</li><li>0</li><li>0</li><li>1</li><li>0</li><li>0</li><li>0</li><li>0</li><li>0</li><li>0</li><li>0</li><li>0</li><li>0</li><li>0</li><li>0</li><li>0</li><li>0</li><li>0</li><li>0</li><li>1</li><li>0</li><li>0</li><li>0</li><li>0</li><li>0</li><li>0</li><li>0</li><li>0</li><li>0</li><li>0</li><li>0</li><li>0</li><li>0</li><li>0</li><li>0</li><li>0</li><li>0</li><li>0</li><li>0</li><li>0</li><li>0</li><li>0</li><li>1</li><li>0</li><li>0</li><li>0</li><li>0</li><li>0</li><li>0</li><li>0</li><li>0</li><li>0</li><li>0</li><li>0</li><li>0</li><li>0</li><li>0</li><li>0</li><li>0</li><li>0</li><li>0</li><li>0</li><li>0</li><li>0</li><li>0</li><li>0</li><li>0</li><li>0</li><li>0</li><li>1</li><li>0</li><li>0</li><li>0</li><li>0</li><li>0</li><li>0</li><li>1</li><li>0</li><li>0</li><li>0</li><li>0</li><li>0</li><li>0</li><li>0</li><li>0</li><li>0</li><li>0</li><li>0</li><li>0</li><li>0</li><li>1</li><li>0</li><li>1</li><li>0</li><li>0</li><li>0</li><li>0</li><li>0</li><li>0</li><li>0</li><li>0</li><li>0</li><li>0</li><li>0</li><li>1</li><li>0</li><li>0</li><li>0</li><li>0</li><li>0</li><li>0</li><li>1</li><li>0</li><li>0</li><li>0</li><li>0</li><li>0</li><li>0</li><li>0</li><li>0</li><li>0</li><li>0</li><li>0</li><li>0</li><li>0</li><li>0</li><li>0</li><li>0</li><li>0</li><li>0</li><li>0</li><li>0</li><li>0</li><li>0</li><li>0</li><li>0</li><li>0</li><li>0</li><li>0</li><li>0</li><li>0</li><li>0</li><li>0</li><li>0</li><li>0</li><li>0</li><li>0</li><li>0</li><li>0</li><li>1</li><li>0</li><li>0</li><li>0</li><li>0</li><li>0</li><li>0</li><li>0</li><li>0</li><li>0</li><li>0</li><li>0</li><li>0</li><li>1</li><li>0</li><li>0</li><li>0</li><li>0</li><li>0</li><li>0</li><li>0</li><li>1</li><li>0</li><li>0</li><li>0</li><li>0</li><li>0</li><li>0</li><li>0</li><li>0</li><li>0</li><li>0</li><li>0</li><li>0</li><li>0</li><li>0</li><li>0</li><li>0</li><li>0</li><li>0</li><li>0</li><li>0</li><li>0</li><li>0</li><li>0</li><li>0</li><li>0</li><li>0</li><li>0</li><li>0</li><li>0</li><li>0</li><li>0</li><li>0</li><li>1</li><li>0</li><li>1</li><li>0</li><li>0</li><li>0</li><li>0</li><li>0</li><li>0</li><li>0</li><li>0</li><li>0</li><li>0</li><li>0</li><li>1</li><li>0</li><li>0</li><li>0</li><li>1</li><li>0</li><li>1</li><li>0</li><li>0</li><li>0</li><li>0</li><li>0</li><li>0</li><li>0</li><li>0</li><li>0</li><li>0</li><li>0</li><li>1</li></ol>\n"
      ],
      "text/latex": [
       "\\begin{enumerate*}\n",
       "\\item 0\n",
       "\\item 0\n",
       "\\item 0\n",
       "\\item 0\n",
       "\\item 0\n",
       "\\item 0\n",
       "\\item 0\n",
       "\\item 0\n",
       "\\item 0\n",
       "\\item 0\n",
       "\\item 0\n",
       "\\item 0\n",
       "\\item 0\n",
       "\\item 0\n",
       "\\item 0\n",
       "\\item 0\n",
       "\\item 0\n",
       "\\item 0\n",
       "\\item 0\n",
       "\\item 0\n",
       "\\item 0\n",
       "\\item 0\n",
       "\\item 0\n",
       "\\item 0\n",
       "\\item 0\n",
       "\\item 0\n",
       "\\item 0\n",
       "\\item 0\n",
       "\\item 0\n",
       "\\item 0\n",
       "\\item 0\n",
       "\\item 0\n",
       "\\item 1\n",
       "\\item 0\n",
       "\\item 1\n",
       "\\item 0\n",
       "\\item 0\n",
       "\\item 0\n",
       "\\item 0\n",
       "\\item 0\n",
       "\\item 0\n",
       "\\item 0\n",
       "\\item 0\n",
       "\\item 0\n",
       "\\item 0\n",
       "\\item 0\n",
       "\\item 1\n",
       "\\item 0\n",
       "\\item 0\n",
       "\\item 0\n",
       "\\item 0\n",
       "\\item 0\n",
       "\\item 0\n",
       "\\item 0\n",
       "\\item 0\n",
       "\\item 0\n",
       "\\item 0\n",
       "\\item 1\n",
       "\\item 0\n",
       "\\item 0\n",
       "\\item 0\n",
       "\\item 0\n",
       "\\item 0\n",
       "\\item 0\n",
       "\\item 0\n",
       "\\item 0\n",
       "\\item 0\n",
       "\\item 0\n",
       "\\item 0\n",
       "\\item 0\n",
       "\\item 0\n",
       "\\item 0\n",
       "\\item 0\n",
       "\\item 0\n",
       "\\item 0\n",
       "\\item 0\n",
       "\\item 0\n",
       "\\item 1\n",
       "\\item 0\n",
       "\\item 0\n",
       "\\item 0\n",
       "\\item 0\n",
       "\\item 0\n",
       "\\item 0\n",
       "\\item 0\n",
       "\\item 0\n",
       "\\item 0\n",
       "\\item 0\n",
       "\\item 0\n",
       "\\item 0\n",
       "\\item 0\n",
       "\\item 0\n",
       "\\item 0\n",
       "\\item 0\n",
       "\\item 0\n",
       "\\item 0\n",
       "\\item 0\n",
       "\\item 0\n",
       "\\item 1\n",
       "\\item 0\n",
       "\\item 0\n",
       "\\item 0\n",
       "\\item 0\n",
       "\\item 0\n",
       "\\item 0\n",
       "\\item 0\n",
       "\\item 0\n",
       "\\item 0\n",
       "\\item 0\n",
       "\\item 0\n",
       "\\item 0\n",
       "\\item 0\n",
       "\\item 0\n",
       "\\item 0\n",
       "\\item 1\n",
       "\\item 0\n",
       "\\item 0\n",
       "\\item 0\n",
       "\\item 0\n",
       "\\item 0\n",
       "\\item 0\n",
       "\\item 0\n",
       "\\item 0\n",
       "\\item 0\n",
       "\\item 0\n",
       "\\item 0\n",
       "\\item 0\n",
       "\\item 0\n",
       "\\item 0\n",
       "\\item 0\n",
       "\\item 0\n",
       "\\item 0\n",
       "\\item 0\n",
       "\\item 0\n",
       "\\item 0\n",
       "\\item 0\n",
       "\\item 0\n",
       "\\item 1\n",
       "\\item 0\n",
       "\\item 0\n",
       "\\item 0\n",
       "\\item 0\n",
       "\\item 0\n",
       "\\item 0\n",
       "\\item 0\n",
       "\\item 0\n",
       "\\item 0\n",
       "\\item 0\n",
       "\\item 0\n",
       "\\item 0\n",
       "\\item 0\n",
       "\\item 0\n",
       "\\item 0\n",
       "\\item 0\n",
       "\\item 0\n",
       "\\item 0\n",
       "\\item 0\n",
       "\\item 0\n",
       "\\item 0\n",
       "\\item 0\n",
       "\\item 0\n",
       "\\item 0\n",
       "\\item 0\n",
       "\\item 0\n",
       "\\item 1\n",
       "\\item 0\n",
       "\\item 0\n",
       "\\item 0\n",
       "\\item 0\n",
       "\\item 0\n",
       "\\item 0\n",
       "\\item 1\n",
       "\\item 0\n",
       "\\item 0\n",
       "\\item 0\n",
       "\\item 0\n",
       "\\item 0\n",
       "\\item 0\n",
       "\\item 0\n",
       "\\item 0\n",
       "\\item 0\n",
       "\\item 0\n",
       "\\item 0\n",
       "\\item 0\n",
       "\\item 0\n",
       "\\item 1\n",
       "\\item 0\n",
       "\\item 1\n",
       "\\item 0\n",
       "\\item 0\n",
       "\\item 0\n",
       "\\item 0\n",
       "\\item 0\n",
       "\\item 0\n",
       "\\item 0\n",
       "\\item 0\n",
       "\\item 0\n",
       "\\item 0\n",
       "\\item 0\n",
       "\\item 1\n",
       "\\item 0\n",
       "\\item 0\n",
       "\\item 0\n",
       "\\item 0\n",
       "\\item 0\n",
       "\\item 0\n",
       "\\item 1\n",
       "\\item 0\n",
       "\\item 0\n",
       "\\item 0\n",
       "\\item 0\n",
       "\\item 0\n",
       "\\item 0\n",
       "\\item 0\n",
       "\\item 0\n",
       "\\item 0\n",
       "\\item 0\n",
       "\\item 0\n",
       "\\item 0\n",
       "\\item 0\n",
       "\\item 0\n",
       "\\item 0\n",
       "\\item 0\n",
       "\\item 0\n",
       "\\item 0\n",
       "\\item 0\n",
       "\\item 0\n",
       "\\item 0\n",
       "\\item 0\n",
       "\\item 0\n",
       "\\item 0\n",
       "\\item 0\n",
       "\\item 0\n",
       "\\item 0\n",
       "\\item 0\n",
       "\\item 0\n",
       "\\item 0\n",
       "\\item 0\n",
       "\\item 0\n",
       "\\item 0\n",
       "\\item 0\n",
       "\\item 0\n",
       "\\item 0\n",
       "\\item 0\n",
       "\\item 1\n",
       "\\item 0\n",
       "\\item 0\n",
       "\\item 0\n",
       "\\item 0\n",
       "\\item 0\n",
       "\\item 0\n",
       "\\item 0\n",
       "\\item 0\n",
       "\\item 0\n",
       "\\item 0\n",
       "\\item 0\n",
       "\\item 0\n",
       "\\item 1\n",
       "\\item 0\n",
       "\\item 0\n",
       "\\item 0\n",
       "\\item 0\n",
       "\\item 0\n",
       "\\item 0\n",
       "\\item 0\n",
       "\\item 1\n",
       "\\item 0\n",
       "\\item 0\n",
       "\\item 0\n",
       "\\item 0\n",
       "\\item 0\n",
       "\\item 0\n",
       "\\item 0\n",
       "\\item 0\n",
       "\\item 0\n",
       "\\item 0\n",
       "\\item 0\n",
       "\\item 0\n",
       "\\item 0\n",
       "\\item 0\n",
       "\\item 0\n",
       "\\item 0\n",
       "\\item 0\n",
       "\\item 0\n",
       "\\item 0\n",
       "\\item 0\n",
       "\\item 0\n",
       "\\item 0\n",
       "\\item 0\n",
       "\\item 0\n",
       "\\item 0\n",
       "\\item 0\n",
       "\\item 0\n",
       "\\item 0\n",
       "\\item 0\n",
       "\\item 0\n",
       "\\item 0\n",
       "\\item 0\n",
       "\\item 1\n",
       "\\item 0\n",
       "\\item 1\n",
       "\\item 0\n",
       "\\item 0\n",
       "\\item 0\n",
       "\\item 0\n",
       "\\item 0\n",
       "\\item 0\n",
       "\\item 0\n",
       "\\item 0\n",
       "\\item 0\n",
       "\\item 0\n",
       "\\item 0\n",
       "\\item 1\n",
       "\\item 0\n",
       "\\item 0\n",
       "\\item 0\n",
       "\\item 1\n",
       "\\item 0\n",
       "\\item 1\n",
       "\\item 0\n",
       "\\item 0\n",
       "\\item 0\n",
       "\\item 0\n",
       "\\item 0\n",
       "\\item 0\n",
       "\\item 0\n",
       "\\item 0\n",
       "\\item 0\n",
       "\\item 0\n",
       "\\item 0\n",
       "\\item 1\n",
       "\\end{enumerate*}\n"
      ],
      "text/markdown": [
       "1. 0\n",
       "2. 0\n",
       "3. 0\n",
       "4. 0\n",
       "5. 0\n",
       "6. 0\n",
       "7. 0\n",
       "8. 0\n",
       "9. 0\n",
       "10. 0\n",
       "11. 0\n",
       "12. 0\n",
       "13. 0\n",
       "14. 0\n",
       "15. 0\n",
       "16. 0\n",
       "17. 0\n",
       "18. 0\n",
       "19. 0\n",
       "20. 0\n",
       "21. 0\n",
       "22. 0\n",
       "23. 0\n",
       "24. 0\n",
       "25. 0\n",
       "26. 0\n",
       "27. 0\n",
       "28. 0\n",
       "29. 0\n",
       "30. 0\n",
       "31. 0\n",
       "32. 0\n",
       "33. 1\n",
       "34. 0\n",
       "35. 1\n",
       "36. 0\n",
       "37. 0\n",
       "38. 0\n",
       "39. 0\n",
       "40. 0\n",
       "41. 0\n",
       "42. 0\n",
       "43. 0\n",
       "44. 0\n",
       "45. 0\n",
       "46. 0\n",
       "47. 1\n",
       "48. 0\n",
       "49. 0\n",
       "50. 0\n",
       "51. 0\n",
       "52. 0\n",
       "53. 0\n",
       "54. 0\n",
       "55. 0\n",
       "56. 0\n",
       "57. 0\n",
       "58. 1\n",
       "59. 0\n",
       "60. 0\n",
       "61. 0\n",
       "62. 0\n",
       "63. 0\n",
       "64. 0\n",
       "65. 0\n",
       "66. 0\n",
       "67. 0\n",
       "68. 0\n",
       "69. 0\n",
       "70. 0\n",
       "71. 0\n",
       "72. 0\n",
       "73. 0\n",
       "74. 0\n",
       "75. 0\n",
       "76. 0\n",
       "77. 0\n",
       "78. 1\n",
       "79. 0\n",
       "80. 0\n",
       "81. 0\n",
       "82. 0\n",
       "83. 0\n",
       "84. 0\n",
       "85. 0\n",
       "86. 0\n",
       "87. 0\n",
       "88. 0\n",
       "89. 0\n",
       "90. 0\n",
       "91. 0\n",
       "92. 0\n",
       "93. 0\n",
       "94. 0\n",
       "95. 0\n",
       "96. 0\n",
       "97. 0\n",
       "98. 0\n",
       "99. 1\n",
       "100. 0\n",
       "101. 0\n",
       "102. 0\n",
       "103. 0\n",
       "104. 0\n",
       "105. 0\n",
       "106. 0\n",
       "107. 0\n",
       "108. 0\n",
       "109. 0\n",
       "110. 0\n",
       "111. 0\n",
       "112. 0\n",
       "113. 0\n",
       "114. 0\n",
       "115. 1\n",
       "116. 0\n",
       "117. 0\n",
       "118. 0\n",
       "119. 0\n",
       "120. 0\n",
       "121. 0\n",
       "122. 0\n",
       "123. 0\n",
       "124. 0\n",
       "125. 0\n",
       "126. 0\n",
       "127. 0\n",
       "128. 0\n",
       "129. 0\n",
       "130. 0\n",
       "131. 0\n",
       "132. 0\n",
       "133. 0\n",
       "134. 0\n",
       "135. 0\n",
       "136. 0\n",
       "137. 0\n",
       "138. 1\n",
       "139. 0\n",
       "140. 0\n",
       "141. 0\n",
       "142. 0\n",
       "143. 0\n",
       "144. 0\n",
       "145. 0\n",
       "146. 0\n",
       "147. 0\n",
       "148. 0\n",
       "149. 0\n",
       "150. 0\n",
       "151. 0\n",
       "152. 0\n",
       "153. 0\n",
       "154. 0\n",
       "155. 0\n",
       "156. 0\n",
       "157. 0\n",
       "158. 0\n",
       "159. 0\n",
       "160. 0\n",
       "161. 0\n",
       "162. 0\n",
       "163. 0\n",
       "164. 0\n",
       "165. 1\n",
       "166. 0\n",
       "167. 0\n",
       "168. 0\n",
       "169. 0\n",
       "170. 0\n",
       "171. 0\n",
       "172. 1\n",
       "173. 0\n",
       "174. 0\n",
       "175. 0\n",
       "176. 0\n",
       "177. 0\n",
       "178. 0\n",
       "179. 0\n",
       "180. 0\n",
       "181. 0\n",
       "182. 0\n",
       "183. 0\n",
       "184. 0\n",
       "185. 0\n",
       "186. 1\n",
       "187. 0\n",
       "188. 1\n",
       "189. 0\n",
       "190. 0\n",
       "191. 0\n",
       "192. 0\n",
       "193. 0\n",
       "194. 0\n",
       "195. 0\n",
       "196. 0\n",
       "197. 0\n",
       "198. 0\n",
       "199. 0\n",
       "200. 1\n",
       "201. 0\n",
       "202. 0\n",
       "203. 0\n",
       "204. 0\n",
       "205. 0\n",
       "206. 0\n",
       "207. 1\n",
       "208. 0\n",
       "209. 0\n",
       "210. 0\n",
       "211. 0\n",
       "212. 0\n",
       "213. 0\n",
       "214. 0\n",
       "215. 0\n",
       "216. 0\n",
       "217. 0\n",
       "218. 0\n",
       "219. 0\n",
       "220. 0\n",
       "221. 0\n",
       "222. 0\n",
       "223. 0\n",
       "224. 0\n",
       "225. 0\n",
       "226. 0\n",
       "227. 0\n",
       "228. 0\n",
       "229. 0\n",
       "230. 0\n",
       "231. 0\n",
       "232. 0\n",
       "233. 0\n",
       "234. 0\n",
       "235. 0\n",
       "236. 0\n",
       "237. 0\n",
       "238. 0\n",
       "239. 0\n",
       "240. 0\n",
       "241. 0\n",
       "242. 0\n",
       "243. 0\n",
       "244. 0\n",
       "245. 1\n",
       "246. 0\n",
       "247. 0\n",
       "248. 0\n",
       "249. 0\n",
       "250. 0\n",
       "251. 0\n",
       "252. 0\n",
       "253. 0\n",
       "254. 0\n",
       "255. 0\n",
       "256. 0\n",
       "257. 0\n",
       "258. 1\n",
       "259. 0\n",
       "260. 0\n",
       "261. 0\n",
       "262. 0\n",
       "263. 0\n",
       "264. 0\n",
       "265. 0\n",
       "266. 1\n",
       "267. 0\n",
       "268. 0\n",
       "269. 0\n",
       "270. 0\n",
       "271. 0\n",
       "272. 0\n",
       "273. 0\n",
       "274. 0\n",
       "275. 0\n",
       "276. 0\n",
       "277. 0\n",
       "278. 0\n",
       "279. 0\n",
       "280. 0\n",
       "281. 0\n",
       "282. 0\n",
       "283. 0\n",
       "284. 0\n",
       "285. 0\n",
       "286. 0\n",
       "287. 0\n",
       "288. 0\n",
       "289. 0\n",
       "290. 0\n",
       "291. 0\n",
       "292. 0\n",
       "293. 0\n",
       "294. 0\n",
       "295. 0\n",
       "296. 0\n",
       "297. 0\n",
       "298. 0\n",
       "299. 1\n",
       "300. 0\n",
       "301. 1\n",
       "302. 0\n",
       "303. 0\n",
       "304. 0\n",
       "305. 0\n",
       "306. 0\n",
       "307. 0\n",
       "308. 0\n",
       "309. 0\n",
       "310. 0\n",
       "311. 0\n",
       "312. 0\n",
       "313. 1\n",
       "314. 0\n",
       "315. 0\n",
       "316. 0\n",
       "317. 1\n",
       "318. 0\n",
       "319. 1\n",
       "320. 0\n",
       "321. 0\n",
       "322. 0\n",
       "323. 0\n",
       "324. 0\n",
       "325. 0\n",
       "326. 0\n",
       "327. 0\n",
       "328. 0\n",
       "329. 0\n",
       "330. 0\n",
       "331. 1\n",
       "\n",
       "\n"
      ],
      "text/plain": [
       "  [1] 0 0 0 0 0 0 0 0 0 0 0 0 0 0 0 0 0 0 0 0 0 0 0 0 0 0 0 0 0 0 0 0 1 0 1 0 0\n",
       " [38] 0 0 0 0 0 0 0 0 0 1 0 0 0 0 0 0 0 0 0 0 1 0 0 0 0 0 0 0 0 0 0 0 0 0 0 0 0\n",
       " [75] 0 0 0 1 0 0 0 0 0 0 0 0 0 0 0 0 0 0 0 0 0 0 0 0 1 0 0 0 0 0 0 0 0 0 0 0 0\n",
       "[112] 0 0 0 1 0 0 0 0 0 0 0 0 0 0 0 0 0 0 0 0 0 0 0 0 0 0 1 0 0 0 0 0 0 0 0 0 0\n",
       "[149] 0 0 0 0 0 0 0 0 0 0 0 0 0 0 0 0 1 0 0 0 0 0 0 1 0 0 0 0 0 0 0 0 0 0 0 0 0\n",
       "[186] 1 0 1 0 0 0 0 0 0 0 0 0 0 0 1 0 0 0 0 0 0 1 0 0 0 0 0 0 0 0 0 0 0 0 0 0 0\n",
       "[223] 0 0 0 0 0 0 0 0 0 0 0 0 0 0 0 0 0 0 0 0 0 0 1 0 0 0 0 0 0 0 0 0 0 0 0 1 0\n",
       "[260] 0 0 0 0 0 0 1 0 0 0 0 0 0 0 0 0 0 0 0 0 0 0 0 0 0 0 0 0 0 0 0 0 0 0 0 0 0\n",
       "[297] 0 0 1 0 1 0 0 0 0 0 0 0 0 0 0 0 1 0 0 0 1 0 1 0 0 0 0 0 0 0 0 0 0 0 1"
      ]
     },
     "metadata": {},
     "output_type": "display_data"
    }
   ],
   "source": [
    "tabulate(b)"
   ]
  },
  {
   "cell_type": "code",
   "execution_count": 98,
   "id": "346efef2-3aa8-46a9-891a-71013124fe5c",
   "metadata": {},
   "outputs": [
    {
     "data": {
      "text/html": [
       "<style>\n",
       ".list-inline {list-style: none; margin:0; padding: 0}\n",
       ".list-inline>li {display: inline-block}\n",
       ".list-inline>li:not(:last-child)::after {content: \"\\00b7\"; padding: 0 .5ex}\n",
       "</style>\n",
       "<ol class=list-inline><li>1</li><li>2</li><li>1</li><li>2</li><li>1</li><li>1</li><li>1</li><li>1</li><li>1</li><li>2</li><li>2</li><li>2</li><li>1</li><li>2</li><li>1</li><li>1</li><li>2</li><li>1</li><li>3</li><li>1</li><li>2</li><li>1</li><li>2</li><li>3</li><li>1</li><li>1</li><li>2</li><li>2</li><li>1</li><li>2</li><li>2</li><li>2</li><li>2</li><li>1</li><li>2</li><li>1</li><li>2</li><li>1</li><li>2</li><li>2</li><li>1</li><li>1</li><li>1</li><li>2</li><li>1</li><li>1</li><li>2</li><li>1</li><li>2</li><li>1</li><li>2</li><li>2</li><li>2</li><li>1</li><li>2</li><li>2</li><li>2</li><li>1</li><li>2</li><li>2</li><li>2</li><li>2</li><li>2</li><li>1</li><li>1</li><li>1</li><li>2</li><li>1</li><li>2</li><li>2</li><li>1</li><li>1</li><li>1</li><li>1</li><li>2</li><li>2</li><li>2</li><li>2</li><li>1</li><li>2</li><li>1</li><li>2</li><li>2</li><li>2</li><li>2</li><li>2</li><li>1</li><li>1</li><li>2</li><li>1</li><li>2</li><li>2</li><li>2</li><li>1</li><li>2</li><li>1</li><li>2</li><li>2</li><li>1</li><li>2</li><li>1</li><li>1</li><li>2</li><li>2</li><li>1</li><li>2</li><li>1</li><li>2</li><li>1</li><li>2</li><li>1</li><li>1</li><li>2</li><li>1</li><li>2</li><li>1</li><li>2</li><li>2</li><li>1</li><li>2</li><li>1</li><li>1</li><li>2</li><li>2</li><li>1</li><li>1</li><li>1</li><li>2</li><li>2</li><li>2</li><li>2</li><li>1</li><li>1</li><li>2</li><li>1</li><li>2</li><li>2</li><li>2</li><li>2</li><li>1</li><li>2</li><li>2</li><li>2</li><li>2</li><li>1</li><li>1</li><li>1</li><li>2</li><li>1</li><li>2</li><li>1</li><li>1</li><li>1</li><li>2</li><li>1</li><li>1</li><li>2</li><li>1</li><li>2</li><li>2</li><li>1</li><li>1</li><li>1</li><li>2</li><li>1</li><li>2</li><li>1</li><li>2</li><li>1</li><li>2</li><li>2</li><li>1</li><li>1</li><li>2</li><li>1</li><li>2</li><li>1</li><li>2</li><li>2</li><li>1</li><li>1</li><li>1</li><li>2</li><li>2</li><li>1</li><li>1</li><li>1</li><li>1</li><li>1</li><li>1</li><li>1</li><li>1</li><li>1</li><li>1</li><li>2</li><li>1</li><li>1</li><li>2</li><li>2</li><li>1</li><li>⋯</li><li>1</li><li>2</li><li>2</li><li>1</li><li>1</li><li>1</li><li>1</li><li>2</li><li>1</li><li>1</li><li>2</li><li>1</li><li>2</li><li>2</li><li>1</li><li>2</li><li>2</li><li>2</li><li>1</li><li>1</li><li>1</li><li>2</li><li>2</li><li>1</li><li>2</li><li>1</li><li>2</li><li>2</li><li>2</li><li>2</li><li>1</li><li>1</li><li>1</li><li>1</li><li>2</li><li>1</li><li>2</li><li>2</li><li>2</li><li>2</li><li>2</li><li>2</li><li>2</li><li>2</li><li>1</li><li>1</li><li>2</li><li>1</li><li>2</li><li>2</li><li>2</li><li>2</li><li>1</li><li>1</li><li>2</li><li>2</li><li>1</li><li>1</li><li>2</li><li>1</li><li>2</li><li>1</li><li>1</li><li>2</li><li>1</li><li>1</li><li>2</li><li>2</li><li>3</li><li>1</li><li>2</li><li>2</li><li>2</li><li>1</li><li>2</li><li>1</li><li>1</li><li>2</li><li>1</li><li>2</li><li>2</li><li>1</li><li>2</li><li>1</li><li>2</li><li>1</li><li>2</li><li>1</li><li>1</li><li>1</li><li>2</li><li>2</li><li>2</li><li>2</li><li>1</li><li>1</li><li>1</li><li>1</li><li>2</li><li>1</li><li>1</li><li>2</li><li>1</li><li>1</li><li>2</li><li>2</li><li>2</li><li>1</li><li>1</li><li>1</li><li>1</li><li>1</li><li>1</li><li>1</li><li>2</li><li>1</li><li>2</li><li>1</li><li>1</li><li>1</li><li>2</li><li>2</li><li>1</li><li>2</li><li>2</li><li>2</li><li>2</li><li>1</li><li>2</li><li>1</li><li>2</li><li>1</li><li>2</li><li>2</li><li>2</li><li>1</li><li>1</li><li>2</li><li>1</li><li>1</li><li>2</li><li>1</li><li>2</li><li>2</li><li>1</li><li>1</li><li>1</li><li>1</li><li>1</li><li>2</li><li>1</li><li>1</li><li>2</li><li>2</li><li>2</li><li>1</li><li>2</li><li>2</li><li>1</li><li>2</li><li>1</li><li>2</li><li>1</li><li>1</li><li>2</li><li>1</li><li>3</li><li>1</li><li>2</li><li>2</li><li>1</li><li>2</li><li>2</li><li>1</li><li>2</li><li>2</li><li>1</li><li>1</li><li>1</li><li>2</li><li>1</li><li>1</li><li>2</li><li>2</li><li>2</li><li>2</li><li>1</li><li>1</li><li>1</li><li>1</li><li>2</li><li>1</li><li>1</li><li>2</li><li>1</li><li>1</li><li>2</li><li>1</li><li>2</li><li>1</li></ol>\n"
      ],
      "text/latex": [
       "\\begin{enumerate*}\n",
       "\\item 1\n",
       "\\item 2\n",
       "\\item 1\n",
       "\\item 2\n",
       "\\item 1\n",
       "\\item 1\n",
       "\\item 1\n",
       "\\item 1\n",
       "\\item 1\n",
       "\\item 2\n",
       "\\item 2\n",
       "\\item 2\n",
       "\\item 1\n",
       "\\item 2\n",
       "\\item 1\n",
       "\\item 1\n",
       "\\item 2\n",
       "\\item 1\n",
       "\\item 3\n",
       "\\item 1\n",
       "\\item 2\n",
       "\\item 1\n",
       "\\item 2\n",
       "\\item 3\n",
       "\\item 1\n",
       "\\item 1\n",
       "\\item 2\n",
       "\\item 2\n",
       "\\item 1\n",
       "\\item 2\n",
       "\\item 2\n",
       "\\item 2\n",
       "\\item 2\n",
       "\\item 1\n",
       "\\item 2\n",
       "\\item 1\n",
       "\\item 2\n",
       "\\item 1\n",
       "\\item 2\n",
       "\\item 2\n",
       "\\item 1\n",
       "\\item 1\n",
       "\\item 1\n",
       "\\item 2\n",
       "\\item 1\n",
       "\\item 1\n",
       "\\item 2\n",
       "\\item 1\n",
       "\\item 2\n",
       "\\item 1\n",
       "\\item 2\n",
       "\\item 2\n",
       "\\item 2\n",
       "\\item 1\n",
       "\\item 2\n",
       "\\item 2\n",
       "\\item 2\n",
       "\\item 1\n",
       "\\item 2\n",
       "\\item 2\n",
       "\\item 2\n",
       "\\item 2\n",
       "\\item 2\n",
       "\\item 1\n",
       "\\item 1\n",
       "\\item 1\n",
       "\\item 2\n",
       "\\item 1\n",
       "\\item 2\n",
       "\\item 2\n",
       "\\item 1\n",
       "\\item 1\n",
       "\\item 1\n",
       "\\item 1\n",
       "\\item 2\n",
       "\\item 2\n",
       "\\item 2\n",
       "\\item 2\n",
       "\\item 1\n",
       "\\item 2\n",
       "\\item 1\n",
       "\\item 2\n",
       "\\item 2\n",
       "\\item 2\n",
       "\\item 2\n",
       "\\item 2\n",
       "\\item 1\n",
       "\\item 1\n",
       "\\item 2\n",
       "\\item 1\n",
       "\\item 2\n",
       "\\item 2\n",
       "\\item 2\n",
       "\\item 1\n",
       "\\item 2\n",
       "\\item 1\n",
       "\\item 2\n",
       "\\item 2\n",
       "\\item 1\n",
       "\\item 2\n",
       "\\item 1\n",
       "\\item 1\n",
       "\\item 2\n",
       "\\item 2\n",
       "\\item 1\n",
       "\\item 2\n",
       "\\item 1\n",
       "\\item 2\n",
       "\\item 1\n",
       "\\item 2\n",
       "\\item 1\n",
       "\\item 1\n",
       "\\item 2\n",
       "\\item 1\n",
       "\\item 2\n",
       "\\item 1\n",
       "\\item 2\n",
       "\\item 2\n",
       "\\item 1\n",
       "\\item 2\n",
       "\\item 1\n",
       "\\item 1\n",
       "\\item 2\n",
       "\\item 2\n",
       "\\item 1\n",
       "\\item 1\n",
       "\\item 1\n",
       "\\item 2\n",
       "\\item 2\n",
       "\\item 2\n",
       "\\item 2\n",
       "\\item 1\n",
       "\\item 1\n",
       "\\item 2\n",
       "\\item 1\n",
       "\\item 2\n",
       "\\item 2\n",
       "\\item 2\n",
       "\\item 2\n",
       "\\item 1\n",
       "\\item 2\n",
       "\\item 2\n",
       "\\item 2\n",
       "\\item 2\n",
       "\\item 1\n",
       "\\item 1\n",
       "\\item 1\n",
       "\\item 2\n",
       "\\item 1\n",
       "\\item 2\n",
       "\\item 1\n",
       "\\item 1\n",
       "\\item 1\n",
       "\\item 2\n",
       "\\item 1\n",
       "\\item 1\n",
       "\\item 2\n",
       "\\item 1\n",
       "\\item 2\n",
       "\\item 2\n",
       "\\item 1\n",
       "\\item 1\n",
       "\\item 1\n",
       "\\item 2\n",
       "\\item 1\n",
       "\\item 2\n",
       "\\item 1\n",
       "\\item 2\n",
       "\\item 1\n",
       "\\item 2\n",
       "\\item 2\n",
       "\\item 1\n",
       "\\item 1\n",
       "\\item 2\n",
       "\\item 1\n",
       "\\item 2\n",
       "\\item 1\n",
       "\\item 2\n",
       "\\item 2\n",
       "\\item 1\n",
       "\\item 1\n",
       "\\item 1\n",
       "\\item 2\n",
       "\\item 2\n",
       "\\item 1\n",
       "\\item 1\n",
       "\\item 1\n",
       "\\item 1\n",
       "\\item 1\n",
       "\\item 1\n",
       "\\item 1\n",
       "\\item 1\n",
       "\\item 1\n",
       "\\item 1\n",
       "\\item 2\n",
       "\\item 1\n",
       "\\item 1\n",
       "\\item 2\n",
       "\\item 2\n",
       "\\item 1\n",
       "\\item ⋯\n",
       "\\item 1\n",
       "\\item 2\n",
       "\\item 2\n",
       "\\item 1\n",
       "\\item 1\n",
       "\\item 1\n",
       "\\item 1\n",
       "\\item 2\n",
       "\\item 1\n",
       "\\item 1\n",
       "\\item 2\n",
       "\\item 1\n",
       "\\item 2\n",
       "\\item 2\n",
       "\\item 1\n",
       "\\item 2\n",
       "\\item 2\n",
       "\\item 2\n",
       "\\item 1\n",
       "\\item 1\n",
       "\\item 1\n",
       "\\item 2\n",
       "\\item 2\n",
       "\\item 1\n",
       "\\item 2\n",
       "\\item 1\n",
       "\\item 2\n",
       "\\item 2\n",
       "\\item 2\n",
       "\\item 2\n",
       "\\item 1\n",
       "\\item 1\n",
       "\\item 1\n",
       "\\item 1\n",
       "\\item 2\n",
       "\\item 1\n",
       "\\item 2\n",
       "\\item 2\n",
       "\\item 2\n",
       "\\item 2\n",
       "\\item 2\n",
       "\\item 2\n",
       "\\item 2\n",
       "\\item 2\n",
       "\\item 1\n",
       "\\item 1\n",
       "\\item 2\n",
       "\\item 1\n",
       "\\item 2\n",
       "\\item 2\n",
       "\\item 2\n",
       "\\item 2\n",
       "\\item 1\n",
       "\\item 1\n",
       "\\item 2\n",
       "\\item 2\n",
       "\\item 1\n",
       "\\item 1\n",
       "\\item 2\n",
       "\\item 1\n",
       "\\item 2\n",
       "\\item 1\n",
       "\\item 1\n",
       "\\item 2\n",
       "\\item 1\n",
       "\\item 1\n",
       "\\item 2\n",
       "\\item 2\n",
       "\\item 3\n",
       "\\item 1\n",
       "\\item 2\n",
       "\\item 2\n",
       "\\item 2\n",
       "\\item 1\n",
       "\\item 2\n",
       "\\item 1\n",
       "\\item 1\n",
       "\\item 2\n",
       "\\item 1\n",
       "\\item 2\n",
       "\\item 2\n",
       "\\item 1\n",
       "\\item 2\n",
       "\\item 1\n",
       "\\item 2\n",
       "\\item 1\n",
       "\\item 2\n",
       "\\item 1\n",
       "\\item 1\n",
       "\\item 1\n",
       "\\item 2\n",
       "\\item 2\n",
       "\\item 2\n",
       "\\item 2\n",
       "\\item 1\n",
       "\\item 1\n",
       "\\item 1\n",
       "\\item 1\n",
       "\\item 2\n",
       "\\item 1\n",
       "\\item 1\n",
       "\\item 2\n",
       "\\item 1\n",
       "\\item 1\n",
       "\\item 2\n",
       "\\item 2\n",
       "\\item 2\n",
       "\\item 1\n",
       "\\item 1\n",
       "\\item 1\n",
       "\\item 1\n",
       "\\item 1\n",
       "\\item 1\n",
       "\\item 1\n",
       "\\item 2\n",
       "\\item 1\n",
       "\\item 2\n",
       "\\item 1\n",
       "\\item 1\n",
       "\\item 1\n",
       "\\item 2\n",
       "\\item 2\n",
       "\\item 1\n",
       "\\item 2\n",
       "\\item 2\n",
       "\\item 2\n",
       "\\item 2\n",
       "\\item 1\n",
       "\\item 2\n",
       "\\item 1\n",
       "\\item 2\n",
       "\\item 1\n",
       "\\item 2\n",
       "\\item 2\n",
       "\\item 2\n",
       "\\item 1\n",
       "\\item 1\n",
       "\\item 2\n",
       "\\item 1\n",
       "\\item 1\n",
       "\\item 2\n",
       "\\item 1\n",
       "\\item 2\n",
       "\\item 2\n",
       "\\item 1\n",
       "\\item 1\n",
       "\\item 1\n",
       "\\item 1\n",
       "\\item 1\n",
       "\\item 2\n",
       "\\item 1\n",
       "\\item 1\n",
       "\\item 2\n",
       "\\item 2\n",
       "\\item 2\n",
       "\\item 1\n",
       "\\item 2\n",
       "\\item 2\n",
       "\\item 1\n",
       "\\item 2\n",
       "\\item 1\n",
       "\\item 2\n",
       "\\item 1\n",
       "\\item 1\n",
       "\\item 2\n",
       "\\item 1\n",
       "\\item 3\n",
       "\\item 1\n",
       "\\item 2\n",
       "\\item 2\n",
       "\\item 1\n",
       "\\item 2\n",
       "\\item 2\n",
       "\\item 1\n",
       "\\item 2\n",
       "\\item 2\n",
       "\\item 1\n",
       "\\item 1\n",
       "\\item 1\n",
       "\\item 2\n",
       "\\item 1\n",
       "\\item 1\n",
       "\\item 2\n",
       "\\item 2\n",
       "\\item 2\n",
       "\\item 2\n",
       "\\item 1\n",
       "\\item 1\n",
       "\\item 1\n",
       "\\item 1\n",
       "\\item 2\n",
       "\\item 1\n",
       "\\item 1\n",
       "\\item 2\n",
       "\\item 1\n",
       "\\item 1\n",
       "\\item 2\n",
       "\\item 1\n",
       "\\item 2\n",
       "\\item 1\n",
       "\\end{enumerate*}\n"
      ],
      "text/markdown": [
       "1. 1\n",
       "2. 2\n",
       "3. 1\n",
       "4. 2\n",
       "5. 1\n",
       "6. 1\n",
       "7. 1\n",
       "8. 1\n",
       "9. 1\n",
       "10. 2\n",
       "11. 2\n",
       "12. 2\n",
       "13. 1\n",
       "14. 2\n",
       "15. 1\n",
       "16. 1\n",
       "17. 2\n",
       "18. 1\n",
       "19. 3\n",
       "20. 1\n",
       "21. 2\n",
       "22. 1\n",
       "23. 2\n",
       "24. 3\n",
       "25. 1\n",
       "26. 1\n",
       "27. 2\n",
       "28. 2\n",
       "29. 1\n",
       "30. 2\n",
       "31. 2\n",
       "32. 2\n",
       "33. 2\n",
       "34. 1\n",
       "35. 2\n",
       "36. 1\n",
       "37. 2\n",
       "38. 1\n",
       "39. 2\n",
       "40. 2\n",
       "41. 1\n",
       "42. 1\n",
       "43. 1\n",
       "44. 2\n",
       "45. 1\n",
       "46. 1\n",
       "47. 2\n",
       "48. 1\n",
       "49. 2\n",
       "50. 1\n",
       "51. 2\n",
       "52. 2\n",
       "53. 2\n",
       "54. 1\n",
       "55. 2\n",
       "56. 2\n",
       "57. 2\n",
       "58. 1\n",
       "59. 2\n",
       "60. 2\n",
       "61. 2\n",
       "62. 2\n",
       "63. 2\n",
       "64. 1\n",
       "65. 1\n",
       "66. 1\n",
       "67. 2\n",
       "68. 1\n",
       "69. 2\n",
       "70. 2\n",
       "71. 1\n",
       "72. 1\n",
       "73. 1\n",
       "74. 1\n",
       "75. 2\n",
       "76. 2\n",
       "77. 2\n",
       "78. 2\n",
       "79. 1\n",
       "80. 2\n",
       "81. 1\n",
       "82. 2\n",
       "83. 2\n",
       "84. 2\n",
       "85. 2\n",
       "86. 2\n",
       "87. 1\n",
       "88. 1\n",
       "89. 2\n",
       "90. 1\n",
       "91. 2\n",
       "92. 2\n",
       "93. 2\n",
       "94. 1\n",
       "95. 2\n",
       "96. 1\n",
       "97. 2\n",
       "98. 2\n",
       "99. 1\n",
       "100. 2\n",
       "101. 1\n",
       "102. 1\n",
       "103. 2\n",
       "104. 2\n",
       "105. 1\n",
       "106. 2\n",
       "107. 1\n",
       "108. 2\n",
       "109. 1\n",
       "110. 2\n",
       "111. 1\n",
       "112. 1\n",
       "113. 2\n",
       "114. 1\n",
       "115. 2\n",
       "116. 1\n",
       "117. 2\n",
       "118. 2\n",
       "119. 1\n",
       "120. 2\n",
       "121. 1\n",
       "122. 1\n",
       "123. 2\n",
       "124. 2\n",
       "125. 1\n",
       "126. 1\n",
       "127. 1\n",
       "128. 2\n",
       "129. 2\n",
       "130. 2\n",
       "131. 2\n",
       "132. 1\n",
       "133. 1\n",
       "134. 2\n",
       "135. 1\n",
       "136. 2\n",
       "137. 2\n",
       "138. 2\n",
       "139. 2\n",
       "140. 1\n",
       "141. 2\n",
       "142. 2\n",
       "143. 2\n",
       "144. 2\n",
       "145. 1\n",
       "146. 1\n",
       "147. 1\n",
       "148. 2\n",
       "149. 1\n",
       "150. 2\n",
       "151. 1\n",
       "152. 1\n",
       "153. 1\n",
       "154. 2\n",
       "155. 1\n",
       "156. 1\n",
       "157. 2\n",
       "158. 1\n",
       "159. 2\n",
       "160. 2\n",
       "161. 1\n",
       "162. 1\n",
       "163. 1\n",
       "164. 2\n",
       "165. 1\n",
       "166. 2\n",
       "167. 1\n",
       "168. 2\n",
       "169. 1\n",
       "170. 2\n",
       "171. 2\n",
       "172. 1\n",
       "173. 1\n",
       "174. 2\n",
       "175. 1\n",
       "176. 2\n",
       "177. 1\n",
       "178. 2\n",
       "179. 2\n",
       "180. 1\n",
       "181. 1\n",
       "182. 1\n",
       "183. 2\n",
       "184. 2\n",
       "185. 1\n",
       "186. 1\n",
       "187. 1\n",
       "188. 1\n",
       "189. 1\n",
       "190. 1\n",
       "191. 1\n",
       "192. 1\n",
       "193. 1\n",
       "194. 1\n",
       "195. 2\n",
       "196. 1\n",
       "197. 1\n",
       "198. 2\n",
       "199. 2\n",
       "200. 1\n",
       "201. ⋯\n",
       "202. 1\n",
       "203. 2\n",
       "204. 2\n",
       "205. 1\n",
       "206. 1\n",
       "207. 1\n",
       "208. 1\n",
       "209. 2\n",
       "210. 1\n",
       "211. 1\n",
       "212. 2\n",
       "213. 1\n",
       "214. 2\n",
       "215. 2\n",
       "216. 1\n",
       "217. 2\n",
       "218. 2\n",
       "219. 2\n",
       "220. 1\n",
       "221. 1\n",
       "222. 1\n",
       "223. 2\n",
       "224. 2\n",
       "225. 1\n",
       "226. 2\n",
       "227. 1\n",
       "228. 2\n",
       "229. 2\n",
       "230. 2\n",
       "231. 2\n",
       "232. 1\n",
       "233. 1\n",
       "234. 1\n",
       "235. 1\n",
       "236. 2\n",
       "237. 1\n",
       "238. 2\n",
       "239. 2\n",
       "240. 2\n",
       "241. 2\n",
       "242. 2\n",
       "243. 2\n",
       "244. 2\n",
       "245. 2\n",
       "246. 1\n",
       "247. 1\n",
       "248. 2\n",
       "249. 1\n",
       "250. 2\n",
       "251. 2\n",
       "252. 2\n",
       "253. 2\n",
       "254. 1\n",
       "255. 1\n",
       "256. 2\n",
       "257. 2\n",
       "258. 1\n",
       "259. 1\n",
       "260. 2\n",
       "261. 1\n",
       "262. 2\n",
       "263. 1\n",
       "264. 1\n",
       "265. 2\n",
       "266. 1\n",
       "267. 1\n",
       "268. 2\n",
       "269. 2\n",
       "270. 3\n",
       "271. 1\n",
       "272. 2\n",
       "273. 2\n",
       "274. 2\n",
       "275. 1\n",
       "276. 2\n",
       "277. 1\n",
       "278. 1\n",
       "279. 2\n",
       "280. 1\n",
       "281. 2\n",
       "282. 2\n",
       "283. 1\n",
       "284. 2\n",
       "285. 1\n",
       "286. 2\n",
       "287. 1\n",
       "288. 2\n",
       "289. 1\n",
       "290. 1\n",
       "291. 1\n",
       "292. 2\n",
       "293. 2\n",
       "294. 2\n",
       "295. 2\n",
       "296. 1\n",
       "297. 1\n",
       "298. 1\n",
       "299. 1\n",
       "300. 2\n",
       "301. 1\n",
       "302. 1\n",
       "303. 2\n",
       "304. 1\n",
       "305. 1\n",
       "306. 2\n",
       "307. 2\n",
       "308. 2\n",
       "309. 1\n",
       "310. 1\n",
       "311. 1\n",
       "312. 1\n",
       "313. 1\n",
       "314. 1\n",
       "315. 1\n",
       "316. 2\n",
       "317. 1\n",
       "318. 2\n",
       "319. 1\n",
       "320. 1\n",
       "321. 1\n",
       "322. 2\n",
       "323. 2\n",
       "324. 1\n",
       "325. 2\n",
       "326. 2\n",
       "327. 2\n",
       "328. 2\n",
       "329. 1\n",
       "330. 2\n",
       "331. 1\n",
       "332. 2\n",
       "333. 1\n",
       "334. 2\n",
       "335. 2\n",
       "336. 2\n",
       "337. 1\n",
       "338. 1\n",
       "339. 2\n",
       "340. 1\n",
       "341. 1\n",
       "342. 2\n",
       "343. 1\n",
       "344. 2\n",
       "345. 2\n",
       "346. 1\n",
       "347. 1\n",
       "348. 1\n",
       "349. 1\n",
       "350. 1\n",
       "351. 2\n",
       "352. 1\n",
       "353. 1\n",
       "354. 2\n",
       "355. 2\n",
       "356. 2\n",
       "357. 1\n",
       "358. 2\n",
       "359. 2\n",
       "360. 1\n",
       "361. 2\n",
       "362. 1\n",
       "363. 2\n",
       "364. 1\n",
       "365. 1\n",
       "366. 2\n",
       "367. 1\n",
       "368. 3\n",
       "369. 1\n",
       "370. 2\n",
       "371. 2\n",
       "372. 1\n",
       "373. 2\n",
       "374. 2\n",
       "375. 1\n",
       "376. 2\n",
       "377. 2\n",
       "378. 1\n",
       "379. 1\n",
       "380. 1\n",
       "381. 2\n",
       "382. 1\n",
       "383. 1\n",
       "384. 2\n",
       "385. 2\n",
       "386. 2\n",
       "387. 2\n",
       "388. 1\n",
       "389. 1\n",
       "390. 1\n",
       "391. 1\n",
       "392. 2\n",
       "393. 1\n",
       "394. 1\n",
       "395. 2\n",
       "396. 1\n",
       "397. 1\n",
       "398. 2\n",
       "399. 1\n",
       "400. 2\n",
       "401. 1\n",
       "\n",
       "\n"
      ],
      "text/plain": [
       "    [1] 1 2 1 2 1 1 1 1 1 2 2 2 1 2 1 1 2 1 3 1 2 1 2 3 1 1 2 2 1 2 2 2 2 1 2 1\n",
       "   [37] 2 1 2 2 1 1 1 2 1 1 2 1 2 1 2 2 2 1 2 2 2 1 2 2 2 2 2 1 1 1 2 1 2 2 1 1\n",
       "   [73] 1 1 2 2 2 2 1 2 1 2 2 2 2 2 1 1 2 1 2 2 2 1 2 1 2 2 1 2 1 1 2 2 1 2 1 2\n",
       "  [109] 1 2 1 1 2 1 2 1 2 2 1 2 1 1 2 2 1 1 1 2 2 2 2 1 1 2 1 2 2 2 2 1 2 2 2 2\n",
       "  [145] 1 1 1 2 1 2 1 1 1 2 1 1 2 1 2 2 1 1 1 2 1 2 1 2 1 2 2 1 1 2 1 2 1 2 2 1\n",
       "  [181] 1 1 2 2 1 1 1 1 1 1 1 1 1 1 2 1 1 2 2 1 2 1 2 1 2 1 2 2 2 2 2 1 2 2 1 2\n",
       "  [217] 1 2 1 2 2 2 1 1 2 1 1 2 2 1 2 2 1 2 1 1 2 1 2 1 2 2 2 2 1 1 3 2 2 2 2 1\n",
       "  [253] 1 2 2 1 2 2 2 2 1 1 2 2 1 1 1 1 1 2 1 1 3 2 1 2 2 1 2 1 1 1 1 2 1 1 2 2\n",
       "  [289] 1 3 2 2 1 2 2 2 2 2 2 1 3 1 2 1 1 2 2 2 1 1 1 2 1 1 1 2 2 1 2 2 2 2 2 2\n",
       "  [325] 1 1 1 1 1 2 2 1 2 2 2 2 2 1 2 2 1 1 1 2 1 1 1 2 2 2 1 2 2 1 1 2 1 2 1 1\n",
       "  [361] 2 1 2 2 1 1 1 2 1 1 1 2 1 2 2 1 1 1 1 2 2 1 1 1 2 1 2 2 1 1 2 1 1 1 1 2\n",
       "  [397] 2 2 2 2 2 1 1 1 2 1 2 1 1 1 2 2 2 1 2 2 1 1 1 1 2 2 1 2 1 2 1 1 2 1 1 1\n",
       "  [433] 2 2 1 3 1 1 1 2 1 1 2 1 1 1 1 2 1 1 1 2 1 2 1 1 1 1 1 2 2 2 2 2 1 2 2 1\n",
       "  [469] 2 2 2 1 1 2 1 2 2 1 1 1 2 1 1 1 2 1 1 2 2 1 1 2 1 1 1 1 2 2 2 2 2 2 2 1\n",
       "  [505] 1 2 2 1 2 1 2 1 1 1 1 2 1 1 1 2 2 2 2 1 2 1 1 1 2 1 2 2 2 1 2 2 1 1 2 1\n",
       "  [541] 2 1 1 1 1 2 2 1 2 2 1 2 1 2 2 2 1 1 2 1 1 3 2 1 2 2 1 2 1 1 1 2 2 1 1 1\n",
       "  [577] 1 2 1 2 1 2 2 2 1 1 1 1 1 1 2 1 1 1 1 2 2 1 3 2 2 2 1 2 1 1 1 2 2 2 2 2\n",
       "  [613] 1 1 2 2 2 2 2 2 1 1 1 1 1 2 2 1 2 2 2 2 2 2 1 2 1 1 1 2 1 2 1 2 2 2 2 2\n",
       "  [649] 3 2 2 1 1 2 1 2 1 1 1 2 2 2 2 1 1 1 2 1 2 1 1 1 2 2 1 1 2 1 1 1 1 1 2 2\n",
       "  [685] 1 2 1 1 2 2 1 2 1 1 2 2 1 1 2 1 2 2 2 2 2 1 1 2 2 1 2 2 2 1 2 1 1 1 2 2\n",
       "  [721] 2 1 2 2 2 1 1 2 2 1 2 1 1 3 2 2 1 1 2 2 1 2 1 1 2 1 1 1 1 1 2 2 1 1 1 1\n",
       "  [757] 1 2 1 1 2 1 1 1 1 2 2 2 2 1 2 2 2 1 2 1 2 1 1 1 2 2 1 2 1 1 1 3 1 2 2 1\n",
       "  [793] 2 1 1 2 1 1 2 2 1 1 2 2 2 1 2 1 1 2 1 1 2 2 2 2 3 2 1 2 2 2 1 2 2 2 2 2\n",
       "  [829] 1 2 3 2 1 2 1 2 1 1 2 1 1 2 2 1 1 1 2 1 2 2 1 1 1 2 1 2 1 2 1 2 1 1 3 2\n",
       "  [865] 3 2 2 1 2 2 1 1 1 1 2 1 2 2 1 1 2 1 2 2 2 1 1 2 2 2 2 1 1 2 1 1 1 1 1 2\n",
       "  [901] 1 1 1 2 2 2 1 2 1 2 2 2 1 1 1 1 2 2 1 1 1 2 2 2 2 1 1 1 2 2 2 2 2 2 1 1\n",
       "  [937] 2 2 1 1 1 1 2 1 1 2 1 2 1 1 1 2 1 1 2 1 2 1 1 1 2 2 2 1 1 3 1 1 1 2 1 1\n",
       "  [973] 1 1 1 2 1 1 1 2 2 1 2 1 1 2 2 1 1 2 2 1 1 1 2 1 2 1 2 2 2 2 1 1 2 2 1 1\n",
       " [1009] 2 1 2 1 2 2 1 2 2 1 2 2 1 2 2 1 2 1 1 2 1 2 1 2 1 2 1 2 2 1 2 1 1 1 2 2\n",
       " [1045] 1 2 2 1 1 1 2 2 2 1 1 1 1 2 1 2 2 2 2 1 2 1 1 2 1 1 2 2 1 1 2 2 1 1 1 2\n",
       " [1081] 3 2 1 1 1 2 2 2 1 2 1 2 1 2 1 1 1 1 2 1 2 2 1 1 2 2 1 2 2 2 2 1 1 1 2 2\n",
       " [1117] 3 2 2 2 1 2 2 2 2 3 1 1 1 1 2 1 2 2 2 2 2 2 2 2 1 1 1 1 2 2 2 1 1 1 1 2\n",
       " [1153] 1 1 1 2 1 2 2 1 2 1 2 1 1 2 1 2 1 1 1 1 2 1 2 1 2 1 2 2 1 3 2 2 1 1 1 1\n",
       " [1189] 1 1 2 1 1 1 2 1 1 1 1 2 1 1 2 2 2 1 1 2 1 1 2 1 2 1 1 1 1 1 1 1 1 2 2 1\n",
       " [1225] 1 1 2 2 1 1 2 2 3 1 2 1 2 2 1 1 1 2 1 1 1 1 2 1 1 2 2 2 2 2 2 2 1 1 1 2\n",
       " [1261] 2 3 1 2 2 2 2 1 2 1 1 1 2 2 2 2 1 2 2 2 1 2 1 1 1 2 2 2 2 2 2 1 1 1 1 1\n",
       " [1297] 1 2 1 2 2 1 2 1 2 1 1 2 1 2 2 3 3 2 1 2 1 1 1 2 1 1 2 2 1 1 1 1 1 1 1 2\n",
       " [1333] 2 2 2 1 2 1 1 1 2 2 1 1 1 2 2 2 2 1 1 2 1 1 2 2 2 2 1 2 2 2 2 1 2 2 2 1\n",
       " [1369] 2 2 2 1 2 2 1 2 1 2 1 2 2 1 1 1 2 2 1 2 2 1 2 1 1 2 2 1 2 1 2 1 2 1 1 2\n",
       " [1405] 1 2 1 1 2 2 2 1 1 1 1 1 2 2 1 1 1 1 1 2 2 2 1 2 2 1 2 2 1 2 2 1 1 1 1 1\n",
       " [1441] 1 1 1 1 2 2 1 1 1 2 1 2 2 1 2 1 1 1 2 1 1 1 2 2 1 2 2 1 1 1 1 2 1 2 2 1\n",
       " [1477] 2 2 2 1 1 1 3 1 2 2 2 2 2 2 2 1 2 1 1 2 1 2 2 1 1 2 1 2 1 1 1 2 2 1 3 1\n",
       " [1513] 2 2 1 2 2 2 1 1 1 1 1 2 1 1 2 1 2 2 2 1 1 1 2 1 1 2 1 1 2 1 1 1 2 2 1 2\n",
       " [1549] 1 2 2 1 2 2 2 2 1 2 2 2 1 1 2 1 2 1 1 2 1 2 1 2 1 1 2 1 1 2 1 1 1 2 1 2\n",
       " [1585] 2 1 1 1 2 1 1 2 1 2 2 2 1 2 1 1 2 1 2 1 1 2 2 2 2 1 1 1 1 1 1 2 1 2 1 1\n",
       " [1621] 1 2 2 2 1 1 2 2 1 2 1 1 2 2 1 1 2 1 1 2 1 1 2 1 1 2 2 1 1 2 2 1 2 2 2 2\n",
       " [1657] 1 2 2 2 2 1 1 1 1 2 2 2 2 1 1 2 2 2 1 2 1 2 2 1 1 2 2 2 2 2 1 1 2 1 2 2\n",
       " [1693] 1 1 2 2 2 1 2 2 1 1 1 2 1 1 2 1 1 2 2 2 1 2 1 2 1 1 1 1 2 2 1 1 2 1 1 1\n",
       " [1729] 1 2 2 2 1 2 2 1 2 1 2 2 1 1 1 1 2 2 1 2 1 1 2 2 1 1 2 2 1 2 2 2 1 1 3 2\n",
       " [1765] 1 2 1 1 2 2 1 2 1 1 2 2 1 1 2 2 2 2 2 2 1 2 2 1 1 1 2 1 2 2 2 2 1 1 2 1\n",
       " [1801] 2 1 1 2 2 2 1 1 1 2 2 1 1 2 2 2 1 2 2 1 1 1 2 2 2 2 1 1 1 1 1 1 2 1 2 2\n",
       " [1837] 1 1 2 2 2 2 2 1 1 1 2 1 2 2 2 1 1 1 1 1 1 2 1 2 1 1 1 2 2 2 1 1 1 2 1 2\n",
       " [1873] 1 1 1 2 2 1 1 2 1 2 1 3 2 1 1 2 1 2 1 2 1 1 1 1 1 1 2 2 1 2 1 1 1 1 2 2\n",
       " [1909] 1 1 1 1 1 2 1 1 2 2 1 1 2 2 2 2 2 2 2 1 2 2 2 1 2 1 2 2 1 1 2 2 1 2 2 1\n",
       " [1945] 2 2 2 1 2 1 2 2 1 1 2 1 1 2 1 1 2 2 1 1 2 2 2 1 1 1 2 2 1 2 1 2 1 1 2 2\n",
       " [1981] 2 2 2 2 1 1 1 2 2 1 2 2 1 1 2 1 2 2 2 1 2 1 1 1 1 2 1 2 1 1 2 2 1 1 1 2\n",
       " [2017] 2 2 1 1 1 1 1 2 2 2 1 2 1 2 2 2 2 1 2 1 1 2 2 1 2 1 1 2 3 2 1 1 1 1 3 2\n",
       " [2053] 2 1 2 2 1 1 2 2 1 2 1 1 2 2 2 1 1 1 2 1 2 1 2 1 1 1 2 1 1 2 1 2 1 2 2 1\n",
       " [2089] 2 2 2 1 1 2 2 2 1 1 1 2 2 2 1 2 2 2 2 1 2 1 2 1 2 1 1 1 2 2 1 1 1 1 2 1\n",
       " [2125] 2 1 1 1 1 1 1 2 2 1 2 1 2 1 1 1 1 2 1 1 2 2 1 1 2 2 2 1 1 1 1 2 2 2 1 1\n",
       " [2161] 1 1 2 1 2 2 1 1 1 1 1 1 1 2 1 2 2 2 2 1 1 1 1 1 2 1 1 2 2 1 1 2 1 2 1 1\n",
       " [2197] 2 2 1 1 1 1 2 1 2 2 2 1 2 2 2 2 2 2 2 2 1 1 2 2 2 2 1 1 1 1 1 1 1 2 2 1\n",
       " [2233] 1 2 1 1 2 2 2 1 2 2 1 1 2 2 2 2 2 2 1 2 1 2 1 2 1 1 1 1 1 1 1 1 2 2 2 2\n",
       " [2269] 1 1 2 1 1 2 1 1 2 2 2 1 2 1 2 2 1 2 1 2 2 1 1 2 2 1 1 1 2 2 1 1 1 2 2 2\n",
       " [2305] 2 2 2 1 1 1 3 1 1 1 2 1 2 2 3 1 2 1 1 2 1 2 1 2 2 2 2 2 2 2 1 2 2 2 2 1\n",
       " [2341] 1 2 1 1 1 1 2 2 2 1 2 1 1 2 2 1 1 1 2 1 2 1 1 1 1 1 1 2 1 1 2 2 2 2 2 1\n",
       " [2377] 1 2 2 2 2 1 2 2 1 1 2 2 2 2 2 1 2 2 1 1 1 1 2 1 2 1 2 2 1 2 2 2 2 2 2 2\n",
       " [2413] 1 1 2 2 2 2 1 2 1 2 2 2 1 2 2 2 2 1 2 3 1 2 2 2 1 1 1 2 2 1 2 2 1 1 1 2\n",
       " [2449] 1 2 2 2 2 1 1 2 1 2 2 2 2 2 1 1 2 2 2 2 1 1 2 2 2 1 1 2 2 2 1 1 2 1 2 2\n",
       " [2485] 2 2 2 1 2 2 1 1 2 1 1 2 2 2 1 2 2 2 1 1 2 2 1 1 2 2 2 2 1 2 2 2 2 2 1 2\n",
       " [2521] 1 2 2 2 2 2 1 2 1 1 1 1 1 2 2 1 1 1 2 2 1 1 2 2 2 1 1 1 1 2 2 2 1 2 1 2\n",
       " [2557] 2 2 1 2 1 2 2 1 2 1 2 2 1 2 1 1 1 1 1 1 2 1 1 2 2 1 2 1 1 2 2 2 1 2 2 1\n",
       " [2593] 1 1 1 2 1 1 2 1 2 2 2 1 1 1 3 2 2 2 1 1 2 2 2 2 2 1 2 2 1 2 2 1 2 1 1 1\n",
       " [2629] 2 2 2 1 1 1 2 2 2 1 2 2 1 2 1 1 2 1 2 1 2 1 2 2 1 2 2 2 1 1 2 1 1 2 2 2\n",
       " [2665] 2 2 1 1 1 1 3 2 2 1 2 2 2 1 2 1 2 2 2 2 1 2 1 2 2 2 1 1 2 2 2 1 1 1 1 1\n",
       " [2701] 1 2 2 2 1 1 1 1 1 2 1 2 2 2 2 2 1 2 1 1 2 2 2 1 2 2 1 1 2 2 1 1 2 2 2 1\n",
       " [2737] 2 2 1 2 1 2 2 1 1 2 2 3 2 1 1 2 1 1 2 1 2 1 2 3 1 1 1 3 1 1 1 2 2 1 2 1\n",
       " [2773] 1 2 1 2 2 1 1 1 2 1 1 1 1 1 1 2 2 1 2 1 2 1 2 2 2 1 2 1 1 1 1 2 2 2 2 1\n",
       " [2809] 2 1 1 2 1 2 2 1 1 2 2 1 2 2 1 1 2 1 2 2 1 1 2 1 1 1 1 2 1 1 1 2 2 1 1 1\n",
       " [2845] 1 2 1 2 1 2 1 1 1 2 1 2 2 2 2 1 2 2 1 1 2 2 1 2 2 1 2 1 1 1 1 1 1 1 2 2\n",
       " [2881] 2 2 1 2 2 1 1 2 1 1 2 1 1 2 2 2 1 2 1 1 2 1 2 2 2 2 1 2 1 2 1 1 2 1 1 1\n",
       " [2917] 1 1 1 2 2 2 1 2 2 2 1 1 3 2 1 2 1 1 2 1 1 2 1 2 1 2 1 2 2 2 1 1 1 1 2 2\n",
       " [2953] 1 2 2 2 1 1 2 1 2 2 2 2 1 2 1 1 2 2 2 2 2 2 2 1 2 1 2 2 1 2 1 2 2 1 1 2\n",
       " [2989] 2 1 2 1 1 2 1 2 1 2 2 1 2 2 1 2 2 2 1 2 1 2 1 2 1 1 1 2 1 2 1 2 1 1 1 2\n",
       " [3025] 2 1 2 2 1 2 1 2 1 1 2 1 1 1 1 1 1 1 1 1 1 2 1 1 2 1 1 2 2 1 2 1 2 1 1 2\n",
       " [3061] 1 1 2 2 1 2 1 2 2 2 2 1 1 2 2 1 2 1 1 2 1 1 1 1 1 2 1 2 1 1 1 2 1 2 1 1\n",
       " [3097] 2 1 2 2 1 1 1 2 1 1 1 2 1 1 2 1 2 2 1 1 2 1 1 2 2 1 1 2 1 2 2 1 2 1 1 1\n",
       " [3133] 1 1 2 2 1 2 1 2 2 2 2 1 1 2 1 1 2 2 1 1 2 2 1 1 1 1 2 1 1 2 2 1 1 2 1 2\n",
       " [3169] 1 1 1 2 1 1 2 1 1 1 2 2 1 2 2 3 1 1 1 2 1 2 2 3 1 1 1 1 1 2 1 1 3 2 2 2\n",
       " [3205] 1 2 1 2 2 2 1 1 2 1 1 1 2 1 2 2 1 1 2 2 2 1 1 1 2 1 1 1 1 2 1 2 1 2 2 2\n",
       " [3241] 2 2 1 1 1 1 1 1 1 1 2 1 2 2 2 1 2 2 1 2 2 1 1 1 1 1 2 1 2 2 2 1 1 2 1 2\n",
       " [3277] 2 2 1 2 1 1 1 1 1 2 2 1 2 2 2 1 2 2 2 2 2 2 1 2 1 2 2 1 1 3 1 2 2 2 1 1\n",
       " [3313] 2 2 1 2 1 1 1 1 1 1 2 1 2 2 2 1 2 1 2 2 2 2 1 1 1 1 1 1 1 2 1 1 2 2 1 1\n",
       " [3349] 2 2 2 1 1 2 1 2 2 1 2 2 1 1 2 1 1 2 2 2 2 2 2 2 1 1 1 1 2 1 2 2 2 1 2 2\n",
       " [3385] 2 1 2 1 1 1 1 2 1 2 1 2 1 2 2 1 2 1 2 1 2 1 2 1 1 1 1 1 1 1 1 2 1 2 2 1\n",
       " [3421] 2 2 2 2 1 1 2 1 2 2 2 1 1 1 2 2 2 2 2 2 2 1 1 1 2 2 2 2 1 1 1 1 2 1 1 2\n",
       " [3457] 1 1 1 2 2 1 2 2 1 2 1 2 1 2 1 2 2 1 1 1 2 2 2 1 1 2 2 2 1 2 2 1 2 1 1 2\n",
       " [3493] 1 2 1 1 2 2 2 2 1 1 2 1 2 1 1 2 2 1 2 2 1 2 2 2 1 1 2 1 1 1 2 3 1 2 2 1\n",
       " [3529] 2 1 2 2 2 1 2 1 2 2 2 2 1 2 2 1 2 1 2 2 1 2 2 2 1 2 2 2 1 2 1 1 1 1 2 2\n",
       " [3565] 2 1 2 1 1 1 1 2 2 2 2 2 1 1 2 1 2 1 2 1 2 1 1 2 1 2 1 2 1 2 1 2 1 1 2 2\n",
       " [3601] 1 2 2 1 1 2 2 2 2 1 1 1 1 1 2 2 1 1 1 1 2 1 2 1 1 1 1 2 1 2 2 1 1 2 2 3\n",
       " [3637] 1 2 1 1 1 1 2 2 2 1 1 2 2 2 1 2 1 2 1 1 1 2 2 2 1 2 1 2 2 1 1 2 2 1 1 1\n",
       " [3673] 1 2 1 2 2 2 1 1 1 1 1 2 2 2 1 1 2 2 2 2 2 2 1 1 2 1 1 1 2 1 1 1 1 1 2 1\n",
       " [3709] 1 1 2 2 1 1 1 2 1 2 2 2 2 1 1 1 2 2 2 1 2 2 2 1 1 2 2 1 2 1 2 1 1 1 1 2\n",
       " [3745] 2 2 2 2 1 3 2 2 1 1 1 2 1 1 2 1 2 2 2 1 1 2 1 1 1 2 1 2 2 2 2 1 1 1 1 2\n",
       " [3781] 2 2 1 2 2 1 1 1 2 2 2 1 2 1 1 2 1 2 2 1 1 2 1 2 2 1 1 2 1 2 2 2 2 2 3 2\n",
       " [3817] 3 1 1 1 1 1 1 2 2 1 1 1 1 2 1 1 2 2 1 2 2 2 1 1 2 2 2 2 1 2 2 1 2 2 2 2\n",
       " [3853] 2 2 1 2 2 2 2 1 1 2 2 2 1 2 2 1 2 2 2 2 3 1 1 1 1 1 2 1 1 1 2 2 1 2 2 1\n",
       " [3889] 2 1 2 2 1 1 1 1 1 1 2 2 1 1 2 2 1 1 1 2 2 1 2 2 2 2 2 2 1 2 2 1 2 1 1 2\n",
       " [3925] 2 1 1 2 1 2 2 2 2 1 2 2 1 1 2 2 1 1 1 2 2 2 1 2 2 1 1 3 2 1 2 1 1 2 1 2\n",
       " [3961] 1 2 2 2 2 1 1 1 2 1 1 1 2 2 1 1 2 2 2 2 2 1 1 1 1 2 1 2 2 1 1 1 1 2 1 1\n",
       " [3997] 1 1 1 2 1 2 2 1 2 1 2 1 2 2 1 1 1 2 2 1 2 2 2 1 2 2 2 2 1 2 2 1 2 2 1 2\n",
       " [4033] 1 2 1 1 1 2 1 1 1 2 1 1 2 2 1 1 1 2 2 2 1 1 1 2 1 2 1 1 2 1 1 2 1 1 1 2\n",
       " [4069] 1 2 1 2 2 1 2 1 1 1 1 2 2 1 2 1 2 1 1 1 1 1 2 1 2 2 1 1 1 2 1 2 2 1 1 1\n",
       " [4105] 1 1 1 1 2 2 2 1 2 2 2 2 2 1 1 1 1 2 1 1 2 2 2 2 1 1 2 2 2 1 1 1 1 1 1 2\n",
       " [4141] 2 1 1 2 1 2 1 2 1 2 2 1 1 1 1 2 2 1 2 2 2 1 1 2 1 2 2 1 2 1 1 2 2 1 1 1\n",
       " [4177] 2 2 2 1 1 2 2 2 2 1 1 2 1 1 2 1 2 2 2 2 1 1 2 3 1 1 1 2 1 1 2 1 1 3 2 1\n",
       " [4213] 1 1 2 2 1 2 2 1 1 1 2 1 2 1 1 1 1 2 1 2 1 1 2 1 2 1 2 2 2 2 2 1 1 3 2 1\n",
       " [4249] 1 1 2 1 2 2 2 2 2 2 1 2 1 2 2 2 1 2 2 2 2 2 1 2 1 2 1 2 2 1 2 2 1 1 2 2\n",
       " [4285] 2 1 1 2 2 2 1 1 2 2 2 1 1 1 2 1 1 2 1 2 1 1 1 1 2 1 1 2 1 2 1 2 1 1 1 2\n",
       " [4321] 1 2 2 1 1 1 1 1 1 1 2 1 2 1 1 1 2 2 2 2 2 2 1 2 1 2 1 1 1 1 1 2 1 2 1 1\n",
       " [4357] 2 2 2 1 2 1 1 1 2 1 1 2 1 2 1 1 2 2 2 1 1 1 2 2 2 2 2 1 1 1 2 2 1 2 2 1\n",
       " [4393] 2 2 2 1 1 1 2 1 1 1 1 1 1 1 2 1 2 2 1 2 2 2 2 2 2 2 2 2 2 2 1 1 1 2 1 1\n",
       " [4429] 1 2 3 2 1 2 2 1 2 2 1 1 1 2 1 1 2 2 2 1 1 2 2 2 2 1 2 1 1 1 2 1 1 2 2 2\n",
       " [4465] 1 1 1 1 1 1 2 1 1 2 2 1 1 2 2 2 2 2 1 1 2 1 1 1 1 2 1 2 1 1 2 2 1 1 2 2\n",
       " [4501] 2 1 1 1 1 2 2 1 2 2 2 2 1 2 2 2 1 1 2 1 1 1 1 1 1 1 2 1 1 2 2 3 3 1 2 1\n",
       " [4537] 2 1 1 1 1 1 2 1 2 1 1 2 1 1 1 2 1 1 2 2 2 2 1 1 1 2 1 2 2 2 2 1 1 1 2 2\n",
       " [4573] 1 2 1 2 1 1 1 1 1 1 2 2 1 1 1 2 2 1 2 1 2 1 1 1 2 1 1 1 1 2 2 1 2 1 1 1\n",
       " [4609] 1 1 1 1 2 1 1 1 2 2 1 2 1 2 1 2 1 1 2 2 1 2 2 2 1 2 2 2 2 2 1 1 2 1 2 2\n",
       " [4645] 2 2 2 2 1 1 2 1 2 1 2 2 1 2 1 2 2 2 1 1 1 2 1 1 1 3 1 1 2 1 2 1 1 1 1 1\n",
       " [4681] 2 2 2 2 1 1 2 2 1 2 1 2 1 2 1 2 2 1 2 1 1 1 1 1 2 2 2 1 1 2 2 1 3 1 1 1\n",
       " [4717] 1 2 1 2 1 1 1 2 2 1 1 1 1 2 1 2 2 1 2 2 2 1 1 2 1 2 2 1 1 1 2 1 2 1 2 2\n",
       " [4753] 2 1 2 1 1 2 1 1 1 2 2 1 1 1 1 1 2 2 2 1 2 1 1 2 1 2 1 2 2 2 2 1 1 2 2 1\n",
       " [4789] 2 2 2 2 2 1 1 1 3 1 2 1 1 2 1 2 2 2 2 2 2 1 1 1 1 1 2 2 2 1 1 2 2 2 1 2\n",
       " [4825] 2 1 2 1 2 1 2 2 2 2 2 1 2 2 2 1 2 1 1 1 1 1 1 2 2 2 1 1 2 1 2 2 1 2 2 1\n",
       " [4861] 1 1 1 2 1 2 2 1 1 1 1 1 1 2 1 1 1 2 2 2 2 2 2 2 2 1 2 1 2 1 1 1 1 2 2 1\n",
       " [4897] 2 1 1 1 2 2 2 2 2 1 1 1 2 2 1 1 2 2 1 2 1 1 2 2 1 2 1 1 1 1 2 2 2 1 2 1\n",
       " [4933] 2 2 1 2 2 1 2 1 1 1 1 2 2 2 1 2 2 1 2 1 1 1 1 2 1 2 2 1 2 1 2 1 1 1 2 2\n",
       " [4969] 2 2 1 2 2 1 2 2 2 1 2 2 1 2 2 2 1 2 1 2 1 2 2 2 2 1 1 1 1 1 2 1 2 2 2 1\n",
       " [5005] 2 1 2 2 1 1 1 1 2 2 1 1 1 2 1 1 2 2 2 1 2 2 1 1 1 1 1 1 2 1 2 1 2 2 1 2\n",
       " [5041] 2 1 2 2 2 2 2 1 1 2 1 2 1 2 1 2 2 2 1 1 2 2 2 2 2 2 2 2 3 2 1 1 1 2 2 2\n",
       " [5077] 1 1 1 1 2 2 1 1 2 2 2 1 2 2 2 2 2 1 2 1 2 1 1 2 1 1 2 1 2 2 2 2 1 1 1 1\n",
       " [5113] 1 1 2 1 2 1 2 1 2 2 1 2 2 2 1 1 1 1 2 1 1 1 2 1 1 1 1 1 1 1 1 2 2 1 1 1\n",
       " [5149] 1 2 2 2 2 1 1 2 1 1 1 1 1 1 1 1 1 1 2 1 2 1 1 2 1 2 2 2 1 2 2 1 2 1 1 1\n",
       " [5185] 1 2 1 2 2 1 1 1 2 2 2 1 1 2 2 1 2 1 1 1 1 2 2 2 1 2 2 2 1 1 2 2 1 2 2 1\n",
       " [5221] 2 2 2 2 2 2 2 1 1 1 1 2 2 3 2 2 1 1 2 2 2 2 1 2 2 1 1 2 2 2 2 2 2 1 2 2\n",
       " [5257] 1 2 2 2 2 1 2 1 2 1 2 2 2 2 1 2 1 1 1 2 1 1 2 1 2 1 2 1 1 2 2 1 2 1 2 1\n",
       " [5293] 1 2 1 2 1 2 1 2 2 2 1 1 2 2 2 1 2 2 2 2 2 1 2 2 1 1 1 2 1 1 2 2 2 1 2 1\n",
       " [5329] 2 2 2 2 1 2 1 2 2 2 2 2 1 1 1 2 1 2 1 2 1 2 2 2 2 1 1 1 2 1 2 1 1 2 2 2\n",
       " [5365] 2 1 1 1 1 2 1 2 2 2 1 2 1 1 1 1 1 1 2 1 2 2 2 2 1 2 2 2 2 2 2 1 2 2 1 1\n",
       " [5401] 1 3 1 3 2 2 2 3 1 1 2 2 2 2 1 2 2 1 1 1 1 1 2 1 1 1 1 2 2 1 1 1 2 2 2 1\n",
       " [5437] 3 2 1 1 2 2 1 2 2 2 1 1 1 1 2 2 1 1 2 1 2 1 1 1 2 2 1 2 2 1 1 1 1 1 1 1\n",
       " [5473] 2 1 1 2 1 2 1 1 1 2 2 2 1 1 2 1 1 2 2 1 1 2 1 2 1 1 2 2 1 1 1 2 2 2 1 1\n",
       " [5509] 2 1 1 2 2 1 2 2 1 1 2 1 1 1 2 1 1 2 1 1 2 1 1 1 1 2 2 2 2 1 2 1 1 1 1 1\n",
       " [5545] 1 1 2 2 2 1 1 1 2 2 1 2 1 1 2 1 2 2 1 1 1 2 2 1 2 1 1 1 1 1 1 2 1 2 1 1\n",
       " [5581] 2 1 2 1 1 2 1 1 1 1 2 2 2 1 1 1 2 2 1 2 1 2 2 2 1 1 2 2 1 1 2 1 2 1 1 2\n",
       " [5617] 2 2 1 2 1 1 2 1 2 2 1 1 1 2 1 1 2 2 2 2 2 2 1 2 1 2 2 1 2 1 1 1 1 1 2 2\n",
       " [5653] 1 2 1 1 2 1 1 2 1 2 2 2 1 2 1 2 2 2 2 2 2 1 2 1 2 2 2 2 1 1 1 2 2 1 2 1\n",
       " [5689] 2 2 2 2 1 1 2 1 1 1 1 1 1 2 1 1 1 1 1 2 1 1 2 2 1 2 2 2 1 1 2 1 1 2 2 2\n",
       " [5725] 2 1 2 2 1 1 2 2 2 1 1 2 2 2 1 1 1 2 1 2 2 1 2 1 2 2 2 1 2 2 1 1 1 1 2 1\n",
       " [5761] 1 2 2 1 2 2 1 2 1 1 1 3 1 1 1 2 2 2 2 1 1 1 1 2 2 2 2 2 2 2 2 2 1 2 2 2\n",
       " [5797] 2 1 1 1 1 2 1 2 2 2 1 2 1 2 1 1 2 2 1 2 1 2 1 2 1 2 2 1 1 1 1 1 1 1 3 2\n",
       " [5833] 2 1 1 1 1 2 1 2 1 2 2 1 1 1 3 2 2 1 2 1 2 2 2 1 2 1 1 1 1 1 2 2 2 2 1 2\n",
       " [5869] 1 1 1 1 1 2 2 1 2 2 1 2 1 2 1 2 2 1 2 2 1 1 2 1 1 2 2 2 1 2 2 2 3 2 2 2\n",
       " [5905] 1 2 2 2 2 2 2 2 2 1 2 1 1 1 1 1 2 2 1 2 1 1 2 2 1 1 2 1 1 1 2 1 1 2 2 1\n",
       " [5941] 2 1 2 2 2 1 1 1 2 2 1 2 2 1 2 2 2 1 1 1 1 2 1 1 1 1 1 1 1 1 2 1 2 2 1 1\n",
       " [5977] 2 2 1 1 2 2 2 2 1 1 1 1 2 2 2 2 1 2 1 2 1 1 2 2 2 2 2 2 1 2 1 2 1 2 1 1\n",
       " [6013] 2 1 2 2 2 2 1 1 2 2 2 2 2 2 1 1 2 2 2 1 2 2 2 1 1 2 1 1 2 2 1 1 2 1 1 2\n",
       " [6049] 1 2 1 1 1 1 2 2 2 1 1 1 3 2 2 2 1 1 2 2 1 1 2 2 1 2 2 2 2 1 1 2 1 2 2 2\n",
       " [6085] 2 1 1 1 1 1 3 1 2 1 1 1 2 2 2 1 2 1 1 3 1 1 2 1 2 1 2 2 1 2 1 1 2 1 1 1\n",
       " [6121] 1 1 2 2 1 2 2 2 2 1 2 1 1 2 1 1 1 1 1 1 1 1 1 2 2 2 1 2 2 1 2 1 1 1 2 1\n",
       " [6157] 1 2 2 1 2 1 2 1 1 1 1 2 2 1 2 2 1 1 1 2 2 2 2 2 2 2 1 2 1 1 1 1 2 1 2 2\n",
       " [6193] 1 1 2 1 2 1 1 1 1 2 1 1 1 1 2 2 1 2 1 1 2 2 1 1 1 1 2 1 1 1 2 1 2 1 1 2\n",
       " [6229] 1 1 2 1 1 1 1 1 2 1 2 1 1 1 2 2 1 2 2 1 2 1 2 2 2 2 1 2 2 2 1 2 1 2 2 2\n",
       " [6265] 2 1 1 2 1 1 2 1 2 1 2 2 1 2 2 2 1 1 2 2 1 1 1 2 2 2 2 2 2 1 1 2 1 1 1 2\n",
       " [6301] 2 1 1 1 1 1 1 2 2 2 2 2 1 1 1 1 2 1 2 1 1 1 2 1 2 1 2 2 1 1 2 1 2 2 1 2\n",
       " [6337] 2 1 2 2 2 2 2 1 1 1 2 1 2 1 2 1 1 1 1 2 1 1 1 1 2 2 1 1 2 2 2 2 1 1 2 1\n",
       " [6373] 1 2 1 1 2 2 1 3 2 2 1 1 2 1 1 1 2 2 2 2 1 2 1 2 2 1 2 2 1 1 1 2 2 2 1 1\n",
       " [6409] 1 1 1 1 2 1 2 1 1 1 2 1 1 2 2 2 1 2 2 2 2 2 1 1 2 2 1 2 2 2 2 1 1 2 1 1\n",
       " [6445] 1 1 2 1 1 1 3 2 2 1 1 1 2 1 1 1 1 1 2 2 2 2 1 2 1 2 2 1 2 2 2 2 1 2 1 2\n",
       " [6481] 1 2 1 2 2 1 2 1 1 2 2 2 1 1 1 2 1 1 1 2 2 2 1 2 1 1 1 1 2 1 2 2 1 1 2 1\n",
       " [6517] 2 1 2 3 1 3 1 2 2 2 2 2 1 2 2 1 1 1 1 2 1 2 1 2 1 2 2 1 1 1 2 2 1 2 1 1\n",
       " [6553] 1 2 1 1 2 1 1 1 2 1 2 2 1 1 1 1 1 1 1 1 1 1 1 1 2 2 1 2 2 2 1 2 1 2 1 2\n",
       " [6589] 2 1 2 1 2 1 2 2 2 2 2 1 1 1 1 2 1 2 2 1 2 1 1 1 2 1 1 1 1 1 2 1 2 1 1 1\n",
       " [6625] 2 1 2 1 1 1 1 1 1 1 1 2 1 2 1 2 1 2 2 2 2 1 2 1 2 2 1 1 1 2 1 2 2 2 1 1\n",
       " [6661] 1 2 1 1 2 2 2 1 2 2 2 2 2 2 1 2 1 2 1 1 1 1 2 2 1 2 1 1 2 1 1 2 2 2 1 1\n",
       " [6697] 1 2 1 1 1 2 1 2 2 1 2 2 2 2 1 2 1 2 1 1 2 1 1 1 1 2 1 2 2 2 2 2 1 1 1 2\n",
       " [6733] 1 2 1 1 2 2 1 1 1 2 1 2 1 1 1 2 2 1 1 1 1 2 2 2 1 1 1 1 2 3 1 3 2 2 2 2\n",
       " [6769] 2 1 1 2 2 1 1 2 1 2 1 1 2 1 1 2 2 2 2 1 3 1 2 2 1 1 2 1 2 1 1 2 2 2 2 1\n",
       " [6805] 3 2 1 1 2 2 1 1 1 2 2 1 3 2 1 2 1 1 1 1 1 2 2 1 1 2 1 2 1 1 1 1 2 1 1 1\n",
       " [6841] 1 1 1 2 1 1 3 2 1 2 1 1 1 1 1 2 2 1 1 1 1 2 1 2 2 2 1 1 1 2 2 2 1 1 1 1\n",
       " [6877] 1 1 2 1 1 1 2 1 2 2 2 1 2 1 2 1 1 1 1 3 2 1 2 2 2 1 2 1 1 2 1 1 2 2 1 2\n",
       " [6913] 1 2 1 2 1 2 2 1 1 1 2 2 2 2 1 1 1 1 2 2 2 2 2 2 1 1 2 1 2 2 2 1 1 2 1 1\n",
       " [6949] 1 1 2 1 2 1 1 2 2 2 1 1 1 1 1 2 1 2 2 1 2 2 1 1 2 1 2 1 2 1 2 1 1 1 1 2\n",
       " [6985] 1 1 1 2 1 1 2 1 1 1 2 2 1 1 1 1 2 2 1 2 1 2 2 1 2 2 2 2 1 2 1 2 2 2 2 1\n",
       " [7021] 2 1 2 2 2 2 1 2 2 1 2 2 1 1 1 1 2 2 1 2 2 1 2 2 1 2 2 2 2 2 1 1 2 2 3 1\n",
       " [7057] 2 1 2 1 1 2 2 1 2 2 1 2 2 2 1 1 2 1 1 2 2 1 2 2 1 2 2 2 1 2 1 2 2 1 1 1\n",
       " [7093] 2 2 1 2 1 2 1 1 2 2 2 2 2 1 2 2 2 1 2 2 2 1 2 1 2 2 2 1 1 2 1 1 2 1 2 2\n",
       " [7129] 2 2 1 1 2 2 1 1 1 1 1 1 2 1 2 1 1 2 2 1 2 2 1 2 2 1 2 1 1 2 2 2 2 1 2 1\n",
       " [7165] 2 1 2 2 1 2 2 1 2 2 2 1 2 3 1 1 1 2 1 1 1 1 1 2 1 1 2 1 1 2 1 1 1 2 1 2\n",
       " [7201] 2 2 2 2 2 1 2 1 2 2 1 2 1 1 2 1 1 2 2 2 2 1 2 2 2 1 2 1 2 1 1 2 2 1 2 2\n",
       " [7237] 1 2 1 2 2 2 2 2 1 1 2 1 2 2 1 2 1 1 1 2 2 2 1 2 1 1 1 2 1 2 1 2 2 1 1 1\n",
       " [7273] 2 2 2 1 2 1 1 1 2 2 2 1 4 1 2 2 2 1 2 1 1 2 2 1 2 1 2 2 2 1 1 1 1 2 1 2\n",
       " [7309] 2 2 1 1 2 1 2 1 2 2 2 1 2 2 2 2 2 2 1 2 1 2 2 1 1 2 2 1 1 2 2 2 1 2 1 1\n",
       " [7345] 2 2 2 3 1 2 1 1 2 2 1 1 1 1 2 1 1 1 1 1 1 2 1 2 2 1 1 1 1 1 1 2 2 2 2 2\n",
       " [7381] 2 1 2 1 2 2 1 2 1 2 1 2 2 2 2 1 2 1 2 1 1 1 1 2 1 2 1 1 1 2 2 2 2 2 2 2\n",
       " [7417] 2 1 2 1 1 2 1 2 2 2 1 1 2 2 1 1 1 2 2 2 1 1 2 1 2 2 2 2 1 2 2 3 1 1 2 2\n",
       " [7453] 1 2 3 1 2 1 1 2 2 1 1 1 2 1 1 1 2 1 2 2 2 2 2 1 2 2 2 2 2 2 2 2 2 1 2 2\n",
       " [7489] 1 1 1 2 2 1 2 2 1 2 2 2 2 1 2 1 2 2 2 1 2 1 1 2 2 2 2 2 1 2 1 1 1 2 2 2\n",
       " [7525] 1 1 1 2 1 2 2 2 2 1 1 1 2 1 2 1 2 1 1 1 2 2 2 2 2 2 2 2 2 2 1 1 2 2 2 2\n",
       " [7561] 1 1 2 1 2 1 1 2 1 2 2 1 1 1 1 2 1 2 2 1 1 2 1 1 1 1 2 1 2 1 1 1 1 1 1 2\n",
       " [7597] 2 1 1 1 1 2 1 2 1 2 2 1 1 2 1 2 2 2 1 2 2 1 1 1 2 2 1 1 2 1 1 1 1 2 1 2\n",
       " [7633] 2 1 1 2 2 2 1 1 1 2 2 2 2 2 2 1 2 1 2 2 1 2 1 2 2 1 1 2 1 3 2 1 2 2 1 1\n",
       " [7669] 1 2 2 2 1 2 2 1 2 2 2 1 1 2 2 1 1 2 1 1 1 2 1 1 1 2 3 2 2 2 1 1 1 1 2 2\n",
       " [7705] 1 3 2 1 1 1 2 2 1 2 1 2 2 2 2 2 1 1 2 2 1 2 1 2 1 3 1 2 1 1 2 2 2 2 1 1\n",
       " [7741] 1 1 1 1 1 1 2 2 2 1 2 2 1 2 2 1 2 1 2 2 2 2 2 1 2 1 1 2 1 2 1 2 1 1 2 2\n",
       " [7777] 1 1 1 1 2 1 2 2 1 1 2 1 1 2 2 2 2 1 3 2 1 1 2 1 1 1 2 1 2 1 2 1 1 2 2 1\n",
       " [7813] 2 2 1 2 1 2 3 1 2 1 1 1 2 2 2 1 2 2 2 2 2 3 2 2 2 1 2 1 2 1 1 2 2 1 2 2\n",
       " [7849] 2 1 2 2 1 1 1 2 2 1 1 1 2 2 2 1 2 1 1 1 2 2 2 2 1 2 2 2 2 2 2 2 1 1 2 1\n",
       " [7885] 2 2 1 2 1 1 3 1 2 1 2 1 2 2 1 2 1 1 1 1 1 2 2 1 1 2 2 2 1 2 1 2 1 1 1 2\n",
       " [7921] 1 3 1 1 1 1 2 2 1 2 1 2 1 1 2 2 1 2 1 1 1 2 2 1 1 2 2 1 1 1 1 1 2 1 2 2\n",
       " [7957] 1 1 1 1 2 2 2 2 2 1 2 2 2 2 1 2 1 1 1 1 1 1 2 1 2 1 1 2 1 2 1 1 2 2 1 1\n",
       " [7993] 2 2 2 1 2 2 2 2 2 2 1 2 2 1 1 2 1 2 2 1 3 2 2 1 1 2 2 2 1 2 2 2 1 2 1 2\n",
       " [8029] 1 2 1 1 2 2 2 1 1 1 2 1 2 2 2 2 2 2 2 1 2 2 2 2 2 1 2 2 2 1 2 2 1 1 1 1\n",
       " [8065] 1 1 1 2 2 1 1 1 1 2 2 2 2 1 1 1 2 2 1 2 2 2 2 2 1 2 2 3 2 1 2 1 1 1 1 2\n",
       " [8101] 1 1 1 2 1 1 2 1 2 1 1 1 2 2 2 2 1 1 1 1 1 2 1 1 1 1 1 2 1 2 2 1 1 1 2 1\n",
       " [8137] 2 2 1 2 2 1 2 2 2 1 2 1 1 1 1 2 1 1 2 1 2 1 2 1 1 1 1 2 2 2 2 1 2 2 1 2\n",
       " [8173] 2 1 1 1 2 1 2 2 1 1 1 2 2 1 2 1 1 1 1 1 2 2 1 1 2 1 1 1 2 2 2 2 2 1 1 2\n",
       " [8209] 1 2 2 1 2 2 1 2 2 1 2 2 1 1 1 1 2 2 1 2 2 2 2 2 1 1 1 2 1 2 1 2 2 1 1 2\n",
       " [8245] 1 2 1 2 1 1 2 1 2 2 2 2 2 2 1 1 2 1 2 1 2 1 3 2 2 1 2 1 1 1 2 1 1 2 1 1\n",
       " [8281] 2 2 1 1 2 1 1 2 1 2 2 1 2 1 2 1 1 2 2 2 2 1 1 2 2 2 1 2 1 1 2 2 2 1 2 1\n",
       " [8317] 1 2 1 2 1 1 2 1 2 2 1 1 1 2 1 1 1 2 2 2 2 2 2 1 2 2 1 2 3 2 2 2 1 1 2 2\n",
       " [8353] 2 1 2 2 1 1 1 2 1 2 1 2 2 2 1 1 1 2 2 2 1 2 3 1 1 2 1 2 2 1 1 1 1 1 2 1\n",
       " [8389] 2 1 1 2 1 2 1 2 2 1 1 2 1 1 1 2 2 2 1 2 1 1 1 1 2 2 1 2 2 1 1 2 1 3 2 1\n",
       " [8425] 1 2 2 1 2 1 1 2 2 2 2 1 2 1 1 2 1 1 1 1 2 1 2 1 1 1 2 2 2 2 1 1 1 2 1 1\n",
       " [8461] 2 2 2 1 1 1 1 1 1 1 2 1 1 1 1 2 1 2 2 2 2 2 1 2 1 1 2 1 1 1 2 1 1 1 2 2\n",
       " [8497] 2 1 2 1 1 1 1 1 1 2 1 1 1 2 1 1 1 2 2 2 2 1 1 1 1 2 3 1 1 2 2 2 1 1 2 2\n",
       " [8533] 2 2 2 2 2 2 2 1 1 2 1 1 2 1 2 1 1 1 1 2 1 2 1 2 2 3 2 2 1 2 2 1 2 1 1 1\n",
       " [8569] 1 1 1 1 1 1 3 2 2 2 1 1 2 2 2 1 2 1 1 1 1 1 1 1 1 2 2 1 1 2 2 1 1 2 1 2\n",
       " [8605] 2 1 2 2 2 2 2 2 2 2 2 1 1 2 1 1 1 1 2 1 1 2 1 2 1 2 1 1 2 2 2 1 1 1 1 1\n",
       " [8641] 1 1 1 1 2 2 1 2 1 2 2 1 2 2 2 1 2 2 1 2 1 1 2 1 2 1 1 2 1 2 1 1 1 1 2 2\n",
       " [8677] 1 2 2 1 1 1 2 2 2 1 1 1 2 2 1 2 1 2 1 1 1 2 2 2 2 2 1 2 1 2 1 2 1 1 2 2\n",
       " [8713] 1 1 2 2 2 1 1 2 1 2 2 1 2 1 2 2 1 1 2 2 1 2 1 1 2 1 1 1 2 2 1 2 2 1 1 2\n",
       " [8749] 1 1 2 2 1 2 2 1 2 1 2 2 1 1 2 1 1 1 2 1 1 2 1 1 2 2 2 1 3 2 1 1 2 1 2 1\n",
       " [8785] 1 1 2 1 1 1 1 1 2 1 2 2 1 1 1 2 1 1 2 2 2 2 1 2 2 2 2 2 1 1 1 1 2 2 2 1\n",
       " [8821] 2 1 1 2 2 2 1 2 2 2 1 2 1 1 2 1 1 2 2 2 1 1 3 2 1 1 2 1 2 1 2 1 2 2 2 1\n",
       " [8857] 1 2 1 2 2 1 1 2 3 1 1 2 1 1 1 2 1 2 1 2 1 2 2 2 2 1 2 1 1 2 1 1 2 1 2 1\n",
       " [8893] 1 2 1 1 1 2 1 1 2 1 2 2 2 1 1 2 1 2 2 2 2 1 1 2 2 1 1 1 2 1 1 1 1 2 1 1\n",
       " [8929] 2 2 1 2 1 1 2 3 1 1 2 2 1 1 1 1 2 2 1 1 1 2 2 1 1 1 2 2 1 2 1 2 1 1 2 2\n",
       " [8965] 1 2 1 1 1 1 1 1 1 1 1 2 2 1 1 2 1 2 1 1 2 2 2 1 1 1 2 1 2 1 1 2 1 1 1 2\n",
       " [9001] 2 2 1 2 2 2 1 2 2 2 2 1 2 1 1 2 2 1 2 1 1 1 1 2 1 1 2 2 2 2 2 2 2 1 2 2\n",
       " [9037] 2 2 1 2 2 1 1 1 2 2 1 2 1 2 2 1 2 1 1 1 2 2 2 1 2 1 2 2 1 2 2 1 2 2 2 2\n",
       " [9073] 2 1 2 1 2 2 1 2 2 1 1 1 1 1 1 2 1 1 2 2 1 1 2 2 2 2 1 2 2 1 2 1 1 1 1 1\n",
       " [9109] 2 1 1 1 3 1 2 2 2 2 1 1 2 2 1 1 1 2 2 1 2 2 1 2 2 1 2 2 2 2 2 1 1 2 2 1\n",
       " [9145] 2 1 2 1 1 2 2 2 1 1 2 1 1 1 1 1 1 1 2 2 2 2 1 2 1 2 2 1 2 2 2 1 1 1 2 1\n",
       " [9181] 1 1 2 2 1 2 2 2 1 2 1 2 1 2 1 2 1 2 1 1 1 1 1 2 1 2 2 1 2 1 2 1 1 1 1 2\n",
       " [9217] 1 1 1 1 1 1 1 2 2 1 2 2 1 1 2 1 1 2 2 1 2 1 1 3 2 2 1 2 3 1 2 1 1 1 2 1\n",
       " [9253] 2 1 2 2 1 2 1 1 1 1 1 2 1 2 2 2 2 2 1 1 1 1 2 1 2 2 2 1 2 2 2 1 2 2 2 1\n",
       " [9289] 1 2 1 2 1 1 2 1 1 1 2 2 2 1 1 2 1 1 2 1 1 1 2 1 1 1 1 2 2 2 1 1 2 1 1 1\n",
       " [9325] 2 1 1 1 1 2 2 1 1 1 1 2 1 1 2 1 1 1 1 1 1 1 3 2 2 2 2 1 1 2 2 1 1 2 1 2\n",
       " [9361] 2 2 1 2 2 1 1 2 1 2 2 2 2 1 1 1 1 2 1 1 1 3 2 1 2 2 2 1 2 2 2 1 2 2 2 2\n",
       " [9397] 2 1 1 2 2 2 1 1 1 2 2 2 1 2 2 1 1 2 1 2 1 2 2 1 3 2 1 1 1 2 2 1 2 1 1 2\n",
       " [9433] 2 1 1 1 1 1 2 2 1 1 1 2 2 1 2 1 1 2 1 2 2 1 2 1 1 1 2 2 2 1 2 1 1 2 2 1\n",
       " [9469] 1 1 2 2 2 2 1 1 1 1 1 2 1 2 1 1 2 1 1 2 3 1 1 2 1 2 1 1 1 2 1 1 1 2 2 2\n",
       " [9505] 2 1 1 1 1 1 2 1 1 2 2 1 1 1 2 1 2 2 1 1 1 1 2 2 2 1 2 1 1 1 2 2 2 2 2 2\n",
       " [9541] 1 1 2 2 1 1 1 3 1 1 1 1 2 1 2 1 2 1 2 1 2 1 1 2 1 2 2 1 2 2 1 1 1 2 1 1\n",
       " [9577] 1 1 2 1 1 1 2 2 3 1 2 2 2 2 1 1 1 2 3 1 2 2 1 2 2 2 2 2 2 2 2 2 2 2 1 2\n",
       " [9613] 1 2 1 2 2 2 2 1 2 1 2 2 1 2 2 2 2 1 2 2 2 1 2 1 1 1 1 1 1 2 1 2 1 1 2 1\n",
       " [9649] 1 1 1 2 1 1 1 2 2 1 2 1 2 1 1 1 2 2 1 2 1 1 1 2 2 2 1 3 1 1 2 1 1 2 1 1\n",
       " [9685] 1 2 1 1 2 2 1 1 1 2 1 1 1 1 1 2 1 2 2 1 2 2 1 2 2 1 2 2 1 1 2 1 2 2 1 2\n",
       " [9721] 1 2 2 2 2 1 1 2 1 2 2 1 2 1 1 2 2 1 2 1 2 1 1 1 1 1 1 2 1 1 3 1 1 1 2 2\n",
       " [9757] 1 3 1 1 1 2 2 2 2 2 1 1 2 1 2 2 1 1 2 1 2 2 1 2 1 1 2 1 4 2 1 1 2 1 1 1\n",
       " [9793] 1 1 2 2 1 1 2 1 1 2 2 1 1 1 1 2 1 1 2 1 2 2 1 2 2 2 1 1 1 2 2 1 2 1 2 2\n",
       " [9829] 2 2 1 1 1 1 2 1 2 2 2 2 2 2 2 2 1 1 2 1 2 2 2 2 1 1 2 2 1 1 2 1 2 1 1 2\n",
       " [9865] 1 1 2 2 3 1 2 2 2 1 2 1 1 2 1 2 2 1 2 1 2 1 2 1 1 1 2 2 2 2 1 1 1 1 2 1\n",
       " [9901] 1 2 1 1 2 2 2 1 1 1 1 1 1 1 2 1 2 1 1 1 2 2 1 2 2 2 2 1 2 1 2 1 2 2 2 1\n",
       " [9937] 1 2 1 1 2 1 2 2 1 1 1 1 1 2 1 1 2 2 2 1 2 2 1 2 1 2 1 1 2 1 3 1 2 2 1 2\n",
       " [9973] 2 1 2 2 1 1 1 2 1 1 2 2 2 2 1 1 1 1 2 1 1 2 1 1 2 1 2 1"
      ]
     },
     "metadata": {},
     "output_type": "display_data"
    }
   ],
   "source": [
    "r <- replicate(10^4, max(tabulate(sample(1:365, 23, replace=TRUE))))\n",
    "r"
   ]
  },
  {
   "cell_type": "code",
   "execution_count": 99,
   "id": "65b8f732-08b0-4939-a2ca-79b1e4f02440",
   "metadata": {},
   "outputs": [
    {
     "data": {
      "text/html": [
       "0.4999"
      ],
      "text/latex": [
       "0.4999"
      ],
      "text/markdown": [
       "0.4999"
      ],
      "text/plain": [
       "[1] 0.4999"
      ]
     },
     "metadata": {},
     "output_type": "display_data"
    }
   ],
   "source": [
    "sum(r >= 2) / 10^4"
   ]
  },
  {
   "cell_type": "code",
   "execution_count": 1,
   "id": "63f2d7ba-38ac-4715-8289-dfe59c1aa2e1",
   "metadata": {},
   "outputs": [
    {
     "data": {
      "text/html": [
       "1"
      ],
      "text/latex": [
       "1"
      ],
      "text/markdown": [
       "1"
      ],
      "text/plain": [
       "[1] 1"
      ]
     },
     "metadata": {},
     "output_type": "display_data"
    }
   ],
   "source": [
    "choose(5, 5)"
   ]
  },
  {
   "cell_type": "code",
   "execution_count": 4,
   "id": "43b30317-0aae-42b8-9a01-b93a81f73b5d",
   "metadata": {},
   "outputs": [
    {
     "data": {
      "text/html": [
       "8316"
      ],
      "text/latex": [
       "8316"
      ],
      "text/markdown": [
       "8316"
      ],
      "text/plain": [
       "[1] 8316"
      ]
     },
     "metadata": {},
     "output_type": "display_data"
    }
   ],
   "source": [
    "choose(12,2) * choose(10,5) * 1/2"
   ]
  },
  {
   "cell_type": "code",
   "execution_count": 6,
   "id": "1360794b-c7fd-4a11-9c9f-45801b193ee8",
   "metadata": {},
   "outputs": [
    {
     "data": {
      "text/html": [
       "11550"
      ],
      "text/latex": [
       "11550"
      ],
      "text/markdown": [
       "11550"
      ],
      "text/plain": [
       "[1] 11550"
      ]
     },
     "metadata": {},
     "output_type": "display_data"
    }
   ],
   "source": [
    "choose(12,4) * choose(8,4) * 1/3"
   ]
  },
  {
   "cell_type": "code",
   "execution_count": 12,
   "id": "84c6b084-250c-493e-afe1-8d5264f2fcb3",
   "metadata": {},
   "outputs": [
    {
     "data": {
      "text/html": [
       "1"
      ],
      "text/latex": [
       "1"
      ],
      "text/markdown": [
       "1"
      ],
      "text/plain": [
       "[1] 1"
      ]
     },
     "metadata": {},
     "output_type": "display_data"
    }
   ],
   "source": [
    "choose(3, 0)"
   ]
  },
  {
   "cell_type": "code",
   "execution_count": 13,
   "id": "30cf6c7e-d693-48a0-a595-f5c86354cd4d",
   "metadata": {},
   "outputs": [
    {
     "data": {
      "text/html": [
       "3"
      ],
      "text/latex": [
       "3"
      ],
      "text/markdown": [
       "3"
      ],
      "text/plain": [
       "[1] 3"
      ]
     },
     "metadata": {},
     "output_type": "display_data"
    }
   ],
   "source": [
    "choose(3, 1)"
   ]
  },
  {
   "cell_type": "code",
   "execution_count": 14,
   "id": "94bd981e-dea5-4e7a-8276-fd84e6a3e576",
   "metadata": {},
   "outputs": [
    {
     "data": {
      "text/html": [
       "3"
      ],
      "text/latex": [
       "3"
      ],
      "text/markdown": [
       "3"
      ],
      "text/plain": [
       "[1] 3"
      ]
     },
     "metadata": {},
     "output_type": "display_data"
    }
   ],
   "source": [
    "choose(3, 2)"
   ]
  },
  {
   "cell_type": "code",
   "execution_count": null,
   "id": "d9f565fb-04ee-4e40-972b-63352ebbbc04",
   "metadata": {},
   "outputs": [],
   "source": []
  }
 ],
 "metadata": {
  "kernelspec": {
   "display_name": "R",
   "language": "R",
   "name": "ir"
  },
  "language_info": {
   "codemirror_mode": "r",
   "file_extension": ".r",
   "mimetype": "text/x-r-source",
   "name": "R",
   "pygments_lexer": "r",
   "version": "4.4.3"
  }
 },
 "nbformat": 4,
 "nbformat_minor": 5
}
