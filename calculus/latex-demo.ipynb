{
 "cells": [
  {
   "cell_type": "markdown",
   "id": "0174579f-3fcb-404b-986e-126ef03aa18d",
   "metadata": {},
   "source": [
    "## LaTex demo"
   ]
  },
  {
   "cell_type": "markdown",
   "id": "64a566cf-c782-4f10-9082-2505c03da57b",
   "metadata": {},
   "source": [
    "### Integrals"
   ]
  },
  {
   "cell_type": "markdown",
   "id": "f610b477-baf1-4b8c-9fd8-c111bd6b611d",
   "metadata": {},
   "source": [
    "Example of inline integrals $\\int_0^\\infty \\mathrm{e}^{-x}\\,\\mathrm{d}x$"
   ]
  },
  {
   "cell_type": "markdown",
   "id": "9ee05fe8-f014-41d3-8cfb-1791d7c90b12",
   "metadata": {},
   "source": [
    "### Sums"
   ]
  },
  {
   "cell_type": "markdown",
   "id": "c9d1ede1-fc31-4bfb-875b-08325b33eadb",
   "metadata": {},
   "source": [
    "Inline sum $\\sum_{i=1}^{10} t_i$"
   ]
  },
  {
   "cell_type": "markdown",
   "id": "95036517-3a51-4663-97cb-d2e4d951e2f6",
   "metadata": {},
   "source": [
    "You can use $\\LaTeX$ to typeset formulas. A formula can be displayed inline, e.g. $e=mc^2$, or as a block:\n",
    "$$\\int_\\Omega \\nabla u \\cdot \\nabla v~dx = \\int_\\Omega fv~dx$$\n",
    "Also check out this [LaTeX introduction](https://en.wikibooks.org/wiki/LaTeX/Mathematics)."
   ]
  },
  {
   "cell_type": "markdown",
   "id": "2237313c-d407-4823-8490-744e680f7163",
   "metadata": {},
   "source": [
    "$$\\prod_{j=1}^{n} e^{-\\lambda_j t} = e^{-(\\lambda_1 + \\lambda_2 + ... + \\lambda_n)t}$$"
   ]
  },
  {
   "cell_type": "code",
   "execution_count": null,
   "id": "3d56fd29-5427-453d-bdfd-0fd694eec54d",
   "metadata": {},
   "outputs": [],
   "source": []
  }
 ],
 "metadata": {
  "kernelspec": {
   "display_name": "Python 3 (ipykernel)",
   "language": "python",
   "name": "python3"
  },
  "language_info": {
   "codemirror_mode": {
    "name": "ipython",
    "version": 3
   },
   "file_extension": ".py",
   "mimetype": "text/x-python",
   "name": "python",
   "nbconvert_exporter": "python",
   "pygments_lexer": "ipython3",
   "version": "3.13.1"
  }
 },
 "nbformat": 4,
 "nbformat_minor": 5
}
